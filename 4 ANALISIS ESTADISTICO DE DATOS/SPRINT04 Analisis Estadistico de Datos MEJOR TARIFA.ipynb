{
 "cells": [
  {
   "cell_type": "markdown",
   "metadata": {},
   "source": [
    "Hola Alejandra!\n",
    "\n",
    "Soy **Patricio Requena** 👋. Es un placer ser el revisor de tu proyecto el día de hoy!\n",
    "\n",
    "Revisaré tu proyecto detenidamente con el objetivo de ayudarte a mejorar y perfeccionar tus habilidades. Durante mi revisión, identificaré áreas donde puedas hacer mejoras en tu código, señalando específicamente qué y cómo podrías ajustar para optimizar el rendimiento y la claridad de tu proyecto. Además, es importante para mí destacar los aspectos que has manejado excepcionalmente bien. Reconocer tus fortalezas te ayudará a entender qué técnicas y métodos están funcionando a tu favor y cómo puedes aplicarlos en futuras tareas. \n",
    "\n",
    "_**Recuerda que al final de este notebook encontrarás un comentario general de mi parte**_, empecemos!\n",
    "\n",
    "Encontrarás mis comentarios dentro de cajas verdes, amarillas o rojas, ⚠️ **por favor, no muevas, modifiques o borres mis comentarios** ⚠️:\n",
    "\n",
    "\n",
    "<div class=\"alert alert-block alert-success\">\n",
    "<b>Comentario del revisor</b> <a class=“tocSkip”></a>\n",
    "Si todo está perfecto.\n",
    "</div>\n",
    "\n",
    "<div class=\"alert alert-block alert-warning\">\n",
    "<b>Comentario del revisor</b> <a class=“tocSkip”></a>\n",
    "Si tu código está bien pero se puede mejorar o hay algún detalle que le hace falta.\n",
    "</div>\n",
    "\n",
    "<div class=\"alert alert-block alert-danger\">\n",
    "<b>Comentario del revisor</b> <a class=“tocSkip”></a>\n",
    "Si de pronto hace falta algo o existe algún problema con tu código o conclusiones.\n",
    "</div>\n",
    "\n",
    "Puedes responderme de esta forma:\n",
    "<div class=\"alert alert-block alert-info\">\n",
    "<b>Respuesta del estudiante</b> <a class=“tocSkip”></a>\n",
    "</div>"
   ]
  },
  {
   "cell_type": "markdown",
   "metadata": {
    "id": "3rYiDeEH0q0f"
   },
   "source": [
    "# ¿Cuál es la mejor tarifa?\n",
    "\n",
    "Trabajas como analista para el operador de telecomunicaciones Megaline. La empresa ofrece a sus clientes dos tarifas de prepago, Surf y Ultimate. El departamento comercial quiere saber cuál de las tarifas genera más ingresos para poder ajustar el presupuesto de publicidad.\n",
    "\n",
    "Vas a realizar un análisis preliminar de las tarifas basado en una selección de clientes relativamente pequeña. Tendrás los datos de 500 clientes de Megaline: quiénes son los clientes, de dónde son, qué tarifa usan, así como la cantidad de llamadas que hicieron y los mensajes de texto que enviaron en 2018. Tu trabajo es analizar el comportamiento de los clientes y determinar qué tarifa de prepago genera más ingresos."
   ]
  },
  {
   "cell_type": "markdown",
   "metadata": {
    "id": "VNddPNRQ0q0w"
   },
   "source": [
    "[Te proporcionamos algunos comentarios para orientarte mientras completas este proyecto. Pero debes asegurarte de eliminar todos los comentarios entre corchetes antes de entregar tu proyecto.]\n",
    "\n",
    "[Antes de sumergirte en el análisis de datos, explica por tu propia cuenta el propósito del proyecto y las acciones que planeas realizar.]\n",
    "\n",
    "[Ten en cuenta que estudiar, modificar y analizar datos es un proceso iterativo. Es normal volver a los pasos anteriores y corregirlos/ampliarlos para permitir nuevos pasos.]"
   ]
  },
  {
   "cell_type": "markdown",
   "metadata": {
    "id": "MQi4IPy70q0y"
   },
   "source": [
    "## Inicialización"
   ]
  },
  {
   "cell_type": "code",
   "execution_count": 1,
   "metadata": {
    "id": "MtYIuBxu0q0z"
   },
   "outputs": [],
   "source": [
    "# Cargar todas las librerías\n",
    "\n",
    "import pandas as pd  #libreria para estructuras\n",
    "import matplotlib.pyplot as plt #librería para gráficas\n",
    "import seaborn as sns #construir diagrama de caja en python\n",
    "import numpy as np #se usa para funciones matemáticas complejas\n",
    "\n",
    "\n"
   ]
  },
  {
   "cell_type": "markdown",
   "metadata": {
    "id": "4ysWWC5i0q00"
   },
   "source": [
    "## Cargar datos"
   ]
  },
  {
   "cell_type": "code",
   "execution_count": 2,
   "metadata": {
    "id": "CCqPW7rS0q01"
   },
   "outputs": [],
   "source": [
    "# Carga los archivos de datos en diferentes DataFrames\n",
    "#df_car_orders=pd.read_csv('/datasets/instacart_orders.csv', sep=';') \n",
    "calls = pd.read_csv('/datasets/megaline_calls.csv') #datos sobre las llamadas\n",
    "internet = pd.read_csv('/datasets/megaline_internet.csv') #datos sobre internet\n",
    "messages = pd.read_csv('/datasets/megaline_messages.csv') #datos sobre los SMS\n",
    "plans = pd.read_csv('/datasets/megaline_plans.csv') #datos sobre las tarifas\n",
    "users = pd.read_csv('/datasets/megaline_users.csv') #datos de los usuarios\n",
    "\n",
    "\n"
   ]
  },
  {
   "cell_type": "markdown",
   "metadata": {},
   "source": [
    "<div class=\"alert alert-block alert-success\">\n",
    "<b>Comentario del revisor (1ra Iteracion)</b> <a class=“tocSkip”></a>\n",
    "\n",
    "Buen trabajo realizando la importación de librerías y carga de datos en celdas separadas, esto ayuda a que la lectura y seguimiento del notebook sea más amigable\n",
    "</div>"
   ]
  },
  {
   "cell_type": "markdown",
   "metadata": {},
   "source": [
    "<div class=\"alert alert-block alert-warning\">\n",
    "<b>Comentario del revisor (1ra Iteracion)</b> <a class=“tocSkip”></a>\n",
    "\n",
    "Cómo recomendación cuando declares una variable deja un espacio a cada lado del `=` para que el código sea más fácil de leer\n",
    "</div>"
   ]
  },
  {
   "cell_type": "markdown",
   "metadata": {},
   "source": [
    "<div class=\"alert alert-block alert-success\">\n",
    "<b>Comentario del revisor (2da Iteracion)</b> <a class=“tocSkip”></a>\n",
    "\n",
    "Buen trabajo con el ajuste\n",
    "</div>"
   ]
  },
  {
   "cell_type": "markdown",
   "metadata": {
    "id": "69qqoJ3r0q01"
   },
   "source": [
    "## Preparar los datos"
   ]
  },
  {
   "cell_type": "markdown",
   "metadata": {
    "id": "vUuZw80S0q01"
   },
   "source": [
    "[Los datos para este proyecto se dividen en varias tablas. Explora cada una para tener una comprensión inicial de los datos. Si es necesario, haz las correcciones requeridas en cada tabla.]"
   ]
  },
  {
   "cell_type": "markdown",
   "metadata": {
    "id": "ohBhimvH0q01"
   },
   "source": [
    "## Tarifas"
   ]
  },
  {
   "cell_type": "code",
   "execution_count": 3,
   "metadata": {
    "id": "GptqP3Q40q02"
   },
   "outputs": [
    {
     "name": "stdout",
     "output_type": "stream",
     "text": [
      "<class 'pandas.core.frame.DataFrame'>\n",
      "RangeIndex: 2 entries, 0 to 1\n",
      "Data columns (total 8 columns):\n",
      " #   Column                 Non-Null Count  Dtype  \n",
      "---  ------                 --------------  -----  \n",
      " 0   messages_included      2 non-null      int64  \n",
      " 1   mb_per_month_included  2 non-null      int64  \n",
      " 2   minutes_included       2 non-null      int64  \n",
      " 3   usd_monthly_pay        2 non-null      int64  \n",
      " 4   usd_per_gb             2 non-null      int64  \n",
      " 5   usd_per_message        2 non-null      float64\n",
      " 6   usd_per_minute         2 non-null      float64\n",
      " 7   plan_name              2 non-null      object \n",
      "dtypes: float64(2), int64(5), object(1)\n",
      "memory usage: 256.0+ bytes\n"
     ]
    },
    {
     "data": {
      "text/html": [
       "<div>\n",
       "<style scoped>\n",
       "    .dataframe tbody tr th:only-of-type {\n",
       "        vertical-align: middle;\n",
       "    }\n",
       "\n",
       "    .dataframe tbody tr th {\n",
       "        vertical-align: top;\n",
       "    }\n",
       "\n",
       "    .dataframe thead th {\n",
       "        text-align: right;\n",
       "    }\n",
       "</style>\n",
       "<table border=\"1\" class=\"dataframe\">\n",
       "  <thead>\n",
       "    <tr style=\"text-align: right;\">\n",
       "      <th></th>\n",
       "      <th>messages_included</th>\n",
       "      <th>mb_per_month_included</th>\n",
       "      <th>minutes_included</th>\n",
       "      <th>usd_monthly_pay</th>\n",
       "      <th>usd_per_gb</th>\n",
       "      <th>usd_per_message</th>\n",
       "      <th>usd_per_minute</th>\n",
       "      <th>plan_name</th>\n",
       "    </tr>\n",
       "  </thead>\n",
       "  <tbody>\n",
       "    <tr>\n",
       "      <th>0</th>\n",
       "      <td>50</td>\n",
       "      <td>15360</td>\n",
       "      <td>500</td>\n",
       "      <td>20</td>\n",
       "      <td>10</td>\n",
       "      <td>0.03</td>\n",
       "      <td>0.03</td>\n",
       "      <td>surf</td>\n",
       "    </tr>\n",
       "    <tr>\n",
       "      <th>1</th>\n",
       "      <td>1000</td>\n",
       "      <td>30720</td>\n",
       "      <td>3000</td>\n",
       "      <td>70</td>\n",
       "      <td>7</td>\n",
       "      <td>0.01</td>\n",
       "      <td>0.01</td>\n",
       "      <td>ultimate</td>\n",
       "    </tr>\n",
       "  </tbody>\n",
       "</table>\n",
       "</div>"
      ],
      "text/plain": [
       "   messages_included  mb_per_month_included  minutes_included  \\\n",
       "0                 50                  15360               500   \n",
       "1               1000                  30720              3000   \n",
       "\n",
       "   usd_monthly_pay  usd_per_gb  usd_per_message  usd_per_minute plan_name  \n",
       "0               20          10             0.03            0.03      surf  \n",
       "1               70           7             0.01            0.01  ultimate  "
      ]
     },
     "execution_count": 3,
     "metadata": {},
     "output_type": "execute_result"
    }
   ],
   "source": [
    "# Imprime la información general/resumida sobre el DataFrame de las tarifas\n",
    "\n",
    "plans.info()\n",
    "plans.head()\n"
   ]
  },
  {
   "cell_type": "code",
   "execution_count": 4,
   "metadata": {
    "id": "64xzjwL70q02",
    "scrolled": true
   },
   "outputs": [
    {
     "data": {
      "text/html": [
       "<div>\n",
       "<style scoped>\n",
       "    .dataframe tbody tr th:only-of-type {\n",
       "        vertical-align: middle;\n",
       "    }\n",
       "\n",
       "    .dataframe tbody tr th {\n",
       "        vertical-align: top;\n",
       "    }\n",
       "\n",
       "    .dataframe thead th {\n",
       "        text-align: right;\n",
       "    }\n",
       "</style>\n",
       "<table border=\"1\" class=\"dataframe\">\n",
       "  <thead>\n",
       "    <tr style=\"text-align: right;\">\n",
       "      <th></th>\n",
       "      <th>messages_included</th>\n",
       "      <th>mb_per_month_included</th>\n",
       "      <th>minutes_included</th>\n",
       "      <th>usd_monthly_pay</th>\n",
       "      <th>usd_per_gb</th>\n",
       "      <th>usd_per_message</th>\n",
       "      <th>usd_per_minute</th>\n",
       "      <th>plan_name</th>\n",
       "    </tr>\n",
       "  </thead>\n",
       "  <tbody>\n",
       "    <tr>\n",
       "      <th>1</th>\n",
       "      <td>1000</td>\n",
       "      <td>30720</td>\n",
       "      <td>3000</td>\n",
       "      <td>70</td>\n",
       "      <td>7</td>\n",
       "      <td>0.01</td>\n",
       "      <td>0.01</td>\n",
       "      <td>ultimate</td>\n",
       "    </tr>\n",
       "  </tbody>\n",
       "</table>\n",
       "</div>"
      ],
      "text/plain": [
       "   messages_included  mb_per_month_included  minutes_included  \\\n",
       "1               1000                  30720              3000   \n",
       "\n",
       "   usd_monthly_pay  usd_per_gb  usd_per_message  usd_per_minute plan_name  \n",
       "1               70           7             0.01            0.01  ultimate  "
      ]
     },
     "execution_count": 4,
     "metadata": {},
     "output_type": "execute_result"
    }
   ],
   "source": [
    "# Imprime una muestra de los datos para las tarifas\n",
    "\n",
    "plans.sample()"
   ]
  },
  {
   "cell_type": "markdown",
   "metadata": {},
   "source": [
    "<div class=\"alert alert-block alert-success\">\n",
    "<b>Comentario del revisor (1ra Iteracion)</b> <a class=“tocSkip”></a>\n",
    "\n",
    "Cuando quieras mostrar el resultado que devuelve `.head()`, o `.sample()` no es necesario el uso de `print` ya que pierdes la capacidad del notebook de mostrar el DataFrame en formato de tabla. Te recomiendo ejecutar la línea sin print o utilizar `display()` en su lugar.\n",
    "</div>"
   ]
  },
  {
   "cell_type": "markdown",
   "metadata": {
    "id": "mEc_3_hs0q02"
   },
   "source": [
    "[Describe lo que ves y observas en la información general y en la muestra de datos impresa para el precio de datos anterior. ¿Hay algún problema (tipos de datos no adecuados, datos ausentes, etc.) que pudieran necesitar investigación y cambios adicionales? ¿Cómo se puede arreglar?] \n",
    "RESPUESTA= LA BASE DE DATOS ESTÁ CORRECTA, NO TIENE VALORES AUSENTES , ES LA INFORMACIÓN DE LOS PLANES , TARIFAS Y EXTRAS QUE COBRAN EN CASO DE EXCEDERSE EN ALGUNA TARIFA. SOLO SON DOS REGISTROS TARIFAS DE SURF Y ULTIMATE."
   ]
  },
  {
   "cell_type": "markdown",
   "metadata": {
    "id": "R3C05i1l0q03"
   },
   "source": [
    "## Corregir datos"
   ]
  },
  {
   "cell_type": "markdown",
   "metadata": {
    "id": "bIi8StZI0q03"
   },
   "source": [
    "[Corrige los problemas obvios con los datos basándote en las observaciones iniciales.]"
   ]
  },
  {
   "cell_type": "markdown",
   "metadata": {
    "id": "LJir7bml0q03"
   },
   "source": [
    "## Enriquecer los datos"
   ]
  },
  {
   "cell_type": "markdown",
   "metadata": {
    "id": "eqADpCfg0q04"
   },
   "source": [
    "[Agrega factores adicionales a los datos si crees que pudieran ser útiles.]"
   ]
  },
  {
   "cell_type": "code",
   "execution_count": 5,
   "metadata": {
    "id": "gfcIEuXV0q04"
   },
   "outputs": [
    {
     "name": "stdout",
     "output_type": "stream",
     "text": [
      "  plan_name  mb_per_month_included  gb_per_month_included\n",
      "0      surf                  15360                   15.0\n",
      "1  ultimate                  30720                   30.0\n"
     ]
    }
   ],
   "source": [
    "# Convertir `mb_per_month_included` a gigabytes\n",
    "plans['gb_per_month_included'] = plans['mb_per_month_included'] / 1024\n",
    "\n",
    "print(plans[['plan_name', 'mb_per_month_included', 'gb_per_month_included']])\n"
   ]
  },
  {
   "cell_type": "markdown",
   "metadata": {},
   "source": [
    "<div class=\"alert alert-block alert-danger\">\n",
    "<b>Comentario del revisor (1ra Iteracion)</b> <a class=“tocSkip”></a>\n",
    "\n",
    "Te recomiendo hacer la transformación de mb a gb de la columna mb_per_month_included ya que el resto esta en función de GB y no de mb\n",
    "</div>"
   ]
  },
  {
   "cell_type": "markdown",
   "metadata": {
    "id": "mEc_3_hs0q02"
   },
   "source": [
    "RESPUESTA: Ya quedó convertido en GB , no lo realicé porque más abajo cuando se requirió si hice la conversión para el cálculo. "
   ]
  },
  {
   "cell_type": "markdown",
   "metadata": {},
   "source": [
    "<div class=\"alert alert-block alert-success\">\n",
    "<b>Comentario del revisor (2da Iteracion)</b> <a class=“tocSkip”></a>\n",
    "\n",
    "Buen trabajo con el ajuste\n",
    "</div>"
   ]
  },
  {
   "cell_type": "markdown",
   "metadata": {
    "id": "1n2X6WXf0q04"
   },
   "source": [
    "## Usuarios/as"
   ]
  },
  {
   "cell_type": "code",
   "execution_count": 6,
   "metadata": {
    "id": "2NgjWFqx0q05",
    "scrolled": true
   },
   "outputs": [
    {
     "name": "stdout",
     "output_type": "stream",
     "text": [
      "<class 'pandas.core.frame.DataFrame'>\n",
      "RangeIndex: 500 entries, 0 to 499\n",
      "Data columns (total 8 columns):\n",
      " #   Column      Non-Null Count  Dtype \n",
      "---  ------      --------------  ----- \n",
      " 0   user_id     500 non-null    int64 \n",
      " 1   first_name  500 non-null    object\n",
      " 2   last_name   500 non-null    object\n",
      " 3   age         500 non-null    int64 \n",
      " 4   city        500 non-null    object\n",
      " 5   reg_date    500 non-null    object\n",
      " 6   plan        500 non-null    object\n",
      " 7   churn_date  34 non-null     object\n",
      "dtypes: int64(2), object(6)\n",
      "memory usage: 31.4+ KB\n",
      "[nan '2018-12-18' '2018-11-16' '2018-09-07' '2018-12-30' '2018-10-07'\n",
      " '2018-12-31' '2018-11-24' '2018-11-11' '2018-12-12' '2018-11-14'\n",
      " '2018-12-27' '2018-11-29' '2018-12-22' '2018-11-30' '2018-10-13'\n",
      " '2018-07-31' '2018-12-15' '2018-12-19' '2018-10-03' '2018-10-22'\n",
      " '2018-08-16' '2018-12-26' '2018-09-01' '2018-11-21' '2018-08-19'\n",
      " '2018-12-10' '2018-09-17' '2018-11-18' '2018-09-18']\n"
     ]
    },
    {
     "data": {
      "text/plain": [
       "user_id        int64\n",
       "first_name    object\n",
       "last_name     object\n",
       "age            int64\n",
       "city          object\n",
       "reg_date      object\n",
       "plan          object\n",
       "churn_date    object\n",
       "dtype: object"
      ]
     },
     "execution_count": 6,
     "metadata": {},
     "output_type": "execute_result"
    }
   ],
   "source": [
    "\n",
    "\n",
    "\n",
    "users.info()\n",
    "unique_values = users['churn_date'].unique()\n",
    "print(unique_values)\n",
    "\n",
    "# Imprime una muestra de datos para usuarios\n",
    "users.sample(5)\n",
    "users.dtypes\n",
    "\n",
    "\n"
   ]
  },
  {
   "cell_type": "markdown",
   "metadata": {},
   "source": [
    "<div class=\"alert alert-block alert-danger\">\n",
    "<b>Comentario del revisor (1ra Iteracion)</b> <a class=“tocSkip”></a>\n",
    "\n",
    "Una vez cargues los datos al inicio no es necesario que lo vuelvas a hacer, de hecho esto puede ser contraproducente si aplicaste algún proceso antes ya que si vuelves a cargarlos eliminas todo ese proceso.\n",
    "</div>"
   ]
  },
  {
   "cell_type": "markdown",
   "metadata": {},
   "source": [
    "De acuerdo , yo creo lo realicé por algo en especial. Quiza para probar algo en específico ."
   ]
  },
  {
   "cell_type": "markdown",
   "metadata": {},
   "source": []
  },
  {
   "cell_type": "markdown",
   "metadata": {
    "id": "dCZoUq4f0q06"
   },
   "source": [
    "\n",
    "RESPUESTA: Los datos en los campos reg_date y churn date hay que convertirlo como tipo fecha y el el churn_date hay datos nulos NAN"
   ]
  },
  {
   "cell_type": "markdown",
   "metadata": {
    "id": "BX5FQh_I0q06"
   },
   "source": [
    "### Corregir los datos"
   ]
  },
  {
   "cell_type": "markdown",
   "metadata": {
    "id": "8OdKMwJv0q06"
   },
   "source": [
    "[Corrige los problemas obvios con los datos basándote en las observaciones iniciales.]"
   ]
  },
  {
   "cell_type": "code",
   "execution_count": 7,
   "metadata": {
    "id": "yUqX-K0C0q07",
    "scrolled": false
   },
   "outputs": [
    {
     "name": "stdout",
     "output_type": "stream",
     "text": [
      "Antes de la conversión:\n",
      "user_id        int64\n",
      "first_name    object\n",
      "last_name     object\n",
      "age            int64\n",
      "city          object\n",
      "reg_date      object\n",
      "plan          object\n",
      "churn_date    object\n",
      "dtype: object\n",
      "\n",
      "Después de la conversión:\n",
      "user_id                int64\n",
      "first_name            object\n",
      "last_name             object\n",
      "age                    int64\n",
      "city                  object\n",
      "reg_date      datetime64[ns]\n",
      "plan                  object\n",
      "churn_date    datetime64[ns]\n",
      "dtype: object\n",
      "***********\n",
      "[                          'NaT' '2018-12-18T00:00:00.000000000'\n",
      " '2018-11-16T00:00:00.000000000' '2018-09-07T00:00:00.000000000'\n",
      " '2018-12-30T00:00:00.000000000' '2018-10-07T00:00:00.000000000'\n",
      " '2018-12-31T00:00:00.000000000' '2018-11-24T00:00:00.000000000'\n",
      " '2018-11-11T00:00:00.000000000' '2018-12-12T00:00:00.000000000'\n",
      " '2018-11-14T00:00:00.000000000' '2018-12-27T00:00:00.000000000'\n",
      " '2018-11-29T00:00:00.000000000' '2018-12-22T00:00:00.000000000'\n",
      " '2018-11-30T00:00:00.000000000' '2018-10-13T00:00:00.000000000'\n",
      " '2018-07-31T00:00:00.000000000' '2018-12-15T00:00:00.000000000'\n",
      " '2018-12-19T00:00:00.000000000' '2018-10-03T00:00:00.000000000'\n",
      " '2018-10-22T00:00:00.000000000' '2018-08-16T00:00:00.000000000'\n",
      " '2018-12-26T00:00:00.000000000' '2018-09-01T00:00:00.000000000'\n",
      " '2018-11-21T00:00:00.000000000' '2018-08-19T00:00:00.000000000'\n",
      " '2018-12-10T00:00:00.000000000' '2018-09-17T00:00:00.000000000'\n",
      " '2018-11-18T00:00:00.000000000' '2018-09-18T00:00:00.000000000']\n",
      "***********\n"
     ]
    }
   ],
   "source": [
    "# Mostrar los tipos de datos antes de la conversión\n",
    "print(\"Antes de la conversión:\")\n",
    "print(users.dtypes)\n",
    "\n",
    "users['churn_date'] = pd.to_datetime(users['churn_date'],format='%Y/%m/%d')\n",
    "#users['churn_date'] = users['churn_date'].fillna('2024-12-01') #a los NaT les puse una fecha fija futura\n",
    "users['reg_date'] = pd.to_datetime(users['reg_date'],format='%Y/%m/%d')\n",
    "\n",
    "# Mostrar los tipos de datos después de la conversión\n",
    "print(\"\\nDespués de la conversión:\")\n",
    "print(users.dtypes)\n",
    "print('***********')\n",
    "unique_values = users['churn_date'].unique()\n",
    "print(unique_values)\n",
    "print('***********')\n",
    "unique_values = users['reg_date'].unique()\n",
    "#print(unique_values)\n",
    "\n"
   ]
  },
  {
   "cell_type": "markdown",
   "metadata": {},
   "source": [
    "<div class=\"alert alert-block alert-danger\">\n",
    "<b>Comentario del revisor (1ra Iteracion)</b> <a class=“tocSkip”></a>\n",
    "\n",
    "En este caso no es recomendable llenar los datos de `churn_date` ya que estos valores ausentes tienen un significado el cual es que si no tiene fecha es por que el usuario aún sigue manteniendo un plan, al llenar los datos estarías perdiendo esa parte\n",
    "</div>"
   ]
  },
  {
   "cell_type": "markdown",
   "metadata": {},
   "source": [
    "La fecha que consideré fué adelantada, pero entonces lo conveniente sería dejarla como valos Nan ?\n",
    "Hice la corrección y mis cambios de fecha los puse en comentarios."
   ]
  },
  {
   "cell_type": "markdown",
   "metadata": {},
   "source": [
    "<div class=\"alert alert-block alert-success\">\n",
    "<b>Comentario del revisor (2da Iteracion)</b> <a class=“tocSkip”></a>\n",
    "\n",
    "Cuando se tiene valores ausentes que representan algo es mejor dejarlos cómo NaN, por por ejemplo si quisieras revisar cuantos usuarios siguen activos lo único que tendrías que hacer es buscar los usuarios con NaN en esa columna, buen trabajo con el cambio\n",
    "</div>"
   ]
  },
  {
   "cell_type": "markdown",
   "metadata": {
    "id": "ycwuARJp0q07"
   },
   "source": [
    "### Enriquecer los datos"
   ]
  },
  {
   "cell_type": "markdown",
   "metadata": {
    "id": "o7MeKCid0q08"
   },
   "source": [
    "## Llamadas"
   ]
  },
  {
   "cell_type": "code",
   "execution_count": 8,
   "metadata": {
    "id": "6dDlnoDm0q08",
    "scrolled": true
   },
   "outputs": [
    {
     "name": "stdout",
     "output_type": "stream",
     "text": [
      "<class 'pandas.core.frame.DataFrame'>\n",
      "RangeIndex: 137735 entries, 0 to 137734\n",
      "Data columns (total 4 columns):\n",
      " #   Column     Non-Null Count   Dtype  \n",
      "---  ------     --------------   -----  \n",
      " 0   id         137735 non-null  object \n",
      " 1   user_id    137735 non-null  int64  \n",
      " 2   call_date  137735 non-null  object \n",
      " 3   duration   137735 non-null  float64\n",
      "dtypes: float64(1), int64(1), object(2)\n",
      "memory usage: 4.2+ MB\n",
      "id            object\n",
      "user_id        int64\n",
      "call_date     object\n",
      "duration     float64\n",
      "dtype: object\n"
     ]
    }
   ],
   "source": [
    "# Imprime la información general/resumida sobre el DataFrame de las llamadas\n",
    "\n",
    "calls.info()\n",
    "print(calls.dtypes)\n",
    "\n",
    "\n"
   ]
  },
  {
   "cell_type": "markdown",
   "metadata": {},
   "source": [
    "<div class=\"alert alert-block alert-danger\">\n",
    "<b>Comentario del revisor (1ra Iteracion)</b> <a class=“tocSkip”></a>\n",
    "\n",
    "Una vez cargues los datos al inicio no es necesario que lo vuelvas a hacer, de hecho esto puede ser contraproducente si aplicaste algún proceso antes ya que si vuelves a cargarlos eliminas todo ese proceso.\n",
    "</div>"
   ]
  },
  {
   "cell_type": "code",
   "execution_count": 9,
   "metadata": {
    "id": "kuh1vlNB0q09"
   },
   "outputs": [
    {
     "name": "stdout",
     "output_type": "stream",
     "text": [
      "              id  user_id   call_date  duration\n",
      "74901   1264_192     1264  2018-12-05      4.64\n",
      "99279    1356_20     1356  2018-12-08      7.33\n",
      "8607     1041_42     1041  2018-07-05      5.02\n",
      "136941  1496_110     1496  2018-11-18      7.92\n",
      "100756  1359_646     1359  2018-02-22      4.22\n"
     ]
    }
   ],
   "source": [
    "# Imprime una muestra de datos para las llamadas\n",
    "\n",
    "print(calls.sample(5))\n"
   ]
  },
  {
   "cell_type": "markdown",
   "metadata": {
    "id": "DOAxYJSx0q09"
   },
   "source": [
    "[Describe lo que ves y observas en la información general y en la muestra de datos impresa para el precio de datos anterior. ¿Hay algún problema (tipos de datos no adecuados, datos ausentes, etc.) que pudieran necesitar investigación y cambios adicionales? ¿Cómo se puede arreglar?]"
   ]
  },
  {
   "cell_type": "markdown",
   "metadata": {
    "id": "S7hzxmbX0q0-"
   },
   "source": [
    "### Corregir los datos"
   ]
  },
  {
   "cell_type": "markdown",
   "metadata": {
    "id": "YxWyAjD20q0-"
   },
   "source": [
    "[Corrige los problemas obvios con los datos basándote en las observaciones iniciales.]"
   ]
  },
  {
   "cell_type": "code",
   "execution_count": 10,
   "metadata": {
    "id": "S2r8xA4f0q0-",
    "scrolled": false
   },
   "outputs": [
    {
     "name": "stdout",
     "output_type": "stream",
     "text": [
      "Antes de la conversión:\n",
      "id            object\n",
      "user_id        int64\n",
      "call_date     object\n",
      "duration     float64\n",
      "dtype: object\n",
      "\n",
      "Después de la conversión:\n",
      "id                   object\n",
      "user_id               int64\n",
      "call_date    datetime64[ns]\n",
      "duration            float64\n",
      "dtype: object\n",
      "***********\n",
      "              id  user_id  call_date  duration\n",
      "59718   1215_103     1215 2018-09-21      0.65\n",
      "38453   1144_356     1144 2018-06-21      5.57\n",
      "28552   1109_179     1109 2018-12-12      0.00\n",
      "25610   1098_299     1098 2018-09-08     16.13\n",
      "113037  1397_780     1397 2018-12-23      1.95\n",
      "***********\n"
     ]
    }
   ],
   "source": [
    "print(\"Antes de la conversión:\")\n",
    "print(calls.dtypes)\n",
    "\n",
    "calls['call_date'] = pd.to_datetime(calls['call_date'],format='%Y/%m/%d')\n",
    "#calls['duration'] = pd.to_timedelta(calls['duration'], unit='m') #opcional convertir duration a timedelta\n",
    "\n",
    "#users['churn_date'] = users['churn_date'].fillna('2024-12-01') #a los NaT les puse una fecha fija futura\n",
    "#users['reg_date'] = pd.to_datetime(users['reg_date'],format='%Y/%m/%d')\n",
    "\n",
    "# Mostrar los tipos de datos después de la conversión\n",
    "print(\"\\nDespués de la conversión:\")\n",
    "print(calls.dtypes)\n",
    "print('***********')\n",
    "print(calls.sample(5))\n",
    "#unique_values = calls['call_date'].unique()\n",
    "#print(unique_values)\n",
    "print('***********')\n",
    "\n",
    "#unique_values = users['reg_date'].unique()\n",
    "#print(unique_values)"
   ]
  },
  {
   "cell_type": "markdown",
   "metadata": {
    "id": "KrMgTrlG0q0_"
   },
   "source": [
    "### Enriquecer los datos"
   ]
  },
  {
   "cell_type": "markdown",
   "metadata": {
    "id": "a9MbmEvE0q0_"
   },
   "source": [
    "[Agrega factores adicionales a los datos si crees que pudieran ser útiles.]"
   ]
  },
  {
   "cell_type": "code",
   "execution_count": 11,
   "metadata": {
    "id": "iZ1avpA_0q0_"
   },
   "outputs": [
    {
     "name": "stdout",
     "output_type": "stream",
     "text": [
      "id                       object\n",
      "user_id                   int64\n",
      "call_date        datetime64[ns]\n",
      "duration                float64\n",
      "year_month            period[M]\n",
      "total_minutes           float64\n",
      "dtype: object\n",
      "         id  user_id  call_date  duration year_month  total_minutes\n",
      "0   1000_93     1000 2018-12-27      8.52    2018-12            9.0\n",
      "1  1000_145     1000 2018-12-27     13.66    2018-12           14.0\n",
      "2  1000_247     1000 2018-12-27     14.48    2018-12           15.0\n",
      "3  1000_309     1000 2018-12-28      5.76    2018-12            6.0\n",
      "4  1000_380     1000 2018-12-30      4.22    2018-12            5.0\n",
      "5  1000_388     1000 2018-12-31      2.20    2018-12            3.0\n",
      "6  1000_510     1000 2018-12-27      5.75    2018-12            6.0\n",
      "7  1000_521     1000 2018-12-28     14.18    2018-12           15.0\n",
      "8  1000_530     1000 2018-12-28      5.77    2018-12            6.0\n",
      "9  1000_544     1000 2018-12-26      4.40    2018-12            5.0\n"
     ]
    }
   ],
   "source": [
    "# Añadir columna 'year_month' al DataFrame 'calls'\n",
    "calls['year_month'] = calls['call_date'].dt.to_period('M')\n",
    "\n",
    "#redondear la duración de las llamadas\n",
    "calls['total_minutes'] = np.ceil(calls['duration'])\n",
    "\n",
    "print(calls.dtypes)\n",
    "print(calls.head(10))"
   ]
  },
  {
   "cell_type": "markdown",
   "metadata": {},
   "source": [
    "<div class=\"alert alert-block alert-success\">\n",
    "<b>Comentario del revisor (1ra Iteracion)</b> <a class=“tocSkip”></a>\n",
    "\n",
    "Buen trabajo extrayendo los datos y redondeando hacia arriba la columna duration! \n",
    "</div>"
   ]
  },
  {
   "cell_type": "markdown",
   "metadata": {
    "id": "mOUZSi180q0_"
   },
   "source": [
    "## Mensajes"
   ]
  },
  {
   "cell_type": "code",
   "execution_count": 12,
   "metadata": {
    "id": "R-bYJpdV0q1A"
   },
   "outputs": [
    {
     "name": "stdout",
     "output_type": "stream",
     "text": [
      "<class 'pandas.core.frame.DataFrame'>\n",
      "RangeIndex: 76051 entries, 0 to 76050\n",
      "Data columns (total 3 columns):\n",
      " #   Column        Non-Null Count  Dtype \n",
      "---  ------        --------------  ----- \n",
      " 0   id            76051 non-null  object\n",
      " 1   user_id       76051 non-null  int64 \n",
      " 2   message_date  76051 non-null  object\n",
      "dtypes: int64(1), object(2)\n",
      "memory usage: 1.7+ MB\n",
      "***********\n",
      "id              object\n",
      "user_id          int64\n",
      "message_date    object\n",
      "dtype: object\n"
     ]
    }
   ],
   "source": [
    "# Imprime la información general/resumida sobre el DataFrame de los mensajes\n",
    "\n",
    "messages.info()\n",
    "print('***********')\n",
    "print (messages.dtypes)"
   ]
  },
  {
   "cell_type": "code",
   "execution_count": 13,
   "metadata": {
    "id": "mCEl2iGE0q1A"
   },
   "outputs": [
    {
     "name": "stdout",
     "output_type": "stream",
     "text": [
      "             id  user_id message_date\n",
      "90     1001_160     1001   2018-10-17\n",
      "57787   1364_79     1364   2018-11-24\n",
      "38797  1254_436     1254   2018-08-29\n",
      "28181  1173_361     1173   2018-10-15\n",
      "10017   1076_57     1076   2018-10-28\n"
     ]
    }
   ],
   "source": [
    "# Imprime una muestra de datos para los mensajes\n",
    "print(messages.sample(5))\n",
    "\n"
   ]
  },
  {
   "cell_type": "markdown",
   "metadata": {
    "id": "04xDj7KH0q1A"
   },
   "source": [
    "[Describe lo que ves y observas en la información general y en la muestra de datos impresa para el precio de datos anterior. ¿Hay algún problema (tipos de datos no adecuados, datos ausentes, etc.) que pudieran necesitar investigación y cambios adicionales? ¿Cómo se puede arreglar?]\n",
    "RESPUESTA: No hay valores nulos pero la fecha de los mensajes hay que convertirla a tipo date."
   ]
  },
  {
   "cell_type": "markdown",
   "metadata": {
    "id": "Sprfak900q1B"
   },
   "source": [
    "### Corregir los datos"
   ]
  },
  {
   "cell_type": "markdown",
   "metadata": {
    "id": "eGw7d9j10q1B"
   },
   "source": [
    "[Corrige los problemas obvios con los datos basándote en las observaciones iniciales.]"
   ]
  },
  {
   "cell_type": "code",
   "execution_count": 14,
   "metadata": {
    "id": "vsllvkoa0q1B"
   },
   "outputs": [
    {
     "name": "stdout",
     "output_type": "stream",
     "text": [
      "<class 'pandas.core.frame.DataFrame'>\n",
      "RangeIndex: 76051 entries, 0 to 76050\n",
      "Data columns (total 3 columns):\n",
      " #   Column        Non-Null Count  Dtype         \n",
      "---  ------        --------------  -----         \n",
      " 0   id            76051 non-null  object        \n",
      " 1   user_id       76051 non-null  int64         \n",
      " 2   message_date  76051 non-null  datetime64[ns]\n",
      "dtypes: datetime64[ns](1), int64(1), object(1)\n",
      "memory usage: 1.7+ MB\n"
     ]
    }
   ],
   "source": [
    "messages['message_date'] = pd.to_datetime(messages['message_date'],format='%Y/%m/%d')\n",
    "messages.info()\n"
   ]
  },
  {
   "cell_type": "markdown",
   "metadata": {
    "id": "HvLid7iD0q1B"
   },
   "source": [
    "### Enriquecer los datos"
   ]
  },
  {
   "cell_type": "markdown",
   "metadata": {
    "id": "8nhPFKIe0q1C"
   },
   "source": [
    "[Agrega factores adicionales a los datos si crees que pudieran ser útiles.]"
   ]
  },
  {
   "cell_type": "code",
   "execution_count": 15,
   "metadata": {
    "id": "zYEXZac10q1C"
   },
   "outputs": [
    {
     "name": "stdout",
     "output_type": "stream",
     "text": [
      "         id  user_id message_date year_month\n",
      "0  1000_125     1000   2018-12-27    2018-12\n",
      "1  1000_160     1000   2018-12-31    2018-12\n",
      "2  1000_223     1000   2018-12-31    2018-12\n",
      "3  1000_251     1000   2018-12-27    2018-12\n",
      "4  1000_255     1000   2018-12-26    2018-12\n"
     ]
    }
   ],
   "source": [
    "messages['year_month'] = messages['message_date'].dt.to_period('M')\n",
    "\n",
    "print(messages.head(5))"
   ]
  },
  {
   "cell_type": "markdown",
   "metadata": {
    "id": "bStkaxn40q1C"
   },
   "source": [
    "## Internet"
   ]
  },
  {
   "cell_type": "code",
   "execution_count": 16,
   "metadata": {
    "id": "e-Uz5qyn0q1C"
   },
   "outputs": [
    {
     "name": "stdout",
     "output_type": "stream",
     "text": [
      "<class 'pandas.core.frame.DataFrame'>\n",
      "RangeIndex: 104825 entries, 0 to 104824\n",
      "Data columns (total 4 columns):\n",
      " #   Column        Non-Null Count   Dtype  \n",
      "---  ------        --------------   -----  \n",
      " 0   id            104825 non-null  object \n",
      " 1   user_id       104825 non-null  int64  \n",
      " 2   session_date  104825 non-null  object \n",
      " 3   mb_used       104825 non-null  float64\n",
      "dtypes: float64(1), int64(1), object(2)\n",
      "memory usage: 3.2+ MB\n"
     ]
    }
   ],
   "source": [
    "# Imprime la información general/resumida sobre el DataFrame de internet\n",
    "\n",
    "internet.info()\n"
   ]
  },
  {
   "cell_type": "code",
   "execution_count": 17,
   "metadata": {
    "id": "9r3x_XLw0q1C"
   },
   "outputs": [
    {
     "name": "stdout",
     "output_type": "stream",
     "text": [
      "         id  user_id session_date  mb_used\n",
      "0   1000_13     1000   2018-12-29    89.86\n",
      "1  1000_204     1000   2018-12-31     0.00\n",
      "2  1000_379     1000   2018-12-28   660.40\n",
      "3  1000_413     1000   2018-12-26   270.99\n",
      "4  1000_442     1000   2018-12-27   880.22\n",
      "5    1001_0     1001   2018-08-24   284.68\n",
      "6    1001_3     1001   2018-12-09   656.04\n",
      "7    1001_4     1001   2018-11-04    16.97\n",
      "8   1001_10     1001   2018-11-27   135.18\n",
      "9   1001_15     1001   2018-12-13   761.92\n"
     ]
    }
   ],
   "source": [
    "# Imprime una muestra de datos para el tráfico de internet\n",
    "\n",
    "print(internet.head(10))"
   ]
  },
  {
   "cell_type": "markdown",
   "metadata": {
    "id": "EzOG5ik30q1D"
   },
   "source": [
    "[Describe lo que ves y observas en la información general y en la muestra de datos impresa para el precio de datos anterior. ¿Hay algún problema (tipos de datos no adecuados, datos ausentes, etc.) que pudieran necesitar investigación y cambios adicionales? ¿Cómo se puede arreglar?]\n",
    "    RESPUESTA : No hay datos nulos y el session_date hay que convertilo a tipo date."
   ]
  },
  {
   "cell_type": "markdown",
   "metadata": {
    "id": "yA0tkPFg0q1D"
   },
   "source": [
    "### Corregir los datos"
   ]
  },
  {
   "cell_type": "markdown",
   "metadata": {
    "id": "zlZMuIEK0q1D"
   },
   "source": [
    "[Corrige los problemas obvios con los datos basándote en las observaciones iniciales.]"
   ]
  },
  {
   "cell_type": "code",
   "execution_count": 18,
   "metadata": {
    "id": "zVeanzdd0q1E"
   },
   "outputs": [
    {
     "name": "stdout",
     "output_type": "stream",
     "text": [
      "<class 'pandas.core.frame.DataFrame'>\n",
      "RangeIndex: 104825 entries, 0 to 104824\n",
      "Data columns (total 4 columns):\n",
      " #   Column        Non-Null Count   Dtype         \n",
      "---  ------        --------------   -----         \n",
      " 0   id            104825 non-null  object        \n",
      " 1   user_id       104825 non-null  int64         \n",
      " 2   session_date  104825 non-null  datetime64[ns]\n",
      " 3   mb_used       104825 non-null  float64       \n",
      "dtypes: datetime64[ns](1), float64(1), int64(1), object(1)\n",
      "memory usage: 3.2+ MB\n"
     ]
    }
   ],
   "source": [
    "internet['session_date'] = pd.to_datetime(internet['session_date'],format='%Y/%m/%d')\n",
    "internet.info()"
   ]
  },
  {
   "cell_type": "markdown",
   "metadata": {
    "id": "e8_mLF4a0q1E"
   },
   "source": [
    "### Enriquecer los datos"
   ]
  },
  {
   "cell_type": "markdown",
   "metadata": {
    "id": "xhNdn2tE0q1E"
   },
   "source": [
    "[Agrega factores adicionales a los datos si crees que pudieran ser útiles.]"
   ]
  },
  {
   "cell_type": "code",
   "execution_count": 19,
   "metadata": {
    "id": "ESiYPIEK0q1E"
   },
   "outputs": [
    {
     "name": "stdout",
     "output_type": "stream",
     "text": [
      "         id  user_id session_date  mb_used year_month   gb_used\n",
      "0   1000_13     1000   2018-12-29    89.86    2018-12  0.087754\n",
      "1  1000_204     1000   2018-12-31     0.00    2018-12  0.000000\n",
      "2  1000_379     1000   2018-12-28   660.40    2018-12  0.644922\n",
      "3  1000_413     1000   2018-12-26   270.99    2018-12  0.264639\n",
      "4  1000_442     1000   2018-12-27   880.22    2018-12  0.859590\n"
     ]
    }
   ],
   "source": [
    "# Añadir columna 'year_month' al DataFrame 'internet'\n",
    "internet['year_month'] = internet['session_date'].dt.to_period('M')\n",
    "internet['gb_used'] = internet['mb_used']/1024\n",
    "print(internet.head(5))\n",
    "\n"
   ]
  },
  {
   "cell_type": "markdown",
   "metadata": {},
   "source": [
    "<div class=\"alert alert-block alert-warning\">\n",
    "<b>Comentario del revisor (1ra Iteracion)</b> <a class=“tocSkip”></a>\n",
    "\n",
    "Buen trabajo! Aquí también podrías aplicar un redondeo hacia arriba al resultado de la conversión de MB a GB\n",
    "</div>"
   ]
  },
  {
   "cell_type": "markdown",
   "metadata": {
    "id": "3UA2cqIW0q1E"
   },
   "source": [
    "## Estudiar las condiciones de las tarifas"
   ]
  },
  {
   "cell_type": "markdown",
   "metadata": {
    "id": "T86Sqltq0q1F"
   },
   "source": [
    "[Es sumamente importante entender cómo funcionan las tarifas, cómo se les cobra a los usuarios en función de su plan de suscripción. Así que te sugerimos imprimir la información de la tarifa para ver una vez más sus condiciones.]"
   ]
  },
  {
   "cell_type": "code",
   "execution_count": 20,
   "metadata": {
    "id": "i409op8p0q1F"
   },
   "outputs": [
    {
     "name": "stdout",
     "output_type": "stream",
     "text": [
      "<class 'pandas.core.frame.DataFrame'>\n",
      "RangeIndex: 2 entries, 0 to 1\n",
      "Data columns (total 9 columns):\n",
      " #   Column                 Non-Null Count  Dtype  \n",
      "---  ------                 --------------  -----  \n",
      " 0   messages_included      2 non-null      int64  \n",
      " 1   mb_per_month_included  2 non-null      int64  \n",
      " 2   minutes_included       2 non-null      int64  \n",
      " 3   usd_monthly_pay        2 non-null      int64  \n",
      " 4   usd_per_gb             2 non-null      int64  \n",
      " 5   usd_per_message        2 non-null      float64\n",
      " 6   usd_per_minute         2 non-null      float64\n",
      " 7   plan_name              2 non-null      object \n",
      " 8   gb_per_month_included  2 non-null      float64\n",
      "dtypes: float64(3), int64(5), object(1)\n",
      "memory usage: 272.0+ bytes\n",
      "**************\n"
     ]
    },
    {
     "data": {
      "text/html": [
       "<div>\n",
       "<style scoped>\n",
       "    .dataframe tbody tr th:only-of-type {\n",
       "        vertical-align: middle;\n",
       "    }\n",
       "\n",
       "    .dataframe tbody tr th {\n",
       "        vertical-align: top;\n",
       "    }\n",
       "\n",
       "    .dataframe thead th {\n",
       "        text-align: right;\n",
       "    }\n",
       "</style>\n",
       "<table border=\"1\" class=\"dataframe\">\n",
       "  <thead>\n",
       "    <tr style=\"text-align: right;\">\n",
       "      <th></th>\n",
       "      <th>messages_included</th>\n",
       "      <th>mb_per_month_included</th>\n",
       "      <th>minutes_included</th>\n",
       "      <th>usd_monthly_pay</th>\n",
       "      <th>usd_per_gb</th>\n",
       "      <th>usd_per_message</th>\n",
       "      <th>usd_per_minute</th>\n",
       "      <th>plan_name</th>\n",
       "      <th>gb_per_month_included</th>\n",
       "    </tr>\n",
       "  </thead>\n",
       "  <tbody>\n",
       "    <tr>\n",
       "      <th>0</th>\n",
       "      <td>50</td>\n",
       "      <td>15360</td>\n",
       "      <td>500</td>\n",
       "      <td>20</td>\n",
       "      <td>10</td>\n",
       "      <td>0.03</td>\n",
       "      <td>0.03</td>\n",
       "      <td>surf</td>\n",
       "      <td>15.0</td>\n",
       "    </tr>\n",
       "    <tr>\n",
       "      <th>1</th>\n",
       "      <td>1000</td>\n",
       "      <td>30720</td>\n",
       "      <td>3000</td>\n",
       "      <td>70</td>\n",
       "      <td>7</td>\n",
       "      <td>0.01</td>\n",
       "      <td>0.01</td>\n",
       "      <td>ultimate</td>\n",
       "      <td>30.0</td>\n",
       "    </tr>\n",
       "  </tbody>\n",
       "</table>\n",
       "</div>"
      ],
      "text/plain": [
       "   messages_included  mb_per_month_included  minutes_included  \\\n",
       "0                 50                  15360               500   \n",
       "1               1000                  30720              3000   \n",
       "\n",
       "   usd_monthly_pay  usd_per_gb  usd_per_message  usd_per_minute plan_name  \\\n",
       "0               20          10             0.03            0.03      surf   \n",
       "1               70           7             0.01            0.01  ultimate   \n",
       "\n",
       "   gb_per_month_included  \n",
       "0                   15.0  \n",
       "1                   30.0  "
      ]
     },
     "execution_count": 20,
     "metadata": {},
     "output_type": "execute_result"
    }
   ],
   "source": [
    "# Imprime las condiciones de la tarifa y asegúrate de que te quedan claras\n",
    "plans.info()\n",
    "print('**************')\n",
    "plans.head ()\n",
    "\n"
   ]
  },
  {
   "cell_type": "markdown",
   "metadata": {},
   "source": [
    "<div class=\"alert alert-block alert-danger\">\n",
    "<b>Comentario del revisor (1ra Iteracion)</b> <a class=“tocSkip”></a>\n",
    "\n",
    "Recuerda que algunos métodos necesitan terminar con `()` para poder dar el resultado correcto, en lugar de plans.head lo correcto sería `plans.head()` y sin el print\n",
    "</div>"
   ]
  },
  {
   "cell_type": "markdown",
   "metadata": {},
   "source": [
    "De acuerdo. "
   ]
  },
  {
   "cell_type": "markdown",
   "metadata": {},
   "source": [
    "<div class=\"alert alert-block alert-success\">\n",
    "<b>Comentario del revisor (2da Iteracion)</b> <a class=“tocSkip”></a>\n",
    "\n",
    "Buen trabajo con el ajuste\n",
    "</div>"
   ]
  },
  {
   "cell_type": "markdown",
   "metadata": {
    "id": "hMR1tP5d0q1F"
   },
   "source": [
    "## Agregar datos por usuario\n",
    "\n",
    "[Ahora que los datos están limpios, agrega los datos por usuario y por periodo para que solo haya un registro por usuario y por periodo. Esto facilitará mucho el análisis posterior.]"
   ]
  },
  {
   "cell_type": "code",
   "execution_count": 21,
   "metadata": {
    "id": "A332cedB0q1G"
   },
   "outputs": [
    {
     "name": "stdout",
     "output_type": "stream",
     "text": [
      "   user_id year_month  calls_count\n",
      "0     1000    2018-12           16\n",
      "1     1001    2018-08           27\n",
      "2     1001    2018-09           49\n",
      "3     1001    2018-10           65\n",
      "4     1001    2018-11           64\n"
     ]
    }
   ],
   "source": [
    "# Calcula el número de llamadas hechas por cada usuario al mes. Guarda el resultado.\n",
    "calls_count = calls.groupby(['user_id', 'year_month']).size().reset_index(name='calls_count')\n",
    "\n",
    "print( calls_count.head (5))\n",
    "\n",
    "\n",
    "#mg_users_calls = pd.merge(users, calls, on='user_id', how='inner')\n",
    "#print(mg_users_calls.head())\n"
   ]
  },
  {
   "cell_type": "code",
   "execution_count": 22,
   "metadata": {
    "id": "aw2cmuql0q1G"
   },
   "outputs": [
    {
     "name": "stdout",
     "output_type": "stream",
     "text": [
      "   user_id year_month  total_minutes\n",
      "0     1000    2018-12          124.0\n",
      "1     1001    2018-08          182.0\n",
      "2     1001    2018-09          315.0\n",
      "3     1001    2018-10          393.0\n",
      "4     1001    2018-11          426.0\n"
     ]
    }
   ],
   "source": [
    "# Calcula la cantidad de minutos usados por cada usuario al mes. Guarda el resultado.\n",
    "\n",
    "minutes_used = calls.groupby(['user_id', 'year_month'])['total_minutes'].sum().reset_index()\n",
    "print( minutes_used.head (5))\n",
    "\n"
   ]
  },
  {
   "cell_type": "code",
   "execution_count": 23,
   "metadata": {
    "id": "CcQvNHn60q1G"
   },
   "outputs": [
    {
     "name": "stdout",
     "output_type": "stream",
     "text": [
      "   user_id year_month  message_count\n",
      "0     1000    2018-12             11\n",
      "1     1001    2018-08             30\n",
      "2     1001    2018-09             44\n",
      "3     1001    2018-10             53\n",
      "4     1001    2018-11             36\n"
     ]
    }
   ],
   "source": [
    "# Calcula el número de mensajes enviados por cada usuario al mes. Guarda el resultado.\n",
    "\n",
    "messages_count = messages.groupby(['user_id', 'year_month']).size().reset_index(name='message_count')\n",
    "print( messages_count.head (5))"
   ]
  },
  {
   "cell_type": "code",
   "execution_count": 24,
   "metadata": {},
   "outputs": [
    {
     "name": "stdout",
     "output_type": "stream",
     "text": [
      "   user_id year_month  total_mb_used\n",
      "0     1000    2018-12        1901.47\n",
      "1     1001    2018-08        6919.15\n",
      "2     1001    2018-09       13314.82\n",
      "3     1001    2018-10       22330.49\n",
      "4     1001    2018-11       18504.30\n"
     ]
    }
   ],
   "source": [
    "# Calcula el volumen del tráfico de Internet usado por cada usuario al mes. Guarda el resultado.\n",
    "\n",
    "internet_traffic = internet.groupby(['user_id', 'year_month'])['mb_used'].sum().reset_index(name='total_mb_used')\n",
    "\n",
    "print(internet_traffic.head(5))\n"
   ]
  },
  {
   "cell_type": "markdown",
   "metadata": {
    "id": "VDfYXnj80q1H"
   },
   "source": [
    "[Junta los datos agregados en un DataFrame para que haya un registro que represente lo que consumió un usuario único en un mes determinado.]"
   ]
  },
  {
   "cell_type": "code",
   "execution_count": 25,
   "metadata": {
    "id": "FW99ykyf0q1H"
   },
   "outputs": [
    {
     "name": "stdout",
     "output_type": "stream",
     "text": [
      "   user_id year_month  total_minutes  calls_count  message_count  \\\n",
      "0     1000    2018-12          124.0         16.0           11.0   \n",
      "1     1001    2018-08          182.0         27.0           30.0   \n",
      "2     1001    2018-09          315.0         49.0           44.0   \n",
      "3     1001    2018-10          393.0         65.0           53.0   \n",
      "4     1001    2018-11          426.0         64.0           36.0   \n",
      "5     1001    2018-12          412.0         56.0           44.0   \n",
      "6     1002    2018-10           59.0         11.0           15.0   \n",
      "7     1002    2018-11          386.0         55.0           32.0   \n",
      "8     1002    2018-12          384.0         47.0           41.0   \n",
      "9     1003    2018-12         1104.0        149.0           50.0   \n",
      "\n",
      "   total_mb_used  \n",
      "0        1901.47  \n",
      "1        6919.15  \n",
      "2       13314.82  \n",
      "3       22330.49  \n",
      "4       18504.30  \n",
      "5       19369.18  \n",
      "6        6552.01  \n",
      "7       19345.08  \n",
      "8       14396.24  \n",
      "9       27044.14  \n"
     ]
    }
   ],
   "source": [
    "# Fusiona los datos de llamadas, minutos, mensajes e Internet con base en user_id y month\n",
    "\n",
    "# Fusionar los DataFrames resultantes en uno solo\n",
    "merged_consumo = pd.merge(minutes_used, calls_count, on=['user_id', 'year_month'], how='outer')\n",
    "merged_consumo = pd.merge(merged_consumo, messages_count, on=['user_id', 'year_month'], how='outer')\n",
    "merged_consumo = pd.merge(merged_consumo, internet_traffic, on=['user_id', 'year_month'], how='outer')\n",
    "\n",
    "\n",
    "print(merged_consumo.head(10))\n"
   ]
  },
  {
   "cell_type": "code",
   "execution_count": 26,
   "metadata": {
    "id": "0dNOXHag0q1H"
   },
   "outputs": [
    {
     "name": "stdout",
     "output_type": "stream",
     "text": [
      "************************************\n",
      "Base de datos fusionada user_consumo_plantarifa\n",
      "   user_id year_month  total_minutes  calls_count  message_count  \\\n",
      "0     1000    2018-12          124.0         16.0           11.0   \n",
      "1     1001    2018-08          182.0         27.0           30.0   \n",
      "2     1001    2018-09          315.0         49.0           44.0   \n",
      "3     1001    2018-10          393.0         65.0           53.0   \n",
      "4     1001    2018-11          426.0         64.0           36.0   \n",
      "\n",
      "   total_mb_used      plan  usd_monthly_pay  minutes_included  \\\n",
      "0        1901.47  ultimate               70              3000   \n",
      "1        6919.15      surf               20               500   \n",
      "2       13314.82      surf               20               500   \n",
      "3       22330.49      surf               20               500   \n",
      "4       18504.30      surf               20               500   \n",
      "\n",
      "   messages_included  mb_per_month_included  usd_per_minute  usd_per_message  \\\n",
      "0               1000                  30720            0.01             0.01   \n",
      "1                 50                  15360            0.03             0.03   \n",
      "2                 50                  15360            0.03             0.03   \n",
      "3                 50                  15360            0.03             0.03   \n",
      "4                 50                  15360            0.03             0.03   \n",
      "\n",
      "   usd_per_gb  \n",
      "0           7  \n",
      "1          10  \n",
      "2          10  \n",
      "3          10  \n",
      "4          10  \n",
      "user_id                      int64\n",
      "year_month               period[M]\n",
      "total_minutes              float64\n",
      "calls_count                float64\n",
      "message_count              float64\n",
      "total_mb_used              float64\n",
      "plan                        object\n",
      "usd_monthly_pay              int64\n",
      "minutes_included             int64\n",
      "messages_included            int64\n",
      "mb_per_month_included        int64\n",
      "usd_per_minute             float64\n",
      "usd_per_message            float64\n",
      "usd_per_gb                   int64\n",
      "dtype: object\n"
     ]
    }
   ],
   "source": [
    "# Añade la información de la tarifa\n",
    "\n",
    "# Fusionar 'users' con 'plans' en base a la columna 'plan'\n",
    "users_with_plans = pd.merge(users, plans, left_on='plan', right_on='plan_name', how='left')\n",
    "\n",
    "\n",
    "merged_consumo_with_plans = pd.merge(merged_consumo, users_with_plans[['user_id', 'plan', 'usd_monthly_pay', 'minutes_included', 'messages_included', 'mb_per_month_included', 'usd_per_minute', 'usd_per_message', 'usd_per_gb']], on='user_id', how='left')\n",
    "\n",
    "#print(users_with_plans.head(5))\n",
    "#print(users_with_plans.dtypes)\n",
    "print(\"************************************\")\n",
    "print ( \"Base de datos fusionada user_consumo_plantarifa\")\n",
    "print(merged_consumo_with_plans.head(5))\n",
    "print(merged_consumo_with_plans.dtypes)"
   ]
  },
  {
   "cell_type": "markdown",
   "metadata": {
    "id": "1IwGo4wg0q1I"
   },
   "source": [
    "[Calcula los ingresos mensuales por usuario (resta el límite del paquete gratuito del número total de llamadas, mensajes de texto y datos; multiplica el resultado por el valor del plan de llamadas; añade la tarifa mensual en función del plan de llamadas). Nota: Dadas las condiciones del plan, ¡esto podría no ser tan trivial como un par de líneas! Así que no pasa nada si dedicas algo de tiempo a ello.]"
   ]
  },
  {
   "cell_type": "code",
   "execution_count": 27,
   "metadata": {
    "id": "5FGCf_c60q1I"
   },
   "outputs": [
    {
     "name": "stdout",
     "output_type": "stream",
     "text": [
      "   user_id year_month  total_minutes  calls_count  message_count  \\\n",
      "0     1000    2018-12          124.0         16.0           11.0   \n",
      "1     1001    2018-08          182.0         27.0           30.0   \n",
      "2     1001    2018-09          315.0         49.0           44.0   \n",
      "3     1001    2018-10          393.0         65.0           53.0   \n",
      "4     1001    2018-11          426.0         64.0           36.0   \n",
      "\n",
      "   total_mb_used      plan  usd_monthly_pay  minutes_included  \\\n",
      "0        1901.47  ultimate               70              3000   \n",
      "1        6919.15      surf               20               500   \n",
      "2       13314.82      surf               20               500   \n",
      "3       22330.49      surf               20               500   \n",
      "4       18504.30      surf               20               500   \n",
      "\n",
      "   messages_included  mb_per_month_included  usd_per_minute  usd_per_message  \\\n",
      "0               1000                  30720            0.01             0.01   \n",
      "1                 50                  15360            0.03             0.03   \n",
      "2                 50                  15360            0.03             0.03   \n",
      "3                 50                  15360            0.03             0.03   \n",
      "4                 50                  15360            0.03             0.03   \n",
      "\n",
      "   usd_per_gb  extra_minutes  extra_messages  extra_data  \n",
      "0           7        -2876.0          -989.0   -28818.53  \n",
      "1          10         -318.0           -20.0    -8440.85  \n",
      "2          10         -185.0            -6.0    -2045.18  \n",
      "3          10         -107.0             3.0     6970.49  \n",
      "4          10          -74.0           -14.0     3144.30  \n",
      "   user_id year_month  total_minutes  calls_count  message_count  \\\n",
      "0     1000    2018-12          124.0         16.0           11.0   \n",
      "1     1001    2018-08          182.0         27.0           30.0   \n",
      "2     1001    2018-09          315.0         49.0           44.0   \n",
      "3     1001    2018-10          393.0         65.0           53.0   \n",
      "4     1001    2018-11          426.0         64.0           36.0   \n",
      "\n",
      "   total_mb_used      plan  usd_monthly_pay  minutes_included  \\\n",
      "0        1901.47  ultimate               70              3000   \n",
      "1        6919.15      surf               20               500   \n",
      "2       13314.82      surf               20               500   \n",
      "3       22330.49      surf               20               500   \n",
      "4       18504.30      surf               20               500   \n",
      "\n",
      "   messages_included  mb_per_month_included  usd_per_minute  usd_per_message  \\\n",
      "0               1000                  30720            0.01             0.01   \n",
      "1                 50                  15360            0.03             0.03   \n",
      "2                 50                  15360            0.03             0.03   \n",
      "3                 50                  15360            0.03             0.03   \n",
      "4                 50                  15360            0.03             0.03   \n",
      "\n",
      "   usd_per_gb  extra_minutes  extra_messages  extra_data  \n",
      "0           7            0.0             0.0        0.00  \n",
      "1          10            0.0             0.0        0.00  \n",
      "2          10            0.0             0.0        0.00  \n",
      "3          10            0.0             3.0     6970.49  \n",
      "4          10            0.0             0.0     3144.30  \n",
      "Ingresos mensuales por usuario:\n",
      "      user_id year_month  monthly_revenue\n",
      "0        1000    2018-12        70.000000\n",
      "1        1001    2018-08        20.000000\n",
      "2        1001    2018-09        20.000000\n",
      "3        1001    2018-10        88.161191\n",
      "4        1001    2018-11        50.706055\n",
      "...       ...        ...              ...\n",
      "2288     1349    2018-12        20.330000\n",
      "2289     1361    2018-05        20.000000\n",
      "2290     1482    2018-10        70.000000\n",
      "2291     1108    2018-12        70.000000\n",
      "2292     1311    2018-06        70.000000\n",
      "\n",
      "[2293 rows x 3 columns]\n"
     ]
    }
   ],
   "source": [
    "# Calcula el ingreso mensual para cada usuario\n",
    "\n",
    "\n",
    "# Rellenar valores NaN con 0 en las columnas relevantes\n",
    "merged_consumo_with_plans['total_minutes'].fillna(0, inplace=True)\n",
    "merged_consumo_with_plans['message_count'].fillna(0, inplace=True)\n",
    "merged_consumo_with_plans['total_mb_used'].fillna(0, inplace=True)\n",
    "\n",
    "\n",
    "# Calcular los excesos\n",
    "merged_consumo_with_plans['extra_minutes'] = merged_consumo_with_plans['total_minutes'] - merged_consumo_with_plans['minutes_included']\n",
    "merged_consumo_with_plans['extra_messages'] = merged_consumo_with_plans['message_count'] - merged_consumo_with_plans['messages_included']\n",
    "merged_consumo_with_plans['extra_data'] = merged_consumo_with_plans['total_mb_used'] - merged_consumo_with_plans['mb_per_month_included']\n",
    "\n",
    "print(merged_consumo_with_plans.head(5))\n",
    "\n",
    "# Asegurar que no haya valores negativos (los valores negativos significan que el usuario no ha excedido el límite)\n",
    "merged_consumo_with_plans['extra_minutes'] = merged_consumo_with_plans['extra_minutes'].where(merged_consumo_with_plans['extra_minutes'] >= 0, 0)\n",
    "merged_consumo_with_plans['extra_messages'] = merged_consumo_with_plans['extra_messages'].where(merged_consumo_with_plans['extra_messages'] >= 0, 0)\n",
    "merged_consumo_with_plans['extra_data'] = merged_consumo_with_plans['extra_data'].where(merged_consumo_with_plans['extra_data'] >= 0, 0)\n",
    "\n",
    "print(merged_consumo_with_plans.head(5))\n",
    "\n",
    "#Calcular los costos adicionales\n",
    "merged_consumo_with_plans['extra_minutes_cost'] = merged_consumo_with_plans['extra_minutes'] * merged_consumo_with_plans['usd_per_minute']\n",
    "merged_consumo_with_plans['extra_messages_cost'] = merged_consumo_with_plans['extra_messages'] * merged_consumo_with_plans['usd_per_message']\n",
    "# Convertimos MB extras a GB y calculamos el costo\n",
    "merged_consumo_with_plans['extra_data_cost'] = (merged_consumo_with_plans['extra_data'] / 1024) * merged_consumo_with_plans['usd_per_gb']\n",
    "                                    \n",
    "# Calcular los ingresos totales\n",
    "merged_consumo_with_plans['monthly_revenue'] = (merged_consumo_with_plans['usd_monthly_pay'] + merged_consumo_with_plans['extra_minutes_cost'] + merged_consumo_with_plans['extra_messages_cost'] + merged_consumo_with_plans['extra_data_cost'] )\n",
    "                                                                           \n",
    "\n",
    "                                                                                        \n",
    "print(\"Ingresos mensuales por usuario:\")\n",
    "print(merged_consumo_with_plans[['user_id', 'year_month', 'monthly_revenue']])"
   ]
  },
  {
   "cell_type": "markdown",
   "metadata": {},
   "source": [
    "<div class=\"alert alert-block alert-success\">\n",
    "<b>Comentario del revisor (1ra Iteracion)</b> <a class=“tocSkip”></a>\n",
    "\n",
    "Buen trabajo con la agregación de los datos! Recuerda que para mostrar los resultados en un Notebook lo mejor es omitir el uso de print\n",
    "</div>"
   ]
  },
  {
   "cell_type": "markdown",
   "metadata": {},
   "source": [
    "Si quiero ver la tabla en lugar del print que me sugieres aquí, para visualizarla."
   ]
  },
  {
   "cell_type": "markdown",
   "metadata": {
    "id": "-jtyHzJb0q1I"
   },
   "source": [
    "## Estudia el comportamiento de usuario"
   ]
  },
  {
   "cell_type": "markdown",
   "metadata": {
    "id": "AxU3Y0N70q1J"
   },
   "source": [
    "[Calcula algunas estadísticas descriptivas para los datos agregados y fusionados que nos sean útiles y que muestren un panorama general captado por los datos. Dibuja gráficos útiles para facilitar la comprensión. Dado que la tarea principal es comparar las tarifas y decidir cuál es más rentable, las estadísticas y gráficas deben calcularse por tarifa.]\n",
    "\n",
    "[En los comentarios hallarás pistas relevantes para las llamadas, pero no las hay para los mensajes e Internet. Sin embargo, el principio del estudio estadístico que se aplica para ellos es el mismo que para las llamadas.]"
   ]
  },
  {
   "cell_type": "markdown",
   "metadata": {
    "id": "vtW4CJEe0q1J"
   },
   "source": [
    "### Llamadas"
   ]
  },
  {
   "cell_type": "code",
   "execution_count": 28,
   "metadata": {
    "id": "Jf5v5--k0q1J"
   },
   "outputs": [
    {
     "name": "stdout",
     "output_type": "stream",
     "text": [
      "Duración promedio de llamadas por plan y por mes:\n",
      "        plan year_month  avg_call_duration\n",
      "22  ultimate    2018-11         445.196850\n",
      "13  ultimate    2018-02         403.142857\n",
      "7       surf    2018-08         410.111111\n",
      "6       surf    2018-07         449.983471\n",
      "0       surf    2018-01         203.000000\n"
     ]
    },
    {
     "data": {
      "image/png": "[encoded data removed]",
      "text/plain": [
       "<Figure size 1200x800 with 1 Axes>"
      ]
     },
     "metadata": {},
     "output_type": "display_data"
    }
   ],
   "source": [
    "# Compara la duración promedio de llamadas por cada plan y por cada mes. Traza un gráfico de barras para visualizarla.\n",
    "\n",
    "# Calcular la duración promedio de llamadas por plan y por mes\n",
    "avg_call_duration = merged_consumo_with_plans.groupby(['plan', 'year_month'])['total_minutes'].mean().reset_index()\n",
    "avg_call_duration.rename(columns={'total_minutes': 'avg_call_duration'}, inplace=True)\n",
    "print(\"Duración promedio de llamadas por plan y por mes:\")\n",
    "print(avg_call_duration.sample(5))\n",
    "\n",
    "# Configurar el gráfico\n",
    "plt.figure(figsize=(12, 8))\n",
    "sns.barplot(data=avg_call_duration, x='year_month', y='avg_call_duration', hue='plan')\n",
    "\n",
    "# Título y etiquetas del gráfico\n",
    "plt.title('Duración Promedio de Llamadas por Plan y por Mes')\n",
    "plt.xlabel('Mes')\n",
    "plt.ylabel('Duración Promedio de Llamadas (minutos)')\n",
    "\n",
    "# Mostrar el gráfico\n",
    "plt.legend(title='Plan')\n",
    "plt.tight_layout()\n",
    "plt.show()\n"
   ]
  },
  {
   "cell_type": "markdown",
   "metadata": {},
   "source": [
    "Respuesta: El promedio de la duración de llamadas está alrededor de los 400 minutos por mes. Excepto en Enero ."
   ]
  },
  {
   "cell_type": "code",
   "execution_count": 29,
   "metadata": {
    "id": "QoLqW1S_0q1J"
   },
   "outputs": [
    {
     "name": "stderr",
     "output_type": "stream",
     "text": [
      "No handles with labels found to put in legend.\n"
     ]
    },
    {
     "name": "stdout",
     "output_type": "stream",
     "text": [
      "     user_id  plan  total_minutes\n",
      "54      1055  surf         1917.0\n",
      "203     1206  surf         1940.0\n",
      "318     1325  surf          588.0\n",
      "280     1285  surf         1960.0\n",
      "89      1090  surf         2749.0\n"
     ]
    },
    {
     "data": {
      "image/png": "[encoded data removed]",
      "text/plain": [
       "<Figure size 1200x800 with 1 Axes>"
      ]
     },
     "metadata": {},
     "output_type": "display_data"
    }
   ],
   "source": [
    "# Compara el número de minutos mensuales que necesitan los usuarios de cada plan. Traza un histograma.\n",
    "\n",
    "# Agrupar los datos por plan y usuario para obtener el número total de minutos mensuales utilizados\n",
    "monthly_minutes_by_plan = merged_consumo_with_plans.groupby(['user_id', 'plan'])['total_minutes'].sum().reset_index()\n",
    "\n",
    "print(monthly_minutes_by_plan.sample(5))\n",
    "\n",
    "# Configurar el gráfico\n",
    "plt.figure(figsize=(12, 8))\n",
    "\n",
    "# Trazar el histograma\n",
    "sns.histplot(data=monthly_minutes_by_plan, x='total_minutes', hue='plan', multiple='stack', kde=False, bins=30)\n",
    "\n",
    "# Título y etiquetas del gráfico\n",
    "plt.title('Distribución de Minutos Mensuales Utilizados por Plan')\n",
    "plt.xlabel('Total de Minutos Mensuales')\n",
    "plt.ylabel('Frecuencia')\n",
    "\n",
    "# Mostrar el gráfico\n",
    "plt.legend(title='Plan')\n",
    "#plt.tight_layout()\n",
    "plt.show()"
   ]
  },
  {
   "cell_type": "markdown",
   "metadata": {
    "id": "bLS9T8OH0q1K"
   },
   "source": [
    "[Calcula la media y la variable de la duración de las llamadas para averiguar si los usuarios de los distintos planes se comportan de forma diferente al realizar sus llamadas.]"
   ]
  },
  {
   "cell_type": "code",
   "execution_count": 30,
   "metadata": {
    "id": "oSndbAnt0q1K"
   },
   "outputs": [
    {
     "name": "stdout",
     "output_type": "stream",
     "text": [
      "Media de la duración mensual de llamadas: 429.28 minutos\n",
      "Varianza de la duración mensual de llamadas: 55847.18 minutos^2\n"
     ]
    }
   ],
   "source": [
    "# Calcula la media y la varianza de la duración mensual de llamadas.\n",
    "\n",
    "# Agrupar los datos por usuario y mes para obtener la duración total de llamadas mensuales\n",
    "monthly_call_duration = merged_consumo_with_plans.groupby(['user_id', 'year_month'])['total_minutes'].sum().reset_index()\n",
    "\n",
    "#print(monthly_call_duration.head(5))\n",
    "\n",
    "# Calcular la media de la duración mensual de llamadas\n",
    "mean_duration = monthly_call_duration['total_minutes'].mean()\n",
    "\n",
    "# Calcular la varianza de la duración mensual de llamadas\n",
    "variance_duration = monthly_call_duration['total_minutes'].var()\n",
    "\n",
    "# Mostrar los resultados\n",
    "print(f\"Media de la duración mensual de llamadas: {mean_duration:.2f} minutos\")\n",
    "print(f\"Varianza de la duración mensual de llamadas: {variance_duration:.2f} minutos^2\")\n"
   ]
  },
  {
   "cell_type": "code",
   "execution_count": 31,
   "metadata": {
    "id": "nZzoRUKc0q1K",
    "scrolled": true
   },
   "outputs": [
    {
     "data": {
      "image/png": "[encoded data removed]",
      "text/plain": [
       "<Figure size 1200x800 with 1 Axes>"
      ]
     },
     "metadata": {},
     "output_type": "display_data"
    }
   ],
   "source": [
    "# Traza un diagrama de caja para visualizar la distribución de la duración mensual de llamadas\n",
    "# Agrupar los datos por usuario y mes para obtener la duración total de llamadas mensuales\n",
    "monthly_call_duration = merged_consumo_with_plans.groupby(['user_id', 'year_month'])['total_minutes'].sum().reset_index()\n",
    "\n",
    "# Configurar el gráfico\n",
    "plt.figure(figsize=(12, 8))\n",
    "\n",
    "# Trazar el diagrama de caja\n",
    "sns.boxplot(data=monthly_call_duration, x='year_month', y='total_minutes')\n",
    "\n",
    "# Título y etiquetas del gráfico\n",
    "plt.title('Distribución de la Duración Mensual de Llamadas')\n",
    "plt.xlabel('Mes')\n",
    "plt.ylabel('Duración Total de Llamadas (minutos)')\n",
    "\n",
    "# Rotar las etiquetas del eje x para mejor legibilidad\n",
    "plt.xticks(rotation=45)\n",
    "\n",
    "# Mostrar el gráfico\n",
    "plt.tight_layout()\n",
    "plt.show()\n"
   ]
  },
  {
   "cell_type": "markdown",
   "metadata": {
    "id": "r627zBO50q1K"
   },
   "source": [
    "\n",
    "\n",
    "RESPUESTA: Casi todo el año la media se mantiene al rededor de 400 minutos en promedio la duración de las llamadas , excepto del primer cuarto del año que tiende a disminuir el consumo."
   ]
  },
  {
   "cell_type": "markdown",
   "metadata": {},
   "source": [
    "<div class=\"alert alert-block alert-warning\">\n",
    "<b>Comentario del revisor (1ra Iteracion)</b> <a class=“tocSkip”></a>\n",
    "\n",
    "Lo hiciste muy bien con las visualizaciones, te recomiendo agregar tus interpretaciones de las gráficas cómo conclusiones debajo de cada una\n",
    "</div>"
   ]
  },
  {
   "cell_type": "markdown",
   "metadata": {
    "id": "8idKy8Wh0q1L"
   },
   "source": [
    "### Mensajes"
   ]
  },
  {
   "cell_type": "code",
   "execution_count": 32,
   "metadata": {
    "id": "NXLxiTit0q1L"
   },
   "outputs": [
    {
     "name": "stdout",
     "output_type": "stream",
     "text": [
      "Número promedio de mensajes enviados por plan y por mes:\n",
      "   plan year_month  avg_message_count\n",
      "0  surf    2018-01          10.500000\n",
      "1  surf    2018-02          12.000000\n",
      "2  surf    2018-03          15.260870\n",
      "3  surf    2018-04          17.400000\n",
      "4  surf    2018-05          24.012987\n"
     ]
    },
    {
     "data": {
      "image/png": "[encoded data removed]",
      "text/plain": [
       "<Figure size 1200x800 with 1 Axes>"
      ]
     },
     "metadata": {},
     "output_type": "display_data"
    }
   ],
   "source": [
    "# Calcular el número promedio de mensajes enviados por plan y por mes\n",
    "avg_messages_per_plan_month = merged_consumo_with_plans.groupby(['plan', 'year_month'])['message_count'].mean().reset_index()\n",
    "avg_messages_per_plan_month.rename(columns={'message_count': 'avg_message_count'}, inplace=True)\n",
    "\n",
    "print(\"Número promedio de mensajes enviados por plan y por mes:\")\n",
    "print(avg_messages_per_plan_month.head(5))\n",
    "\n",
    "# Configurar el gráfico\n",
    "plt.figure(figsize=(12, 8))\n",
    "sns.barplot(data=avg_messages_per_plan_month, x='year_month', y='avg_message_count', hue='plan')\n",
    "\n",
    "# Título y etiquetas del gráfico\n",
    "plt.title('Número Promedio de Mensajes Enviados por Plan y por Mes')\n",
    "plt.xlabel('Mes')\n",
    "plt.ylabel('Número Promedio de Mensajes')\n",
    "\n",
    "# Mostrar el gráfico\n",
    "plt.legend(title='Plan')\n",
    "plt.tight_layout()\n",
    "plt.show()"
   ]
  },
  {
   "cell_type": "code",
   "execution_count": 33,
   "metadata": {
    "id": "GRI_R7xF0q1L"
   },
   "outputs": [
    {
     "name": "stdout",
     "output_type": "stream",
     "text": [
      "Promedio de tráfico de Internet consumido por plan:\n",
      "       plan  avg_internet_usage_mb\n",
      "0      surf           16558.283490\n",
      "1  ultimate           17214.699694\n"
     ]
    }
   ],
   "source": [
    "# Compara la cantidad de tráfico de Internet consumido por usuarios por plan\n",
    "# Calcular el promedio de tráfico de Internet consumido por plan\n",
    "avg_internet_usage_per_plan = merged_consumo_with_plans.groupby('plan')['total_mb_used'].mean().reset_index()\n",
    "avg_internet_usage_per_plan.rename(columns={'total_mb_used': 'avg_internet_usage_mb'}, inplace=True)\n",
    "\n",
    "print(\"Promedio de tráfico de Internet consumido por plan:\")\n",
    "print(avg_internet_usage_per_plan)\n"
   ]
  },
  {
   "cell_type": "code",
   "execution_count": 34,
   "metadata": {
    "id": "dtFwCGAp0q1M"
   },
   "outputs": [
    {
     "data": {
      "image/png": "[encoded data removed]",
      "text/plain": [
       "<Figure size 1200x800 with 1 Axes>"
      ]
     },
     "metadata": {},
     "output_type": "display_data"
    }
   ],
   "source": [
    "# Configurar el gráfico\n",
    "plt.figure(figsize=(12, 8))\n",
    "sns.barplot(data=avg_internet_usage_per_plan, x='plan', y='avg_internet_usage_mb', palette='viridis')\n",
    "\n",
    "# Título y etiquetas del gráfico\n",
    "plt.title('Promedio de Tráfico de Internet Consumido por Plan')\n",
    "plt.xlabel('Plan')\n",
    "plt.ylabel('Tráfico Promedio de Internet (MB)')\n",
    "\n",
    "# Mostrar el gráfico\n",
    "plt.tight_layout()\n",
    "plt.show()"
   ]
  },
  {
   "cell_type": "markdown",
   "metadata": {
    "id": "390SSL480q1M"
   },
   "source": [
    "[Elabora las conclusiones sobre el comportamiento de los usuarios con respecto a los mensajes. ¿Su comportamiento varía en función del plan?]\n",
    "RESPUESTA : La diferencia del consumo de los mensajes no es muy diferente entre los dos planes y por lo general los usuarios del plan más económico procuranutilizar menos de los 50 MSM , lo que me llama la atención es que el plan más caro Ultimate , incluye 1,000 mensajes y el consumo promedio 50 MSM se queda muy abajo de lo que incluye el paquete."
   ]
  },
  {
   "cell_type": "markdown",
   "metadata": {},
   "source": [
    "<div class=\"alert alert-block alert-success\">\n",
    "<b>Comentario del revisor (1ra Iteracion)</b> <a class=“tocSkip”></a>\n",
    "\n",
    "Lo hiciste muy bien con las visualizaciones! \n",
    "</div>"
   ]
  },
  {
   "cell_type": "markdown",
   "metadata": {
    "id": "42YSypXz0q1M"
   },
   "source": [
    "### Internet"
   ]
  },
  {
   "cell_type": "code",
   "execution_count": 35,
   "metadata": {
    "id": "lSuKPtjh0q1M"
   },
   "outputs": [
    {
     "name": "stdout",
     "output_type": "stream",
     "text": [
      "Promedio de tráfico de Internet consumido por plan y por mes:\n",
      "        plan year_month  avg_internet_usage_mb\n",
      "8       surf    2018-09           16591.431289\n",
      "10      surf    2018-11           16339.254417\n",
      "20  ultimate    2018-09           16969.869535\n",
      "7       surf    2018-08           16795.331358\n",
      "14  ultimate    2018-03           18321.518333\n"
     ]
    }
   ],
   "source": [
    "df= merged_consumo_with_plans\n",
    "\n",
    "# Calcular el promedio de tráfico de Internet consumido por plan y por mes\n",
    "avg_internet_usage_per_plan_month = df.groupby(['plan', 'year_month'])['total_mb_used'].mean().reset_index()\n",
    "avg_internet_usage_per_plan_month.rename(columns={'total_mb_used': 'avg_internet_usage_mb'}, inplace=True)\n",
    "\n",
    "print(\"Promedio de tráfico de Internet consumido por plan y por mes:\")\n",
    "print(avg_internet_usage_per_plan_month.sample(5))"
   ]
  },
  {
   "cell_type": "code",
   "execution_count": 36,
   "metadata": {},
   "outputs": [
    {
     "data": {
      "image/png": "[encoded data removed]",
      "text/plain": [
       "<Figure size 1200x800 with 1 Axes>"
      ]
     },
     "metadata": {},
     "output_type": "display_data"
    }
   ],
   "source": [
    "# Configurar el gráfico\n",
    "plt.figure(figsize=(12, 8))\n",
    "sns.barplot(data=avg_internet_usage_per_plan_month, x='year_month', y='avg_internet_usage_mb', hue='plan')\n",
    "\n",
    "# Título y etiquetas del gráfico\n",
    "plt.title('Promedio de Tráfico de Internet Consumido por Plan y por Mes')\n",
    "plt.xlabel('Mes')\n",
    "plt.ylabel('Tráfico Promedio de Internet (MB)')\n",
    "\n",
    "# Mostrar el gráfico\n",
    "plt.legend(title='Plan')\n",
    "plt.tight_layout()\n",
    "plt.show()"
   ]
  },
  {
   "cell_type": "raw",
   "metadata": {},
   "source": [
    "Los usurarios de SURF por lo general se consumen y se exceden los MB que les ofrece su plan que es de 15 GB. Y los usuarios de Ultimate no se consumen los 30GB que les correponden."
   ]
  },
  {
   "cell_type": "markdown",
   "metadata": {
    "id": "tCijq3260q1N"
   },
   "source": [
    "## Ingreso"
   ]
  },
  {
   "cell_type": "markdown",
   "metadata": {
    "id": "9nq5IAcy0q1O"
   },
   "source": [
    "[Del mismo modo que has estudiado el comportamiento de los usuarios, describe estadísticamente los ingresos de los planes.]"
   ]
  },
  {
   "cell_type": "code",
   "execution_count": 37,
   "metadata": {
    "id": "tz-dq_V00q1O"
   },
   "outputs": [
    {
     "name": "stdout",
     "output_type": "stream",
     "text": [
      "Promedio de ingresos por plan y por mes:\n",
      "        plan year_month  avg_income\n",
      "0       surf    2018-01   20.000000\n",
      "17  ultimate    2018-06   71.476980\n",
      "23  ultimate    2018-12   73.045714\n",
      "5       surf    2018-06   46.266207\n",
      "11      surf    2018-12   66.815009\n"
     ]
    }
   ],
   "source": [
    "# Calcular el promedio de ingresos por plan y por mes\n",
    "income_per_plan_month = df.groupby(['plan', 'year_month'])['monthly_revenue'].mean().reset_index()\n",
    "income_per_plan_month.rename(columns={'monthly_revenue': 'avg_income'}, inplace=True)\n",
    "\n",
    "print(\"Promedio de ingresos por plan y por mes:\")\n",
    "print(income_per_plan_month.sample(5))"
   ]
  },
  {
   "cell_type": "code",
   "execution_count": 38,
   "metadata": {
    "id": "0Y1v8ZUz0q1P"
   },
   "outputs": [
    {
     "data": {
      "image/png": "[encoded data removed]",
      "text/plain": [
       "<Figure size 1400x800 with 1 Axes>"
      ]
     },
     "metadata": {},
     "output_type": "display_data"
    }
   ],
   "source": [
    "# Configurar el gráfico\n",
    "plt.figure(figsize=(14, 8))\n",
    "sns.barplot(data=income_per_plan_month, x='year_month', y='avg_income', hue='plan', palette='viridis')\n",
    "\n",
    "# Título y etiquetas del gráfico\n",
    "plt.title('Promedio de Ingresos por Plan y por Mes')\n",
    "plt.xlabel('Mes')\n",
    "plt.ylabel('Ingresos Promedio (USD)')\n",
    "\n",
    "# Mostrar el gráfico\n",
    "plt.legend(title='Plan')\n",
    "plt.tight_layout()\n",
    "plt.show()"
   ]
  },
  {
   "cell_type": "markdown",
   "metadata": {},
   "source": [
    "Los usuarios de SURF tienen más variabilidad en su consumo con respecto a su PLAN, pero les conviene mantenerse en el plan de $20 usd mensuales que cambiar al de $70, ya que la mayoría el consumo es menor de eso. Y los usuarios de Ultimate están cautivos pagando $70 usd aunque lo que les oferta el plan no lo están consumiendo al 100%"
   ]
  },
  {
   "cell_type": "code",
   "execution_count": 39,
   "metadata": {
    "id": "bYmwxyVh0q1P"
   },
   "outputs": [
    {
     "name": "stdout",
     "output_type": "stream",
     "text": [
      "user_id                      int64\n",
      "year_month               period[M]\n",
      "total_minutes              float64\n",
      "calls_count                float64\n",
      "message_count              float64\n",
      "total_mb_used              float64\n",
      "plan                        object\n",
      "usd_monthly_pay              int64\n",
      "minutes_included             int64\n",
      "messages_included            int64\n",
      "mb_per_month_included        int64\n",
      "usd_per_minute             float64\n",
      "usd_per_message            float64\n",
      "usd_per_gb                   int64\n",
      "extra_minutes              float64\n",
      "extra_messages             float64\n",
      "extra_data                 float64\n",
      "extra_minutes_cost         float64\n",
      "extra_messages_cost        float64\n",
      "extra_data_cost            float64\n",
      "monthly_revenue            float64\n",
      "dtype: object\n",
      "   user_id year_month  total_minutes  calls_count  message_count  \\\n",
      "0     1000    2018-12          124.0         16.0           11.0   \n",
      "1     1001    2018-08          182.0         27.0           30.0   \n",
      "2     1001    2018-09          315.0         49.0           44.0   \n",
      "3     1001    2018-10          393.0         65.0           53.0   \n",
      "4     1001    2018-11          426.0         64.0           36.0   \n",
      "\n",
      "   total_mb_used      plan  usd_monthly_pay  minutes_included  \\\n",
      "0        1901.47  ultimate               70              3000   \n",
      "1        6919.15      surf               20               500   \n",
      "2       13314.82      surf               20               500   \n",
      "3       22330.49      surf               20               500   \n",
      "4       18504.30      surf               20               500   \n",
      "\n",
      "   messages_included  ...  usd_per_minute  usd_per_message  usd_per_gb  \\\n",
      "0               1000  ...            0.01             0.01           7   \n",
      "1                 50  ...            0.03             0.03          10   \n",
      "2                 50  ...            0.03             0.03          10   \n",
      "3                 50  ...            0.03             0.03          10   \n",
      "4                 50  ...            0.03             0.03          10   \n",
      "\n",
      "   extra_minutes  extra_messages  extra_data  extra_minutes_cost  \\\n",
      "0            0.0             0.0        0.00                 0.0   \n",
      "1            0.0             0.0        0.00                 0.0   \n",
      "2            0.0             0.0        0.00                 0.0   \n",
      "3            0.0             3.0     6970.49                 0.0   \n",
      "4            0.0             0.0     3144.30                 0.0   \n",
      "\n",
      "   extra_messages_cost  extra_data_cost  monthly_revenue  \n",
      "0                 0.00         0.000000        70.000000  \n",
      "1                 0.00         0.000000        20.000000  \n",
      "2                 0.00         0.000000        20.000000  \n",
      "3                 0.09        68.071191        88.161191  \n",
      "4                 0.00        30.706055        50.706055  \n",
      "\n",
      "[5 rows x 21 columns]\n"
     ]
    }
   ],
   "source": [
    "print(merged_consumo_with_plans.dtypes)\n",
    "print(merged_consumo_with_plans.head(5))"
   ]
  },
  {
   "cell_type": "code",
   "execution_count": 40,
   "metadata": {},
   "outputs": [
    {
     "name": "stdout",
     "output_type": "stream",
     "text": [
      "Ingresos extra totales:\n",
      "   total_extra_income  monthly_revenue\n",
      "0            0.000000        70.000000\n",
      "1            0.000000        20.000000\n",
      "2            0.000000        20.000000\n",
      "3           68.161191        88.161191\n",
      "4           30.706055        50.706055\n"
     ]
    }
   ],
   "source": [
    "df['total_extra_income'] = df['extra_minutes_cost'] + df['extra_messages_cost'] + df['extra_data_cost']\n",
    "\n",
    "print(\"Ingresos extra totales:\")\n",
    "print(df[['total_extra_income', 'monthly_revenue']].head())"
   ]
  },
  {
   "cell_type": "code",
   "execution_count": 41,
   "metadata": {
    "scrolled": true
   },
   "outputs": [
    {
     "name": "stdout",
     "output_type": "stream",
     "text": [
      "Estadísticas descriptivas de los ingresos extra:\n",
      "count    2293.000000\n",
      "mean       26.508052\n",
      "std        47.942468\n",
      "min         0.000000\n",
      "25%         0.000000\n",
      "50%         0.420000\n",
      "75%        37.390020\n",
      "max       563.061309\n",
      "Name: total_extra_income, dtype: float64\n",
      "Estadísticas descriptivas de los ingresos totales:\n",
      "count    2293.000000\n",
      "mean       62.208009\n",
      "std        45.508069\n",
      "min        20.000000\n",
      "25%        22.984648\n",
      "50%        70.000000\n",
      "75%        70.000000\n",
      "max       583.061309\n",
      "Name: monthly_revenue, dtype: float64\n"
     ]
    }
   ],
   "source": [
    "# Estadísticas descriptivas de los ingresos extra y totales\n",
    "extra_income_stats = df['total_extra_income'].describe()\n",
    "total_income_stats = df['monthly_revenue'].describe()\n",
    "\n",
    "print(\"Estadísticas descriptivas de los ingresos extra:\")\n",
    "print(extra_income_stats)\n",
    "\n",
    "print(\"Estadísticas descriptivas de los ingresos totales:\")\n",
    "print(total_income_stats)"
   ]
  },
  {
   "cell_type": "code",
   "execution_count": 42,
   "metadata": {},
   "outputs": [
    {
     "name": "stdout",
     "output_type": "stream",
     "text": [
      "Ingresos extra totales y base:\n",
      "       plan year_month  total_extra_income  base_revenue  monthly_revenue\n",
      "0  ultimate    2018-12            0.000000          70.0        70.000000\n",
      "1      surf    2018-08            0.000000          20.0        20.000000\n",
      "2      surf    2018-09            0.000000          20.0        20.000000\n",
      "3      surf    2018-10           68.161191          20.0        88.161191\n",
      "4      surf    2018-11           30.706055          20.0        50.706055\n",
      "Promedio de ingresos por plan y por mes:\n",
      "        plan year_month  base_revenue  total_extra_income\n",
      "20  ultimate    2018-09          70.0            1.812310\n",
      "14  ultimate    2018-03          70.0            3.392448\n",
      "7       surf    2018-08          20.0           41.008738\n",
      "0       surf    2018-01          20.0            0.000000\n",
      "19  ultimate    2018-08          70.0            2.680102\n"
     ]
    },
    {
     "data": {
      "image/png": "[encoded data removed]",
      "text/plain": [
       "<Figure size 1400x800 with 1 Axes>"
      ]
     },
     "metadata": {},
     "output_type": "display_data"
    }
   ],
   "source": [
    "\n",
    "#Visualización de la contribución de los ingresos extra\n",
    "\n",
    "# Calcular los ingresos extra totales\n",
    "df['total_extra_income'] = df['extra_minutes_cost'] + df['extra_messages_cost'] + df['extra_data_cost']\n",
    "\n",
    "# Crear columna de ingresos base\n",
    "df['base_revenue'] = df['monthly_revenue'] - df['total_extra_income']\n",
    "\n",
    "print(\"Ingresos extra totales y base:\")\n",
    "print(df[['plan', 'year_month', 'total_extra_income', 'base_revenue', 'monthly_revenue']].head())\n",
    "\n",
    "\n",
    "# Agrupar por plan y mes, y calcular promedios\n",
    "avg_income_per_plan_month = df.groupby(['plan', 'year_month'])[['base_revenue', 'total_extra_income']].mean().reset_index()\n",
    "\n",
    "print(\"Promedio de ingresos por plan y por mes:\")\n",
    "print(avg_income_per_plan_month.sample(5))\n",
    "\n",
    "# Configurar el gráfico\n",
    "plt.figure(figsize=(14, 8))\n",
    "\n",
    "# Crear gráfico de barras apiladas\n",
    "sns.barplot(data=avg_income_per_plan_month, x='year_month', y='base_revenue', hue='plan', ci=None, palette='muted')\n",
    "sns.barplot(data=avg_income_per_plan_month, x='year_month', y='total_extra_income', hue='plan', ci=None, palette='viridis', alpha=0.7)\n",
    "\n",
    "# Título y etiquetas del gráfico\n",
    "plt.title('Contribución de los Ingresos Extra a los Ingresos Totales por Plan y por Mes')\n",
    "plt.xlabel('Mes')\n",
    "plt.ylabel('Ingresos Promedio (USD)')\n",
    "plt.legend(title='Plan', bbox_to_anchor=(1.05, 1), loc='upper left')\n",
    "\n",
    "# Mostrar el gráfico\n",
    "plt.tight_layout()\n",
    "plt.show()\n"
   ]
  },
  {
   "cell_type": "markdown",
   "metadata": {},
   "source": [
    "Esta gráfica fue extra , quería saber que usuarios de que plan gastaban más en extras .\n",
    "Al parecer la tarifa que dá más ingresos extras es la SURF, de $20 USD que es su plan,  en promedio han terminado pagando 30, 40 hasta 50 usd, debido a los extras que deben de pagar.\n"
   ]
  },
  {
   "cell_type": "markdown",
   "metadata": {},
   "source": [
    "<div class=\"alert alert-block alert-warning\">\n",
    "<b>Comentario del revisor (1ra Iteracion)</b> <a class=“tocSkip”></a>\n",
    "\n",
    "Muy buen trabajo! Las gráficas mostradas son muy claras y añadiste tus conclusiones a partir de ellas\n",
    "</div>"
   ]
  },
  {
   "cell_type": "markdown",
   "metadata": {
    "id": "ajJ7VKeI0q1Q"
   },
   "source": [
    "## Prueba las hipótesis estadísticas"
   ]
  },
  {
   "cell_type": "markdown",
   "metadata": {
    "id": "AdXAZ-yL0q1Q"
   },
   "source": [
    "[Prueba la hipótesis de que son diferentes los ingresos promedio procedentes de los usuarios de los planes de llamada Ultimate y Surf.]"
   ]
  },
  {
   "cell_type": "markdown",
   "metadata": {
    "id": "IQwa_hsh0q1Q"
   },
   "source": [
    "[Elabora las hipótesis nula y alternativa, escoge la prueba estadística, determina el valor alfa.]\n",
    "\n",
    "RESPUESTA:\n",
    "Hipótesis nula H0: Los ingresos promedio de los usuarios de los planes de llamada Ultimate y Surf son iguales.\n",
    "Hipótesis alternativa H1: Los ingresos promedio de los usuarios de los planes de llamada Ultimate y Surf son diferentes.\n",
    "\n",
    "\n"
   ]
  },
  {
   "cell_type": "code",
   "execution_count": 43,
   "metadata": {
    "id": "nFoPNlPq0q1R"
   },
   "outputs": [
    {
     "name": "stdout",
     "output_type": "stream",
     "text": [
      "valor p: 1.341961045057078e-12\n",
      "Rechazamos la hipótesis nula: hay diferencias significativas en los ingresos promedio.\n"
     ]
    }
   ],
   "source": [
    "# Prueba las hipótesis\n",
    "\n",
    "from scipy import stats\n",
    "\n",
    "\n",
    "# Filtrar los datos para los dos planes\n",
    "ultimate = df[df['plan'] == 'ultimate']['monthly_revenue']\n",
    "surf = df[df['plan'] == 'surf']['monthly_revenue']\n",
    "\n",
    "results=stats.ttest_ind(ultimate, surf)\n",
    "\n",
    "#Interpretar el resultado\n",
    "\n",
    "\n",
    "print('valor p:',results.pvalue)\n",
    "\n",
    "# Determinar si rechazamos la hipótesis nula\n",
    "alpha = 0.05\n",
    "\n",
    "\n",
    "\n",
    "if results.pvalue < alpha:\n",
    "    print(\"Rechazamos la hipótesis nula: hay diferencias significativas en los ingresos promedio.\")\n",
    "else:\n",
    "    print(\"No podemos rechazar la hipótesis nula: no hay diferencias significativas en los ingresos promedio.\")\n",
    "\n",
    "\n",
    "#print(df.dtypes)\n",
    "#print(df.head(10))\n",
    "\n"
   ]
  },
  {
   "cell_type": "markdown",
   "metadata": {
    "id": "tCcAruM60q1R"
   },
   "source": [
    "[Prueba la hipótesis de que el ingreso promedio de los usuarios del área NY-NJ es diferente al de los usuarios de otras regiones.]"
   ]
  },
  {
   "cell_type": "markdown",
   "metadata": {
    "id": "LsBgitqj0q1R"
   },
   "source": [
    "[Elabora las hipótesis nula y alternativa, escoge la prueba estadística, determina el valor alfa.]"
   ]
  },
  {
   "cell_type": "code",
   "execution_count": 44,
   "metadata": {
    "id": "Cqcj7wrZ0q1S"
   },
   "outputs": [
    {
     "name": "stdout",
     "output_type": "stream",
     "text": [
      "Valor p: 0.08357992440588836\n",
      "No podemos rechazar la hipótesis nula: no hay diferencias significativas en los ingresos promedio.\n"
     ]
    }
   ],
   "source": [
    "# Prueba las hipótesis\n",
    "\n",
    "df_consumo = merged_consumo_with_plans\n",
    "df_users = users\n",
    "\n",
    "# Seleccionar las columnas necesarias de df_users\n",
    "df_users_selected = df_users[['user_id', 'city']]\n",
    "\n",
    "# Realizar el merge utilizando el campo user_id como clave\n",
    "df_merged = pd.merge(df_consumo, df_users_selected, on='user_id', how='left')\n",
    "\n",
    "# Filtrar los datos para el área NY-NJ y otras regiones\n",
    "ny_nj = df_merged[df_merged['city'].str.contains('NY|NJ', na=False)]['monthly_revenue']\n",
    "otras_regiones = df_merged[~df_merged['city'].str.contains('NY|NJ', na=False)]['monthly_revenue']\n",
    "\n",
    "# Verificar la presencia de NaN y eliminarlos\n",
    "ny_nj_clean = ny_nj.dropna()\n",
    "otras_regiones_clean = otras_regiones.dropna()\n",
    "\n",
    "# Realizar la prueba t para muestras independientes\n",
    "results = stats.ttest_ind(ny_nj_clean, otras_regiones_clean)\n",
    "\n",
    "# Interpretar el resultado\n",
    "print('Valor p:', results.pvalue)\n",
    "\n",
    "# Determinar si rechazamos la hipótesis nula\n",
    "alpha = 0.05\n",
    "\n",
    "if results.pvalue < alpha:\n",
    "    print(\"Rechazamos la hipótesis nula: hay diferencias significativas en los ingresos promedio.\")\n",
    "else:\n",
    "    print(\"No podemos rechazar la hipótesis nula: no hay diferencias significativas en los ingresos promedio.\")\n",
    "\n",
    "#print(ny_nj.unique())"
   ]
  },
  {
   "cell_type": "markdown",
   "metadata": {},
   "source": [
    "<div class=\"alert alert-block alert-success\">\n",
    "<b>Comentario del revisor (1ra Iteracion)</b> <a class=“tocSkip”></a>\n",
    "\n",
    "Excelente! Lo hiciste muy bien aplicando el test de hipótesis y agregando los mensajes a mostrarse según si se rechaza o no deja un notebook más claro para cuando alguien más lo revise. Pero cómo esto depende de los procesos anteriores te recomiendo revisarlos y volver a ejecutar esta sección\n",
    "</div>"
   ]
  },
  {
   "cell_type": "code",
   "execution_count": 45,
   "metadata": {},
   "outputs": [],
   "source": [
    "#print(ny_nj['city'].unique())"
   ]
  },
  {
   "cell_type": "markdown",
   "metadata": {
    "id": "bbTR8UQO0q1T"
   },
   "source": [
    "## Conclusión general\n",
    "\n",
    "[En esta sección final, enumera tus conclusiones importantes. Asegúrate de que estas abarquen todas las decisiones (suposiciones) importantes que adoptaste y que determinaron la forma elegida para procesar y analizar los datos.]"
   ]
  },
  {
   "cell_type": "markdown",
   "metadata": {},
   "source": [
    "La tarifa que más conviene comercializar es la de Surf ya que genera mas ingresos extras porque se exceden del plan, su contribución al negocio es más alta.\n",
    "\n"
   ]
  },
  {
   "cell_type": "markdown",
   "metadata": {},
   "source": [
    "<div class=\"alert alert-block alert-warning\">\n",
    "<b>Comentario general</b> <a class=“tocSkip”></a>\n",
    "    \n",
    "\n",
    "Vas por un buen camino Alejandra! Hay ciertos puntos donde hay oportunidad de mejora, te he dejado mis comentarios con algunas recomendaciones para tu próxima iteracion.\n",
    "<br>\n",
    "<br>\n",
    "Han sido pocos los puntos que he identificado pero son necesarios para que tu análisis esté completo. Pero has hecho un buen trabajo hasta este punto, te recomiendo ir describiendo un poco más lo que vas interpretando al final de cada sección para que el leer el proceso de tu análisis sea más fácil de llevar.\n",
    "<br>\n",
    "Se que tendrás mejores resultados en tu siguiente iteración.\n",
    "<br>\n",
    "Un saludo! 🦾\n",
    "</div>"
   ]
  },
  {
   "cell_type": "markdown",
   "metadata": {},
   "source": [
    "<div class=\"alert alert-block alert-success\">\n",
    "<b>Comentario general (2da Iteracion)</b> <a class=“tocSkip”></a>\n",
    "\n",
    "Buen trabajo realizando los cambios Alejandra! Con esto tu proyecto queda mejor presentado y con gráficas que complementar mejor tu análisis. Saludos!\n",
    "</div>"
   ]
  }
 ],
 "metadata": {
  "ExecuteTimeLog": [
   {
    "duration": 828,
    "start_time": "2021-11-16T09:21:11.304Z"
   },
   {
    "duration": 893,
    "start_time": "2021-11-16T09:21:17.728Z"
   },
   {
    "duration": 1150,
    "start_time": "2021-11-16T09:21:29.568Z"
   },
   {
    "duration": 3,
    "start_time": "2021-11-16T09:24:14.495Z"
   },
   {
    "duration": 120,
    "start_time": "2021-11-16T09:24:46.630Z"
   },
   {
    "duration": 3,
    "start_time": "2021-11-16T09:28:27.882Z"
   },
   {
    "duration": 4,
    "start_time": "2021-11-16T09:29:54.281Z"
   },
   {
    "duration": 3,
    "start_time": "2021-11-16T09:30:45.936Z"
   },
   {
    "duration": 4,
    "start_time": "2021-11-16T09:31:06.300Z"
   },
   {
    "duration": 113,
    "start_time": "2021-11-16T09:31:37.208Z"
   },
   {
    "duration": 143,
    "start_time": "2021-11-16T09:31:48.656Z"
   },
   {
    "duration": 98,
    "start_time": "2021-11-16T09:31:55.678Z"
   },
   {
    "duration": 3,
    "start_time": "2021-11-16T09:32:08.535Z"
   },
   {
    "duration": 111,
    "start_time": "2021-11-16T09:32:10.120Z"
   },
   {
    "duration": 3,
    "start_time": "2021-11-16T09:32:15.732Z"
   },
   {
    "duration": 4,
    "start_time": "2021-11-16T09:32:29.423Z"
   },
   {
    "duration": 3,
    "start_time": "2021-11-16T10:03:03.074Z"
   },
   {
    "duration": 3,
    "start_time": "2021-11-16T10:10:01.288Z"
   },
   {
    "duration": 3,
    "start_time": "2021-11-16T10:10:46.923Z"
   },
   {
    "duration": 121,
    "start_time": "2021-11-16T10:37:46.494Z"
   },
   {
    "duration": 125,
    "start_time": "2021-11-16T10:38:20.632Z"
   },
   {
    "duration": 112,
    "start_time": "2021-11-16T10:46:53.001Z"
   },
   {
    "duration": 110,
    "start_time": "2021-11-16T10:48:25.775Z"
   },
   {
    "duration": 3,
    "start_time": "2021-11-16T10:50:18.720Z"
   },
   {
    "duration": 4,
    "start_time": "2021-11-16T10:50:37.649Z"
   },
   {
    "duration": 2,
    "start_time": "2021-11-16T10:50:51.884Z"
   },
   {
    "duration": 3,
    "start_time": "2021-11-16T10:51:56.237Z"
   },
   {
    "duration": 101,
    "start_time": "2021-11-16T10:53:13.791Z"
   },
   {
    "duration": 3,
    "start_time": "2021-11-16T10:55:59.186Z"
   },
   {
    "duration": 3,
    "start_time": "2021-11-16T10:56:10.751Z"
   },
   {
    "duration": 3,
    "start_time": "2021-11-16T10:56:49.038Z"
   },
   {
    "duration": 3,
    "start_time": "2021-11-16T10:56:49.174Z"
   },
   {
    "duration": 4,
    "start_time": "2021-11-16T10:56:49.414Z"
   },
   {
    "duration": 3,
    "start_time": "2021-11-16T10:56:49.680Z"
   },
   {
    "duration": 3,
    "start_time": "2021-11-16T10:56:50.370Z"
   },
   {
    "duration": 114,
    "start_time": "2021-11-16T10:59:34.518Z"
   },
   {
    "duration": 3,
    "start_time": "2021-11-16T11:01:41.201Z"
   },
   {
    "duration": 116,
    "start_time": "2021-11-16T11:01:48.754Z"
   },
   {
    "duration": 3,
    "start_time": "2021-11-16T11:02:16.685Z"
   },
   {
    "duration": 3,
    "start_time": "2021-11-16T11:02:19.479Z"
   },
   {
    "duration": 3,
    "start_time": "2021-11-16T11:02:47.067Z"
   },
   {
    "duration": 3,
    "start_time": "2021-11-16T11:02:49.353Z"
   },
   {
    "duration": 3,
    "start_time": "2021-11-16T11:03:07.835Z"
   },
   {
    "duration": 3,
    "start_time": "2021-11-16T11:03:07.953Z"
   },
   {
    "duration": 112,
    "start_time": "2021-11-16T11:07:52.072Z"
   },
   {
    "duration": 187,
    "start_time": "2021-11-16T11:09:23.468Z"
   },
   {
    "duration": 4,
    "start_time": "2021-11-16T11:10:01.455Z"
   },
   {
    "duration": 3,
    "start_time": "2021-11-16T11:10:05.069Z"
   },
   {
    "duration": 4,
    "start_time": "2021-11-16T11:10:13.376Z"
   },
   {
    "duration": 3,
    "start_time": "2021-11-16T11:10:14.434Z"
   },
   {
    "duration": 3,
    "start_time": "2021-11-16T11:10:22.853Z"
   },
   {
    "duration": 4,
    "start_time": "2021-11-16T11:27:29.279Z"
   },
   {
    "duration": 4,
    "start_time": "2021-11-16T11:29:08.919Z"
   },
   {
    "duration": 118,
    "start_time": "2021-11-16T11:29:46.703Z"
   },
   {
    "duration": 437,
    "start_time": "2021-11-16T11:36:02.181Z"
   },
   {
    "duration": 157,
    "start_time": "2021-11-16T11:36:14.388Z"
   },
   {
    "duration": 207,
    "start_time": "2021-11-16T11:47:15.898Z"
   },
   {
    "duration": 3,
    "start_time": "2021-11-16T11:53:52.092Z"
   },
   {
    "duration": 3,
    "start_time": "2021-11-16T11:53:52.236Z"
   },
   {
    "duration": 3,
    "start_time": "2021-11-16T11:59:12.005Z"
   },
   {
    "duration": 112,
    "start_time": "2021-11-16T12:00:33.446Z"
   },
   {
    "duration": 3,
    "start_time": "2021-11-16T12:02:14.453Z"
   },
   {
    "duration": 3,
    "start_time": "2021-11-16T12:02:39.512Z"
   },
   {
    "duration": 106,
    "start_time": "2021-11-16T12:03:03.460Z"
   },
   {
    "duration": 3,
    "start_time": "2021-11-17T20:37:21.139Z"
   },
   {
    "duration": 3,
    "start_time": "2021-11-17T20:37:22.229Z"
   },
   {
    "duration": 3,
    "start_time": "2021-11-17T20:38:38.806Z"
   },
   {
    "duration": 3,
    "start_time": "2021-11-17T20:38:41.958Z"
   },
   {
    "duration": 3,
    "start_time": "2021-11-17T20:43:46.551Z"
   },
   {
    "duration": 4,
    "start_time": "2021-11-17T20:58:21.835Z"
   },
   {
    "duration": 3,
    "start_time": "2021-11-17T20:59:21.872Z"
   },
   {
    "duration": 4,
    "start_time": "2021-11-17T20:59:45.352Z"
   },
   {
    "duration": 4,
    "start_time": "2021-11-17T20:59:49.646Z"
   },
   {
    "duration": 159,
    "start_time": "2021-11-17T21:02:26.949Z"
   },
   {
    "duration": 3,
    "start_time": "2021-11-17T21:03:53.461Z"
   },
   {
    "duration": 3,
    "start_time": "2021-11-17T21:03:53.694Z"
   },
   {
    "duration": 3,
    "start_time": "2021-11-17T21:05:28.145Z"
   },
   {
    "duration": 116,
    "start_time": "2021-11-17T21:05:57.787Z"
   },
   {
    "duration": 3,
    "start_time": "2021-11-17T21:06:37.993Z"
   },
   {
    "duration": 3,
    "start_time": "2021-11-17T21:06:38.261Z"
   },
   {
    "duration": 3,
    "start_time": "2021-11-17T21:11:54.358Z"
   },
   {
    "duration": 3,
    "start_time": "2021-11-17T21:12:43.846Z"
   },
   {
    "duration": 4,
    "start_time": "2021-11-17T21:13:08.773Z"
   },
   {
    "duration": 3,
    "start_time": "2021-11-17T21:14:44.441Z"
   },
   {
    "duration": 3,
    "start_time": "2021-11-17T21:15:42.059Z"
   },
   {
    "duration": 4,
    "start_time": "2021-11-17T21:15:51.995Z"
   },
   {
    "duration": 3,
    "start_time": "2021-11-17T21:15:53.923Z"
   },
   {
    "duration": 3,
    "start_time": "2021-11-17T21:15:55.282Z"
   },
   {
    "duration": 3,
    "start_time": "2021-11-17T21:16:28.492Z"
   },
   {
    "duration": 3,
    "start_time": "2021-11-17T21:16:32.603Z"
   },
   {
    "duration": 3,
    "start_time": "2021-11-17T21:17:06.941Z"
   },
   {
    "duration": 98,
    "start_time": "2021-11-17T21:18:05.733Z"
   },
   {
    "duration": 4,
    "start_time": "2021-11-17T21:21:35.255Z"
   },
   {
    "duration": 3,
    "start_time": "2021-11-17T21:21:37.804Z"
   },
   {
    "duration": 4,
    "start_time": "2021-11-17T21:23:06.071Z"
   },
   {
    "duration": 3,
    "start_time": "2021-11-17T21:23:24.799Z"
   },
   {
    "duration": 3,
    "start_time": "2021-11-17T21:23:32.591Z"
   },
   {
    "duration": 98,
    "start_time": "2021-11-17T21:28:31.559Z"
   },
   {
    "duration": 3,
    "start_time": "2021-11-17T21:28:45.448Z"
   },
   {
    "duration": 3,
    "start_time": "2021-11-17T21:29:17.303Z"
   },
   {
    "duration": 3,
    "start_time": "2021-11-17T21:29:29.617Z"
   },
   {
    "duration": 3,
    "start_time": "2021-11-17T21:29:32.681Z"
   },
   {
    "duration": 3,
    "start_time": "2021-11-17T21:36:11.474Z"
   },
   {
    "duration": 3,
    "start_time": "2021-11-17T21:36:14.791Z"
   },
   {
    "duration": 3,
    "start_time": "2021-11-17T21:36:53.943Z"
   },
   {
    "duration": 3,
    "start_time": "2021-11-17T21:36:56.165Z"
   },
   {
    "duration": 4,
    "start_time": "2021-11-17T21:37:16.590Z"
   },
   {
    "duration": 3,
    "start_time": "2021-11-17T21:37:22.702Z"
   },
   {
    "duration": 4,
    "start_time": "2021-11-17T21:38:03.479Z"
   },
   {
    "duration": 3,
    "start_time": "2021-11-17T21:38:08.601Z"
   },
   {
    "duration": 3,
    "start_time": "2021-11-17T21:38:12.928Z"
   },
   {
    "duration": 3,
    "start_time": "2021-11-17T21:38:48.896Z"
   },
   {
    "duration": 2,
    "start_time": "2021-11-17T21:38:49.171Z"
   },
   {
    "duration": 4,
    "start_time": "2021-11-17T21:39:57.889Z"
   },
   {
    "duration": 3,
    "start_time": "2021-11-17T21:39:58.057Z"
   },
   {
    "duration": 3,
    "start_time": "2021-11-17T21:41:20.108Z"
   },
   {
    "duration": 3,
    "start_time": "2021-11-17T21:41:20.629Z"
   },
   {
    "duration": 3,
    "start_time": "2021-11-17T21:42:49.136Z"
   },
   {
    "duration": 3,
    "start_time": "2021-11-17T21:43:15.137Z"
   },
   {
    "duration": 4,
    "start_time": "2021-11-17T21:43:16.766Z"
   },
   {
    "duration": 4,
    "start_time": "2021-11-17T21:43:31.711Z"
   },
   {
    "duration": 3,
    "start_time": "2021-11-17T21:43:36.312Z"
   },
   {
    "duration": 4,
    "start_time": "2021-11-17T21:45:08.825Z"
   },
   {
    "duration": 4,
    "start_time": "2021-11-17T21:45:10.119Z"
   },
   {
    "duration": 4,
    "start_time": "2021-11-17T21:45:13.748Z"
   },
   {
    "duration": 3,
    "start_time": "2021-11-17T21:45:22.219Z"
   },
   {
    "duration": 3,
    "start_time": "2021-11-17T21:45:33.412Z"
   },
   {
    "duration": 2,
    "start_time": "2021-11-17T21:46:01.885Z"
   },
   {
    "duration": 3,
    "start_time": "2021-11-17T21:46:03.628Z"
   },
   {
    "duration": 107,
    "start_time": "2021-11-17T21:47:32.512Z"
   },
   {
    "duration": 103,
    "start_time": "2021-11-17T21:50:36.243Z"
   },
   {
    "duration": 3,
    "start_time": "2021-11-18T06:28:31.440Z"
   },
   {
    "duration": 3,
    "start_time": "2021-11-18T06:29:00.168Z"
   },
   {
    "duration": 3,
    "start_time": "2021-11-18T06:31:27.008Z"
   },
   {
    "duration": 2,
    "start_time": "2021-11-18T06:35:34.288Z"
   },
   {
    "duration": 2,
    "start_time": "2021-11-18T06:38:04.527Z"
   },
   {
    "duration": 5343,
    "start_time": "2024-06-10T00:29:34.099Z"
   },
   {
    "duration": 382,
    "start_time": "2024-06-10T00:29:46.244Z"
   },
   {
    "duration": 16,
    "start_time": "2024-06-10T00:29:54.260Z"
   },
   {
    "duration": 22,
    "start_time": "2024-06-10T00:31:15.904Z"
   },
   {
    "duration": 934,
    "start_time": "2024-06-10T00:52:19.499Z"
   },
   {
    "duration": 45,
    "start_time": "2024-06-10T00:53:04.267Z"
   },
   {
    "duration": 47,
    "start_time": "2024-06-10T00:53:11.158Z"
   },
   {
    "duration": 10,
    "start_time": "2024-06-10T00:53:30.727Z"
   },
   {
    "duration": 16,
    "start_time": "2024-06-10T01:17:16.750Z"
   },
   {
    "duration": 10,
    "start_time": "2024-06-10T01:25:40.973Z"
   },
   {
    "duration": 13,
    "start_time": "2024-06-10T02:15:33.760Z"
   },
   {
    "duration": 15,
    "start_time": "2024-06-10T02:15:56.647Z"
   },
   {
    "duration": 27,
    "start_time": "2024-06-10T02:41:40.993Z"
   },
   {
    "duration": 28,
    "start_time": "2024-06-10T02:41:56.748Z"
   },
   {
    "duration": 29,
    "start_time": "2024-06-10T02:42:28.919Z"
   },
   {
    "duration": 29,
    "start_time": "2024-06-10T02:42:55.814Z"
   },
   {
    "duration": 15,
    "start_time": "2024-06-10T02:43:16.101Z"
   },
   {
    "duration": 11,
    "start_time": "2024-06-10T02:59:39.670Z"
   },
   {
    "duration": 10,
    "start_time": "2024-06-10T02:59:40.597Z"
   },
   {
    "duration": 11,
    "start_time": "2024-06-10T03:00:27.174Z"
   },
   {
    "duration": 20,
    "start_time": "2024-06-10T03:03:53.926Z"
   },
   {
    "duration": 26,
    "start_time": "2024-06-10T03:04:33.765Z"
   },
   {
    "duration": 12,
    "start_time": "2024-06-10T03:28:40.050Z"
   },
   {
    "duration": 25,
    "start_time": "2024-06-10T03:31:53.864Z"
   },
   {
    "duration": 11,
    "start_time": "2024-06-10T03:32:02.851Z"
   },
   {
    "duration": 12,
    "start_time": "2024-06-10T03:38:25.924Z"
   },
   {
    "duration": 24,
    "start_time": "2024-06-10T03:47:23.982Z"
   },
   {
    "duration": 12,
    "start_time": "2024-06-10T03:47:35.879Z"
   },
   {
    "duration": 24,
    "start_time": "2024-06-10T03:48:23.082Z"
   },
   {
    "duration": 11,
    "start_time": "2024-06-10T03:48:36.925Z"
   },
   {
    "duration": 12,
    "start_time": "2024-06-10T03:49:10.881Z"
   },
   {
    "duration": 24,
    "start_time": "2024-06-10T03:52:14.231Z"
   },
   {
    "duration": 13,
    "start_time": "2024-06-10T03:52:23.230Z"
   },
   {
    "duration": 20,
    "start_time": "2024-06-10T03:57:59.942Z"
   },
   {
    "duration": 28,
    "start_time": "2024-06-10T04:07:55.939Z"
   },
   {
    "duration": 26,
    "start_time": "2024-06-10T04:36:10.447Z"
   },
   {
    "duration": 12,
    "start_time": "2024-06-10T04:36:29.253Z"
   },
   {
    "duration": 11,
    "start_time": "2024-06-10T04:36:45.465Z"
   },
   {
    "duration": 41,
    "start_time": "2024-06-10T04:54:43.377Z"
   },
   {
    "duration": 35,
    "start_time": "2024-06-10T04:56:47.248Z"
   },
   {
    "duration": 150,
    "start_time": "2024-06-10T04:57:07.715Z"
   },
   {
    "duration": 12,
    "start_time": "2024-06-10T04:57:20.023Z"
   },
   {
    "duration": 40,
    "start_time": "2024-06-10T04:57:27.497Z"
   },
   {
    "duration": 28,
    "start_time": "2024-06-10T05:00:58.731Z"
   },
   {
    "duration": 31,
    "start_time": "2024-06-10T05:07:09.459Z"
   },
   {
    "duration": 310,
    "start_time": "2024-06-11T00:54:34.109Z"
   },
   {
    "duration": 5,
    "start_time": "2024-06-11T00:56:16.048Z"
   },
   {
    "duration": 363,
    "start_time": "2024-06-11T00:56:18.271Z"
   },
   {
    "duration": 24,
    "start_time": "2024-06-11T00:56:23.034Z"
   },
   {
    "duration": 10,
    "start_time": "2024-06-11T00:56:28.699Z"
   },
   {
    "duration": 27,
    "start_time": "2024-06-11T00:56:35.004Z"
   },
   {
    "duration": 21,
    "start_time": "2024-06-11T00:56:48.031Z"
   },
   {
    "duration": 149,
    "start_time": "2024-06-11T00:57:02.524Z"
   },
   {
    "duration": 11,
    "start_time": "2024-06-11T00:57:09.776Z"
   },
   {
    "duration": 53,
    "start_time": "2024-06-11T00:57:17.999Z"
   },
   {
    "duration": 19,
    "start_time": "2024-06-11T00:57:26.654Z"
   },
   {
    "duration": 12,
    "start_time": "2024-06-11T00:58:39.270Z"
   },
   {
    "duration": 7,
    "start_time": "2024-06-11T00:59:55.710Z"
   },
   {
    "duration": 8,
    "start_time": "2024-06-11T01:00:40.127Z"
   },
   {
    "duration": 8,
    "start_time": "2024-06-11T01:00:46.264Z"
   },
   {
    "duration": 11,
    "start_time": "2024-06-11T01:01:03.006Z"
   },
   {
    "duration": 5152,
    "start_time": "2024-06-11T11:39:46.118Z"
   },
   {
    "duration": 382,
    "start_time": "2024-06-11T11:39:51.275Z"
   },
   {
    "duration": 23,
    "start_time": "2024-06-11T11:39:51.661Z"
   },
   {
    "duration": 10,
    "start_time": "2024-06-11T11:39:51.688Z"
   },
   {
    "duration": 24,
    "start_time": "2024-06-11T11:39:51.725Z"
   },
   {
    "duration": 23,
    "start_time": "2024-06-11T11:39:51.752Z"
   },
   {
    "duration": 184,
    "start_time": "2024-06-11T11:39:51.778Z"
   },
   {
    "duration": 13,
    "start_time": "2024-06-11T11:39:51.966Z"
   },
   {
    "duration": 79,
    "start_time": "2024-06-11T11:39:51.983Z"
   },
   {
    "duration": 25,
    "start_time": "2024-06-11T11:39:52.069Z"
   },
   {
    "duration": 12,
    "start_time": "2024-06-11T11:39:52.124Z"
   },
   {
    "duration": 32,
    "start_time": "2024-06-11T11:39:58.854Z"
   },
   {
    "duration": 24,
    "start_time": "2024-06-11T11:40:34.909Z"
   },
   {
    "duration": 10,
    "start_time": "2024-06-11T11:41:00.165Z"
   },
   {
    "duration": 1242,
    "start_time": "2024-06-11T11:44:13.491Z"
   },
   {
    "duration": 83,
    "start_time": "2024-06-11T11:44:17.388Z"
   },
   {
    "duration": 41,
    "start_time": "2024-06-11T11:44:49.800Z"
   },
   {
    "duration": 19,
    "start_time": "2024-06-11T11:53:52.469Z"
   },
   {
    "duration": 7,
    "start_time": "2024-06-11T11:54:25.031Z"
   },
   {
    "duration": 19,
    "start_time": "2024-06-11T11:54:47.144Z"
   },
   {
    "duration": 32,
    "start_time": "2024-06-11T14:54:27.012Z"
   },
   {
    "duration": 60,
    "start_time": "2024-06-11T14:54:58.226Z"
   },
   {
    "duration": 23,
    "start_time": "2024-06-11T14:55:11.089Z"
   },
   {
    "duration": 27,
    "start_time": "2024-06-11T14:55:36.573Z"
   },
   {
    "duration": 95,
    "start_time": "2024-06-11T14:56:07.176Z"
   },
   {
    "duration": 109,
    "start_time": "2024-06-11T14:56:57.174Z"
   },
   {
    "duration": 22,
    "start_time": "2024-06-11T15:00:29.254Z"
   },
   {
    "duration": 19,
    "start_time": "2024-06-11T15:00:43.247Z"
   },
   {
    "duration": 418,
    "start_time": "2024-06-11T16:35:40.230Z"
   },
   {
    "duration": 433,
    "start_time": "2024-06-11T16:37:18.799Z"
   },
   {
    "duration": 146,
    "start_time": "2024-06-11T16:38:48.659Z"
   },
   {
    "duration": 207,
    "start_time": "2024-06-11T16:39:10.502Z"
   },
   {
    "duration": 45,
    "start_time": "2024-06-11T16:49:14.256Z"
   },
   {
    "duration": 468,
    "start_time": "2024-06-11T16:51:15.471Z"
   },
   {
    "duration": 106,
    "start_time": "2024-06-11T16:51:37.917Z"
   },
   {
    "duration": 5,
    "start_time": "2024-06-11T16:51:54.184Z"
   },
   {
    "duration": 342,
    "start_time": "2024-06-11T16:51:54.198Z"
   },
   {
    "duration": 22,
    "start_time": "2024-06-11T16:51:54.544Z"
   },
   {
    "duration": 12,
    "start_time": "2024-06-11T16:51:54.570Z"
   },
   {
    "duration": 59,
    "start_time": "2024-06-11T16:51:54.587Z"
   },
   {
    "duration": 29,
    "start_time": "2024-06-11T16:51:54.652Z"
   },
   {
    "duration": 203,
    "start_time": "2024-06-11T16:51:54.686Z"
   },
   {
    "duration": 19,
    "start_time": "2024-06-11T16:51:54.893Z"
   },
   {
    "duration": 49,
    "start_time": "2024-06-11T16:51:54.925Z"
   },
   {
    "duration": 37,
    "start_time": "2024-06-11T16:51:54.996Z"
   },
   {
    "duration": 27,
    "start_time": "2024-06-11T16:51:55.038Z"
   },
   {
    "duration": 14,
    "start_time": "2024-06-11T16:51:55.069Z"
   },
   {
    "duration": 35,
    "start_time": "2024-06-11T16:51:55.124Z"
   },
   {
    "duration": 60,
    "start_time": "2024-06-11T16:51:55.164Z"
   },
   {
    "duration": 11,
    "start_time": "2024-06-11T16:51:55.228Z"
   },
   {
    "duration": 40,
    "start_time": "2024-06-11T16:51:55.293Z"
   },
   {
    "duration": 25,
    "start_time": "2024-06-11T16:51:55.484Z"
   },
   {
    "duration": 30,
    "start_time": "2024-06-11T16:52:02.880Z"
   },
   {
    "duration": 23,
    "start_time": "2024-06-11T16:52:09.877Z"
   },
   {
    "duration": 48,
    "start_time": "2024-06-11T16:55:05.253Z"
   },
   {
    "duration": 33,
    "start_time": "2024-06-11T16:55:51.215Z"
   },
   {
    "duration": 23,
    "start_time": "2024-06-11T16:56:00.475Z"
   },
   {
    "duration": 29,
    "start_time": "2024-06-11T16:57:12.182Z"
   },
   {
    "duration": 27,
    "start_time": "2024-06-11T17:00:15.843Z"
   },
   {
    "duration": 26,
    "start_time": "2024-06-11T17:03:07.150Z"
   },
   {
    "duration": 36,
    "start_time": "2024-06-11T17:05:16.780Z"
   },
   {
    "duration": 43,
    "start_time": "2024-06-11T17:05:30.949Z"
   },
   {
    "duration": 42,
    "start_time": "2024-06-11T17:05:37.409Z"
   },
   {
    "duration": 21,
    "start_time": "2024-06-11T17:05:55.649Z"
   },
   {
    "duration": 108,
    "start_time": "2024-06-11T17:11:40.093Z"
   },
   {
    "duration": 23,
    "start_time": "2024-06-11T17:13:35.791Z"
   },
   {
    "duration": 19,
    "start_time": "2024-06-11T17:14:00.243Z"
   },
   {
    "duration": 325,
    "start_time": "2024-06-12T16:15:58.556Z"
   },
   {
    "duration": 24,
    "start_time": "2024-06-12T16:16:25.269Z"
   },
   {
    "duration": 21,
    "start_time": "2024-06-12T16:17:09.620Z"
   },
   {
    "duration": 4851,
    "start_time": "2024-06-12T16:17:33.476Z"
   },
   {
    "duration": 350,
    "start_time": "2024-06-12T16:17:38.332Z"
   },
   {
    "duration": 22,
    "start_time": "2024-06-12T16:17:38.686Z"
   },
   {
    "duration": 9,
    "start_time": "2024-06-12T16:17:38.712Z"
   },
   {
    "duration": 25,
    "start_time": "2024-06-12T16:17:38.724Z"
   },
   {
    "duration": 20,
    "start_time": "2024-06-12T16:17:38.752Z"
   },
   {
    "duration": 148,
    "start_time": "2024-06-12T16:17:38.806Z"
   },
   {
    "duration": 11,
    "start_time": "2024-06-12T16:17:38.957Z"
   },
   {
    "duration": 66,
    "start_time": "2024-06-12T16:17:38.972Z"
   },
   {
    "duration": 28,
    "start_time": "2024-06-12T16:17:39.046Z"
   },
   {
    "duration": 43,
    "start_time": "2024-06-12T16:17:39.077Z"
   },
   {
    "duration": 9,
    "start_time": "2024-06-12T16:17:39.123Z"
   },
   {
    "duration": 31,
    "start_time": "2024-06-12T16:17:39.136Z"
   },
   {
    "duration": 48,
    "start_time": "2024-06-12T16:17:39.170Z"
   },
   {
    "duration": 23,
    "start_time": "2024-06-12T16:17:39.221Z"
   },
   {
    "duration": 8,
    "start_time": "2024-06-12T16:17:39.247Z"
   },
   {
    "duration": 74,
    "start_time": "2024-06-12T16:17:39.258Z"
   },
   {
    "duration": 22,
    "start_time": "2024-06-12T16:17:39.335Z"
   },
   {
    "duration": 46,
    "start_time": "2024-06-12T16:17:39.360Z"
   },
   {
    "duration": 21,
    "start_time": "2024-06-12T16:17:39.409Z"
   },
   {
    "duration": 21,
    "start_time": "2024-06-12T16:17:39.433Z"
   },
   {
    "duration": 49,
    "start_time": "2024-06-12T16:17:39.457Z"
   },
   {
    "duration": 16,
    "start_time": "2024-06-12T16:17:39.509Z"
   },
   {
    "duration": 28,
    "start_time": "2024-06-12T16:17:39.528Z"
   },
   {
    "duration": 64,
    "start_time": "2024-06-12T16:17:39.559Z"
   },
   {
    "duration": 47,
    "start_time": "2024-06-12T16:17:39.625Z"
   },
   {
    "duration": 766,
    "start_time": "2024-06-12T16:17:39.674Z"
   },
   {
    "duration": 481,
    "start_time": "2024-06-12T16:17:40.446Z"
   },
   {
    "duration": 12,
    "start_time": "2024-06-12T16:17:40.931Z"
   },
   {
    "duration": 643,
    "start_time": "2024-06-12T16:17:40.946Z"
   },
   {
    "duration": 10,
    "start_time": "2024-06-12T16:17:46.855Z"
   },
   {
    "duration": 123,
    "start_time": "2024-06-12T16:30:23.712Z"
   },
   {
    "duration": 27,
    "start_time": "2024-06-12T16:31:01.353Z"
   },
   {
    "duration": 15,
    "start_time": "2024-06-12T16:31:12.742Z"
   },
   {
    "duration": 20,
    "start_time": "2024-06-12T16:32:04.900Z"
   },
   {
    "duration": 18,
    "start_time": "2024-06-12T16:32:31.611Z"
   },
   {
    "duration": 15,
    "start_time": "2024-06-12T16:33:00.029Z"
   },
   {
    "duration": 12,
    "start_time": "2024-06-12T16:35:26.773Z"
   },
   {
    "duration": 395,
    "start_time": "2024-06-12T16:38:25.473Z"
   },
   {
    "duration": 620,
    "start_time": "2024-06-12T16:44:51.138Z"
   },
   {
    "duration": 26,
    "start_time": "2024-06-12T17:09:37.032Z"
   },
   {
    "duration": 14,
    "start_time": "2024-06-12T17:09:56.645Z"
   },
   {
    "duration": 651,
    "start_time": "2024-06-12T17:11:41.658Z"
   },
   {
    "duration": 639,
    "start_time": "2024-06-12T17:27:23.762Z"
   },
   {
    "duration": 15,
    "start_time": "2024-06-12T17:34:31.318Z"
   },
   {
    "duration": 423,
    "start_time": "2024-06-12T17:35:30.347Z"
   },
   {
    "duration": 337,
    "start_time": "2024-06-12T17:35:41.841Z"
   },
   {
    "duration": 271,
    "start_time": "2024-06-12T17:42:23.413Z"
   },
   {
    "duration": 5,
    "start_time": "2024-06-12T17:53:17.809Z"
   },
   {
    "duration": 19,
    "start_time": "2024-06-12T17:54:13.899Z"
   },
   {
    "duration": 18,
    "start_time": "2024-06-12T18:01:47.772Z"
   },
   {
    "duration": 721,
    "start_time": "2024-06-12T18:02:25.986Z"
   },
   {
    "duration": 3,
    "start_time": "2024-06-12T18:05:18.630Z"
   },
   {
    "duration": 19,
    "start_time": "2024-06-12T18:13:42.044Z"
   },
   {
    "duration": 3,
    "start_time": "2024-06-12T18:28:10.796Z"
   },
   {
    "duration": 10,
    "start_time": "2024-06-12T18:28:38.677Z"
   },
   {
    "duration": 12,
    "start_time": "2024-06-12T18:29:39.213Z"
   },
   {
    "duration": 652,
    "start_time": "2024-06-12T18:32:11.986Z"
   },
   {
    "duration": 91,
    "start_time": "2024-06-12T18:47:47.403Z"
   },
   {
    "duration": 4,
    "start_time": "2024-06-12T18:48:38.994Z"
   },
   {
    "duration": 270,
    "start_time": "2024-06-12T18:48:39.012Z"
   },
   {
    "duration": 23,
    "start_time": "2024-06-12T18:48:39.286Z"
   },
   {
    "duration": 8,
    "start_time": "2024-06-12T18:48:39.312Z"
   },
   {
    "duration": 22,
    "start_time": "2024-06-12T18:48:39.325Z"
   },
   {
    "duration": 56,
    "start_time": "2024-06-12T18:48:39.350Z"
   },
   {
    "duration": 156,
    "start_time": "2024-06-12T18:48:39.408Z"
   },
   {
    "duration": 11,
    "start_time": "2024-06-12T18:48:39.569Z"
   },
   {
    "duration": 54,
    "start_time": "2024-06-12T18:48:39.586Z"
   },
   {
    "duration": 26,
    "start_time": "2024-06-12T18:48:39.643Z"
   },
   {
    "duration": 24,
    "start_time": "2024-06-12T18:48:39.706Z"
   },
   {
    "duration": 10,
    "start_time": "2024-06-12T18:48:39.733Z"
   },
   {
    "duration": 64,
    "start_time": "2024-06-12T18:48:39.746Z"
   },
   {
    "duration": 15,
    "start_time": "2024-06-12T18:48:39.813Z"
   },
   {
    "duration": 23,
    "start_time": "2024-06-12T18:48:39.831Z"
   },
   {
    "duration": 8,
    "start_time": "2024-06-12T18:48:39.858Z"
   },
   {
    "duration": 35,
    "start_time": "2024-06-12T18:48:39.908Z"
   },
   {
    "duration": 20,
    "start_time": "2024-06-12T18:48:39.946Z"
   },
   {
    "duration": 46,
    "start_time": "2024-06-12T18:48:39.969Z"
   },
   {
    "duration": 17,
    "start_time": "2024-06-12T18:48:40.020Z"
   },
   {
    "duration": 20,
    "start_time": "2024-06-12T18:48:40.039Z"
   },
   {
    "duration": 50,
    "start_time": "2024-06-12T18:48:40.061Z"
   },
   {
    "duration": 18,
    "start_time": "2024-06-12T18:48:40.114Z"
   },
   {
    "duration": 27,
    "start_time": "2024-06-12T18:48:40.135Z"
   },
   {
    "duration": 60,
    "start_time": "2024-06-12T18:48:40.165Z"
   },
   {
    "duration": 46,
    "start_time": "2024-06-12T18:48:40.228Z"
   },
   {
    "duration": 650,
    "start_time": "2024-06-12T18:48:40.276Z"
   },
   {
    "duration": 447,
    "start_time": "2024-06-12T18:48:40.929Z"
   },
   {
    "duration": 13,
    "start_time": "2024-06-12T18:48:41.379Z"
   },
   {
    "duration": 685,
    "start_time": "2024-06-12T18:48:41.407Z"
   },
   {
    "duration": 615,
    "start_time": "2024-06-12T18:48:42.095Z"
   },
   {
    "duration": 11,
    "start_time": "2024-06-12T18:48:42.713Z"
   },
   {
    "duration": 436,
    "start_time": "2024-06-12T18:48:42.727Z"
   },
   {
    "duration": 16,
    "start_time": "2024-06-12T18:48:43.171Z"
   },
   {
    "duration": 638,
    "start_time": "2024-06-12T18:48:43.206Z"
   },
   {
    "duration": 14,
    "start_time": "2024-06-12T18:48:43.847Z"
   },
   {
    "duration": 772,
    "start_time": "2024-06-12T18:48:43.864Z"
   },
   {
    "duration": 3,
    "start_time": "2024-06-12T18:48:44.639Z"
   },
   {
    "duration": 12,
    "start_time": "2024-06-12T18:48:44.645Z"
   },
   {
    "duration": 17,
    "start_time": "2024-06-12T18:48:44.660Z"
   },
   {
    "duration": 198,
    "start_time": "2024-06-12T18:49:11.114Z"
   },
   {
    "duration": 90,
    "start_time": "2024-06-12T18:50:06.319Z"
   },
   {
    "duration": 3,
    "start_time": "2024-06-12T18:50:28.058Z"
   },
   {
    "duration": 17,
    "start_time": "2024-06-12T18:50:38.645Z"
   },
   {
    "duration": 678,
    "start_time": "2024-06-12T18:57:18.675Z"
   },
   {
    "duration": 712,
    "start_time": "2024-06-12T19:22:33.686Z"
   },
   {
    "duration": 15,
    "start_time": "2024-06-12T19:23:07.550Z"
   },
   {
    "duration": 12,
    "start_time": "2024-06-12T19:48:56.139Z"
   },
   {
    "duration": 4,
    "start_time": "2024-06-12T19:51:18.133Z"
   },
   {
    "duration": 271,
    "start_time": "2024-06-12T19:51:18.155Z"
   },
   {
    "duration": 18,
    "start_time": "2024-06-12T19:51:18.429Z"
   },
   {
    "duration": 8,
    "start_time": "2024-06-12T19:51:18.451Z"
   },
   {
    "duration": 53,
    "start_time": "2024-06-12T19:51:18.465Z"
   },
   {
    "duration": 23,
    "start_time": "2024-06-12T19:51:18.521Z"
   },
   {
    "duration": 186,
    "start_time": "2024-06-12T19:51:18.548Z"
   },
   {
    "duration": 11,
    "start_time": "2024-06-12T19:51:18.737Z"
   },
   {
    "duration": 67,
    "start_time": "2024-06-12T19:51:18.751Z"
   },
   {
    "duration": 48,
    "start_time": "2024-06-12T19:51:18.823Z"
   },
   {
    "duration": 57,
    "start_time": "2024-06-12T19:51:18.878Z"
   },
   {
    "duration": 11,
    "start_time": "2024-06-12T19:51:18.938Z"
   },
   {
    "duration": 88,
    "start_time": "2024-06-12T19:51:18.953Z"
   },
   {
    "duration": 26,
    "start_time": "2024-06-12T19:51:19.048Z"
   },
   {
    "duration": 77,
    "start_time": "2024-06-12T19:51:19.078Z"
   },
   {
    "duration": 12,
    "start_time": "2024-06-12T19:51:19.160Z"
   },
   {
    "duration": 66,
    "start_time": "2024-06-12T19:51:19.178Z"
   },
   {
    "duration": 28,
    "start_time": "2024-06-12T19:51:19.250Z"
   },
   {
    "duration": 22,
    "start_time": "2024-06-12T19:51:19.307Z"
   },
   {
    "duration": 20,
    "start_time": "2024-06-12T19:51:19.333Z"
   },
   {
    "duration": 18,
    "start_time": "2024-06-12T19:51:19.356Z"
   },
   {
    "duration": 15,
    "start_time": "2024-06-12T19:51:19.406Z"
   },
   {
    "duration": 18,
    "start_time": "2024-06-12T19:51:19.424Z"
   },
   {
    "duration": 70,
    "start_time": "2024-06-12T19:51:19.445Z"
   },
   {
    "duration": 27,
    "start_time": "2024-06-12T19:51:19.518Z"
   },
   {
    "duration": 85,
    "start_time": "2024-06-12T19:51:19.548Z"
   },
   {
    "duration": 729,
    "start_time": "2024-06-12T19:51:19.636Z"
   },
   {
    "duration": 482,
    "start_time": "2024-06-12T19:51:20.372Z"
   },
   {
    "duration": 15,
    "start_time": "2024-06-12T19:51:20.858Z"
   },
   {
    "duration": 830,
    "start_time": "2024-06-12T19:51:20.877Z"
   },
   {
    "duration": 734,
    "start_time": "2024-06-12T19:51:21.711Z"
   },
   {
    "duration": 13,
    "start_time": "2024-06-12T19:51:22.453Z"
   },
   {
    "duration": 417,
    "start_time": "2024-06-12T19:51:22.470Z"
   },
   {
    "duration": 26,
    "start_time": "2024-06-12T19:51:22.890Z"
   },
   {
    "duration": 710,
    "start_time": "2024-06-12T19:51:22.919Z"
   },
   {
    "duration": 21,
    "start_time": "2024-06-12T19:51:23.633Z"
   },
   {
    "duration": 754,
    "start_time": "2024-06-12T19:51:23.666Z"
   },
   {
    "duration": 22,
    "start_time": "2024-06-12T19:51:24.423Z"
   },
   {
    "duration": 12,
    "start_time": "2024-06-12T19:51:24.448Z"
   },
   {
    "duration": 50,
    "start_time": "2024-06-12T19:51:24.463Z"
   },
   {
    "duration": 763,
    "start_time": "2024-06-12T19:51:24.517Z"
   },
   {
    "duration": 10,
    "start_time": "2024-06-12T19:56:37.576Z"
   },
   {
    "duration": 8,
    "start_time": "2024-06-12T19:59:57.748Z"
   },
   {
    "duration": 33,
    "start_time": "2024-06-12T20:05:28.569Z"
   },
   {
    "duration": 9,
    "start_time": "2024-06-12T20:06:10.148Z"
   },
   {
    "duration": 12,
    "start_time": "2024-06-12T20:09:05.163Z"
   },
   {
    "duration": 25,
    "start_time": "2024-06-12T20:09:41.815Z"
   },
   {
    "duration": 26,
    "start_time": "2024-06-12T20:11:24.128Z"
   },
   {
    "duration": 26,
    "start_time": "2024-06-12T22:20:45.366Z"
   },
   {
    "duration": 12,
    "start_time": "2024-06-12T22:22:18.907Z"
   },
   {
    "duration": 12,
    "start_time": "2024-06-12T22:22:39.892Z"
   },
   {
    "duration": 47,
    "start_time": "2024-06-12T22:28:20.655Z"
   },
   {
    "duration": 27,
    "start_time": "2024-06-12T22:29:11.443Z"
   },
   {
    "duration": 31,
    "start_time": "2024-06-12T22:35:29.994Z"
   },
   {
    "duration": 24,
    "start_time": "2024-06-12T22:36:06.836Z"
   },
   {
    "duration": 31,
    "start_time": "2024-06-12T22:42:23.552Z"
   },
   {
    "duration": 22,
    "start_time": "2024-06-12T22:43:07.721Z"
   },
   {
    "duration": 8,
    "start_time": "2024-06-12T22:44:37.087Z"
   },
   {
    "duration": 666,
    "start_time": "2024-06-12T22:48:20.017Z"
   },
   {
    "duration": 39,
    "start_time": "2024-06-12T22:50:19.628Z"
   },
   {
    "duration": 26,
    "start_time": "2024-06-12T22:52:27.035Z"
   },
   {
    "duration": 30,
    "start_time": "2024-06-12T22:53:34.741Z"
   },
   {
    "duration": 23,
    "start_time": "2024-06-12T22:55:32.685Z"
   },
   {
    "duration": 23,
    "start_time": "2024-06-12T22:56:10.829Z"
   },
   {
    "duration": 24,
    "start_time": "2024-06-12T22:56:20.427Z"
   },
   {
    "duration": 22,
    "start_time": "2024-06-12T22:58:13.019Z"
   },
   {
    "duration": 23,
    "start_time": "2024-06-12T22:58:21.837Z"
   },
   {
    "duration": 7,
    "start_time": "2024-06-12T22:59:10.711Z"
   },
   {
    "duration": 272,
    "start_time": "2024-06-12T23:00:33.759Z"
   },
   {
    "duration": 81,
    "start_time": "2024-06-12T23:00:35.027Z"
   },
   {
    "duration": 79,
    "start_time": "2024-06-12T23:00:37.144Z"
   },
   {
    "duration": 28,
    "start_time": "2024-06-12T23:01:47.256Z"
   },
   {
    "duration": 31,
    "start_time": "2024-06-12T23:06:02.513Z"
   },
   {
    "duration": 28,
    "start_time": "2024-06-12T23:07:14.486Z"
   },
   {
    "duration": 81,
    "start_time": "2024-06-12T23:07:28.948Z"
   },
   {
    "duration": 25,
    "start_time": "2024-06-12T23:07:47.428Z"
   },
   {
    "duration": 4,
    "start_time": "2024-06-12T23:08:00.537Z"
   },
   {
    "duration": 29,
    "start_time": "2024-06-12T23:08:40.229Z"
   },
   {
    "duration": 25,
    "start_time": "2024-06-13T04:13:19.699Z"
   },
   {
    "duration": 4999,
    "start_time": "2024-06-14T03:39:01.820Z"
   },
   {
    "duration": 360,
    "start_time": "2024-06-14T03:39:06.822Z"
   },
   {
    "duration": 22,
    "start_time": "2024-06-14T03:39:07.186Z"
   },
   {
    "duration": 17,
    "start_time": "2024-06-14T03:39:07.212Z"
   },
   {
    "duration": 25,
    "start_time": "2024-06-14T03:39:07.233Z"
   },
   {
    "duration": 21,
    "start_time": "2024-06-14T03:39:07.260Z"
   },
   {
    "duration": 184,
    "start_time": "2024-06-14T03:39:07.285Z"
   },
   {
    "duration": 13,
    "start_time": "2024-06-14T03:39:07.472Z"
   },
   {
    "duration": 65,
    "start_time": "2024-06-14T03:39:07.489Z"
   },
   {
    "duration": 27,
    "start_time": "2024-06-14T03:39:07.560Z"
   },
   {
    "duration": 48,
    "start_time": "2024-06-14T03:39:07.590Z"
   },
   {
    "duration": 11,
    "start_time": "2024-06-14T03:39:07.642Z"
   },
   {
    "duration": 29,
    "start_time": "2024-06-14T03:39:07.656Z"
   },
   {
    "duration": 59,
    "start_time": "2024-06-14T03:39:07.687Z"
   },
   {
    "duration": 22,
    "start_time": "2024-06-14T03:39:07.750Z"
   },
   {
    "duration": 8,
    "start_time": "2024-06-14T03:39:07.776Z"
   },
   {
    "duration": 75,
    "start_time": "2024-06-14T03:39:07.788Z"
   },
   {
    "duration": 24,
    "start_time": "2024-06-14T03:39:07.866Z"
   },
   {
    "duration": 48,
    "start_time": "2024-06-14T03:39:07.893Z"
   },
   {
    "duration": 21,
    "start_time": "2024-06-14T03:39:07.945Z"
   },
   {
    "duration": 22,
    "start_time": "2024-06-14T03:39:07.970Z"
   },
   {
    "duration": 18,
    "start_time": "2024-06-14T03:39:08.028Z"
   },
   {
    "duration": 18,
    "start_time": "2024-06-14T03:39:08.050Z"
   },
   {
    "duration": 72,
    "start_time": "2024-06-14T03:39:08.070Z"
   },
   {
    "duration": 29,
    "start_time": "2024-06-14T03:39:08.145Z"
   },
   {
    "duration": 84,
    "start_time": "2024-06-14T03:39:08.177Z"
   },
   {
    "duration": 677,
    "start_time": "2024-06-14T03:39:08.264Z"
   },
   {
    "duration": 488,
    "start_time": "2024-06-14T03:39:08.949Z"
   },
   {
    "duration": 17,
    "start_time": "2024-06-14T03:39:09.440Z"
   },
   {
    "duration": 697,
    "start_time": "2024-06-14T03:39:09.461Z"
   },
   {
    "duration": 690,
    "start_time": "2024-06-14T03:39:10.161Z"
   },
   {
    "duration": 12,
    "start_time": "2024-06-14T03:39:10.854Z"
   },
   {
    "duration": 423,
    "start_time": "2024-06-14T03:39:10.869Z"
   },
   {
    "duration": 32,
    "start_time": "2024-06-14T03:39:11.295Z"
   },
   {
    "duration": 639,
    "start_time": "2024-06-14T03:39:11.330Z"
   },
   {
    "duration": 15,
    "start_time": "2024-06-14T03:39:11.972Z"
   },
   {
    "duration": 736,
    "start_time": "2024-06-14T03:39:11.990Z"
   },
   {
    "duration": 22,
    "start_time": "2024-06-14T03:39:12.730Z"
   },
   {
    "duration": 13,
    "start_time": "2024-06-14T03:39:12.755Z"
   },
   {
    "duration": 57,
    "start_time": "2024-06-14T03:39:12.771Z"
   },
   {
    "duration": 699,
    "start_time": "2024-06-14T03:39:12.831Z"
   },
   {
    "duration": 12,
    "start_time": "2024-06-14T03:39:13.532Z"
   },
   {
    "duration": 23,
    "start_time": "2024-06-14T03:39:13.549Z"
   },
   {
    "duration": 3,
    "start_time": "2024-06-14T03:39:13.576Z"
   },
   {
    "duration": 46,
    "start_time": "2024-06-14T03:39:13.582Z"
   },
   {
    "duration": 312,
    "start_time": "2024-06-15T17:34:05.510Z"
   },
   {
    "duration": 22,
    "start_time": "2024-06-15T17:34:30.195Z"
   },
   {
    "duration": 4974,
    "start_time": "2024-06-15T17:35:10.368Z"
   },
   {
    "duration": 382,
    "start_time": "2024-06-15T17:35:15.345Z"
   },
   {
    "duration": 23,
    "start_time": "2024-06-15T17:35:15.730Z"
   },
   {
    "duration": 17,
    "start_time": "2024-06-15T17:35:21.028Z"
   },
   {
    "duration": 10,
    "start_time": "2024-06-15T17:35:38.888Z"
   },
   {
    "duration": 9,
    "start_time": "2024-06-15T17:36:07.738Z"
   },
   {
    "duration": 9,
    "start_time": "2024-06-15T17:41:41.034Z"
   },
   {
    "duration": 26,
    "start_time": "2024-06-15T17:41:41.222Z"
   },
   {
    "duration": 30,
    "start_time": "2024-06-15T17:41:41.373Z"
   },
   {
    "duration": 187,
    "start_time": "2024-06-15T17:41:41.503Z"
   },
   {
    "duration": 15,
    "start_time": "2024-06-15T17:41:41.698Z"
   },
   {
    "duration": 57,
    "start_time": "2024-06-15T17:41:41.717Z"
   },
   {
    "duration": 57,
    "start_time": "2024-06-15T17:41:41.783Z"
   },
   {
    "duration": 24,
    "start_time": "2024-06-15T17:41:41.844Z"
   },
   {
    "duration": 12,
    "start_time": "2024-06-15T17:41:41.872Z"
   },
   {
    "duration": 72,
    "start_time": "2024-06-15T17:41:41.888Z"
   },
   {
    "duration": 18,
    "start_time": "2024-06-15T17:41:41.963Z"
   },
   {
    "duration": 60,
    "start_time": "2024-06-15T17:41:41.985Z"
   },
   {
    "duration": 7,
    "start_time": "2024-06-15T17:41:42.050Z"
   },
   {
    "duration": 39,
    "start_time": "2024-06-15T17:41:42.061Z"
   },
   {
    "duration": 53,
    "start_time": "2024-06-15T17:41:42.103Z"
   },
   {
    "duration": 22,
    "start_time": "2024-06-15T17:41:42.159Z"
   },
   {
    "duration": 62,
    "start_time": "2024-06-15T17:41:42.185Z"
   },
   {
    "duration": 26,
    "start_time": "2024-06-15T17:41:42.250Z"
   },
   {
    "duration": 18,
    "start_time": "2024-06-15T17:41:42.280Z"
   },
   {
    "duration": 21,
    "start_time": "2024-06-15T17:41:42.334Z"
   },
   {
    "duration": 37,
    "start_time": "2024-06-15T17:41:42.358Z"
   },
   {
    "duration": 64,
    "start_time": "2024-06-15T17:41:42.399Z"
   },
   {
    "duration": 80,
    "start_time": "2024-06-15T17:41:42.467Z"
   },
   {
    "duration": 741,
    "start_time": "2024-06-15T17:41:42.555Z"
   },
   {
    "duration": 475,
    "start_time": "2024-06-15T17:41:43.301Z"
   },
   {
    "duration": 16,
    "start_time": "2024-06-15T17:41:43.780Z"
   },
   {
    "duration": 792,
    "start_time": "2024-06-15T17:41:43.799Z"
   },
   {
    "duration": 666,
    "start_time": "2024-06-15T17:41:44.594Z"
   },
   {
    "duration": 16,
    "start_time": "2024-06-15T17:41:45.263Z"
   },
   {
    "duration": 429,
    "start_time": "2024-06-15T17:41:45.283Z"
   },
   {
    "duration": 29,
    "start_time": "2024-06-15T17:41:45.716Z"
   },
   {
    "duration": 697,
    "start_time": "2024-06-15T17:41:45.748Z"
   },
   {
    "duration": 18,
    "start_time": "2024-06-15T17:41:46.453Z"
   },
   {
    "duration": 777,
    "start_time": "2024-06-15T17:41:46.476Z"
   },
   {
    "duration": 24,
    "start_time": "2024-06-15T17:41:47.256Z"
   },
   {
    "duration": 12,
    "start_time": "2024-06-15T17:41:47.284Z"
   },
   {
    "duration": 43,
    "start_time": "2024-06-15T17:41:47.301Z"
   },
   {
    "duration": 743,
    "start_time": "2024-06-15T17:41:47.347Z"
   },
   {
    "duration": 13,
    "start_time": "2024-06-15T17:41:48.093Z"
   },
   {
    "duration": 44,
    "start_time": "2024-06-15T17:41:48.110Z"
   },
   {
    "duration": 4,
    "start_time": "2024-06-15T17:41:48.157Z"
   },
   {
    "duration": 22,
    "start_time": "2024-06-15T17:43:55.952Z"
   },
   {
    "duration": 25,
    "start_time": "2024-06-15T17:44:15.071Z"
   },
   {
    "duration": 15,
    "start_time": "2024-06-15T17:45:09.773Z"
   },
   {
    "duration": 11,
    "start_time": "2024-06-15T17:46:06.067Z"
   },
   {
    "duration": 20,
    "start_time": "2024-06-15T17:58:11.437Z"
   },
   {
    "duration": 12,
    "start_time": "2024-06-15T18:27:21.347Z"
   },
   {
    "duration": 55,
    "start_time": "2024-06-15T18:27:49.651Z"
   },
   {
    "duration": 23,
    "start_time": "2024-06-15T18:32:20.059Z"
   },
   {
    "duration": 25,
    "start_time": "2024-06-15T18:58:38.418Z"
   },
   {
    "duration": 19,
    "start_time": "2024-06-15T18:59:55.623Z"
   },
   {
    "duration": 13,
    "start_time": "2024-06-15T19:00:28.511Z"
   },
   {
    "duration": 22,
    "start_time": "2024-06-15T19:01:28.125Z"
   },
   {
    "duration": 1280,
    "start_time": "2024-06-15T23:06:54.453Z"
   },
   {
    "duration": 358,
    "start_time": "2024-06-15T23:06:55.736Z"
   },
   {
    "duration": 29,
    "start_time": "2024-06-15T23:06:56.096Z"
   },
   {
    "duration": 13,
    "start_time": "2024-06-15T23:06:56.132Z"
   },
   {
    "duration": 11,
    "start_time": "2024-06-15T23:06:56.150Z"
   },
   {
    "duration": 19,
    "start_time": "2024-06-15T23:06:56.164Z"
   },
   {
    "duration": 58,
    "start_time": "2024-06-15T23:06:56.186Z"
   },
   {
    "duration": 26,
    "start_time": "2024-06-15T23:06:56.247Z"
   },
   {
    "duration": 12,
    "start_time": "2024-06-15T23:06:56.276Z"
   },
   {
    "duration": 77,
    "start_time": "2024-06-15T23:06:56.293Z"
   },
   {
    "duration": 29,
    "start_time": "2024-06-15T23:06:56.375Z"
   },
   {
    "duration": 19,
    "start_time": "2024-06-15T23:06:56.433Z"
   },
   {
    "duration": 19,
    "start_time": "2024-06-15T23:06:56.455Z"
   },
   {
    "duration": 30,
    "start_time": "2024-06-15T23:06:56.480Z"
   },
   {
    "duration": 17,
    "start_time": "2024-06-15T23:06:56.532Z"
   },
   {
    "duration": 22,
    "start_time": "2024-06-15T23:06:56.552Z"
   },
   {
    "duration": 8,
    "start_time": "2024-06-15T23:06:56.577Z"
   },
   {
    "duration": 74,
    "start_time": "2024-06-15T23:06:56.588Z"
   },
   {
    "duration": 22,
    "start_time": "2024-06-15T23:06:56.664Z"
   },
   {
    "duration": 55,
    "start_time": "2024-06-15T23:06:56.689Z"
   },
   {
    "duration": 20,
    "start_time": "2024-06-15T23:06:56.747Z"
   },
   {
    "duration": 21,
    "start_time": "2024-06-15T23:06:56.770Z"
   },
   {
    "duration": 52,
    "start_time": "2024-06-15T23:06:56.793Z"
   },
   {
    "duration": 18,
    "start_time": "2024-06-15T23:06:56.848Z"
   },
   {
    "duration": 29,
    "start_time": "2024-06-15T23:06:56.869Z"
   },
   {
    "duration": 30,
    "start_time": "2024-06-15T23:06:56.933Z"
   },
   {
    "duration": 85,
    "start_time": "2024-06-15T23:06:56.966Z"
   },
   {
    "duration": 714,
    "start_time": "2024-06-15T23:06:57.055Z"
   },
   {
    "duration": 522,
    "start_time": "2024-06-15T23:06:57.771Z"
   },
   {
    "duration": 13,
    "start_time": "2024-06-15T23:06:58.297Z"
   },
   {
    "duration": 670,
    "start_time": "2024-06-15T23:06:58.332Z"
   },
   {
    "duration": 629,
    "start_time": "2024-06-15T23:06:59.006Z"
   },
   {
    "duration": 11,
    "start_time": "2024-06-15T23:06:59.638Z"
   },
   {
    "duration": 453,
    "start_time": "2024-06-15T23:06:59.653Z"
   },
   {
    "duration": 27,
    "start_time": "2024-06-15T23:07:00.109Z"
   },
   {
    "duration": 630,
    "start_time": "2024-06-15T23:07:00.139Z"
   },
   {
    "duration": 17,
    "start_time": "2024-06-15T23:07:00.772Z"
   },
   {
    "duration": 780,
    "start_time": "2024-06-15T23:07:00.792Z"
   },
   {
    "duration": 19,
    "start_time": "2024-06-15T23:07:01.575Z"
   },
   {
    "duration": 35,
    "start_time": "2024-06-15T23:07:01.597Z"
   },
   {
    "duration": 15,
    "start_time": "2024-06-15T23:07:01.643Z"
   },
   {
    "duration": 803,
    "start_time": "2024-06-15T23:07:01.661Z"
   },
   {
    "duration": 13,
    "start_time": "2024-06-15T23:07:02.467Z"
   },
   {
    "duration": 50,
    "start_time": "2024-06-15T23:07:02.483Z"
   },
   {
    "duration": 3,
    "start_time": "2024-06-15T23:07:02.536Z"
   }
  ],
  "colab": {
   "provenance": []
  },
  "kernelspec": {
   "display_name": "Python 3 (ipykernel)",
   "language": "python",
   "name": "python3"
  },
  "language_info": {
   "codemirror_mode": {
    "name": "ipython",
    "version": 3
   },
   "file_extension": ".py",
   "mimetype": "text/x-python",
   "name": "python",
   "nbconvert_exporter": "python",
   "pygments_lexer": "ipython3",
   "version": "3.9.19"
  },
  "toc": {
   "base_numbering": 1,
   "nav_menu": {},
   "number_sections": true,
   "sideBar": true,
   "skip_h1_title": false,
   "title_cell": "Table of Contents",
   "title_sidebar": "Contents",
   "toc_cell": false,
   "toc_position": {
    "height": "calc(100% - 180px)",
    "left": "10px",
    "top": "150px",
    "width": "164.988px"
   },
   "toc_section_display": true,
   "toc_window_display": true
  }
 },
 "nbformat": 4,
 "nbformat_minor": 1
}
