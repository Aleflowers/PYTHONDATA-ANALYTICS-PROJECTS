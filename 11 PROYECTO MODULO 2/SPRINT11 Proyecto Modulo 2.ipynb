{
 "cells": [
  {
   "cell_type": "markdown",
   "metadata": {},
   "source": [
    "¡Hola!\n",
    "\n",
    "Mi nombre es Marcos Torres y tengo el gusto de revisar tu código el día de hoy.\n",
    "\n",
    "Cuando vea algo notable o algún asunto en el notebook, te dejaré un comentario o un hint. Se que encontraras la mejor respuesta para resolver todos los comentarios, de no ser así, no te preocupes en futuras iteraciones dejaré comentarios y pistas más específicos.\n",
    "\n",
    "Encontrarás comentarios en verde, amarillo o rojo como los siguientes:\n",
    "\n",
    "<div class=\"alert alert-block alert-success\">\n",
    "<b>Comentario del revisor</b> <a class=\"tocSkip\"></a>\n",
    "\n",
    "Buen trabajo. ¡Lo hiciste muy bien!\n",
    "</div>\n",
    "\n",
    "<div class=\"alert alert-block alert-warning\">\n",
    "<b>Comentario del revisor</b> <a class=\"tocSkip\"></a>\n",
    "\n",
    "Nota. Se puede mejorar.\n",
    "</div>\n",
    "\n",
    "<div class=\"alert alert-block alert-danger\">\n",
    "<b>Comentario del revisor</b> <a class=\"tocSkip\"></a>\n",
    "\n",
    "Necesitas corregirlo. Este bloque indica que se requiere una correción. El trabajo no se acepta si tiene estos bloques.\n",
    "</div>\n",
    "\n",
    "Puedes responder a mis comentarios usando estos bloques:\n",
    "\n",
    "<div class=\"alert alert-block alert-info\">\n",
    "<b>Respuesta del estudiante.</b> <a class=\"tocSkip\"></a>\n",
    "</div>"
   ]
  },
  {
   "cell_type": "markdown",
   "metadata": {},
   "source": [
    "# Introducción:\n",
    "\n",
    "Este proyecto se lleva a cabo para una empresa emergente que vende productos alimenticios a través de una aplicación móvil. El objetivo principal es estudiar cómo interactúan los usuarios con la aplicación y analizar su progreso a través del embudo de ventas, identificando cuántos llegan a la etapa de compra y en qué puntos se detienen durante su recorrido.\n",
    "Adicionalmente, se busca evaluar los resultados de un test A/A/B diseñado para analizar el impacto de un cambio en el diseño de las fuentes de la aplicación.\n",
    "A través del análisis de los datos de eventos de usuario, este proyecto busca proporcionar insights clave para la toma de decisiones estratégicas, optimizando tanto la experiencia del usuario como los resultados del negocio."
   ]
  },
  {
   "cell_type": "markdown",
   "metadata": {},
   "source": [
    "## Paso 1. Abrir el archivo de datos y leer la información general"
   ]
  },
  {
   "cell_type": "code",
   "execution_count": 46,
   "metadata": {},
   "outputs": [
    {
     "data": {
      "text/html": [
       "<div>\n",
       "<style scoped>\n",
       "    .dataframe tbody tr th:only-of-type {\n",
       "        vertical-align: middle;\n",
       "    }\n",
       "\n",
       "    .dataframe tbody tr th {\n",
       "        vertical-align: top;\n",
       "    }\n",
       "\n",
       "    .dataframe thead th {\n",
       "        text-align: right;\n",
       "    }\n",
       "</style>\n",
       "<table border=\"1\" class=\"dataframe\">\n",
       "  <thead>\n",
       "    <tr style=\"text-align: right;\">\n",
       "      <th></th>\n",
       "      <th>EventName</th>\n",
       "      <th>DeviceIDHash</th>\n",
       "      <th>EventTimestamp</th>\n",
       "      <th>ExpId</th>\n",
       "    </tr>\n",
       "  </thead>\n",
       "  <tbody>\n",
       "    <tr>\n",
       "      <th>0</th>\n",
       "      <td>MainScreenAppear</td>\n",
       "      <td>4575588528974610257</td>\n",
       "      <td>1564029816</td>\n",
       "      <td>246</td>\n",
       "    </tr>\n",
       "    <tr>\n",
       "      <th>1</th>\n",
       "      <td>MainScreenAppear</td>\n",
       "      <td>7416695313311560658</td>\n",
       "      <td>1564053102</td>\n",
       "      <td>246</td>\n",
       "    </tr>\n",
       "    <tr>\n",
       "      <th>2</th>\n",
       "      <td>PaymentScreenSuccessful</td>\n",
       "      <td>3518123091307005509</td>\n",
       "      <td>1564054127</td>\n",
       "      <td>248</td>\n",
       "    </tr>\n",
       "    <tr>\n",
       "      <th>3</th>\n",
       "      <td>CartScreenAppear</td>\n",
       "      <td>3518123091307005509</td>\n",
       "      <td>1564054127</td>\n",
       "      <td>248</td>\n",
       "    </tr>\n",
       "    <tr>\n",
       "      <th>4</th>\n",
       "      <td>PaymentScreenSuccessful</td>\n",
       "      <td>6217807653094995999</td>\n",
       "      <td>1564055322</td>\n",
       "      <td>248</td>\n",
       "    </tr>\n",
       "    <tr>\n",
       "      <th>...</th>\n",
       "      <td>...</td>\n",
       "      <td>...</td>\n",
       "      <td>...</td>\n",
       "      <td>...</td>\n",
       "    </tr>\n",
       "    <tr>\n",
       "      <th>244121</th>\n",
       "      <td>MainScreenAppear</td>\n",
       "      <td>4599628364049201812</td>\n",
       "      <td>1565212345</td>\n",
       "      <td>247</td>\n",
       "    </tr>\n",
       "    <tr>\n",
       "      <th>244122</th>\n",
       "      <td>MainScreenAppear</td>\n",
       "      <td>5849806612437486590</td>\n",
       "      <td>1565212439</td>\n",
       "      <td>246</td>\n",
       "    </tr>\n",
       "    <tr>\n",
       "      <th>244123</th>\n",
       "      <td>MainScreenAppear</td>\n",
       "      <td>5746969938801999050</td>\n",
       "      <td>1565212483</td>\n",
       "      <td>246</td>\n",
       "    </tr>\n",
       "    <tr>\n",
       "      <th>244124</th>\n",
       "      <td>MainScreenAppear</td>\n",
       "      <td>5746969938801999050</td>\n",
       "      <td>1565212498</td>\n",
       "      <td>246</td>\n",
       "    </tr>\n",
       "    <tr>\n",
       "      <th>244125</th>\n",
       "      <td>OffersScreenAppear</td>\n",
       "      <td>5746969938801999050</td>\n",
       "      <td>1565212517</td>\n",
       "      <td>246</td>\n",
       "    </tr>\n",
       "  </tbody>\n",
       "</table>\n",
       "<p>244126 rows × 4 columns</p>\n",
       "</div>"
      ],
      "text/plain": [
       "                      EventName         DeviceIDHash  EventTimestamp  ExpId\n",
       "0              MainScreenAppear  4575588528974610257      1564029816    246\n",
       "1              MainScreenAppear  7416695313311560658      1564053102    246\n",
       "2       PaymentScreenSuccessful  3518123091307005509      1564054127    248\n",
       "3              CartScreenAppear  3518123091307005509      1564054127    248\n",
       "4       PaymentScreenSuccessful  6217807653094995999      1564055322    248\n",
       "...                         ...                  ...             ...    ...\n",
       "244121         MainScreenAppear  4599628364049201812      1565212345    247\n",
       "244122         MainScreenAppear  5849806612437486590      1565212439    246\n",
       "244123         MainScreenAppear  5746969938801999050      1565212483    246\n",
       "244124         MainScreenAppear  5746969938801999050      1565212498    246\n",
       "244125       OffersScreenAppear  5746969938801999050      1565212517    246\n",
       "\n",
       "[244126 rows x 4 columns]"
      ]
     },
     "execution_count": 46,
     "metadata": {},
     "output_type": "execute_result"
    }
   ],
   "source": [
    "import pandas as pd\n",
    "datos = pd.read_csv('/datasets/logs_exp_us.csv', sep='\\t')\n",
    "\n",
    "datos\n"
   ]
  },
  {
   "cell_type": "markdown",
   "metadata": {},
   "source": [
    "<div class=\"alert alert-block alert-warning\">\n",
    "<b>Comentario del revisor</b> <a class=\"tocSkip\"></a>\n",
    "\n",
    "Bien, usaste una celda independiente para importar las librerías y leer los datos. Aunque te recomendaría que incluso lo hagas separado, en una las librerías y en otra los datos.\n",
    "</div>\n"
   ]
  },
  {
   "cell_type": "markdown",
   "metadata": {},
   "source": [
    "## Paso 2. Preparar los datos para el análisis\n",
    "•\tCambia el nombre de las columnas de manera que sea conveniente para ti.(que estén más estructurados y parecidos a lo que se refieren )\n",
    "•\tComprueba los tipos de datos y valores ausentes. Corrige los datos si es necesario.\n",
    "•\tAgrega una columna de fecha y hora y una columna separada para las fechas.\n"
   ]
  },
  {
   "cell_type": "markdown",
   "metadata": {},
   "source": [
    "### •\tCambia el nombre de las columnas de manera que sea conveniente para ti."
   ]
  },
  {
   "cell_type": "code",
   "execution_count": 47,
   "metadata": {},
   "outputs": [
    {
     "name": "stdout",
     "output_type": "stream",
     "text": [
      "Index(['event_name', 'device_id_hash', 'event_timestamp', 'experiment_id'], dtype='object')\n"
     ]
    }
   ],
   "source": [
    "# Cambiar nombres de columnas para que sean más claros y estructurados\n",
    "datos.rename(\n",
    "    columns={\n",
    "        'EventName': 'event_name',\n",
    "        'DeviceIDHash': 'device_id_hash',\n",
    "        'EventTimestamp': 'event_timestamp',\n",
    "        'ExpId': 'experiment_id'\n",
    "    }, \n",
    "    inplace=True\n",
    ")\n",
    "\n",
    "# Verificar los nuevos nombres\n",
    "print(datos.columns)"
   ]
  },
  {
   "cell_type": "markdown",
   "metadata": {},
   "source": [
    "### •Comprueba los tipos de datos y valores ausentes. Corrige los datos si es necesario."
   ]
  },
  {
   "cell_type": "code",
   "execution_count": 48,
   "metadata": {},
   "outputs": [
    {
     "name": "stdout",
     "output_type": "stream",
     "text": [
      "<class 'pandas.core.frame.DataFrame'>\n",
      "RangeIndex: 244126 entries, 0 to 244125\n",
      "Data columns (total 4 columns):\n",
      " #   Column           Non-Null Count   Dtype \n",
      "---  ------           --------------   ----- \n",
      " 0   event_name       244126 non-null  object\n",
      " 1   device_id_hash   244126 non-null  int64 \n",
      " 2   event_timestamp  244126 non-null  int64 \n",
      " 3   experiment_id    244126 non-null  int64 \n",
      "dtypes: int64(3), object(1)\n",
      "memory usage: 7.5+ MB\n",
      "None\n",
      "event_name         0\n",
      "device_id_hash     0\n",
      "event_timestamp    0\n",
      "experiment_id      0\n",
      "dtype: int64\n"
     ]
    }
   ],
   "source": [
    "# Información del DataFrame\n",
    "print(datos.info())\n",
    "\n",
    "# Verificar valores ausentes\n",
    "print(datos.isnull().sum())"
   ]
  },
  {
   "cell_type": "markdown",
   "metadata": {},
   "source": [
    "<div class=\"alert alert-block alert-success\">\n",
    "<b>Comentario del revisor</b> <a class=\"tocSkip\"></a>\n",
    "\n",
    "Buen uso de los métodos de pandas para explorar los datos.\n",
    "</div>\n"
   ]
  },
  {
   "cell_type": "markdown",
   "metadata": {},
   "source": [
    "### •Convertir tipos de datos (si es necesario)"
   ]
  },
  {
   "cell_type": "code",
   "execution_count": 49,
   "metadata": {},
   "outputs": [
    {
     "name": "stdout",
     "output_type": "stream",
     "text": [
      "event_name                 object\n",
      "device_id_hash              int64\n",
      "event_timestamp    datetime64[ns]\n",
      "experiment_id               int64\n",
      "dtype: object\n"
     ]
    }
   ],
   "source": [
    "# Convertir 'event_timestamp' a tipo datetime\n",
    "datos['event_timestamp'] = pd.to_datetime(datos['event_timestamp'], unit='s')\n",
    "\n",
    "print(datos.dtypes)"
   ]
  },
  {
   "cell_type": "markdown",
   "metadata": {},
   "source": [
    "### Agregar columnas para fecha y hora separadas"
   ]
  },
  {
   "cell_type": "code",
   "execution_count": 50,
   "metadata": {},
   "outputs": [
    {
     "name": "stdout",
     "output_type": "stream",
     "text": [
      "      event_timestamp        date      time\n",
      "0 2019-07-25 04:43:36  2019-07-25  04:43:36\n",
      "1 2019-07-25 11:11:42  2019-07-25  11:11:42\n",
      "2 2019-07-25 11:28:47  2019-07-25  11:28:47\n",
      "3 2019-07-25 11:28:47  2019-07-25  11:28:47\n",
      "4 2019-07-25 11:48:42  2019-07-25  11:48:42\n"
     ]
    }
   ],
   "source": [
    "    # Crear columna para la fecha\n",
    "datos['date'] = datos['event_timestamp'].dt.date\n",
    "\n",
    "# Crear columna para la hora\n",
    "datos['time'] = datos['event_timestamp'].dt.time\n",
    "\n",
    "# Verificar las nuevas columnas\n",
    "print(datos[['event_timestamp', 'date', 'time']].head())"
   ]
  },
  {
   "cell_type": "markdown",
   "metadata": {},
   "source": [
    "<div class=\"alert alert-block alert-success\">\n",
    "<b>Comentario del revisor</b> <a class=\"tocSkip\"></a>\n",
    "\n",
    "Se manejaron correctamente los tipos de datos.\n",
    "</div>\n"
   ]
  },
  {
   "cell_type": "markdown",
   "metadata": {},
   "source": [
    "## Estudiar y comprobar los datos"
   ]
  },
  {
   "cell_type": "markdown",
   "metadata": {},
   "source": [
    "### ¿Cuántos eventos hay en los registros? "
   ]
  },
  {
   "cell_type": "code",
   "execution_count": 51,
   "metadata": {},
   "outputs": [
    {
     "name": "stdout",
     "output_type": "stream",
     "text": [
      "Total de eventos: 244126\n"
     ]
    }
   ],
   "source": [
    "num_eventos = len(datos)\n",
    "print(f\"Total de eventos: {num_eventos}\")"
   ]
  },
  {
   "cell_type": "markdown",
   "metadata": {},
   "source": [
    "<div class=\"alert alert-block alert-success\">\n",
    "<b>Comentario del revisor</b> <a class=\"tocSkip\"></a>\n",
    "\n",
    "La respuesta es correcta.\n",
    "</div>\n"
   ]
  },
  {
   "cell_type": "markdown",
   "metadata": {},
   "source": [
    "### ¿Cuántos usuarios hay en los registros?"
   ]
  },
  {
   "cell_type": "code",
   "execution_count": 52,
   "metadata": {},
   "outputs": [
    {
     "name": "stdout",
     "output_type": "stream",
     "text": [
      "Total de usuarios: 7551\n"
     ]
    }
   ],
   "source": [
    "num_usuarios = datos['device_id_hash'].nunique()\n",
    "print(f\"Total de usuarios: {num_usuarios}\")"
   ]
  },
  {
   "cell_type": "markdown",
   "metadata": {},
   "source": [
    "<div class=\"alert alert-block alert-success\">\n",
    "<b>Comentario del revisor</b> <a class=\"tocSkip\"></a>\n",
    "\n",
    "Bien.\n",
    "</div>\n"
   ]
  },
  {
   "cell_type": "markdown",
   "metadata": {},
   "source": [
    "### ¿Cuál es el promedio de eventos por usuario?"
   ]
  },
  {
   "cell_type": "code",
   "execution_count": 53,
   "metadata": {},
   "outputs": [
    {
     "name": "stdout",
     "output_type": "stream",
     "text": [
      "Promedio de eventos por usuario: 32.33\n"
     ]
    }
   ],
   "source": [
    "# Promedio de eventos por usuario\n",
    "promedio_eventos_usuario = num_eventos / num_usuarios\n",
    "print(f\"Promedio de eventos por usuario: {promedio_eventos_usuario:.2f}\")"
   ]
  },
  {
   "cell_type": "markdown",
   "metadata": {},
   "source": [
    "<div class=\"alert alert-block alert-success\">\n",
    "<b>Comentario del revisor</b> <a class=\"tocSkip\"></a>\n",
    "\n",
    "Muy bien, obtuviste correctamente los eventos promedio.\n",
    "</div>\n"
   ]
  },
  {
   "cell_type": "markdown",
   "metadata": {},
   "source": [
    "### ¿Qué periodo de tiempo cubren los datos? Encuentra la fecha máxima y mínima."
   ]
  },
  {
   "cell_type": "code",
   "execution_count": 54,
   "metadata": {
    "scrolled": true
   },
   "outputs": [
    {
     "name": "stdout",
     "output_type": "stream",
     "text": [
      "Fecha mínima: 2019-07-25 04:43:36\n",
      "Fecha máxima: 2019-08-07 21:15:17\n"
     ]
    }
   ],
   "source": [
    "# Encontrar la fecha mínima y máxima\n",
    "fecha_minima = datos['event_timestamp'].min()\n",
    "fecha_maxima = datos['event_timestamp'].max()\n",
    "\n",
    "print(f\"Fecha mínima: {fecha_minima}\")\n",
    "print(f\"Fecha máxima: {fecha_maxima}\")\n",
    "\n",
    "\n"
   ]
  },
  {
   "cell_type": "markdown",
   "metadata": {},
   "source": [
    "<div class=\"alert alert-block alert-success\">\n",
    "<b>Comentario del revisor</b> <a class=\"tocSkip\"></a>\n",
    "\n",
    "Buen uso de los métodos min y max.\n",
    "</div>\n"
   ]
  },
  {
   "cell_type": "code",
   "execution_count": 55,
   "metadata": {},
   "outputs": [
    {
     "data": {
      "image/png": "[encoded data removed]",
      "text/plain": [
       "<Figure size 1000x600 with 1 Axes>"
      ]
     },
     "metadata": {},
     "output_type": "display_data"
    }
   ],
   "source": [
    "# Traza un histograma de eventos por fecha (diario) y hora\n",
    "import matplotlib.pyplot as plt\n",
    "\n",
    "# Extraer solo la fecha para el histograma de fechas\n",
    "datos['date_only'] = datos['event_timestamp'].dt.date\n",
    "\n",
    "# Graficar histograma de eventos por fecha\n",
    "plt.figure(figsize=(10, 6))\n",
    "datos['date_only'].hist(bins=30, edgecolor='black')\n",
    "plt.title('Histograma de Eventos por Fecha')\n",
    "plt.xlabel('Fecha')\n",
    "plt.ylabel('Número de Eventos')\n",
    "plt.xticks(rotation=45)\n",
    "plt.show()\n"
   ]
  },
  {
   "cell_type": "markdown",
   "metadata": {},
   "source": [
    "<div class=\"alert alert-block alert-success\">\n",
    "<b>Comentario del revisor</b> <a class=\"tocSkip\"></a>\n",
    "\n",
    "Buen trabajo. El histograma muestra correctamente la distribución.\n",
    "</div>\n"
   ]
  },
  {
   "cell_type": "markdown",
   "metadata": {},
   "source": [
    "En el histograma por fechas.\n",
    "Los datos comienzan a reflejarse apartir del 25 de julio de 2019 al  7 de agosto de 2019. \n",
    "No todos los datos son iguales en todo el periodo,  antes del 01 de agosto del 2019 no existen datos suficientes.\n",
    "Los datos confiables son del rango 01 de agosto del 2019 al 07 de agosto del 2019."
   ]
  },
  {
   "cell_type": "code",
   "execution_count": 56,
   "metadata": {},
   "outputs": [
    {
     "data": {
      "image/png": "[encoded data removed]",
      "text/plain": [
       "<Figure size 1000x600 with 1 Axes>"
      ]
     },
     "metadata": {},
     "output_type": "display_data"
    }
   ],
   "source": [
    "# Graficar histograma de eventos por hora\n",
    "datos['hour_only'] = datos['event_timestamp'].dt.hour\n",
    "\n",
    "plt.figure(figsize=(10, 6))\n",
    "datos['hour_only'].hist(bins=24, edgecolor='black')\n",
    "plt.title('Histograma de Eventos por Hora')\n",
    "plt.xlabel('Hora del día')\n",
    "plt.ylabel('Número de Eventos')\n",
    "plt.xticks(range(24))\n",
    "plt.show()"
   ]
  },
  {
   "cell_type": "markdown",
   "metadata": {},
   "source": [
    "<div class=\"alert alert-block alert-success\">\n",
    "<b>Comentario del revisor</b> <a class=\"tocSkip\"></a>\n",
    "\n",
    "¡Excelente! Este histograma es correcto, se muestra adecuadamente la distribución de los eventos a lo largo del día.\n",
    "</div>\n"
   ]
  },
  {
   "cell_type": "markdown",
   "metadata": {},
   "source": [
    "El histograma por hora indica que los usuarios están más activos de 11 a 17 hrs."
   ]
  },
  {
   "cell_type": "code",
   "execution_count": 57,
   "metadata": {
    "scrolled": true
   },
   "outputs": [
    {
     "name": "stdout",
     "output_type": "stream",
     "text": [
      "                event_name       device_id_hash     event_timestamp  \\\n",
      "0         MainScreenAppear  4575588528974610257 2019-07-25 04:43:36   \n",
      "1         MainScreenAppear  7416695313311560658 2019-07-25 11:11:42   \n",
      "2  PaymentScreenSuccessful  3518123091307005509 2019-07-25 11:28:47   \n",
      "3         CartScreenAppear  3518123091307005509 2019-07-25 11:28:47   \n",
      "4  PaymentScreenSuccessful  6217807653094995999 2019-07-25 11:48:42   \n",
      "\n",
      "   experiment_id        date      time   date_only  hour_only  \n",
      "0            246  2019-07-25  04:43:36  2019-07-25          4  \n",
      "1            246  2019-07-25  11:11:42  2019-07-25         11  \n",
      "2            248  2019-07-25  11:28:47  2019-07-25         11  \n",
      "3            248  2019-07-25  11:28:47  2019-07-25         11  \n",
      "4            248  2019-07-25  11:48:42  2019-07-25         11  \n",
      "Eventos antes de 2019-07-25 04:43:36:\n",
      "Empty DataFrame\n",
      "Columns: [event_name, device_id_hash, event_timestamp, experiment_id, date, time, date_only, hour_only]\n",
      "Index: []\n"
     ]
    }
   ],
   "source": [
    "# Mostrar los primeros eventos (si hay una caída en las fechas iniciales)\n",
    "print(datos.head())\n",
    "\n",
    "# Filtrar y mostrar los eventos de los primeros días\n",
    "primeros_eventos = datos[datos['date_only'] < fecha_minima]\n",
    "print(f\"Eventos antes de {fecha_minima}:\")\n",
    "print(primeros_eventos)"
   ]
  },
  {
   "cell_type": "markdown",
   "metadata": {},
   "source": [
    "### Distribución de eventos for fecha limpiando los datos"
   ]
  },
  {
   "cell_type": "code",
   "execution_count": 58,
   "metadata": {},
   "outputs": [
    {
     "name": "stdout",
     "output_type": "stream",
     "text": [
      "Registros después de la limpieza: 244126\n",
      "2019-07-25        9\n",
      "2019-07-26       31\n",
      "2019-07-27       55\n",
      "2019-07-28      105\n",
      "2019-07-29      184\n",
      "2019-07-30      413\n",
      "2019-07-31     2031\n",
      "2019-08-01    36229\n",
      "2019-08-02    35606\n",
      "2019-08-03    33351\n",
      "2019-08-04    33033\n",
      "2019-08-05    36113\n",
      "2019-08-06    35822\n",
      "2019-08-07    31144\n",
      "Name: date_only, dtype: int64\n",
      "Registros después de la limpieza: 241298\n",
      "2019-08-01    36229\n",
      "2019-08-02    35606\n",
      "2019-08-03    33351\n",
      "2019-08-04    33033\n",
      "2019-08-05    36113\n",
      "2019-08-06    35822\n",
      "2019-08-07    31144\n",
      "Name: date_only, dtype: int64\n"
     ]
    },
    {
     "data": {
      "image/png": "[encoded data removed]",
      "text/plain": [
       "<Figure size 1000x600 with 1 Axes>"
      ]
     },
     "metadata": {},
     "output_type": "display_data"
    }
   ],
   "source": [
    "import pandas as pd\n",
    "import matplotlib.pyplot as plt\n",
    "\n",
    "# Asegúrate de que 'date_only' esté en formato datetime\n",
    "datos['date_only'] = pd.to_datetime(datos['date_only'])\n",
    "\n",
    "\n",
    "# Verificar los datos antes de la limpieza\n",
    "print(f\"Registros después de la limpieza: {len(datos)}\")\n",
    "print(datos['date_only'].value_counts().sort_index())\n",
    "\n",
    "\n",
    "# Filtrar eliminando los datos con fecha menor al 1 de agosto de 2019\n",
    "datos = datos[datos['date_only'] >= '2019-08-01']\n",
    "\n",
    "# Verificar los datos después de la limpieza\n",
    "print(f\"Registros después de la limpieza: {len(datos)}\")\n",
    "print(datos['date_only'].value_counts().sort_index())\n",
    "\n",
    "# Graficar nuevamente el histograma para las fechas filtradas\n",
    "plt.figure(figsize=(10, 6))\n",
    "datos['date_only'].hist(bins=30, edgecolor='black')\n",
    "plt.title('Distribución de Eventos por Fecha (Datos Filtrados)')\n",
    "plt.xlabel('Fecha')\n",
    "plt.ylabel('Número de Eventos')\n",
    "plt.xticks(rotation=45)\n",
    "plt.show()"
   ]
  },
  {
   "cell_type": "markdown",
   "metadata": {},
   "source": [
    "<div class=\"alert alert-block alert-success\">\n",
    "<b>Comentario del revisor</b> <a class=\"tocSkip\"></a>\n",
    "\n",
    "Bien, la tabla se filtró correctamente.\n",
    "</div>\n"
   ]
  },
  {
   "cell_type": "markdown",
   "metadata": {},
   "source": [
    "Los datos actuales ya se ven más uniformes, eliminando los primeros registros anteriores al 01 de agosto del 2018, que eran un número de eventos menor, probablemente porque se iba iniciando el registro de usuarios."
   ]
  },
  {
   "cell_type": "markdown",
   "metadata": {},
   "source": [
    "### Asegúrate de tener usuarios de los tres grupos experimentales."
   ]
  },
  {
   "cell_type": "code",
   "execution_count": 59,
   "metadata": {},
   "outputs": [
    {
     "name": "stdout",
     "output_type": "stream",
     "text": [
      "Total de grupos experimentales: 3\n",
      "Distribución de usuarios por grupo experimental:\n",
      "248    84726\n",
      "246    79425\n",
      "247    77147\n",
      "Name: experiment_id, dtype: int64\n"
     ]
    }
   ],
   "source": [
    "# Verificar cuántos grupos experimentales diferentes hay\n",
    "grupos_experimentales = datos['experiment_id'].nunique()\n",
    "print(f\"Total de grupos experimentales: {grupos_experimentales}\")\n",
    "\n",
    "# Verificar los grupos experimentales específicos\n",
    "grupos_detalle = datos['experiment_id'].value_counts()\n",
    "print(\"Distribución de usuarios por grupo experimental:\")\n",
    "print(grupos_detalle)\n"
   ]
  },
  {
   "cell_type": "code",
   "execution_count": 60,
   "metadata": {
    "scrolled": true
   },
   "outputs": [
    {
     "name": "stdout",
     "output_type": "stream",
     "text": [
      "Index(['event_name', 'device_id_hash', 'event_timestamp', 'experiment_id',\n",
      "       'date', 'time', 'date_only', 'hour_only'],\n",
      "      dtype='object')\n",
      "<class 'pandas.core.frame.DataFrame'>\n",
      "Int64Index: 241298 entries, 2828 to 244125\n",
      "Data columns (total 8 columns):\n",
      " #   Column           Non-Null Count   Dtype         \n",
      "---  ------           --------------   -----         \n",
      " 0   event_name       241298 non-null  object        \n",
      " 1   device_id_hash   241298 non-null  int64         \n",
      " 2   event_timestamp  241298 non-null  datetime64[ns]\n",
      " 3   experiment_id    241298 non-null  int64         \n",
      " 4   date             241298 non-null  object        \n",
      " 5   time             241298 non-null  object        \n",
      " 6   date_only        241298 non-null  datetime64[ns]\n",
      " 7   hour_only        241298 non-null  int64         \n",
      "dtypes: datetime64[ns](2), int64(3), object(3)\n",
      "memory usage: 16.6+ MB\n",
      "None\n",
      " \n",
      " \n",
      " \n",
      " \n"
     ]
    }
   ],
   "source": [
    "print(datos.columns)\n",
    "print (datos.info())\n",
    "print(\" \")\n",
    "print(\" \")\n",
    "print(\" \")\n",
    "print(\" \")\n"
   ]
  },
  {
   "cell_type": "markdown",
   "metadata": {},
   "source": [
    "<div class=\"alert alert-block alert-success\">\n",
    "<b>Comentario del revisor</b> <a class=\"tocSkip\"></a>\n",
    "\n",
    "Muy bien, tienes información de los tres grupos.\n",
    "</div>\n"
   ]
  },
  {
   "cell_type": "markdown",
   "metadata": {},
   "source": [
    "## Paso 4. Estudiar el embudo de eventos"
   ]
  },
  {
   "cell_type": "markdown",
   "metadata": {},
   "source": [
    "### Verificar sus eventos y su frecuencia"
   ]
  },
  {
   "cell_type": "code",
   "execution_count": 61,
   "metadata": {},
   "outputs": [
    {
     "name": "stdout",
     "output_type": "stream",
     "text": [
      "MainScreenAppear           117431\n",
      "OffersScreenAppear          46350\n",
      "CartScreenAppear            42365\n",
      "PaymentScreenSuccessful     34113\n",
      "Tutorial                     1039\n",
      "Name: event_name, dtype: int64\n",
      " \n",
      " \n",
      "Eventos únicos después de eliminar 'Tutorial':\n",
      "['MainScreenAppear' 'OffersScreenAppear' 'CartScreenAppear'\n",
      " 'PaymentScreenSuccessful']\n"
     ]
    }
   ],
   "source": [
    "# Contar la frecuencia de cada evento\n",
    "event_counts = datos['event_name'].value_counts()\n",
    "\n",
    "# Ordenar por frecuencia\n",
    "event_counts_sorted = event_counts.sort_values(ascending=False)\n",
    "\n",
    "# Mostrar resultados\n",
    "print(event_counts_sorted)\n",
    "print(\" \")\n",
    "print(\" \")\n",
    "\n",
    "# Eliminar las filas donde el evento sea 'Tutorial'\n",
    "datos = datos[datos['event_name'] != 'Tutorial']\n",
    "\n",
    "# Verificar que se haya eliminado correctamente\n",
    "print(\"Eventos únicos después de eliminar 'Tutorial':\")\n",
    "print(datos['event_name'].unique())\n"
   ]
  },
  {
   "cell_type": "markdown",
   "metadata": {},
   "source": [
    "<div class=\"alert alert-block alert-success\">\n",
    "<b>Comentario del revisor</b> <a class=\"tocSkip\"></a>\n",
    "\n",
    "El embudo de eventos se obtuvo correctamente.\n",
    "</div>\n"
   ]
  },
  {
   "cell_type": "markdown",
   "metadata": {},
   "source": [
    "<div class=\"alert alert-block alert-warning\">\n",
    "<b>Comentario del revisor</b> <a class=\"tocSkip\"></a>\n",
    "\n",
    "Como consejo, se pueden realizar gráficas de embudos, busca funnel graph python y te apareceran varios ejemplos, por ejemplo en este link vienen algunos ejemplos muy bonitos: https://coderzcolumn.com/tutorials/data-science/sales-funnel-chart-using-matplotlib \n",
    "</div>\n"
   ]
  },
  {
   "cell_type": "markdown",
   "metadata": {},
   "source": [
    "El embudo empieza con el evento MainScreenAppear y termina con PaymentScreenSuccessful. El Tutorial podemos pensar que no todas las personas lo realizan por eso es el que tiene menos usuarios que lo usan. El dato del tutorial lo eliminamos."
   ]
  },
  {
   "cell_type": "markdown",
   "metadata": {},
   "source": [
    "### Usuarios únicos por evento y su proporción"
   ]
  },
  {
   "cell_type": "code",
   "execution_count": 62,
   "metadata": {},
   "outputs": [
    {
     "name": "stdout",
     "output_type": "stream",
     "text": [
      "Cantidad y proporción de usuarios por evento:\n",
      "                         users_per_event  proportion\n",
      "event_name                                          \n",
      "CartScreenAppear                    3734    0.495883\n",
      "MainScreenAppear                    7419    0.985259\n",
      "OffersScreenAppear                  4593    0.609960\n",
      "PaymentScreenSuccessful             3539    0.469987\n"
     ]
    }
   ],
   "source": [
    "        # Contar usuarios únicos por evento\n",
    "        users_per_event = datos.groupby('event_name')['device_id_hash'].nunique()\n",
    "\n",
    "        # Calcular proporción de usuarios\n",
    "        total_users = datos['device_id_hash'].nunique()\n",
    "        proportion_per_event = (users_per_event / total_users).sort_values(ascending=False)\n",
    "\n",
    "        # Crear un DataFrame con resultados\n",
    "        result = pd.DataFrame({\n",
    "            'users_per_event': users_per_event,\n",
    "            'proportion': proportion_per_event\n",
    "        })\n",
    "\n",
    "        # Mostrar resultados\n",
    "        print(\"Cantidad y proporción de usuarios por evento:\")\n",
    "        print(result)"
   ]
  },
  {
   "cell_type": "markdown",
   "metadata": {},
   "source": [
    "### Secuencia y orden de los eventos"
   ]
  },
  {
   "cell_type": "code",
   "execution_count": 63,
   "metadata": {},
   "outputs": [
    {
     "name": "stdout",
     "output_type": "stream",
     "text": [
      "Primer evento realizado por los usuarios:\n",
      "MainScreenAppear           7084\n",
      "OffersScreenAppear          288\n",
      "PaymentScreenSuccessful      96\n",
      "CartScreenAppear             62\n",
      "Name: event_name, dtype: int64\n"
     ]
    }
   ],
   "source": [
    "# Identificar el primer evento realizado por cada usuario\n",
    "first_events = datos.sort_values(by=['device_id_hash', 'event_timestamp']).groupby('device_id_hash').first()\n",
    "\n",
    "# Mostrar los eventos iniciales para cada usuario\n",
    "print(\"Primer evento realizado por los usuarios:\")\n",
    "print(first_events['event_name'].value_counts())\n"
   ]
  },
  {
   "cell_type": "markdown",
   "metadata": {},
   "source": [
    "<div class=\"alert alert-block alert-success\">\n",
    "<b>Comentario del revisor</b> <a class=\"tocSkip\"></a>\n",
    "\n",
    "Buen trabajo, los cálculos son correctos.\n",
    "</div>"
   ]
  },
  {
   "cell_type": "markdown",
   "metadata": {},
   "source": [
    "### Cálculo de embudo de eventos"
   ]
  },
  {
   "cell_type": "code",
   "execution_count": 68,
   "metadata": {},
   "outputs": [
    {
     "name": "stdout",
     "output_type": "stream",
     "text": [
      "                     event  users  proportion_to_previous  loss_percentage\n",
      "0         MainScreenAppear   7419                     NaN              NaN\n",
      "1       OffersScreenAppear   4593                0.619086        38.091387\n",
      "2         CartScreenAppear   3734                0.812976        18.702373\n",
      "3  PaymentScreenSuccessful   3539                0.947777         5.222282\n"
     ]
    }
   ],
   "source": [
    "# Contar usuarios únicos por evento\n",
    "users_per_event = datos.groupby('event_name')['device_id_hash'].nunique()\n",
    "\n",
    "# Ordenar eventos por frecuencia (puedes optar por ordenar o no dependiendo de tu necesidad)\n",
    "events_order = users_per_event.sort_values(ascending=False).index\n",
    "\n",
    "# Crear una lista para almacenar el número de usuarios únicos en cada etapa del embudo\n",
    "funnel_data = []\n",
    "\n",
    "# Calcular el número de usuarios únicos por cada evento del embudo\n",
    "for event in events_order:\n",
    "    users_in_event = users_per_event[event]\n",
    "    funnel_data.append(users_in_event)\n",
    "\n",
    "# Calcular proporciones entre etapas con manejo de divisiones por cero\n",
    "funnel_ratios = [\n",
    "    funnel_data[i] / funnel_data[i-1] if funnel_data[i-1] > 0 else None\n",
    "    for i in range(1, len(funnel_data))\n",
    "]\n",
    "\n",
    "# Calcular el porcentaje de pérdida entre etapas\n",
    "loss_percentages = [\n",
    "    (1 - funnel_data[i] / funnel_data[i-1]) * 100 if funnel_data[i-1] > 0 else None\n",
    "    for i in range(1, len(funnel_data))\n",
    "]\n",
    "\n",
    "# Crear DataFrame con el embudo\n",
    "funnel_df = pd.DataFrame({\n",
    "    'event': events_order,\n",
    "    'users': funnel_data,\n",
    "    'proportion_to_previous': [None] + funnel_ratios,  # El primer evento no tiene proporción previa\n",
    "    'loss_percentage': [None] + loss_percentages  # El primer evento no tiene pérdida previa\n",
    "})\n",
    "\n",
    "# Mostrar resultados\n",
    "print(funnel_df)"
   ]
  },
  {
   "cell_type": "markdown",
   "metadata": {},
   "source": [
    "<div class=\"alert alert-block alert-success\">\n",
    "<b>Comentario del revisor</b> <a class=\"tocSkip\"></a>\n",
    "\n",
    "Los conteos se ven bien.\n",
    "</div>"
   ]
  },
  {
   "cell_type": "markdown",
   "metadata": {},
   "source": [
    "### Identificar pérdidas de usuarios"
   ]
  },
  {
   "cell_type": "markdown",
   "metadata": {},
   "source": [
    "La mayor perdida de usuarios está entre la etapa de MainsScreenAppear y la etapa de OffersScreenAppear. De 7,419 Usuarios que pasan a la siguiente estapa que son 4593, representan el 61.9 % y la diferencia es la que se pierde. El 38% de los usuarios se pierden"
   ]
  },
  {
   "cell_type": "markdown",
   "metadata": {},
   "source": [
    "### Porcentaje de usuarios que completan todo el proceso"
   ]
  },
  {
   "cell_type": "code",
   "execution_count": 70,
   "metadata": {},
   "outputs": [
    {
     "name": "stdout",
     "output_type": "stream",
     "text": [
      "                     event  users  proportion_to_previous  loss_percentage\n",
      "0         MainScreenAppear   7419                     NaN              NaN\n",
      "1       OffersScreenAppear   4593                0.619086        38.091387\n",
      "2         CartScreenAppear   3734                0.812976        18.702373\n",
      "3  PaymentScreenSuccessful   3539                0.947777         5.222282\n",
      "Porcentaje de usuarios que completan todo el embudo: 47.70%\n"
     ]
    }
   ],
   "source": [
    "# Calcular el porcentaje de usuarios que completan todo el proceso (del primer evento al último)\n",
    "total_users_first_event = funnel_data[0]  # Usuarios del primer evento\n",
    "total_users_last_event = funnel_data[-1]  # Usuarios del último evento\n",
    "\n",
    "completion_percentage = (total_users_last_event / total_users_first_event) * 100\n",
    "\n",
    "# Mostrar resultados del embudo y el porcentaje de usuarios que completan todo el proceso\n",
    "print(funnel_df)\n",
    "print(f\"Porcentaje de usuarios que completan todo el embudo: {completion_percentage:.2f}%\")"
   ]
  },
  {
   "cell_type": "markdown",
   "metadata": {},
   "source": [
    "## Paso 5. Estudiar los resultados del experimento"
   ]
  },
  {
   "cell_type": "markdown",
   "metadata": {},
   "source": [
    "### Prueba A/A entre los grupos de control (246 y 247)"
   ]
  },
  {
   "cell_type": "code",
   "execution_count": 76,
   "metadata": {},
   "outputs": [
    {
     "name": "stdout",
     "output_type": "stream",
     "text": [
      "experiment_id\n",
      "246    2483\n",
      "247    2512\n",
      "248    2535\n",
      "Name: device_id_hash, dtype: int64\n",
      "Estadístico t: 0.7441585515973078\n",
      "Valor p: 0.45681642752792995\n"
     ]
    }
   ],
   "source": [
    "from scipy.stats import ttest_ind\n",
    "\n",
    "# Número de usuarios únicos por grupo\n",
    "user_count_per_group = datos.groupby('experiment_id')['device_id_hash'].nunique()\n",
    "print(user_count_per_group)\n",
    "\n",
    "# Filtrar los datos para los grupos de control\n",
    "group_246 = datos[datos['experiment_id'] == 246]\n",
    "group_247 = datos[datos['experiment_id'] == 247]\n",
    "\n",
    "# Asegúrate de definir la métrica que estás comparando, por ejemplo, número de eventos por usuario.\n",
    "events_per_user_246 = group_246.groupby('device_id_hash')['event_name'].count()\n",
    "events_per_user_247 = group_247.groupby('device_id_hash')['event_name'].count()\n",
    "\n",
    "\n",
    "\n",
    "# Test t de Student para muestras independientes\n",
    "t_stat, p_value = ttest_ind(events_per_user_246, events_per_user_247, equal_var=False)\n",
    "\n",
    "print(f\"Estadístico t: {t_stat}\")\n",
    "print(f\"Valor p: {p_value}\")\n"
   ]
  },
  {
   "cell_type": "markdown",
   "metadata": {},
   "source": [
    "<div class=\"alert alert-block alert-success\">\n",
    "<b>Comentario del revisor</b> <a class=\"tocSkip\"></a>\n",
    "\n",
    "¡Muy bien! La prueba de hipótesis se realizó correctamente y el p valor se interpretó correctamente.\n",
    "</div>"
   ]
  },
  {
   "cell_type": "markdown",
   "metadata": {},
   "source": [
    "Los dos grupos de control (246 y 247) son estadísticamente equivalentes en términos de la métrica analizada (número de eventos por usuario). Esto es un buen resultado para un test A/A, ya que confirma que los grupos de control están bien equilibrados y que las diferencias observadas son atribuibles al azar, no a un problema en los mecanismos del experimento."
   ]
  },
  {
   "cell_type": "code",
   "execution_count": 77,
   "metadata": {},
   "outputs": [
    {
     "name": "stdout",
     "output_type": "stream",
     "text": [
      "Prueba de Levene: estadístico=0.5746453124624482, p=0.44845465182121824\n",
      "No hay evidencia de que las varianzas sean diferentes (asumimos varianzas iguales).\n"
     ]
    }
   ],
   "source": [
    "from scipy.stats import levene\n",
    "\n",
    "# Prueba de Levene para igualdad de varianzas\n",
    "stat_levene, p_levene = levene(events_per_user_246, events_per_user_247)\n",
    "print(f\"Prueba de Levene: estadístico={stat_levene}, p={p_levene}\")\n",
    "\n",
    "# Interpretación\n",
    "if p_levene > 0.05:\n",
    "    print(\"No hay evidencia de que las varianzas sean diferentes (asumimos varianzas iguales).\")\n",
    "else:\n",
    "    print(\"Las varianzas parecen ser diferentes (usar equal_var=False en la prueba t).\")"
   ]
  },
  {
   "cell_type": "markdown",
   "metadata": {},
   "source": [
    "La prueba t clásica asume que las varianzas de las dos muestras son iguales. Para verificar esto:\n",
    "Prueba de Levene: Es una de las más comunes para comparar varianzas entre grupos."
   ]
  },
  {
   "cell_type": "markdown",
   "metadata": {},
   "source": [
    "<div class=\"alert alert-block alert-success\">\n",
    "<b>Comentario del revisor</b> <a class=\"tocSkip\"></a>\n",
    "\n",
    "Buen uso del if para imprimir correctamente el resultado de la interpretación del p valor.\n",
    "</div>"
   ]
  },
  {
   "cell_type": "markdown",
   "metadata": {},
   "source": [
    "### Identificar el evento más popular"
   ]
  },
  {
   "cell_type": "code",
   "execution_count": 79,
   "metadata": {},
   "outputs": [
    {
     "name": "stdout",
     "output_type": "stream",
     "text": [
      "El evento más popular es: MainScreenAppear\n"
     ]
    }
   ],
   "source": [
    "# Contamos la cantidad de veces que se repite cada evento\n",
    "event_counts = datos['event_name'].value_counts()\n",
    "\n",
    "# El evento más popular\n",
    "most_popular_event = event_counts.idxmax()\n",
    "print(f\"El evento más popular es: {most_popular_event}\")"
   ]
  },
  {
   "cell_type": "markdown",
   "metadata": {},
   "source": [
    "### Encontrar la cantidad de usuarios que realizaron este evento"
   ]
  },
  {
   "cell_type": "code",
   "execution_count": 83,
   "metadata": {},
   "outputs": [
    {
     "name": "stdout",
     "output_type": "stream",
     "text": [
      "Proporción de usuarios que realizaron el evento en el grupo 246: 0.9867096254530809\n",
      "Proporción de usuarios que realizaron el evento en el grupo 247: 0.9856687898089171\n"
     ]
    }
   ],
   "source": [
    "# Filtramos los datos de los grupos 246 y 247 para el evento más popular\n",
    "group_246_event = group_246[group_246['event_name'] == most_popular_event]\n",
    "group_247_event = group_247[group_247['event_name'] == most_popular_event]\n",
    "\n",
    "# Contamos la cantidad de usuarios únicos que realizaron el evento en cada grupo\n",
    "users_246_event = group_246_event['device_id_hash'].nunique()\n",
    "users_247_event = group_247_event['device_id_hash'].nunique()\n",
    "\n",
    "# Número total de usuarios en cada grupo\n",
    "total_users_246 = user_count_per_group[246]\n",
    "total_users_247 = user_count_per_group[247]\n",
    "\n",
    "# Proporción de usuarios que realizaron el evento\n",
    "prop_246 = users_246_event / total_users_246\n",
    "prop_247 = users_247_event / total_users_247\n",
    "\n",
    "print(f\"Proporción de usuarios que realizaron el evento en el grupo 246: {prop_246}\")\n",
    "print(f\"Proporción de usuarios que realizaron el evento en el grupo 247: {prop_247}\")"
   ]
  },
  {
   "cell_type": "markdown",
   "metadata": {},
   "source": [
    "<div class=\"alert alert-block alert-success\">\n",
    "<b>Comentario del revisor</b> <a class=\"tocSkip\"></a>\n",
    "\n",
    "Bien hecho, estas proporciones son correctas.\n",
    "</div>"
   ]
  },
  {
   "cell_type": "markdown",
   "metadata": {},
   "source": [
    "### Comprobar si la diferencia es estadísticamente significativa."
   ]
  },
  {
   "cell_type": "code",
   "execution_count": 84,
   "metadata": {},
   "outputs": [
    {
     "name": "stdout",
     "output_type": "stream",
     "text": [
      "Estadístico Chi-cuadrado: 0.037594169110996584\n",
      "Valor p: 0.8462603238318962\n"
     ]
    }
   ],
   "source": [
    "from scipy.stats import chi2_contingency\n",
    "\n",
    "# Creamos la tabla de contingencia (usuarios que realizaron el evento y no lo realizaron)\n",
    "contingency_table = [\n",
    "    [users_246_event, total_users_246 - users_246_event],  # Grupo 246\n",
    "    [users_247_event, total_users_247 - users_247_event]   # Grupo 247\n",
    "]\n",
    "\n",
    "# Realizamos la prueba de Chi-cuadrado\n",
    "chi2_stat, p_value, dof, expected = chi2_contingency(contingency_table)\n",
    "\n",
    "print(f\"Estadístico Chi-cuadrado: {chi2_stat}\")\n",
    "print(f\"Valor p: {p_value}\")"
   ]
  },
  {
   "cell_type": "markdown",
   "metadata": {},
   "source": [
    "<div class=\"alert alert-block alert-success\">\n",
    "<b>Comentario del revisor</b> <a class=\"tocSkip\"></a>\n",
    "\n",
    "Bien.\n",
    "</div>"
   ]
  },
  {
   "cell_type": "markdown",
   "metadata": {},
   "source": [
    "### Automatizar para todos los eventos"
   ]
  },
  {
   "cell_type": "code",
   "execution_count": 85,
   "metadata": {},
   "outputs": [
    {
     "name": "stdout",
     "output_type": "stream",
     "text": [
      "Evento: MainScreenAppear\n",
      "Proporción en grupo 246: 0.9867096254530809\n",
      "Proporción en grupo 247: 0.9856687898089171\n",
      "Estadístico Chi-cuadrado: 0.037594169110996584\n",
      "Valor p: 0.8462603238318962\n",
      "--------------------------------------------------\n",
      "Evento: OffersScreenAppear\n",
      "Proporción en grupo 246: 0.6210229561014902\n",
      "Proporción en grupo 247: 0.6050955414012739\n",
      "Estadístico Chi-cuadrado: 1.2690243567546489\n",
      "Valor p: 0.2599497897146019\n",
      "--------------------------------------------------\n",
      "Evento: CartScreenAppear\n",
      "Proporción en grupo 246: 0.5098670962545309\n",
      "Proporción en grupo 247: 0.4928343949044586\n",
      "Estadístico Chi-cuadrado: 1.3817445476858676\n",
      "Valor p: 0.23980421081879894\n",
      "--------------------------------------------------\n",
      "Evento: PaymentScreenSuccessful\n",
      "Proporción en grupo 246: 0.4832863471606927\n",
      "Proporción en grupo 247: 0.4609872611464968\n",
      "Estadístico Chi-cuadrado: 2.402777069887885\n",
      "Valor p: 0.12112006592750903\n",
      "--------------------------------------------------\n"
     ]
    }
   ],
   "source": [
    "def analyze_event(event_name):\n",
    "    # Filtramos los datos para el evento\n",
    "    group_246_event = group_246[group_246['event_name'] == event_name]\n",
    "    group_247_event = group_247[group_247['event_name'] == event_name]\n",
    "\n",
    "    # Contamos los usuarios únicos que realizaron el evento\n",
    "    users_246_event = group_246_event['device_id_hash'].nunique()\n",
    "    users_247_event = group_247_event['device_id_hash'].nunique()\n",
    "\n",
    "    # Proporción de usuarios que realizaron el evento\n",
    "    prop_246 = users_246_event / total_users_246\n",
    "    prop_247 = users_247_event / total_users_247\n",
    "\n",
    "    # Imprimimos la proporción de usuarios que realizaron el evento\n",
    "    print(f\"Evento: {event_name}\")\n",
    "    print(f\"Proporción en grupo 246: {prop_246}\")\n",
    "    print(f\"Proporción en grupo 247: {prop_247}\")\n",
    "\n",
    "    # Tabla de contingencia\n",
    "    contingency_table = [\n",
    "        [users_246_event, total_users_246 - users_246_event],  # Grupo 246\n",
    "        [users_247_event, total_users_247 - users_247_event]   # Grupo 247\n",
    "    ]\n",
    "\n",
    "    # Prueba de Chi-cuadrado\n",
    "    chi2_stat, p_value, dof, expected = chi2_contingency(contingency_table)\n",
    "\n",
    "    print(f\"Estadístico Chi-cuadrado: {chi2_stat}\")\n",
    "    print(f\"Valor p: {p_value}\")\n",
    "    print(\"-\" * 50)\n",
    "\n",
    "# Aplicamos la función a todos los eventos\n",
    "for event in event_counts.index:\n",
    "    analyze_event(event)\n"
   ]
  },
  {
   "cell_type": "markdown",
   "metadata": {},
   "source": [
    "<div class=\"alert alert-block alert-success\">\n",
    "<b>Comentario del revisor</b> <a class=\"tocSkip\"></a>\n",
    "\n",
    "Buen trabajo, la automatización se realizó correctamente con los demás grupos, bue uso del ciclo for.\n",
    "</div>"
   ]
  },
  {
   "cell_type": "markdown",
   "metadata": {},
   "source": [
    "Dado que en todos los eventos el valor p es mayor que 0.05, no hay evidencia suficiente para rechazar la hipótesis nula, lo que significa que no hay diferencias significativas entre los dos grupos de control. Esto sugiere que los grupos de control están balanceados correctamente y que cualquier diferencia observada en estos eventos podría ser atribuida al azar y no a un sesgo en la asignación de los grupos."
   ]
  },
  {
   "cell_type": "markdown",
   "metadata": {},
   "source": [
    "## Filtrar los datos para el grupo 248 y comparar contra los dos grupos de control 246 y 247"
   ]
  },
  {
   "cell_type": "code",
   "execution_count": 86,
   "metadata": {},
   "outputs": [
    {
     "name": "stdout",
     "output_type": "stream",
     "text": [
      "Evento: MainScreenAppear\n",
      "Proporción en grupo 246: 0.9867096254530809\n",
      "Proporción en grupo 247: 0.9856687898089171\n",
      "Proporción en grupo 248 (fuentes alteradas): 0.9834319526627219\n",
      "Estadístico Chi-cuadrado entre 246 y 248: 0.7062140475887019\n",
      "Valor p entre 246 y 248: 0.4007035286764218\n",
      "Estadístico Chi-cuadrado entre 247 y 248: 0.2809081793599445\n",
      "Valor p entre 247 y 248: 0.5961065808017629\n",
      "Proporción combinada en grupos de control: 0.9861861861861861\n",
      "Estadístico Chi-cuadrado entre control combinado y 248: 0.6988970258140094\n",
      "Valor p entre control combinado y 248: 0.40315455790545784\n",
      "--------------------------------------------------\n",
      "Evento: OffersScreenAppear\n",
      "Proporción en grupo 246: 0.6210229561014902\n",
      "Proporción en grupo 247: 0.6050955414012739\n",
      "Proporción en grupo 248 (fuentes alteradas): 0.6039447731755424\n",
      "Estadístico Chi-cuadrado entre 246 y 248: 1.4701888780387158\n",
      "Valor p entre 246 y 248: 0.22531589536914562\n",
      "Estadístico Chi-cuadrado entre 247 y 248: 0.003004203562904771\n",
      "Valor p entre 247 y 248: 0.9562893432336952\n",
      "Proporción combinada en grupos de control: 0.613013013013013\n",
      "Estadístico Chi-cuadrado entre control combinado y 248: 0.5437464897418727\n",
      "Valor p entre control combinado y 248: 0.4608841935884517\n",
      "--------------------------------------------------\n",
      "Evento: CartScreenAppear\n",
      "Proporción en grupo 246: 0.5098670962545309\n",
      "Proporción en grupo 247: 0.4928343949044586\n",
      "Proporción en grupo 248 (fuentes alteradas): 0.48520710059171596\n",
      "Estadístico Chi-cuadrado entre 246 y 248: 2.953431840458203\n",
      "Valor p entre 246 y 248: 0.08569540225431273\n",
      "Estadístico Chi-cuadrado entre 247 y 248: 0.2640173444615229\n",
      "Valor p entre 247 y 248: 0.6073735216008456\n",
      "Proporción combinada en grupos de control: 0.5013013013013013\n",
      "Estadístico Chi-cuadrado entre control combinado y 248: 1.6786090520840142\n",
      "Valor p entre control combinado y 248: 0.19510937932814432\n",
      "--------------------------------------------------\n",
      "Evento: PaymentScreenSuccessful\n",
      "Proporción en grupo 246: 0.4832863471606927\n",
      "Proporción en grupo 247: 0.4609872611464968\n",
      "Proporción en grupo 248 (fuentes alteradas): 0.4658777120315582\n",
      "Estadístico Chi-cuadrado entre 246 y 248: 1.4555456445664232\n",
      "Valor p entre 246 y 248: 0.22764018721619597\n",
      "Estadístico Chi-cuadrado entre 247 y 248: 0.10248269988911443\n",
      "Valor p entre 247 y 248: 0.7488703967773955\n",
      "Proporción combinada en grupos de control: 0.4720720720720721\n",
      "Estadístico Chi-cuadrado entre control combinado y 248: 0.23475320606016975\n",
      "Valor p entre control combinado y 248: 0.6280215777895277\n",
      "--------------------------------------------------\n"
     ]
    }
   ],
   "source": [
    "# Filtrar los datos para el grupo con fuentes alteradas\n",
    "group_248 = datos[datos['experiment_id'] == 248]\n",
    "\n",
    "# Calcular proporciones de usuarios que realizaron cada evento en el grupo con fuentes alteradas\n",
    "for event in datos['event_name'].unique():\n",
    "    # Proporción en grupo 248\n",
    "    prop_248 = group_248[group_248['event_name'] == event]['device_id_hash'].nunique() / group_248['device_id_hash'].nunique()\n",
    "    # Proporción en grupo 246\n",
    "    prop_246 = group_246[group_246['event_name'] == event]['device_id_hash'].nunique() / group_246['device_id_hash'].nunique()\n",
    "    # Proporción en grupo 247\n",
    "    prop_247 = group_247[group_247['event_name'] == event]['device_id_hash'].nunique() / group_247['device_id_hash'].nunique()\n",
    "\n",
    "    print(f\"Evento: {event}\")\n",
    "    print(f\"Proporción en grupo 246: {prop_246}\")\n",
    "    print(f\"Proporción en grupo 247: {prop_247}\")\n",
    "    print(f\"Proporción en grupo 248 (fuentes alteradas): {prop_248}\")\n",
    "    \n",
    "    # Prueba Chi-cuadrado entre grupo 246 y grupo 248\n",
    "    contingency_246_248 = [\n",
    "        [group_246[group_246['event_name'] == event]['device_id_hash'].nunique(), \n",
    "         group_246['device_id_hash'].nunique() - group_246[group_246['event_name'] == event]['device_id_hash'].nunique()],\n",
    "        [group_248[group_248['event_name'] == event]['device_id_hash'].nunique(),\n",
    "         group_248['device_id_hash'].nunique() - group_248[group_248['event_name'] == event]['device_id_hash'].nunique()]\n",
    "    ]\n",
    "    \n",
    "    chi2_246_248, p_value_246_248 = chi2_contingency(contingency_246_248)[:2]\n",
    "    print(f\"Estadístico Chi-cuadrado entre 246 y 248: {chi2_246_248}\")\n",
    "    print(f\"Valor p entre 246 y 248: {p_value_246_248}\")\n",
    "\n",
    "    # Prueba Chi-cuadrado entre grupo 247 y grupo 248\n",
    "    contingency_247_248 = [\n",
    "        [group_247[group_247['event_name'] == event]['device_id_hash'].nunique(), \n",
    "         group_247['device_id_hash'].nunique() - group_247[group_247['event_name'] == event]['device_id_hash'].nunique()],\n",
    "        [group_248[group_248['event_name'] == event]['device_id_hash'].nunique(),\n",
    "         group_248['device_id_hash'].nunique() - group_248[group_248['event_name'] == event]['device_id_hash'].nunique()]\n",
    "    ]\n",
    "    \n",
    "    chi2_247_248, p_value_247_248 = chi2_contingency(contingency_247_248)[:2]\n",
    "    print(f\"Estadístico Chi-cuadrado entre 247 y 248: {chi2_247_248}\")\n",
    "    print(f\"Valor p entre 247 y 248: {p_value_247_248}\")\n",
    "    \n",
    "    # Comparación global entre los grupos de control combinados y el grupo 248\n",
    "    # Primero sumamos las proporciones de los dos grupos de control\n",
    "    total_control = group_246.append(group_247)\n",
    "    \n",
    "    # Proporción combinada de los grupos de control\n",
    "    prop_control_combined = total_control[total_control['event_name'] == event]['device_id_hash'].nunique() / total_control['device_id_hash'].nunique()\n",
    "    \n",
    "    print(f\"Proporción combinada en grupos de control: {prop_control_combined}\")\n",
    "    \n",
    "    # Prueba Chi-cuadrado entre los grupos de control combinados y el grupo 248\n",
    "    contingency_control_248 = [\n",
    "        [total_control[total_control['event_name'] == event]['device_id_hash'].nunique(),\n",
    "         total_control['device_id_hash'].nunique() - total_control[total_control['event_name'] == event]['device_id_hash'].nunique()],\n",
    "        [group_248[group_248['event_name'] == event]['device_id_hash'].nunique(),\n",
    "         group_248['device_id_hash'].nunique() - group_248[group_248['event_name'] == event]['device_id_hash'].nunique()]\n",
    "    ]\n",
    "    \n",
    "    chi2_control_248, p_value_control_248 = chi2_contingency(contingency_control_248)[:2]\n",
    "    print(f\"Estadístico Chi-cuadrado entre control combinado y 248: {chi2_control_248}\")\n",
    "    print(f\"Valor p entre control combinado y 248: {p_value_control_248}\")\n",
    "    print(\"--------------------------------------------------\")"
   ]
  },
  {
   "cell_type": "markdown",
   "metadata": {},
   "source": [
    "<div class=\"alert alert-block alert-success\">\n",
    "<b>Comentario del revisor</b> <a class=\"tocSkip\"></a>\n",
    "\n",
    "¡Muy bien! Estas pruebas se realizaron correctamente.\n",
    "</div>"
   ]
  },
  {
   "cell_type": "markdown",
   "metadata": {},
   "source": [
    "En todos los eventos, los valores p obtenidos de las pruebas de Chi-cuadrado son mayores a 0.05, lo que indica que no hay diferencias estadísticamente significativas entre los grupos de control (246 y 247) y el grupo con fuentes alteradas (248)."
   ]
  },
  {
   "cell_type": "markdown",
   "metadata": {},
   "source": [
    "El nivel de significancia que se utiliza comúnmente es 0.05, lo que significa que existe un 5% de probabilidad de rechazar una hipótesis nula cuando es verdadera"
   ]
  },
  {
   "cell_type": "markdown",
   "metadata": {},
   "source": [
    "Para cada evento, se han realizado al menos 3 pruebas de hipótesis\n",
    "Comparación entre el grupo 246 y el grupo 248.\n",
    "Comparación entre el grupo 247 y el grupo 248.\n",
    "Comparación entre los grupos de control combinados (246 + 247) y el grupo 248.\n",
    "Total de pruebas realizadas:\n",
    "Para 4 eventos (MainScreenAppear, OffersScreenAppear, CartScreenAppear, PaymentScreenSuccessful).\n",
    "3 pruebas por evento (246 vs 248, 247 vs 248, control combinado vs 248).\n",
    "Total de pruebas realizadas = 4 eventos * 3 pruebas/evento = 12 pruebas en total."
   ]
  },
  {
   "cell_type": "markdown",
   "metadata": {},
   "source": [
    "Al aumentar el nivel de significancia a 0.1, se aumenta la probabilidad de rechazar incorrectamente la hipótesis nula (es decir, aceptar que hay un efecto cuando en realidad no lo hay). Esto aumenta el riesgo de obtener falsos positivos, que podrían llevar a conclusiones incorrectas y decisiones equivocadas. Prefiero quedarme con el riguroso .05 nivel de significancia."
   ]
  },
  {
   "cell_type": "markdown",
   "metadata": {},
   "source": [
    "<div class=\"alert alert-block alert-success\">\n",
    "<b>Comentario del revisor</b> <a class=\"tocSkip\"></a>\n",
    "\n",
    "Buenos comentarios.\n",
    "</div>"
   ]
  },
  {
   "cell_type": "markdown",
   "metadata": {},
   "source": [
    "<div class=\"alert alert-block alert-success\">\n",
    "<b>Comentario del revisor</b> <a class=\"tocSkip\"></a>\n",
    "\n",
    "¡Hola!\n",
    "    \n",
    "Te felicito por tu proyecto, está bastante completo y bien realizado. Me gustó especialmente la parte de las pruebas de hipótesis automatizadas, se obtuvieron correctamente con el ciclo for. Solo realicé un par de comentarios opcionales de color amarillo. Buen trabajo, puedo aprobar tu proyecto.\n",
    "    \n",
    "Éxito en los siguientes sprints.\n",
    "\n",
    " \n",
    "</div>"
   ]
  },
  {
   "cell_type": "code",
   "execution_count": null,
   "metadata": {},
   "outputs": [],
   "source": []
  }
 ],
 "metadata": {
  "ExecuteTimeLog": [
   {
    "duration": 157,
    "start_time": "2025-01-24T23:26:29.429Z"
   },
   {
    "duration": 592,
    "start_time": "2025-01-24T23:26:51.736Z"
   },
   {
    "duration": 186,
    "start_time": "2025-01-24T23:27:23.377Z"
   },
   {
    "duration": 178,
    "start_time": "2025-01-24T23:27:25.256Z"
   },
   {
    "duration": 175,
    "start_time": "2025-01-24T23:28:02.261Z"
   },
   {
    "duration": 181,
    "start_time": "2025-01-24T23:35:54.838Z"
   },
   {
    "duration": 36,
    "start_time": "2025-01-24T23:36:24.391Z"
   },
   {
    "duration": 506,
    "start_time": "2025-01-24T23:36:37.071Z"
   },
   {
    "duration": 472,
    "start_time": "2025-01-24T23:37:02.883Z"
   },
   {
    "duration": 99,
    "start_time": "2025-01-25T00:05:46.745Z"
   },
   {
    "duration": 3,
    "start_time": "2025-01-25T00:18:54.558Z"
   },
   {
    "duration": 4,
    "start_time": "2025-01-25T00:18:57.109Z"
   },
   {
    "duration": 23,
    "start_time": "2025-01-25T00:22:13.637Z"
   },
   {
    "duration": 6,
    "start_time": "2025-01-25T00:27:35.967Z"
   },
   {
    "duration": 3,
    "start_time": "2025-01-25T00:28:39.939Z"
   },
   {
    "duration": 2,
    "start_time": "2025-01-25T00:28:43.666Z"
   },
   {
    "duration": 110,
    "start_time": "2025-01-25T00:30:16.724Z"
   },
   {
    "duration": 3,
    "start_time": "2025-01-25T00:40:56.776Z"
   },
   {
    "duration": 12,
    "start_time": "2025-01-25T00:44:47.708Z"
   },
   {
    "duration": 6,
    "start_time": "2025-01-25T00:44:52.361Z"
   },
   {
    "duration": 2,
    "start_time": "2025-01-25T00:44:56.229Z"
   },
   {
    "duration": 2525,
    "start_time": "2025-01-25T00:46:56.813Z"
   },
   {
    "duration": 43,
    "start_time": "2025-01-25T01:18:25.772Z"
   },
   {
    "duration": 390,
    "start_time": "2025-01-25T01:37:13.318Z"
   },
   {
    "duration": 15,
    "start_time": "2025-01-25T01:44:30.912Z"
   },
   {
    "duration": 16,
    "start_time": "2025-01-25T01:44:38.623Z"
   },
   {
    "duration": 21,
    "start_time": "2025-01-25T01:56:23.805Z"
   },
   {
    "duration": 19,
    "start_time": "2025-01-25T02:03:50.873Z"
   },
   {
    "duration": 7,
    "start_time": "2025-01-25T02:21:08.109Z"
   },
   {
    "duration": 38,
    "start_time": "2025-01-25T02:21:38.184Z"
   },
   {
    "duration": 6,
    "start_time": "2025-01-25T02:37:39.128Z"
   },
   {
    "duration": 99,
    "start_time": "2025-01-27T02:48:30.974Z"
   },
   {
    "duration": 4,
    "start_time": "2025-01-27T02:48:31.146Z"
   },
   {
    "duration": 23,
    "start_time": "2025-01-27T02:48:31.229Z"
   },
   {
    "duration": 6,
    "start_time": "2025-01-27T02:48:31.328Z"
   },
   {
    "duration": 112,
    "start_time": "2025-01-27T02:48:31.453Z"
   },
   {
    "duration": 3,
    "start_time": "2025-01-27T02:48:31.629Z"
   },
   {
    "duration": 5,
    "start_time": "2025-01-27T02:48:31.742Z"
   },
   {
    "duration": 3,
    "start_time": "2025-01-27T02:48:31.815Z"
   },
   {
    "duration": 592,
    "start_time": "2025-01-27T02:48:31.905Z"
   },
   {
    "duration": 48,
    "start_time": "2025-01-27T02:48:32.499Z"
   },
   {
    "duration": 387,
    "start_time": "2025-01-27T02:48:32.548Z"
   },
   {
    "duration": 15,
    "start_time": "2025-01-27T02:48:32.937Z"
   },
   {
    "duration": 18,
    "start_time": "2025-01-27T02:48:32.954Z"
   },
   {
    "duration": 51,
    "start_time": "2025-01-27T02:48:32.974Z"
   },
   {
    "duration": 7,
    "start_time": "2025-01-27T02:48:33.026Z"
   },
   {
    "duration": 100,
    "start_time": "2025-01-27T03:28:12.788Z"
   },
   {
    "duration": 3,
    "start_time": "2025-01-27T03:28:12.890Z"
   },
   {
    "duration": 34,
    "start_time": "2025-01-27T03:28:12.895Z"
   },
   {
    "duration": 7,
    "start_time": "2025-01-27T03:28:12.931Z"
   },
   {
    "duration": 126,
    "start_time": "2025-01-27T03:28:12.940Z"
   },
   {
    "duration": 2,
    "start_time": "2025-01-27T03:28:13.068Z"
   },
   {
    "duration": 6,
    "start_time": "2025-01-27T03:28:13.072Z"
   },
   {
    "duration": 3,
    "start_time": "2025-01-27T03:28:13.080Z"
   },
   {
    "duration": 439,
    "start_time": "2025-01-27T03:28:13.085Z"
   },
   {
    "duration": 205,
    "start_time": "2025-01-27T03:28:13.526Z"
   },
   {
    "duration": 34,
    "start_time": "2025-01-27T03:28:13.733Z"
   },
   {
    "duration": 432,
    "start_time": "2025-01-27T03:28:13.769Z"
   },
   {
    "duration": 23,
    "start_time": "2025-01-27T03:28:14.203Z"
   },
   {
    "duration": 25,
    "start_time": "2025-01-27T03:28:14.227Z"
   },
   {
    "duration": 32,
    "start_time": "2025-01-27T03:28:14.254Z"
   },
   {
    "duration": 7,
    "start_time": "2025-01-27T03:28:14.288Z"
   },
   {
    "duration": 385,
    "start_time": "2025-01-27T03:28:50.255Z"
   },
   {
    "duration": 9,
    "start_time": "2025-01-27T03:48:49.067Z"
   },
   {
    "duration": 95,
    "start_time": "2025-01-27T03:52:06.168Z"
   },
   {
    "duration": 4,
    "start_time": "2025-01-27T03:52:06.265Z"
   },
   {
    "duration": 21,
    "start_time": "2025-01-27T03:52:06.271Z"
   },
   {
    "duration": 5,
    "start_time": "2025-01-27T03:52:06.294Z"
   },
   {
    "duration": 138,
    "start_time": "2025-01-27T03:52:06.300Z"
   },
   {
    "duration": 3,
    "start_time": "2025-01-27T03:52:06.440Z"
   },
   {
    "duration": 6,
    "start_time": "2025-01-27T03:52:06.445Z"
   },
   {
    "duration": 3,
    "start_time": "2025-01-27T03:52:06.452Z"
   },
   {
    "duration": 5,
    "start_time": "2025-01-27T03:52:06.457Z"
   },
   {
    "duration": 400,
    "start_time": "2025-01-27T03:52:06.464Z"
   },
   {
    "duration": 205,
    "start_time": "2025-01-27T03:52:06.865Z"
   },
   {
    "duration": 35,
    "start_time": "2025-01-27T03:52:07.072Z"
   },
   {
    "duration": 372,
    "start_time": "2025-01-27T03:52:07.109Z"
   },
   {
    "duration": 7,
    "start_time": "2025-01-27T03:52:07.483Z"
   },
   {
    "duration": 36,
    "start_time": "2025-01-27T03:52:07.491Z"
   },
   {
    "duration": 32,
    "start_time": "2025-01-27T03:52:07.529Z"
   },
   {
    "duration": 7,
    "start_time": "2025-01-27T03:52:07.564Z"
   },
   {
    "duration": 14,
    "start_time": "2025-01-27T03:57:30.406Z"
   },
   {
    "duration": 9,
    "start_time": "2025-01-27T03:57:40.315Z"
   },
   {
    "duration": 35,
    "start_time": "2025-01-27T03:57:56.192Z"
   },
   {
    "duration": 218,
    "start_time": "2025-01-27T04:02:59.316Z"
   },
   {
    "duration": 199,
    "start_time": "2025-01-27T04:04:17.939Z"
   },
   {
    "duration": 101,
    "start_time": "2025-01-27T04:05:23.484Z"
   },
   {
    "duration": 3,
    "start_time": "2025-01-27T04:05:23.587Z"
   },
   {
    "duration": 36,
    "start_time": "2025-01-27T04:05:23.593Z"
   },
   {
    "duration": 8,
    "start_time": "2025-01-27T04:05:23.632Z"
   },
   {
    "duration": 135,
    "start_time": "2025-01-27T04:05:23.642Z"
   },
   {
    "duration": 3,
    "start_time": "2025-01-27T04:05:23.779Z"
   },
   {
    "duration": 5,
    "start_time": "2025-01-27T04:05:23.784Z"
   },
   {
    "duration": 3,
    "start_time": "2025-01-27T04:05:23.791Z"
   },
   {
    "duration": 28,
    "start_time": "2025-01-27T04:05:23.796Z"
   },
   {
    "duration": 410,
    "start_time": "2025-01-27T04:05:23.825Z"
   },
   {
    "duration": 210,
    "start_time": "2025-01-27T04:05:24.237Z"
   },
   {
    "duration": 38,
    "start_time": "2025-01-27T04:05:24.449Z"
   },
   {
    "duration": 227,
    "start_time": "2025-01-27T04:05:24.489Z"
   },
   {
    "duration": 12,
    "start_time": "2025-01-27T04:05:24.717Z"
   },
   {
    "duration": 7,
    "start_time": "2025-01-27T04:05:24.730Z"
   },
   {
    "duration": 21,
    "start_time": "2025-01-27T04:05:24.738Z"
   },
   {
    "duration": 7,
    "start_time": "2025-01-27T04:05:24.761Z"
   },
   {
    "duration": 17,
    "start_time": "2025-01-27T04:06:18.042Z"
   },
   {
    "duration": 110,
    "start_time": "2025-01-27T04:09:15.718Z"
   },
   {
    "duration": 3,
    "start_time": "2025-01-27T04:09:15.831Z"
   },
   {
    "duration": 22,
    "start_time": "2025-01-27T04:09:15.836Z"
   },
   {
    "duration": 9,
    "start_time": "2025-01-27T04:09:15.862Z"
   },
   {
    "duration": 151,
    "start_time": "2025-01-27T04:09:15.873Z"
   },
   {
    "duration": 3,
    "start_time": "2025-01-27T04:09:16.026Z"
   },
   {
    "duration": 6,
    "start_time": "2025-01-27T04:09:16.031Z"
   },
   {
    "duration": 3,
    "start_time": "2025-01-27T04:09:16.039Z"
   },
   {
    "duration": 6,
    "start_time": "2025-01-27T04:09:16.044Z"
   },
   {
    "duration": 498,
    "start_time": "2025-01-27T04:09:16.052Z"
   },
   {
    "duration": 210,
    "start_time": "2025-01-27T04:09:16.552Z"
   },
   {
    "duration": 36,
    "start_time": "2025-01-27T04:09:16.763Z"
   },
   {
    "duration": 260,
    "start_time": "2025-01-27T04:09:16.801Z"
   },
   {
    "duration": 7,
    "start_time": "2025-01-27T04:09:17.063Z"
   },
   {
    "duration": 18,
    "start_time": "2025-01-27T04:09:17.072Z"
   },
   {
    "duration": 8,
    "start_time": "2025-01-27T04:09:17.092Z"
   },
   {
    "duration": 3,
    "start_time": "2025-01-27T04:18:59.335Z"
   },
   {
    "duration": 9,
    "start_time": "2025-01-27T04:19:24.757Z"
   },
   {
    "duration": 29,
    "start_time": "2025-01-27T04:19:39.960Z"
   },
   {
    "duration": 39,
    "start_time": "2025-01-27T04:20:04.561Z"
   },
   {
    "duration": 161,
    "start_time": "2025-01-27T15:33:08.572Z"
   },
   {
    "duration": 13,
    "start_time": "2025-01-27T15:35:43.926Z"
   },
   {
    "duration": 444,
    "start_time": "2025-01-27T15:36:24.178Z"
   },
   {
    "duration": 4,
    "start_time": "2025-01-27T15:36:24.624Z"
   },
   {
    "duration": 22,
    "start_time": "2025-01-27T15:36:24.630Z"
   },
   {
    "duration": 9,
    "start_time": "2025-01-27T15:36:24.655Z"
   },
   {
    "duration": 148,
    "start_time": "2025-01-27T15:36:24.666Z"
   },
   {
    "duration": 2,
    "start_time": "2025-01-27T15:36:24.817Z"
   },
   {
    "duration": 6,
    "start_time": "2025-01-27T15:36:24.822Z"
   },
   {
    "duration": 2,
    "start_time": "2025-01-27T15:36:24.830Z"
   },
   {
    "duration": 6,
    "start_time": "2025-01-27T15:36:24.834Z"
   },
   {
    "duration": 2705,
    "start_time": "2025-01-27T15:36:24.842Z"
   },
   {
    "duration": 239,
    "start_time": "2025-01-27T15:36:27.549Z"
   },
   {
    "duration": 56,
    "start_time": "2025-01-27T15:36:27.790Z"
   },
   {
    "duration": 241,
    "start_time": "2025-01-27T15:36:27.848Z"
   },
   {
    "duration": 19,
    "start_time": "2025-01-27T15:36:28.091Z"
   },
   {
    "duration": 28,
    "start_time": "2025-01-27T15:36:28.112Z"
   },
   {
    "duration": 19,
    "start_time": "2025-01-27T15:36:28.142Z"
   },
   {
    "duration": 42,
    "start_time": "2025-01-27T15:46:16.039Z"
   },
   {
    "duration": 149,
    "start_time": "2025-01-27T15:48:24.000Z"
   },
   {
    "duration": 23,
    "start_time": "2025-01-27T16:05:15.142Z"
   },
   {
    "duration": 107,
    "start_time": "2025-01-27T16:07:41.296Z"
   },
   {
    "duration": 4,
    "start_time": "2025-01-27T16:07:41.409Z"
   },
   {
    "duration": 25,
    "start_time": "2025-01-27T16:07:41.414Z"
   },
   {
    "duration": 6,
    "start_time": "2025-01-27T16:07:41.443Z"
   },
   {
    "duration": 144,
    "start_time": "2025-01-27T16:07:41.451Z"
   },
   {
    "duration": 13,
    "start_time": "2025-01-27T16:07:41.597Z"
   },
   {
    "duration": 6,
    "start_time": "2025-01-27T16:07:41.611Z"
   },
   {
    "duration": 3,
    "start_time": "2025-01-27T16:07:41.619Z"
   },
   {
    "duration": 6,
    "start_time": "2025-01-27T16:07:41.623Z"
   },
   {
    "duration": 404,
    "start_time": "2025-01-27T16:07:41.632Z"
   },
   {
    "duration": 206,
    "start_time": "2025-01-27T16:07:42.038Z"
   },
   {
    "duration": 32,
    "start_time": "2025-01-27T16:07:42.246Z"
   },
   {
    "duration": 231,
    "start_time": "2025-01-27T16:07:42.281Z"
   },
   {
    "duration": 8,
    "start_time": "2025-01-27T16:07:42.515Z"
   },
   {
    "duration": 33,
    "start_time": "2025-01-27T16:07:42.526Z"
   },
   {
    "duration": 18,
    "start_time": "2025-01-27T16:07:42.561Z"
   },
   {
    "duration": 85,
    "start_time": "2025-01-27T16:07:42.581Z"
   },
   {
    "duration": 0,
    "start_time": "2025-01-27T16:07:42.668Z"
   },
   {
    "duration": 0,
    "start_time": "2025-01-27T16:07:42.669Z"
   },
   {
    "duration": 43,
    "start_time": "2025-01-27T16:10:15.897Z"
   },
   {
    "duration": 131,
    "start_time": "2025-01-27T16:25:54.225Z"
   },
   {
    "duration": 65,
    "start_time": "2025-01-27T16:29:03.267Z"
   },
   {
    "duration": 50,
    "start_time": "2025-01-27T16:32:56.436Z"
   },
   {
    "duration": 55,
    "start_time": "2025-01-27T16:33:31.743Z"
   },
   {
    "duration": 46,
    "start_time": "2025-01-27T16:33:57.003Z"
   },
   {
    "duration": 100,
    "start_time": "2025-01-27T16:40:38.489Z"
   },
   {
    "duration": 4,
    "start_time": "2025-01-27T16:40:38.592Z"
   },
   {
    "duration": 21,
    "start_time": "2025-01-27T16:40:38.609Z"
   },
   {
    "duration": 7,
    "start_time": "2025-01-27T16:40:38.633Z"
   },
   {
    "duration": 127,
    "start_time": "2025-01-27T16:40:38.641Z"
   },
   {
    "duration": 3,
    "start_time": "2025-01-27T16:40:38.770Z"
   },
   {
    "duration": 6,
    "start_time": "2025-01-27T16:40:38.775Z"
   },
   {
    "duration": 4,
    "start_time": "2025-01-27T16:40:38.782Z"
   },
   {
    "duration": 25,
    "start_time": "2025-01-27T16:40:38.787Z"
   },
   {
    "duration": 414,
    "start_time": "2025-01-27T16:40:38.814Z"
   },
   {
    "duration": 208,
    "start_time": "2025-01-27T16:40:39.230Z"
   },
   {
    "duration": 31,
    "start_time": "2025-01-27T16:40:39.440Z"
   },
   {
    "duration": 233,
    "start_time": "2025-01-27T16:40:39.473Z"
   },
   {
    "duration": 7,
    "start_time": "2025-01-27T16:40:39.709Z"
   },
   {
    "duration": 27,
    "start_time": "2025-01-27T16:40:39.718Z"
   },
   {
    "duration": 71,
    "start_time": "2025-01-27T16:40:39.747Z"
   },
   {
    "duration": 39,
    "start_time": "2025-01-27T16:40:39.820Z"
   },
   {
    "duration": 143,
    "start_time": "2025-01-27T16:40:39.862Z"
   },
   {
    "duration": 66,
    "start_time": "2025-01-27T16:40:40.010Z"
   },
   {
    "duration": 68,
    "start_time": "2025-01-27T17:04:16.735Z"
   },
   {
    "duration": 37,
    "start_time": "2025-01-27T17:23:23.023Z"
   },
   {
    "duration": 40,
    "start_time": "2025-01-27T17:42:17.647Z"
   },
   {
    "duration": 39,
    "start_time": "2025-01-27T17:52:50.453Z"
   },
   {
    "duration": 41,
    "start_time": "2025-01-27T17:54:39.895Z"
   },
   {
    "duration": 5,
    "start_time": "2025-01-27T17:57:13.076Z"
   },
   {
    "duration": 16,
    "start_time": "2025-01-28T02:02:00.367Z"
   },
   {
    "duration": 26,
    "start_time": "2025-01-28T02:13:08.447Z"
   },
   {
    "duration": 442,
    "start_time": "2025-01-28T02:17:42.886Z"
   },
   {
    "duration": 18,
    "start_time": "2025-01-28T02:54:46.485Z"
   },
   {
    "duration": 35,
    "start_time": "2025-01-28T02:55:24.561Z"
   },
   {
    "duration": 39,
    "start_time": "2025-01-28T02:56:06.957Z"
   },
   {
    "duration": 5,
    "start_time": "2025-01-28T03:08:56.815Z"
   },
   {
    "duration": 18,
    "start_time": "2025-01-28T04:23:14.329Z"
   },
   {
    "duration": 19,
    "start_time": "2025-01-28T04:23:15.738Z"
   },
   {
    "duration": 19,
    "start_time": "2025-01-28T04:25:49.038Z"
   },
   {
    "duration": 18,
    "start_time": "2025-01-28T04:25:52.192Z"
   },
   {
    "duration": 30,
    "start_time": "2025-01-28T04:26:17.749Z"
   },
   {
    "duration": 19,
    "start_time": "2025-01-28T04:27:03.478Z"
   },
   {
    "duration": 4,
    "start_time": "2025-01-28T04:49:45.195Z"
   },
   {
    "duration": 58,
    "start_time": "2025-01-28T04:52:30.605Z"
   },
   {
    "duration": 527,
    "start_time": "2025-01-28T05:17:15.009Z"
   }
  ],
  "kernelspec": {
   "display_name": "Python 3 (ipykernel)",
   "language": "python",
   "name": "python3"
  },
  "language_info": {
   "codemirror_mode": {
    "name": "ipython",
    "version": 3
   },
   "file_extension": ".py",
   "mimetype": "text/x-python",
   "name": "python",
   "nbconvert_exporter": "python",
   "pygments_lexer": "ipython3",
   "version": "3.9.19"
  },
  "toc": {
   "base_numbering": 1,
   "nav_menu": {},
   "number_sections": true,
   "sideBar": true,
   "skip_h1_title": true,
   "title_cell": "Table of Contents",
   "title_sidebar": "Contents",
   "toc_cell": false,
   "toc_position": {},
   "toc_section_display": true,
   "toc_window_display": false
  }
 },
 "nbformat": 4,
 "nbformat_minor": 2
}
