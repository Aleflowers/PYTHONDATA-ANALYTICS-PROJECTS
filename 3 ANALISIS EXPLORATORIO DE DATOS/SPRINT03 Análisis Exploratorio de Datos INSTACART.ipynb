{
 "cells": [
  {
   "cell_type": "markdown",
   "id": "3Xg_RQfnafXz",
   "metadata": {
    "id": "3Xg_RQfnafXz"
   },
   "source": [
    "# ¡Llena ese carrito!"
   ]
  },
  {
   "cell_type": "markdown",
   "id": "mhIvmmkW414q",
   "metadata": {
    "id": "mhIvmmkW414q"
   },
   "source": [
    "# Introducción\n",
    "\n",
    "Instacart es una plataforma de entregas de comestibles donde la clientela puede registrar un pedido y hacer que se lo entreguen, similar a Uber Eats y Door Dash.\n",
    "El conjunto de datos que te hemos proporcionado tiene modificaciones del original. Redujimos el tamaño del conjunto para que tus cálculos se hicieran más rápido e introdujimos valores ausentes y duplicados. Tuvimos cuidado de conservar las distribuciones de los datos originales cuando hicimos los cambios.\n",
    "\n",
    "Debes completar tres pasos. Para cada uno de ellos, escribe una breve introducción que refleje con claridad cómo pretendes resolver cada paso, y escribe párrafos explicatorios que justifiquen tus decisiones al tiempo que avanzas en tu solución.  También escribe una conclusión que resuma tus hallazgos y elecciones.\n"
   ]
  },
  {
   "cell_type": "markdown",
   "id": "3MbyzpOQZ5Or",
   "metadata": {
    "id": "3MbyzpOQZ5Or"
   },
   "source": [
    "## Diccionario de datos\n",
    "\n",
    "Hay cinco tablas en el conjunto de datos, y tendrás que usarlas todas para hacer el preprocesamiento de datos y el análisis exploratorio de datos. A continuación se muestra un diccionario de datos que enumera las columnas de cada tabla y describe los datos que contienen.\n",
    "\n",
    "- `instacart_orders.csv`: cada fila corresponde a un pedido en la aplicación Instacart.\n",
    "    - `'order_id'`: número de ID que identifica de manera única cada pedido.\n",
    "    - `'user_id'`: número de ID que identifica de manera única la cuenta de cada cliente.\n",
    "    - `'order_number'`: el número de veces que este cliente ha hecho un pedido.\n",
    "    - `'order_dow'`: día de la semana en que se hizo el pedido (0 si es domingo).\n",
    "    - `'order_hour_of_day'`: hora del día en que se hizo el pedido.\n",
    "    - `'days_since_prior_order'`: número de días transcurridos desde que este cliente hizo su pedido anterior.\n",
    "- `products.csv`: cada fila corresponde a un producto único que pueden comprar los clientes.\n",
    "    - `'product_id'`: número ID que identifica de manera única cada producto.\n",
    "    - `'product_name'`: nombre del producto.\n",
    "    - `'aisle_id'`: número ID que identifica de manera única cada categoría de pasillo de víveres.\n",
    "    - `'department_id'`: número ID que identifica de manera única cada departamento de víveres.\n",
    "- `order_products.csv`: cada fila corresponde a un artículo pedido en un pedido.\n",
    "    - `'order_id'`: número de ID que identifica de manera única cada pedido.\n",
    "    - `'product_id'`: número ID que identifica de manera única cada producto.\n",
    "    - `'add_to_cart_order'`: el orden secuencial en el que se añadió cada artículo en el carrito.\n",
    "    - `'reordered'`: 0 si el cliente nunca ha pedido este producto antes, 1 si lo ha pedido.\n",
    "- `aisles.csv`\n",
    "    - `'aisle_id'`: número ID que identifica de manera única cada categoría de pasillo de víveres.\n",
    "    - `'aisle'`: nombre del pasillo.\n",
    "- `departments.csv`\n",
    "    - `'department_id'`: número ID que identifica de manera única cada departamento de víveres.\n",
    "    - `'department'`: nombre del departamento."
   ]
  },
  {
   "cell_type": "markdown",
   "id": "n3Ha_cNSZ8lK",
   "metadata": {
    "id": "n3Ha_cNSZ8lK"
   },
   "source": [
    "# Paso 1. Descripción de los datos\n",
    "\n",
    "Lee los archivos de datos (`/datasets/instacart_orders.csv`, `/datasets/products.csv`, `/datasets/aisles.csv`, `/datasets/departments.csv` y `/datasets/order_products.csv`) con `pd.read_csv()` usando los parámetros adecuados para leer los datos correctamente. Verifica la información para cada DataFrame creado.\n"
   ]
  },
  {
   "cell_type": "markdown",
   "id": "OmlQPLlyaAfR",
   "metadata": {
    "id": "OmlQPLlyaAfR"
   },
   "source": [
    "## Plan de solución\n",
    "\n",
    "Escribe aquí tu plan de solución para el Paso 1. Descripción de los datos."
   ]
  },
  {
   "cell_type": "code",
   "execution_count": 1,
   "id": "fbf1adab",
   "metadata": {
    "id": "fbf1adab"
   },
   "outputs": [],
   "source": [
    "# importar librerías\n",
    "import pandas as pd\n"
   ]
  },
  {
   "cell_type": "code",
   "execution_count": 2,
   "id": "ad36396d",
   "metadata": {
    "id": "ad36396d"
   },
   "outputs": [],
   "source": [
    "# leer conjuntos de datos en los DataFrames\n",
    "df_car_orders=pd.read_csv('/datasets/instacart_orders.csv', sep=';') #pedidos en la aplicación instacart\n",
    "df_product=pd.read_csv('/datasets/products.csv',sep=';') #catálogo de productos\n",
    "df_aisles=pd.read_csv('/datasets/aisles.csv',sep=';') #categoría de pasillo de víveres\n",
    "df_departments=pd.read_csv('/datasets/departments.csv',sep=';') #categoría de departamento de víveres\n",
    "df_order_product=pd.read_csv('/datasets/order_products.csv',sep=';') #ordenes de productos\n",
    "\n",
    "\n",
    "\n"
   ]
  },
  {
   "cell_type": "code",
   "execution_count": 3,
   "id": "ad6a1efa",
   "metadata": {
    "id": "ad6a1efa",
    "scrolled": false
   },
   "outputs": [
    {
     "name": "stdout",
     "output_type": "stream",
     "text": [
      "<class 'pandas.core.frame.DataFrame'>\n",
      "RangeIndex: 478967 entries, 0 to 478966\n",
      "Data columns (total 6 columns):\n",
      " #   Column                  Non-Null Count   Dtype  \n",
      "---  ------                  --------------   -----  \n",
      " 0   order_id                478967 non-null  int64  \n",
      " 1   user_id                 478967 non-null  int64  \n",
      " 2   order_number            478967 non-null  int64  \n",
      " 3   order_dow               478967 non-null  int64  \n",
      " 4   order_hour_of_day       478967 non-null  int64  \n",
      " 5   days_since_prior_order  450148 non-null  float64\n",
      "dtypes: float64(1), int64(5)\n",
      "memory usage: 21.9 MB\n",
      "   order_id  user_id  order_number  order_dow  order_hour_of_day  \\\n",
      "0   1515936   183418            11          6                 13   \n",
      "1   1690866   163593             5          5                 12   \n",
      "2   1454967    39980             4          5                 19   \n",
      "3   1768857    82516            56          0                 20   \n",
      "4   3007858   196724             2          4                 12   \n",
      "\n",
      "   days_since_prior_order  \n",
      "0                    30.0  \n",
      "1                     9.0  \n",
      "2                     2.0  \n",
      "3                    10.0  \n",
      "4                    17.0  \n",
      "0.0      9589\n",
      "1.0     20179\n",
      "2.0     27141\n",
      "3.0     30225\n",
      "4.0     31007\n",
      "5.0     30096\n",
      "6.0     33931\n",
      "7.0     44579\n",
      "8.0     25361\n",
      "9.0     16754\n",
      "10.0    13310\n",
      "11.0    11467\n",
      "12.0    10658\n",
      "13.0    11737\n",
      "14.0    13992\n",
      "15.0     9416\n",
      "16.0     6588\n",
      "17.0     5498\n",
      "18.0     4972\n",
      "19.0     4939\n",
      "20.0     5302\n",
      "21.0     6448\n",
      "22.0     4514\n",
      "23.0     3337\n",
      "24.0     3015\n",
      "25.0     2711\n",
      "26.0     2640\n",
      "27.0     2986\n",
      "28.0     3745\n",
      "29.0     2673\n",
      "30.0    51338\n",
      "NaN     28819\n",
      "Name: days_since_prior_order, dtype: int64\n",
      "<class 'pandas.core.frame.DataFrame'>\n",
      "RangeIndex: 478967 entries, 0 to 478966\n",
      "Data columns (total 6 columns):\n",
      " #   Column                  Non-Null Count   Dtype  \n",
      "---  ------                  --------------   -----  \n",
      " 0   order_id                478967 non-null  int64  \n",
      " 1   user_id                 478967 non-null  int64  \n",
      " 2   order_number            478967 non-null  int64  \n",
      " 3   order_dow               478967 non-null  int64  \n",
      " 4   order_hour_of_day       478967 non-null  int64  \n",
      " 5   days_since_prior_order  450148 non-null  float64\n",
      "dtypes: float64(1), int64(5)\n",
      "memory usage: 21.9 MB\n",
      "********Dataset duplicados :\n",
      "        order_id  user_id  order_number  order_dow  order_hour_of_day  \\\n",
      "145574    794638    50898            24          3                  2   \n",
      "223105   2160484   107525            16          3                  2   \n",
      "230807   1918001   188546            14          3                  2   \n",
      "266232   1782114   106752             1          3                  2   \n",
      "273805   1112182   202304            84          3                  2   \n",
      "284038   2845099    31189            11          3                  2   \n",
      "311713   1021560    53767             3          3                  2   \n",
      "321100    408114    68324             4          3                  2   \n",
      "323900   1919531   191501            32          3                  2   \n",
      "345917   2232988    82565             1          3                  2   \n",
      "371905    391768    57671            19          3                  2   \n",
      "394347    467134    63189            21          3                  2   \n",
      "411408   1286742   183220            48          3                  2   \n",
      "415163   2282673    86751            49          3                  2   \n",
      "441599   2125197    14050            48          3                  2   \n",
      "\n",
      "        days_since_prior_order  \n",
      "145574                     2.0  \n",
      "223105                    30.0  \n",
      "230807                    16.0  \n",
      "266232                     NaN  \n",
      "273805                     6.0  \n",
      "284038                     7.0  \n",
      "311713                     9.0  \n",
      "321100                    18.0  \n",
      "323900                     7.0  \n",
      "345917                     NaN  \n",
      "371905                    10.0  \n",
      "394347                     2.0  \n",
      "411408                     4.0  \n",
      "415163                     2.0  \n",
      "441599                     3.0  \n"
     ]
    }
   ],
   "source": [
    "# mostrar información del DataFrame\n",
    "\n",
    "df_car_orders.info()\n",
    "print(df_car_orders.head())\n",
    "\n",
    "\n",
    "print(df_car_orders['days_since_prior_order'].value_counts(dropna=False).sort_index())\n",
    "\n",
    "#llenar los valores nulos identificados en info()\n",
    "#df_car_orders['days_since_prior_order'] = df_car_orders['days_since_prior_order'].fillna(0)\n",
    "\n",
    "df_car_orders.info()\n",
    "\n",
    "\n",
    "print('********Dataset duplicados :')\n",
    "print(df_car_orders[df_car_orders.duplicated()])\n",
    "\n",
    "\n",
    "\n",
    "\n",
    "\n",
    "\n",
    "\n",
    "\n"
   ]
  },
  {
   "cell_type": "code",
   "execution_count": 4,
   "id": "5130e05e",
   "metadata": {
    "id": "5130e05e",
    "scrolled": true
   },
   "outputs": [
    {
     "name": "stdout",
     "output_type": "stream",
     "text": [
      "<class 'pandas.core.frame.DataFrame'>\n",
      "RangeIndex: 49694 entries, 0 to 49693\n",
      "Data columns (total 4 columns):\n",
      " #   Column         Non-Null Count  Dtype \n",
      "---  ------         --------------  ----- \n",
      " 0   product_id     49694 non-null  int64 \n",
      " 1   product_name   48436 non-null  object\n",
      " 2   aisle_id       49694 non-null  int64 \n",
      " 3   department_id  49694 non-null  int64 \n",
      "dtypes: int64(3), object(1)\n",
      "memory usage: 1.5+ MB\n",
      "*****Agrupación y conteo de los nulos*****\n",
      "#2 Coffee Filters                                               1\n",
      "#2 Cone White Coffee Filters                                    1\n",
      "#2 Mechanical Pencils                                           1\n",
      "#4 Natural Brown Coffee Filters                                 1\n",
      "& Go! Hazelnut Spread + Pretzel Sticks                          1\n",
      "                                                             ... \n",
      "with Xylitol Unwrapped Spearmint 50 Sticks Sugar Free Gum       1\n",
      "with Xylitol Watermelon Twist 18 Sticks Sugar Free Gum          1\n",
      "with a Splash of Mango Coconut Water                            1\n",
      "with a Splash of Pineapple Coconut Water                        1\n",
      "NaN                                                          1258\n",
      "Name: product_name, Length: 48437, dtype: int64\n",
      "<class 'pandas.core.frame.DataFrame'>\n",
      "RangeIndex: 478967 entries, 0 to 478966\n",
      "Data columns (total 6 columns):\n",
      " #   Column                  Non-Null Count   Dtype  \n",
      "---  ------                  --------------   -----  \n",
      " 0   order_id                478967 non-null  int64  \n",
      " 1   user_id                 478967 non-null  int64  \n",
      " 2   order_number            478967 non-null  int64  \n",
      " 3   order_dow               478967 non-null  int64  \n",
      " 4   order_hour_of_day       478967 non-null  int64  \n",
      " 5   days_since_prior_order  450148 non-null  float64\n",
      "dtypes: float64(1), int64(5)\n",
      "memory usage: 21.9 MB\n",
      "*******Dataset duplicados :*****\n",
      "Empty DataFrame\n",
      "Columns: [product_id, product_name, aisle_id, department_id]\n",
      "Index: []\n"
     ]
    }
   ],
   "source": [
    "# mostrar información del DataFrame\n",
    "df_product.info()\n",
    "#print(df_product.head())\n",
    "\n",
    "#identificar valores nulos\n",
    "print(\"*****Agrupación y conteo de los nulos*****\")\n",
    "print(df_product['product_name'].value_counts(dropna=False).sort_index())\n",
    "\n",
    "#llenar los valores nulos identificados en info()\n",
    "#df_product['product_name'] = df_product['product_name'].fillna(\" \")\n",
    "\n",
    "df_car_orders.info()\n",
    "\n",
    "print('*******Dataset duplicados :*****')\n",
    "print(df_product[df_product.duplicated()])\n",
    "\n",
    "\n",
    "\n",
    "\n",
    "\n"
   ]
  },
  {
   "cell_type": "code",
   "execution_count": 5,
   "id": "d8370c05",
   "metadata": {
    "id": "d8370c05"
   },
   "outputs": [
    {
     "name": "stdout",
     "output_type": "stream",
     "text": [
      "<class 'pandas.core.frame.DataFrame'>\n",
      "RangeIndex: 134 entries, 0 to 133\n",
      "Data columns (total 2 columns):\n",
      " #   Column    Non-Null Count  Dtype \n",
      "---  ------    --------------  ----- \n",
      " 0   aisle_id  134 non-null    int64 \n",
      " 1   aisle     134 non-null    object\n",
      "dtypes: int64(1), object(1)\n",
      "memory usage: 2.2+ KB\n",
      "<bound method NDFrame.head of      aisle_id                       aisle\n",
      "0           1       prepared soups salads\n",
      "1           2           specialty cheeses\n",
      "2           3         energy granola bars\n",
      "3           4               instant foods\n",
      "4           5  marinades meat preparation\n",
      "..        ...                         ...\n",
      "129       130    hot cereal pancake mixes\n",
      "130       131                   dry pasta\n",
      "131       132                      beauty\n",
      "132       133  muscles joints pain relief\n",
      "133       134  specialty wines champagnes\n",
      "\n",
      "[134 rows x 2 columns]>\n",
      "*******Dataset duplicados :*****\n",
      "Empty DataFrame\n",
      "Columns: [aisle_id, aisle]\n",
      "Index: []\n"
     ]
    }
   ],
   "source": [
    "# mostrar información del DataFrame\n",
    "df_aisles.info()\n",
    "print (df_aisles.head)\n",
    "\n",
    "print('*******Dataset duplicados :*****')\n",
    "print(df_aisles[df_aisles.duplicated()])\n"
   ]
  },
  {
   "cell_type": "code",
   "execution_count": 6,
   "id": "59e2090f",
   "metadata": {
    "id": "59e2090f"
   },
   "outputs": [
    {
     "name": "stdout",
     "output_type": "stream",
     "text": [
      "<class 'pandas.core.frame.DataFrame'>\n",
      "RangeIndex: 21 entries, 0 to 20\n",
      "Data columns (total 2 columns):\n",
      " #   Column         Non-Null Count  Dtype \n",
      "---  ------         --------------  ----- \n",
      " 0   department_id  21 non-null     int64 \n",
      " 1   department     21 non-null     object\n",
      "dtypes: int64(1), object(1)\n",
      "memory usage: 464.0+ bytes\n",
      "    department_id       department\n",
      "0               1           frozen\n",
      "1               2            other\n",
      "2               3           bakery\n",
      "3               4          produce\n",
      "4               5          alcohol\n",
      "5               6    international\n",
      "6               7        beverages\n",
      "7               8             pets\n",
      "8               9  dry goods pasta\n",
      "9              10             bulk\n",
      "10             11    personal care\n",
      "11             12     meat seafood\n",
      "12             13           pantry\n",
      "13             14        breakfast\n",
      "14             15     canned goods\n",
      "15             16       dairy eggs\n",
      "16             17        household\n",
      "17             18           babies\n",
      "18             19           snacks\n",
      "19             20             deli\n",
      "20             21          missing\n",
      "*******Dataset duplicados :*****\n",
      "Empty DataFrame\n",
      "Columns: [department_id, department]\n",
      "Index: []\n"
     ]
    }
   ],
   "source": [
    "# mostrar información del DataFrame\n",
    "df_departments.info()\n",
    "print (df_departments)\n",
    "\n",
    "print('*******Dataset duplicados :*****')\n",
    "print(df_departments[df_departments.duplicated()])\n"
   ]
  },
  {
   "cell_type": "code",
   "execution_count": 7,
   "id": "6fc81694",
   "metadata": {
    "id": "6fc81694"
   },
   "outputs": [
    {
     "name": "stdout",
     "output_type": "stream",
     "text": [
      "<class 'pandas.core.frame.DataFrame'>\n",
      "RangeIndex: 4545007 entries, 0 to 4545006\n",
      "Data columns (total 4 columns):\n",
      " #   Column             Dtype  \n",
      "---  ------             -----  \n",
      " 0   order_id           int64  \n",
      " 1   product_id         int64  \n",
      " 2   add_to_cart_order  float64\n",
      " 3   reordered          int64  \n",
      "dtypes: float64(1), int64(3)\n",
      "memory usage: 138.7 MB\n",
      "   order_id  product_id  add_to_cart_order  reordered\n",
      "0   2141543       11440               17.0          0\n",
      "1    567889        1560                1.0          1\n",
      "2   2261212       26683                1.0          1\n",
      "3    491251        8670               35.0          1\n",
      "4   2571142        1940                5.0          1\n",
      "*****Agrupación y conteo de los nulos*****\n",
      "4          13\n",
      "9          15\n",
      "11          5\n",
      "19          3\n",
      "20          8\n",
      "           ..\n",
      "3421034    17\n",
      "3421053     9\n",
      "3421071     5\n",
      "3421077     4\n",
      "3421079     1\n",
      "Name: order_id, Length: 450046, dtype: int64\n",
      "1        280\n",
      "2         11\n",
      "3         42\n",
      "4         49\n",
      "7          2\n",
      "        ... \n",
      "49690      5\n",
      "49691     72\n",
      "49692     12\n",
      "49693     25\n",
      "49694      9\n",
      "Name: product_id, Length: 45573, dtype: int64\n",
      "1.0     450046\n",
      "2.0     428199\n",
      "3.0     401907\n",
      "4.0     372861\n",
      "5.0     341807\n",
      "         ...  \n",
      "61.0       114\n",
      "62.0        98\n",
      "63.0        87\n",
      "64.0        75\n",
      "NaN        836\n",
      "Name: add_to_cart_order, Length: 65, dtype: int64\n",
      "0    1861169\n",
      "1    2683838\n",
      "Name: reordered, dtype: int64\n",
      "*******Dataset duplicados :*****\n",
      "Empty DataFrame\n",
      "Columns: [order_id, product_id, add_to_cart_order, reordered]\n",
      "Index: []\n"
     ]
    }
   ],
   "source": [
    "# mostrar información del DataFrame\n",
    "df_order_product=pd.read_csv('/datasets/order_products.csv',sep=';') #ordenes de productos\n",
    "df_order_product.info()\n",
    "print(df_order_product.head())\n",
    "\n",
    "print(\"*****Agrupación y conteo de los nulos*****\")\n",
    "print(df_order_product['order_id'].value_counts(dropna=False).sort_index())\n",
    "print(df_order_product['product_id'].value_counts(dropna=False).sort_index())\n",
    "print(df_order_product['add_to_cart_order'].value_counts(dropna=False).sort_index())\n",
    "print(df_order_product['reordered'].value_counts(dropna=False).sort_index())\n",
    "\n",
    "\n",
    "print('*******Dataset duplicados :*****')\n",
    "print(df_order_product[df_order_product.duplicated()])\n"
   ]
  },
  {
   "cell_type": "markdown",
   "id": "t75BD19oaR5f",
   "metadata": {
    "id": "t75BD19oaR5f"
   },
   "source": [
    "## Conclusiones\n",
    "\n",
    "Escribe aquí tus conclusiones intermedias sobre el Paso 1. Descripción de los datos.\n",
    "\n",
    "Los siguientes dataframes tienen valores nulos:\n",
    "df_car_orders[day_sinces_prior_order]=28819 reg nulos\n",
    "df_order_product[product_name] =1258 reg nulos\n",
    "\n",
    "df_order[]= en este data frame no entiendo porque el data.info() no me indica el numero de nulos en la información.\n",
    "\n",
    "Los siguientes DataFrames no tienen valores nulos (ausented) con el data.info:\n",
    "\n",
    "df_departments no me marca nulos el data.info()\n",
    "df_aisles no me marca nulos el data.info()\n"
   ]
  },
  {
   "cell_type": "markdown",
   "id": "8RJHqxVmaVsF",
   "metadata": {
    "id": "8RJHqxVmaVsF"
   },
   "source": [
    "# Paso 2. Preprocesamiento de los datos\n",
    "\n",
    "Preprocesa los datos de la siguiente manera:\n",
    "\n",
    "- Verifica y corrige los tipos de datos (por ejemplo, asegúrate de que las columnas de ID sean números enteros).\n",
    "- Identifica y completa los valores ausentes.\n",
    "- Identifica y elimina los valores duplicados.\n",
    "\n",
    "Asegúrate de explicar qué tipos de valores ausentes y duplicados encontraste, cómo los completaste o eliminaste y por qué usaste esos métodos. ¿Por qué crees que estos valores ausentes y duplicados pueden haber estado presentes en el conjunto de datos?"
   ]
  },
  {
   "cell_type": "markdown",
   "id": "p6poABZQaZYb",
   "metadata": {
    "id": "p6poABZQaZYb"
   },
   "source": [
    "## Plan de solución\n",
    "\n",
    "Escribe aquí tu plan para el Paso 2. Preprocesamiento de los datos."
   ]
  },
  {
   "cell_type": "markdown",
   "id": "07357848-dc64-4156-9cc3-01ff4365226d",
   "metadata": {
    "id": "07357848-dc64-4156-9cc3-01ff4365226d"
   },
   "source": [
    "## Encuentra y elimina los valores duplicados (y describe cómo tomaste tus decisiones)."
   ]
  },
  {
   "cell_type": "markdown",
   "id": "f179f0a9",
   "metadata": {
    "id": "f179f0a9"
   },
   "source": [
    "### `orders` data frame"
   ]
  },
  {
   "cell_type": "code",
   "execution_count": 8,
   "id": "b99297a5-405a-463d-8535-9adc3da4ad74",
   "metadata": {
    "id": "b99297a5-405a-463d-8535-9adc3da4ad74",
    "scrolled": true
   },
   "outputs": [
    {
     "name": "stdout",
     "output_type": "stream",
     "text": [
      "        order_id  user_id  order_number  order_dow  order_hour_of_day  \\\n",
      "145574    794638    50898            24          3                  2   \n",
      "223105   2160484   107525            16          3                  2   \n",
      "230807   1918001   188546            14          3                  2   \n",
      "266232   1782114   106752             1          3                  2   \n",
      "273805   1112182   202304            84          3                  2   \n",
      "284038   2845099    31189            11          3                  2   \n",
      "311713   1021560    53767             3          3                  2   \n",
      "321100    408114    68324             4          3                  2   \n",
      "323900   1919531   191501            32          3                  2   \n",
      "345917   2232988    82565             1          3                  2   \n",
      "371905    391768    57671            19          3                  2   \n",
      "394347    467134    63189            21          3                  2   \n",
      "411408   1286742   183220            48          3                  2   \n",
      "415163   2282673    86751            49          3                  2   \n",
      "441599   2125197    14050            48          3                  2   \n",
      "\n",
      "        days_since_prior_order  \n",
      "145574                     2.0  \n",
      "223105                    30.0  \n",
      "230807                    16.0  \n",
      "266232                     NaN  \n",
      "273805                     6.0  \n",
      "284038                     7.0  \n",
      "311713                     9.0  \n",
      "321100                    18.0  \n",
      "323900                     7.0  \n",
      "345917                     NaN  \n",
      "371905                    10.0  \n",
      "394347                     2.0  \n",
      "411408                     4.0  \n",
      "415163                     2.0  \n",
      "441599                     3.0  \n",
      "        order_id  user_id  order_number  order_dow  order_hour_of_day  \\\n",
      "99462     794638    50898            24          3                  2   \n",
      "145574    794638    50898            24          3                  2   \n",
      "\n",
      "        days_since_prior_order  \n",
      "99462                      2.0  \n",
      "145574                     2.0  \n"
     ]
    }
   ],
   "source": [
    "# Revisa si hay pedidos duplicados\n",
    "print(df_car_orders[df_car_orders['order_id'].duplicated()])\n",
    "\n",
    "filtro= (df_car_orders.loc[df_car_orders['order_id']==794638])\n",
    "                       \n",
    "print( filtro)\n",
    "\n"
   ]
  },
  {
   "cell_type": "markdown",
   "id": "PEkwUX_gvt5A",
   "metadata": {
    "id": "PEkwUX_gvt5A"
   },
   "source": [
    "¿Tienes líneas duplicadas? Si sí, ¿qué tienen en común?"
   ]
  },
  {
   "cell_type": "code",
   "execution_count": 9,
   "id": "0d44de5d",
   "metadata": {
    "id": "0d44de5d"
   },
   "outputs": [
    {
     "name": "stdout",
     "output_type": "stream",
     "text": [
      "        order_id  user_id  order_number  order_dow  order_hour_of_day  \\\n",
      "145574    794638    50898            24          3                  2   \n",
      "223105   2160484   107525            16          3                  2   \n",
      "230807   1918001   188546            14          3                  2   \n",
      "266232   1782114   106752             1          3                  2   \n",
      "273805   1112182   202304            84          3                  2   \n",
      "284038   2845099    31189            11          3                  2   \n",
      "311713   1021560    53767             3          3                  2   \n",
      "321100    408114    68324             4          3                  2   \n",
      "323900   1919531   191501            32          3                  2   \n",
      "345917   2232988    82565             1          3                  2   \n",
      "371905    391768    57671            19          3                  2   \n",
      "394347    467134    63189            21          3                  2   \n",
      "411408   1286742   183220            48          3                  2   \n",
      "415163   2282673    86751            49          3                  2   \n",
      "441599   2125197    14050            48          3                  2   \n",
      "\n",
      "        days_since_prior_order  \n",
      "145574                     2.0  \n",
      "223105                    30.0  \n",
      "230807                    16.0  \n",
      "266232                     NaN  \n",
      "273805                     6.0  \n",
      "284038                     7.0  \n",
      "311713                     9.0  \n",
      "321100                    18.0  \n",
      "323900                     7.0  \n",
      "345917                     NaN  \n",
      "371905                    10.0  \n",
      "394347                     2.0  \n",
      "411408                     4.0  \n",
      "415163                     2.0  \n",
      "441599                     3.0  \n"
     ]
    }
   ],
   "source": [
    "# Basándote en tus hallazgos,\n",
    "# Verifica todos los pedidos que se hicieron el miércoles a las 2:00 a.m.\n",
    "\n",
    "filtro= (df_car_orders.loc[(df_car_orders['order_dow']==3) & (df_car_orders['order_hour_of_day']==2) ])\n",
    "                           \n",
    "print(filtro[filtro['order_id'].duplicated()])\n"
   ]
  },
  {
   "cell_type": "markdown",
   "id": "vu2OWyoqwOx5",
   "metadata": {
    "id": "vu2OWyoqwOx5"
   },
   "source": [
    "¿Qué sugiere este resultado? Hay registros duplicados en las transacciones del miercoles a las 2 pm y hay que eliminarlos"
   ]
  },
  {
   "cell_type": "code",
   "execution_count": 10,
   "id": "480563c7",
   "metadata": {
    "id": "480563c7",
    "scrolled": true
   },
   "outputs": [
    {
     "name": "stdout",
     "output_type": "stream",
     "text": [
      "0         False\n",
      "1         False\n",
      "2         False\n",
      "3         False\n",
      "4         False\n",
      "          ...  \n",
      "478962    False\n",
      "478963    False\n",
      "478964    False\n",
      "478965    False\n",
      "478966    False\n",
      "Length: 478952, dtype: bool\n"
     ]
    }
   ],
   "source": [
    "# Elimina los pedidos duplicados\n",
    "df_car_orders=df_car_orders.drop_duplicates()\n",
    "print(df_car_orders.duplicated())\n",
    "\n",
    "#verificando los pedidos duplicados , si ya no hay\n",
    "#filtro= (df_car_orders.loc[(df_car_orders['order_dow']==3) & (df_car_orders['order_hour_of_day']==2) ])                           \n",
    "#print(filtro[filtro['order_id'].duplicated()])\n"
   ]
  },
  {
   "cell_type": "code",
   "execution_count": 11,
   "id": "0b2396a2",
   "metadata": {
    "id": "0b2396a2",
    "scrolled": true
   },
   "outputs": [
    {
     "name": "stdout",
     "output_type": "stream",
     "text": [
      "Empty DataFrame\n",
      "Columns: [order_id, user_id, order_number, order_dow, order_hour_of_day, days_since_prior_order]\n",
      "Index: []\n"
     ]
    }
   ],
   "source": [
    "# Vuelve a verificar si hay filas duplicadas\n",
    "print(df_car_orders[df_car_orders.duplicated()])\n",
    "\n",
    "\n"
   ]
  },
  {
   "cell_type": "code",
   "execution_count": 12,
   "id": "f6113ef1",
   "metadata": {
    "id": "f6113ef1"
   },
   "outputs": [
    {
     "name": "stdout",
     "output_type": "stream",
     "text": [
      "Empty DataFrame\n",
      "Columns: [order_id, user_id, order_number, order_dow, order_hour_of_day, days_since_prior_order]\n",
      "Index: []\n"
     ]
    }
   ],
   "source": [
    "# Vuelve a verificar únicamente si hay IDs duplicados de pedidos\n",
    "#df_car_orders.duplicated(subset=['order_id'])\n",
    "\n",
    "\n",
    "print(df_car_orders[df_car_orders.duplicated(subset=['order_id'], keep=False)])\n",
    "\n"
   ]
  },
  {
   "cell_type": "markdown",
   "id": "5e8905ae",
   "metadata": {
    "id": "5e8905ae"
   },
   "source": [
    "Describe brevemente tus hallazgos y lo que hiciste con ellos"
   ]
  },
  {
   "cell_type": "markdown",
   "id": "45e6bc46",
   "metadata": {
    "id": "45e6bc46"
   },
   "source": [
    "### `products` data frame"
   ]
  },
  {
   "cell_type": "code",
   "execution_count": 13,
   "id": "5f526b5b-8175-46fa-a0fd-441767d50e64",
   "metadata": {
    "id": "5f526b5b-8175-46fa-a0fd-441767d50e64"
   },
   "outputs": [
    {
     "name": "stdout",
     "output_type": "stream",
     "text": [
      "Empty DataFrame\n",
      "Columns: [product_id, product_name, aisle_id, department_id]\n",
      "Index: []\n"
     ]
    }
   ],
   "source": [
    "# Verifica si hay filas totalmente duplicadas\n",
    "\n",
    "print(df_product[df_product.duplicated()])"
   ]
  },
  {
   "cell_type": "code",
   "execution_count": 14,
   "id": "88daa4f4",
   "metadata": {
    "id": "88daa4f4",
    "scrolled": true
   },
   "outputs": [
    {
     "name": "stdout",
     "output_type": "stream",
     "text": [
      "       product_id                                     product_name  aisle_id  \\\n",
      "4               5                        Green Chile Anytime Sauce         5   \n",
      "6               7                   Pure Coconut Water With Orange        98   \n",
      "7               8                Cut Russet Potatoes Steam N' Mash       116   \n",
      "9              10   Sparkling Orange Juice & Prickly Pear Beverage       115   \n",
      "10             11                                Peach Mango Juice        31   \n",
      "...           ...                                              ...       ...   \n",
      "49689       49690                    HIGH PERFORMANCE ENERGY DRINK        64   \n",
      "49690       49691                    ORIGINAL PANCAKE & WAFFLE MIX       130   \n",
      "49691       49692  ORGANIC INSTANT OATMEAL LIGHT MAPLE BROWN SUGAR       130   \n",
      "49692       49693                           SPRING WATER BODY WASH       127   \n",
      "49693       49694                          BURRITO- STEAK & CHEESE        38   \n",
      "\n",
      "       department_id  \n",
      "4                 13  \n",
      "6                  7  \n",
      "7                  1  \n",
      "9                  7  \n",
      "10                 7  \n",
      "...              ...  \n",
      "49689              7  \n",
      "49690             14  \n",
      "49691             14  \n",
      "49692             11  \n",
      "49693              1  \n",
      "\n",
      "[49673 rows x 4 columns]\n",
      "11    6564\n",
      "19    6264\n",
      "13    5372\n",
      "7     4366\n",
      "1     4008\n",
      "16    3449\n",
      "17    3085\n",
      "15    2092\n",
      "9     1858\n",
      "4     1684\n",
      "3     1516\n",
      "20    1322\n",
      "21    1258\n",
      "6     1139\n",
      "14    1117\n",
      "18    1081\n",
      "5     1054\n",
      "8      972\n",
      "12     907\n",
      "2      548\n",
      "10      38\n",
      "Name: department_id, dtype: int64\n"
     ]
    }
   ],
   "source": [
    "# Revisa únicamente si hay ID de departamentos duplicados\n",
    "\n",
    "print(df_product[df_product.duplicated(subset=['department_id'])])\n",
    "\n",
    "print(df_product['department_id'].value_counts())\n",
    "\n",
    "\n",
    "#df_product.info()\n",
    "\n"
   ]
  },
  {
   "cell_type": "markdown",
   "id": "b71b371a",
   "metadata": {},
   "source": []
  },
  {
   "cell_type": "code",
   "execution_count": 15,
   "id": "c773f0bf",
   "metadata": {
    "id": "c773f0bf"
   },
   "outputs": [
    {
     "name": "stdout",
     "output_type": "stream",
     "text": [
      "GREEN TEA WITH GINSENG AND HONEY         3\n",
      "CANDY BAR                                2\n",
      "VITAMIN D3 1000 IU                       2\n",
      "CREAM OF MUSHROOM SOUP                   2\n",
      "MOZZARELLA STICKS WITH MARINARA SAUCE    2\n",
      "                                        ..\n",
      "TEMPT UNSWEETENED COCONUT HEMP MILK      1\n",
      "ATLANTIC SALMON FILLETS                  1\n",
      "AQUARIUM PUMP HAND SOAP                  1\n",
      "KERATIN SMOOTH SHINE SERUM               1\n",
      "COMPLETE OMEGA LEMON SOFTGELS            1\n",
      "Name: product_name, Length: 48332, dtype: int64\n"
     ]
    }
   ],
   "source": [
    "# Revisa únicamente si hay nombres duplicados de productos (convierte los nombres a letras mayúsculas para compararlos mejor)\n",
    "#print(df_product[df_product.duplicated(subset=['product_name'])])\n",
    "\n",
    "df_product['product_name']=df_product['product_name'].str.upper()\n",
    "print(df_product['product_name'].value_counts().sort_values(ascending=False))\n",
    "\n",
    "#print(df_product['product_name'].unique())\n"
   ]
  },
  {
   "cell_type": "code",
   "execution_count": 16,
   "id": "01efd02e",
   "metadata": {
    "id": "01efd02e"
   },
   "outputs": [
    {
     "name": "stdout",
     "output_type": "stream",
     "text": [
      "GREEN TEA WITH GINSENG AND HONEY         3\n",
      "CANDY BAR                                2\n",
      "VITAMIN D3 1000 IU                       2\n",
      "CREAM OF MUSHROOM SOUP                   2\n",
      "MOZZARELLA STICKS WITH MARINARA SAUCE    2\n",
      "                                        ..\n",
      "TEMPT UNSWEETENED COCONUT HEMP MILK      1\n",
      "ATLANTIC SALMON FILLETS                  1\n",
      "AQUARIUM PUMP HAND SOAP                  1\n",
      "KERATIN SMOOTH SHINE SERUM               1\n",
      "COMPLETE OMEGA LEMON SOFTGELS            1\n",
      "Name: product_name, Length: 48332, dtype: int64\n"
     ]
    }
   ],
   "source": [
    "# Revisa si hay nombres duplicados de productos no faltantes\n",
    "print(df_product['product_name'].value_counts().sort_values(ascending=False))\n"
   ]
  },
  {
   "cell_type": "markdown",
   "id": "9da8d293",
   "metadata": {
    "id": "9da8d293"
   },
   "source": [
    "Describe brevemente tus hallazgos y lo que hiciste con ellos. Hay registros duplicados , pero si borro algunos hay el riesgo que el borrado exista en la tabla de ordenes y ya no ligue el producto."
   ]
  },
  {
   "cell_type": "markdown",
   "id": "60f30db1",
   "metadata": {
    "id": "60f30db1"
   },
   "source": [
    "### `departments` data frame"
   ]
  },
  {
   "cell_type": "code",
   "execution_count": 17,
   "id": "fb410ad4-0fbf-4b80-bb09-23fdea79afe3",
   "metadata": {
    "id": "fb410ad4-0fbf-4b80-bb09-23fdea79afe3"
   },
   "outputs": [
    {
     "name": "stdout",
     "output_type": "stream",
     "text": [
      "Empty DataFrame\n",
      "Columns: [department_id, department]\n",
      "Index: []\n"
     ]
    }
   ],
   "source": [
    "# Revisa si hay filas totalmente duplicadas\n",
    "print( df_departments[df_departments.duplicated()])\n",
    "\n",
    "#df_depart.info()"
   ]
  },
  {
   "cell_type": "code",
   "execution_count": 18,
   "id": "332b12bb",
   "metadata": {
    "id": "332b12bb"
   },
   "outputs": [
    {
     "name": "stdout",
     "output_type": "stream",
     "text": [
      "11    6564\n",
      "19    6264\n",
      "13    5372\n",
      "7     4366\n",
      "1     4008\n",
      "16    3449\n",
      "17    3085\n",
      "15    2092\n",
      "9     1858\n",
      "4     1684\n",
      "3     1516\n",
      "20    1322\n",
      "21    1258\n",
      "6     1139\n",
      "14    1117\n",
      "18    1081\n",
      "5     1054\n",
      "8      972\n",
      "12     907\n",
      "2      548\n",
      "10      38\n",
      "Name: department_id, dtype: int64\n"
     ]
    }
   ],
   "source": [
    "# Revisa únicamente si hay IDs duplicadas de productos\n",
    "print(df_product['department_id'].value_counts().sort_values(ascending=False))\n",
    "\n"
   ]
  },
  {
   "cell_type": "markdown",
   "id": "bd30d78e",
   "metadata": {
    "id": "bd30d78e"
   },
   "source": [
    "Describe brevemente tus hallazgos y lo que hiciste con ellos. El dataFrame de departamentos no tiene duplicados , en el segundo ejercicio solicita verificar los productos pero el dataframe no tiene columna de productos."
   ]
  },
  {
   "cell_type": "markdown",
   "id": "889349c1",
   "metadata": {
    "id": "889349c1"
   },
   "source": [
    "### `aisles` data frame"
   ]
  },
  {
   "cell_type": "code",
   "execution_count": 19,
   "id": "9da89fb9-4679-40f5-ad0d-c34df753a3f8",
   "metadata": {
    "id": "9da89fb9-4679-40f5-ad0d-c34df753a3f8"
   },
   "outputs": [
    {
     "name": "stdout",
     "output_type": "stream",
     "text": [
      "Empty DataFrame\n",
      "Columns: [aisle_id, aisle]\n",
      "Index: []\n"
     ]
    }
   ],
   "source": [
    "# Revisa si hay filas totalmente duplicadas\n",
    "print( df_aisles[df_aisles.duplicated()])"
   ]
  },
  {
   "cell_type": "code",
   "execution_count": 20,
   "id": "da7c2822",
   "metadata": {
    "id": "da7c2822"
   },
   "outputs": [
    {
     "name": "stdout",
     "output_type": "stream",
     "text": [
      "1      1\n",
      "17     1\n",
      "4      1\n",
      "5      1\n",
      "6      1\n",
      "      ..\n",
      "130    1\n",
      "131    1\n",
      "132    1\n",
      "133    1\n",
      "134    1\n",
      "Name: aisle_id, Length: 134, dtype: int64\n"
     ]
    }
   ],
   "source": [
    "# Revisa únicamente si hay IDs duplicadas de productos\n",
    "#df_aisles.info()\n",
    "\n",
    "print(df_aisles['aisle_id'].value_counts().sort_values(ascending=False))\n",
    "\n"
   ]
  },
  {
   "cell_type": "markdown",
   "id": "ac63826f",
   "metadata": {
    "id": "ac63826f"
   },
   "source": [
    "Describe brevemente tus hallazgos y lo que hiciste con ellos. No hay duplicados en aisles"
   ]
  },
  {
   "cell_type": "markdown",
   "id": "274cd06a",
   "metadata": {
    "id": "274cd06a"
   },
   "source": [
    "### `order_products` data frame"
   ]
  },
  {
   "cell_type": "code",
   "execution_count": 21,
   "id": "52326689-84a8-4b8f-a881-7c68780f62c9",
   "metadata": {
    "id": "52326689-84a8-4b8f-a881-7c68780f62c9"
   },
   "outputs": [
    {
     "name": "stdout",
     "output_type": "stream",
     "text": [
      "Empty DataFrame\n",
      "Columns: [order_id, product_id, add_to_cart_order, reordered]\n",
      "Index: []\n",
      "<class 'pandas.core.frame.DataFrame'>\n",
      "RangeIndex: 4545007 entries, 0 to 4545006\n",
      "Data columns (total 4 columns):\n",
      " #   Column             Dtype  \n",
      "---  ------             -----  \n",
      " 0   order_id           int64  \n",
      " 1   product_id         int64  \n",
      " 2   add_to_cart_order  float64\n",
      " 3   reordered          int64  \n",
      "dtypes: float64(1), int64(3)\n",
      "memory usage: 138.7 MB\n"
     ]
    }
   ],
   "source": [
    "# Revisa si hay filas totalmente duplicadas\n",
    "#df_order_product.info()\n",
    "\n",
    "print(df_order_product[df_order_product.duplicated()])\n",
    "\n",
    "df_order_product.info()\n"
   ]
  },
  {
   "cell_type": "code",
   "execution_count": 22,
   "id": "7b861391",
   "metadata": {
    "id": "7b861391"
   },
   "outputs": [
    {
     "name": "stdout",
     "output_type": "stream",
     "text": [
      "61355      127\n",
      "3308010    115\n",
      "2136777    108\n",
      "171934     104\n",
      "1959075     98\n",
      "          ... \n",
      "54659        1\n",
      "210431       1\n",
      "1717983      1\n",
      "1136563      1\n",
      "8196         1\n",
      "Name: order_id, Length: 450046, dtype: int64\n"
     ]
    }
   ],
   "source": [
    "# Vuelve a verificar si hay cualquier otro duplicado engañoso\n",
    "print(df_order_product['order_id'].value_counts())"
   ]
  },
  {
   "cell_type": "markdown",
   "id": "0b890492",
   "metadata": {
    "id": "0b890492"
   },
   "source": [
    "Describe brevemente tus hallazgos y lo que hiciste con ellos.R=Order products no se visualiza tiene filas duplicadas"
   ]
  },
  {
   "cell_type": "markdown",
   "id": "1e46de76",
   "metadata": {
    "id": "1e46de76"
   },
   "source": [
    "## Encuentra y elimina los valores ausentes\n",
    "\n",
    "Al trabajar con valores duplicados, pudimos observar que también nos falta investigar valores ausentes:\n",
    "\n",
    "* La columna `'product_name'` de la tabla products.\n",
    "* La columna `'days_since_prior_order'` de la tabla orders.\n",
    "* La columna `'add_to_cart_order'` de la tabla order_productos."
   ]
  },
  {
   "cell_type": "markdown",
   "id": "c0aebd78",
   "metadata": {
    "id": "c0aebd78"
   },
   "source": [
    "### `products` data frame"
   ]
  },
  {
   "cell_type": "code",
   "execution_count": 23,
   "id": "fe4a8b0f",
   "metadata": {
    "id": "fe4a8b0f"
   },
   "outputs": [
    {
     "name": "stdout",
     "output_type": "stream",
     "text": [
      "<class 'pandas.core.frame.DataFrame'>\n",
      "RangeIndex: 49694 entries, 0 to 49693\n",
      "Data columns (total 4 columns):\n",
      " #   Column         Non-Null Count  Dtype \n",
      "---  ------         --------------  ----- \n",
      " 0   product_id     49694 non-null  int64 \n",
      " 1   product_name   48436 non-null  object\n",
      " 2   aisle_id       49694 non-null  int64 \n",
      " 3   department_id  49694 non-null  int64 \n",
      "dtypes: int64(3), object(1)\n",
      "memory usage: 1.5+ MB\n",
      "       product_id product_name  aisle_id  department_id\n",
      "37             38          NaN       100             21\n",
      "71             72          NaN       100             21\n",
      "109           110          NaN       100             21\n",
      "296           297          NaN       100             21\n",
      "416           417          NaN       100             21\n",
      "...           ...          ...       ...            ...\n",
      "49552       49553          NaN       100             21\n",
      "49574       49575          NaN       100             21\n",
      "49640       49641          NaN       100             21\n",
      "49663       49664          NaN       100             21\n",
      "49668       49669          NaN       100             21\n",
      "\n",
      "[1258 rows x 4 columns]\n"
     ]
    }
   ],
   "source": [
    "df_product=pd.read_csv('/datasets/products.csv',sep=';') #catálogo de productos\n",
    "\n",
    "\n",
    "# Encuentra los valores ausentes en la columna 'product_name'\n",
    "df_product.info()\n",
    "df_product100=df_product[df_product['product_name'].isna()]\n",
    "print(df_product100)\n",
    "\n",
    "#print(df_product.isna().sum())\n",
    "#df_product['product_name'] = df_product['product_name'].fillna(\" \")\n",
    "\n"
   ]
  },
  {
   "cell_type": "markdown",
   "id": "-A6x1AbJhjkp",
   "metadata": {
    "id": "-A6x1AbJhjkp"
   },
   "source": [
    "Describe brevemente cuáles son tus hallazgos. R= Hay 1258 reg. en product_name con valores ausentes."
   ]
  },
  {
   "cell_type": "code",
   "execution_count": 24,
   "id": "e96167bc",
   "metadata": {
    "id": "e96167bc"
   },
   "outputs": [
    {
     "name": "stdout",
     "output_type": "stream",
     "text": [
      "       product_id product_name  aisle_id  department_id\n",
      "37             38          NaN       100             21\n",
      "71             72          NaN       100             21\n",
      "109           110          NaN       100             21\n",
      "296           297          NaN       100             21\n",
      "416           417          NaN       100             21\n",
      "...           ...          ...       ...            ...\n",
      "49552       49553          NaN       100             21\n",
      "49574       49575          NaN       100             21\n",
      "49640       49641          NaN       100             21\n",
      "49663       49664          NaN       100             21\n",
      "49668       49669          NaN       100             21\n",
      "\n",
      "[1258 rows x 4 columns]\n"
     ]
    }
   ],
   "source": [
    "#  ¿Todos los nombres de productos ausentes están relacionados con el pasillo con ID 100?\n",
    "df_product100=df_product[df_product['product_name'].isna()]\n",
    "print(df_product100)\n",
    "\n"
   ]
  },
  {
   "cell_type": "markdown",
   "id": "WRpIfXRphpSL",
   "metadata": {
    "id": "WRpIfXRphpSL"
   },
   "source": [
    "Describe brevemente cuáles son tus hallazgos. R: Así es todos los ausentes son del pasillo (aisle )= 100"
   ]
  },
  {
   "cell_type": "code",
   "execution_count": 25,
   "id": "8fd0a541",
   "metadata": {
    "id": "8fd0a541"
   },
   "outputs": [
    {
     "name": "stdout",
     "output_type": "stream",
     "text": [
      "       product_id product_name  aisle_id  department_id\n",
      "37             38          NaN       100             21\n",
      "71             72          NaN       100             21\n",
      "109           110          NaN       100             21\n",
      "296           297          NaN       100             21\n",
      "416           417          NaN       100             21\n",
      "...           ...          ...       ...            ...\n",
      "49552       49553          NaN       100             21\n",
      "49574       49575          NaN       100             21\n",
      "49640       49641          NaN       100             21\n",
      "49663       49664          NaN       100             21\n",
      "49668       49669          NaN       100             21\n",
      "\n",
      "[1258 rows x 4 columns]\n"
     ]
    }
   ],
   "source": [
    "# ¿Todos los nombres de productos ausentes están relacionados con el departamento con ID 21?\n",
    "df_product100=df_product[df_product['product_name'].isna()]\n",
    "print(df_product100)\n",
    "\n"
   ]
  },
  {
   "cell_type": "markdown",
   "id": "qDpdYn1Fht_I",
   "metadata": {
    "id": "qDpdYn1Fht_I"
   },
   "source": [
    "Describe brevemente cuáles son tus hallazgos. R== Los productos que su product name es nulo tienen  aisle= 100 y department_id=21 "
   ]
  },
  {
   "cell_type": "code",
   "execution_count": 26,
   "id": "325c3464",
   "metadata": {
    "id": "325c3464"
   },
   "outputs": [
    {
     "name": "stdout",
     "output_type": "stream",
     "text": [
      "****Departamento con department_id=21\n",
      "    department_id department\n",
      "20             21    missing\n",
      "****Aisle=100\n",
      "    aisle_id    aisle\n",
      "99       100  missing\n"
     ]
    }
   ],
   "source": [
    "# Usa las tablas department y aisle para revisar los datos del pasillo con ID 100 y el departamento con ID 21.\n",
    " \n",
    "#df_aisles.info()\n",
    "\n",
    "#print(\"****Productos con aisle=100\")\n",
    "#df_product100=df_product[df_product['aisle_id']==100]\n",
    "#print(df_product100)\n",
    "\n",
    "print(\"****Departamento con department_id=21\")\n",
    "df_depart21=df_departments[df_departments['department_id']==21 ]\n",
    "print(df_depart21)\n",
    "\n",
    "print(\"****Aisle=100\")\n",
    "df_aisle100=df_aisles[df_aisles['aisle_id']==100]\n",
    "print(df_aisle100)\n",
    "\n",
    "\n"
   ]
  },
  {
   "cell_type": "markdown",
   "id": "nqhSTUPhhvEJ",
   "metadata": {
    "id": "nqhSTUPhhvEJ"
   },
   "source": [
    "Describe brevemente cuáles son tus hallazgos.R= probablemente los que esten en departamento Missing y pasillo Missing son productos no encontrados."
   ]
  },
  {
   "cell_type": "code",
   "execution_count": 27,
   "id": "6b295120",
   "metadata": {
    "id": "6b295120"
   },
   "outputs": [
    {
     "name": "stdout",
     "output_type": "stream",
     "text": [
      "['Chocolate Sandwich Cookies' 'All-Seasons Salt'\n",
      " 'Robust Golden Unsweetened Oolong Tea' ...\n",
      " 'ORGANIC INSTANT OATMEAL LIGHT MAPLE BROWN SUGAR'\n",
      " 'SPRING WATER BODY WASH' 'BURRITO- STEAK & CHEESE']\n",
      " \n",
      " \n",
      "*****Imprime los valores ausentes\n",
      "Empty DataFrame\n",
      "Columns: [product_id, product_name, aisle_id, department_id]\n",
      "Index: []\n",
      " \n",
      " \n",
      "*****Validando que no haya valores ausentes\n",
      "<class 'pandas.core.frame.DataFrame'>\n",
      "RangeIndex: 49694 entries, 0 to 49693\n",
      "Data columns (total 4 columns):\n",
      " #   Column         Non-Null Count  Dtype \n",
      "---  ------         --------------  ----- \n",
      " 0   product_id     49694 non-null  int64 \n",
      " 1   product_name   49694 non-null  object\n",
      " 2   aisle_id       49694 non-null  int64 \n",
      " 3   department_id  49694 non-null  int64 \n",
      "dtypes: int64(3), object(1)\n",
      "memory usage: 1.5+ MB\n"
     ]
    }
   ],
   "source": [
    "# Completa los nombres de productos ausentes con 'Unknown'\n",
    "\n",
    "\n",
    "#llenar los valores nulos identificados en info()\n",
    "df_product['product_name'] = df_product['product_name'].fillna(\"Unknown\")\n",
    "\n",
    "print(df_product['product_name'].unique())\n",
    "print(\" \")\n",
    "print(\" \")\n",
    "print(\"*****Imprime los valores ausentes\")\n",
    "df_product100=df_product[df_product['product_name'].isna()]\n",
    "print(df_product100)\n",
    "print(\" \")\n",
    "print(\" \")\n",
    "\n",
    "print(\"*****Validando que no haya valores ausentes\")\n",
    "df_product.info()\n",
    "\n"
   ]
  },
  {
   "cell_type": "markdown",
   "id": "fc70e5ad",
   "metadata": {
    "id": "fc70e5ad"
   },
   "source": [
    "Describe brevemente tus hallazgos y lo que hiciste con ellos. R= Los valores nulos identificados en la columna product_name se remplazaron con la cadena =\"Unknown\""
   ]
  },
  {
   "cell_type": "markdown",
   "id": "7eb45c86",
   "metadata": {
    "id": "7eb45c86"
   },
   "source": [
    "### `orders` data frame"
   ]
  },
  {
   "cell_type": "code",
   "execution_count": 28,
   "id": "93e41d96",
   "metadata": {
    "id": "93e41d96"
   },
   "outputs": [
    {
     "name": "stdout",
     "output_type": "stream",
     "text": [
      " \n",
      " \n",
      "***Los valores ausentes en days_since_prior_order\n",
      "        order_id  user_id  order_number  order_dow  order_hour_of_day  \\\n",
      "28        133707   182261             1          3                 10   \n",
      "96        787445    25685             1          6                 18   \n",
      "100       294410   111449             1          0                 19   \n",
      "103      2869915   123958             1          4                 16   \n",
      "104      2521921    42286             1          3                 18   \n",
      "...          ...      ...           ...        ...                ...   \n",
      "478895   2589657   205028             1          0                 16   \n",
      "478896   2222353   141211             1          2                 13   \n",
      "478922   2272807   204154             1          1                 15   \n",
      "478926   2499542    68810             1          4                 19   \n",
      "478945   1387033    22496             1          5                 14   \n",
      "\n",
      "        days_since_prior_order  \n",
      "28                         NaN  \n",
      "96                         NaN  \n",
      "100                        NaN  \n",
      "103                        NaN  \n",
      "104                        NaN  \n",
      "...                        ...  \n",
      "478895                     NaN  \n",
      "478896                     NaN  \n",
      "478922                     NaN  \n",
      "478926                     NaN  \n",
      "478945                     NaN  \n",
      "\n",
      "[28817 rows x 6 columns]\n",
      " \n",
      " \n",
      "Valores ausentes de toda la fila \n",
      "        order_id  user_id  order_number  order_dow  order_hour_of_day  \\\n",
      "0            NaN      NaN           NaN        NaN                NaN   \n",
      "1            NaN      NaN           NaN        NaN                NaN   \n",
      "2            NaN      NaN           NaN        NaN                NaN   \n",
      "3            NaN      NaN           NaN        NaN                NaN   \n",
      "4            NaN      NaN           NaN        NaN                NaN   \n",
      "...          ...      ...           ...        ...                ...   \n",
      "478962       NaN      NaN           NaN        NaN                NaN   \n",
      "478963       NaN      NaN           NaN        NaN                NaN   \n",
      "478964       NaN      NaN           NaN        NaN                NaN   \n",
      "478965       NaN      NaN           NaN        NaN                NaN   \n",
      "478966       NaN      NaN           NaN        NaN                NaN   \n",
      "\n",
      "        days_since_prior_order  \n",
      "0                          NaN  \n",
      "1                          NaN  \n",
      "2                          NaN  \n",
      "3                          NaN  \n",
      "4                          NaN  \n",
      "...                        ...  \n",
      "478962                     NaN  \n",
      "478963                     NaN  \n",
      "478964                     NaN  \n",
      "478965                     NaN  \n",
      "478966                     NaN  \n",
      "\n",
      "[478952 rows x 6 columns]\n"
     ]
    }
   ],
   "source": [
    "# Encuentra los valores ausentes\n",
    "\n",
    "#df_car_orders.info()\n",
    "print(\" \")\n",
    "print(\" \")\n",
    "print(\"***Los valores ausentes en days_since_prior_order\")\n",
    "print(df_car_orders[df_car_orders['days_since_prior_order'].isna()])\n",
    "print(\" \")\n",
    "print(\" \")\n",
    "print(\"Valores ausentes de toda la fila \")\n",
    "print(df_car_orders[df_car_orders.isna()])\n",
    "#df_car_orders['days_since_prior_order'] = df_car_orders['days_since_prior_order'].isna()\n",
    "\n",
    "#llenar los valores nulos identificados en info()\n",
    "#df_car_orders['days_since_prior_order'] = df_car_orders['days_since_prior_order'].fillna(0)\n",
    "\n",
    "\n",
    " \n",
    "                       "
   ]
  },
  {
   "cell_type": "code",
   "execution_count": 29,
   "id": "166e5a86",
   "metadata": {
    "id": "166e5a86"
   },
   "outputs": [
    {
     "name": "stdout",
     "output_type": "stream",
     "text": [
      "Empty DataFrame\n",
      "Columns: [order_id, user_id, order_number, order_dow, order_hour_of_day, days_since_prior_order]\n",
      "Index: []\n"
     ]
    }
   ],
   "source": [
    "# ¿Hay algún valor ausente que no sea el primer pedido del cliente?\n",
    "\n",
    "\n",
    "\n",
    "df_ausente = df_car_orders[~(df_car_orders['order_number'] == 1) & (df_car_orders['days_since_prior_order'].isna())]\n",
    "print(df_ausente)\n",
    "\n",
    "\n",
    "\n"
   ]
  },
  {
   "cell_type": "markdown",
   "id": "4e23d089",
   "metadata": {
    "id": "4e23d089"
   },
   "source": [
    "Describe brevemente tus hallazgos y lo que hiciste con ellos. R= Los valores ausentes se encuentran en el order_number=1 ."
   ]
  },
  {
   "cell_type": "markdown",
   "id": "69dc9ca4",
   "metadata": {
    "id": "69dc9ca4"
   },
   "source": [
    "### `order_products` data frame"
   ]
  },
  {
   "cell_type": "code",
   "execution_count": 30,
   "id": "b8240253",
   "metadata": {
    "id": "b8240253"
   },
   "outputs": [
    {
     "name": "stdout",
     "output_type": "stream",
     "text": [
      "<class 'pandas.core.frame.DataFrame'>\n",
      "RangeIndex: 4545007 entries, 0 to 4545006\n",
      "Data columns (total 4 columns):\n",
      " #   Column             Dtype  \n",
      "---  ------             -----  \n",
      " 0   order_id           int64  \n",
      " 1   product_id         int64  \n",
      " 2   add_to_cart_order  float64\n",
      " 3   reordered          int64  \n",
      "dtypes: float64(1), int64(3)\n",
      "memory usage: 138.7 MB\n",
      "\n",
      "**Valores ausentes por columna\n",
      "order_id               0\n",
      "product_id             0\n",
      "add_to_cart_order    836\n",
      "reordered              0\n",
      "dtype: int64\n",
      "\n"
     ]
    }
   ],
   "source": [
    "# Encuentra los valores ausentes\n",
    "df_order_product.info()\n",
    "print(\"\")\n",
    "print(\"**Valores ausentes por columna\")\n",
    "valores_ausentes_por_columna=df_order_product.isna().sum()\n",
    "print (valores_ausentes_por_columna)\n",
    "print(\"\")\n",
    "\n",
    "\n"
   ]
  },
  {
   "cell_type": "code",
   "execution_count": 31,
   "id": "9a78e5ee",
   "metadata": {
    "id": "9a78e5ee"
   },
   "outputs": [
    {
     "name": "stdout",
     "output_type": "stream",
     "text": [
      "**Valor mínimo\n",
      " \n",
      "order_id             4.0\n",
      "product_id           1.0\n",
      "add_to_cart_order    1.0\n",
      "reordered            0.0\n",
      "dtype: float64\n",
      "**Valor máximo\n",
      " \n",
      "order_id             3421079.0\n",
      "product_id             49694.0\n",
      "add_to_cart_order         64.0\n",
      "reordered                  1.0\n",
      "dtype: float64\n"
     ]
    }
   ],
   "source": [
    "# ¿Cuáles son los valores mínimos y máximos en esta columna?\n",
    "\n",
    "print(\"**Valor mínimo\")\n",
    "print(\" \")\n",
    "valor_min=df_order_product.min()\n",
    "print(valor_min)\n",
    "print(\"**Valor máximo\")\n",
    "print(\" \")\n",
    "valor_max=df_order_product.max()\n",
    "print(valor_max)"
   ]
  },
  {
   "cell_type": "markdown",
   "id": "-Z2Ja215jW78",
   "metadata": {
    "id": "-Z2Ja215jW78"
   },
   "source": [
    "Describe brevemente cuáles son tus hallazgos. R= en add_to_cart_order el mínimo es 1 y el maximo es 64. Es en la única columna que me aparecen valores ausentes durante la revisión."
   ]
  },
  {
   "cell_type": "code",
   "execution_count": 32,
   "id": "ab9d0c2b",
   "metadata": {
    "id": "ab9d0c2b",
    "scrolled": true
   },
   "outputs": [
    {
     "name": "stdout",
     "output_type": "stream",
     "text": [
      "**Pedidos que tienen un valor ausente en add_to_cart\n",
      "737        2449164\n",
      "9926       1968313\n",
      "14394      2926893\n",
      "16418      1717990\n",
      "30114      1959075\n",
      "            ...   \n",
      "4505662    1800005\n",
      "4511400    1633337\n",
      "4517562     404157\n",
      "4534112    1673227\n",
      "4535739    1832957\n",
      "Name: order_id, Length: 836, dtype: int64\n"
     ]
    }
   ],
   "source": [
    "# Guarda todas las IDs de pedidos que tengan un valor ausente en 'add_to_cart_order'\n",
    "\n",
    "print(\"**Pedidos que tienen un valor ausente en add_to_cart\")\n",
    "pedidos_con_ausentes=df_order_product[df_order_product['add_to_cart_order'].isna()]['order_id']\n",
    "print (pedidos_con_ausentes)\n",
    "\n",
    "\n"
   ]
  },
  {
   "cell_type": "markdown",
   "id": "p9V6pddtjglj",
   "metadata": {
    "id": "p9V6pddtjglj"
   },
   "source": [
    "Describe brevemente cuáles son tus hallazgos. R= me muestra los pedidos que tienen un valor ausente en la orden"
   ]
  },
  {
   "cell_type": "code",
   "execution_count": 33,
   "id": "7a987d08",
   "metadata": {
    "id": "7a987d08"
   },
   "outputs": [
    {
     "name": "stdout",
     "output_type": "stream",
     "text": [
      "<class 'pandas.core.frame.DataFrame'>\n",
      "RangeIndex: 4545007 entries, 0 to 4545006\n",
      "Data columns (total 4 columns):\n",
      " #   Column             Dtype  \n",
      "---  ------             -----  \n",
      " 0   order_id           int64  \n",
      " 1   product_id         int64  \n",
      " 2   add_to_cart_order  float64\n",
      " 3   reordered          int64  \n",
      "dtypes: float64(1), int64(3)\n",
      "memory usage: 138.7 MB\n",
      "\n",
      "Convertida la columna de float a int\n",
      "<class 'pandas.core.frame.DataFrame'>\n",
      "RangeIndex: 4545007 entries, 0 to 4545006\n",
      "Data columns (total 4 columns):\n",
      " #   Column             Dtype\n",
      "---  ------             -----\n",
      " 0   order_id           int64\n",
      " 1   product_id         int64\n",
      " 2   add_to_cart_order  int64\n",
      " 3   reordered          int64\n",
      "dtypes: int64(4)\n",
      "memory usage: 138.7 MB\n"
     ]
    }
   ],
   "source": [
    "# Remplaza los valores ausentes en la columna 'add_to_cart? con 999 y convierte la columna al tipo entero.\n",
    "df_order_product.info()\n",
    "\n",
    "df_order_product['add_to_cart_order'].fillna(999, inplace=True)\n",
    "\n",
    "df_order_product['add_to_cart_order']=df_order_product['add_to_cart_order'].astype(int)\n",
    "\n",
    "print(\"\")\n",
    "print(\"Convertida la columna de float a int\")\n",
    "\n",
    "df_order_product.info()"
   ]
  },
  {
   "cell_type": "markdown",
   "id": "fea4bcc7",
   "metadata": {
    "id": "fea4bcc7"
   },
   "source": [
    "Describe brevemente tus hallazgos y lo que hiciste con ellos. R= a los valores ausentes se les llenó con 999"
   ]
  },
  {
   "cell_type": "markdown",
   "id": "RnplPFY1gSrb",
   "metadata": {
    "id": "RnplPFY1gSrb"
   },
   "source": [
    "## Conclusiones\n",
    "\n",
    "Escribe aquí tus conclusiones intermedias sobre el Paso 2. Preprocesamiento de los datos\n",
    "\n",
    "Son importantes los métodos isna(), fillna()\n",
    "Filtrar dataframes\n",
    "y data.info\n",
    "\n",
    "para ir monitoreando los valores nulos y eliminarlos\n",
    "\n"
   ]
  },
  {
   "cell_type": "markdown",
   "id": "UjrOIwTcz3ri",
   "metadata": {
    "id": "UjrOIwTcz3ri"
   },
   "source": [
    "# Paso 3. Análisis de los datos\n",
    "\n",
    "Una vez los datos estén procesados y listos, haz el siguiente análisis:"
   ]
  },
  {
   "cell_type": "markdown",
   "id": "turkish-kidney",
   "metadata": {
    "id": "turkish-kidney"
   },
   "source": [
    "# [A] Fácil (deben completarse todos para aprobar)\n",
    "\n",
    "1. Verifica que los valores en las columnas `'order_hour_of_day'` y `'order_dow'` en la tabla orders sean razonables (es decir, `'order_hour_of_day'` oscile entre 0 y 23 y `'order_dow'` oscile entre 0 y 6).\n",
    "2. Crea un gráfico que muestre el número de personas que hacen pedidos dependiendo de la hora del día.\n",
    "3. Crea un gráfico que muestre qué día de la semana la gente hace sus compras.\n",
    "4. Crea un gráfico que muestre el tiempo que la gente espera hasta hacer su siguiente pedido, y comenta sobre los valores mínimos y máximos."
   ]
  },
  {
   "cell_type": "markdown",
   "id": "short-capability",
   "metadata": {
    "id": "short-capability"
   },
   "source": [
    "### [A1] Verifica que los valores sean sensibles"
   ]
  },
  {
   "cell_type": "code",
   "execution_count": 34,
   "id": "growing-fruit",
   "metadata": {
    "id": "growing-fruit"
   },
   "outputs": [
    {
     "name": "stdout",
     "output_type": "stream",
     "text": [
      "<class 'pandas.core.frame.DataFrame'>\n",
      "Int64Index: 478952 entries, 0 to 478966\n",
      "Data columns (total 6 columns):\n",
      " #   Column                  Non-Null Count   Dtype  \n",
      "---  ------                  --------------   -----  \n",
      " 0   order_id                478952 non-null  int64  \n",
      " 1   user_id                 478952 non-null  int64  \n",
      " 2   order_number            478952 non-null  int64  \n",
      " 3   order_dow               478952 non-null  int64  \n",
      " 4   order_hour_of_day       478952 non-null  int64  \n",
      " 5   days_since_prior_order  450135 non-null  float64\n",
      "dtypes: float64(1), int64(5)\n",
      "memory usage: 25.6 MB\n",
      "[0, 1, 2, 3, 4, 5, 6, 7, 8, 9, 10, 11, 12, 13, 14, 15, 16, 17, 18, 19, 20, 21, 22, 23]\n",
      "\n",
      "\n",
      "\n",
      "[0, 1, 2, 3, 4, 5, 6]\n",
      "\n",
      "\n",
      "\n"
     ]
    }
   ],
   "source": [
    "df_car_orders.info()\n",
    "\n",
    "print (sorted(df_car_orders['order_hour_of_day'].unique()))\n",
    "\n",
    "print(\"\")\n",
    "print(\"\")\n",
    "print(\"\")\n",
    "\n",
    "\n",
    "\n",
    "print (sorted(df_car_orders['order_dow'].unique()))\n",
    "\n",
    "print(\"\")\n",
    "print(\"\")\n",
    "print(\"\")\n",
    "\n"
   ]
  },
  {
   "cell_type": "code",
   "execution_count": 35,
   "id": "accessory-malaysia",
   "metadata": {
    "id": "accessory-malaysia"
   },
   "outputs": [
    {
     "name": "stdout",
     "output_type": "stream",
     "text": [
      "   order_hour_of_day  numbers_of_orders\n",
      "0                  0               3180\n",
      "1                  1               1763\n",
      "2                  2                989\n",
      "3                  3                770\n",
      "4                  4                765\n"
     ]
    },
    {
     "data": {
      "image/png": "[encoded data removed]",
      "text/plain": [
       "<Figure size 640x480 with 1 Axes>"
      ]
     },
     "metadata": {},
     "output_type": "display_data"
    }
   ],
   "source": [
    "#Crea un gráfico que muestre el número de personas que hacen pedidos dependiendo de la hora del día.\n",
    "import matplotlib.pyplot as plt\n",
    "\n",
    "\n",
    "#agrupación de la información, numero de personas que hacen pedidos en determinado hora del día.\n",
    "data_orders =df_car_orders.groupby(\"order_hour_of_day\")[\"order_id\"].count().reset_index(name='numbers_of_orders')\n",
    "\n",
    "print(data_orders.head(5))\n",
    "\n",
    "data_orders.plot( kind= \"bar\", \n",
    "                 xlabel= \"Hora\", \n",
    "                 ylabel= \"Personas\", \n",
    "                 title= \"Pedidos por hora\",\n",
    "                 color=\"blue\") \n",
    "\n",
    "\n",
    "plt.show()\n"
   ]
  },
  {
   "cell_type": "markdown",
   "id": "hmR2GNQ6lCsX",
   "metadata": {
    "id": "hmR2GNQ6lCsX"
   },
   "source": [
    "Escribe aquí tus conclusiones R=El horario donde más pedidos hacen"
   ]
  },
  {
   "cell_type": "markdown",
   "id": "a6743a70",
   "metadata": {
    "id": "a6743a70"
   },
   "source": [
    "### [A2] Para cada hora del día, ¿cuántas personas hacen órdenes?"
   ]
  },
  {
   "cell_type": "code",
   "execution_count": 36,
   "id": "a36cca27",
   "metadata": {
    "id": "a36cca27",
    "scrolled": true
   },
   "outputs": [
    {
     "name": "stdout",
     "output_type": "stream",
     "text": [
      "   order_hour_of_day  number_of_users\n",
      "0                  0             2991\n",
      "1                  1             1671\n",
      "2                  2              958\n",
      "3                  3              744\n",
      "4                  4              735\n"
     ]
    },
    {
     "data": {
      "image/png": "[encoded data removed]",
      "text/plain": [
       "<Figure size 640x480 with 1 Axes>"
      ]
     },
     "metadata": {},
     "output_type": "display_data"
    }
   ],
   "source": [
    "#Para cada hora del día, ¿cuántas personas hacen órdenes?\n",
    "data_orders = df_car_orders.groupby(\"order_hour_of_day\")['user_id'].nunique().reset_index(name='number_of_users')\n",
    "#data_orders =df_car_orders.groupby(\"order_hour_of_day\")['order_number'][\"user_id\"].count().reset_index(name='numbers_of_orders')\n",
    "\n",
    "print(data_orders.head(5))\n",
    "\n",
    "data_orders.plot( kind= \"bar\", \n",
    "                 xlabel= \"Hora\", \n",
    "                 ylabel= \"Personas\", \n",
    "                 title= \"Personas que hacen ordenes por hora\",\n",
    "                 color=\"blue\") \n",
    "\n",
    "\n",
    "plt.show()\n"
   ]
  },
  {
   "cell_type": "markdown",
   "id": "11270eed",
   "metadata": {
    "id": "11270eed"
   },
   "source": [
    "Escribe aquí tus conclusiones, R = Las horas con mayor consumo es de las 11 de las mañana a las 5 pm de la tarde."
   ]
  },
  {
   "cell_type": "markdown",
   "id": "documented-command",
   "metadata": {
    "id": "documented-command"
   },
   "source": [
    "### [A3] ¿Qué día de la semana compran víveres las personas?"
   ]
  },
  {
   "cell_type": "code",
   "execution_count": 37,
   "id": "chief-digit",
   "metadata": {
    "id": "chief-digit"
   },
   "outputs": [
    {
     "data": {
      "image/png": "[encoded data removed]",
      "text/plain": [
       "<Figure size 1000x600 with 1 Axes>"
      ]
     },
     "metadata": {},
     "output_type": "display_data"
    }
   ],
   "source": [
    "pedidos_por_dia=df_car_orders[\"order_dow\"].value_counts().sort_index()\n",
    "\n",
    "#crear el gráfico de barras\n",
    "plt.figure(figsize=(10,6))\n",
    "pedidos_por_dia.plot(kind=\"bar\", title=\"Número de pedidos por día de la semana\", xlabel=\"Dia de la semana\", ylabel=\"Numero de pedidos\") \n",
    "\n",
    "plt.show()"
   ]
  },
  {
   "cell_type": "markdown",
   "id": "dominant-lightning",
   "metadata": {
    "id": "dominant-lightning"
   },
   "source": [
    "Los domingos y Lunes son los días que mas víveres compran. "
   ]
  },
  {
   "cell_type": "markdown",
   "id": "cutting-concert",
   "metadata": {
    "id": "cutting-concert"
   },
   "source": [
    "### [A4] ¿Cuánto tiempo esperan las personas hasta hacer otro pedido? Comenta sobre los valores mínimos y máximos."
   ]
  },
  {
   "cell_type": "code",
   "execution_count": 38,
   "id": "c231f523",
   "metadata": {
    "id": "c231f523",
    "scrolled": true
   },
   "outputs": [
    {
     "data": {
      "image/png": "[encoded data removed]",
      "text/plain": [
       "<Figure size 640x480 with 1 Axes>"
      ]
     },
     "metadata": {},
     "output_type": "display_data"
    }
   ],
   "source": [
    "tiempo_prox_pedido = df_car_orders.groupby('days_since_prior_order')['user_id'].nunique()\n",
    "\n",
    "# Crear el gráfico de barras\n",
    "tiempo_prox_pedido.plot(kind='bar',\n",
    "    xlabel='Días de espera para el siguiente pedido',\n",
    "    ylabel='Número de clientes',\n",
    "    title='Días que esperan los clientes para realizar el siguiente pedido')\n",
    "\n",
    "# Mostrar el gráfico\n",
    "plt.show()\n",
    "\n",
    "\n",
    "\n",
    "\n"
   ]
  },
  {
   "cell_type": "markdown",
   "id": "discrete-vertex",
   "metadata": {
    "id": "discrete-vertex"
   },
   "source": [
    "Escribe aquí tus conclusiones R= La mayoría espera 30 días para realizar su siguiente pedido. ( mensual ) Y el que le sigue es semanal de 7 días o 6 .  Ya los siguientes rangos abarcan menos numero de personas 0 días como 800 personas, pudiera ser un restaurantero que necesita víveres todos los días para tener surtido su restaurante."
   ]
  },
  {
   "cell_type": "markdown",
   "id": "tight-staff",
   "metadata": {
    "id": "tight-staff"
   },
   "source": [
    "# [B] Intermedio (deben completarse todos para aprobar)\n",
    "\n",
    "1. ¿Existe alguna diferencia entre las distribuciones `'order_hour_of_day'` de los miércoles y los sábados? Traza gráficos de barra de `'order_hour_of_day'` para ambos días en la misma figura y describe las diferencias que observes.\n",
    "2. Grafica la distribución para el número de órdenes que hacen los clientes (es decir, cuántos clientes hicieron solo 1 pedido, cuántos hicieron 2, cuántos 3, y así sucesivamente...).\n",
    "3. ¿Cuáles son los 20 principales productos que se piden con más frecuencia (muestra su identificación y nombre)?"
   ]
  },
  {
   "cell_type": "markdown",
   "id": "packed-classic",
   "metadata": {
    "id": "packed-classic"
   },
   "source": [
    "### [B1] Diferencia entre miércoles y sábados para  `'order_hour_of_day'`. Traza gráficos de barra para los dos días y describe las diferencias que veas."
   ]
  },
  {
   "cell_type": "code",
   "execution_count": 39,
   "id": "d89b8403",
   "metadata": {
    "id": "d89b8403",
    "scrolled": true
   },
   "outputs": [
    {
     "name": "stdout",
     "output_type": "stream",
     "text": [
      "                   Miércoles  Sábados\n",
      "order_hour_of_day                    \n",
      "0                        373      464\n",
      "1                        215      254\n",
      "2                        106      177\n",
      "3                        101      125\n",
      "4                        108      118\n",
      "5                        170      161\n",
      "6                        643      451\n",
      "7                       1732     1619\n",
      "8                       3125     3246\n",
      "9                       4490     4311\n",
      "10                      5026     4919\n",
      "11                      5004     5116\n",
      "12                      4688     5132\n",
      "13                      4674     5323\n",
      "14                      4774     5375\n",
      "15                      5163     5188\n",
      "16                      4976     5029\n",
      "17                      4175     4295\n",
      "18                      3463     3338\n",
      "19                      2652     2610\n",
      "20                      1917     1847\n",
      "21                      1450     1473\n",
      "22                      1154     1185\n",
      "23                       718      893\n"
     ]
    },
    {
     "data": {
      "image/png": "[encoded data removed]",
      "text/plain": [
       "<Figure size 1000x600 with 1 Axes>"
      ]
     },
     "metadata": {},
     "output_type": "display_data"
    }
   ],
   "source": [
    "\n",
    "\n",
    "# Filtrar el DataFrame para incluir solo los pedidos realizados los miércoles y domingos\n",
    "miercoles_orders = df_car_orders[df_car_orders['order_dow'] == 3]\n",
    "sabado_orders = df_car_orders[df_car_orders['order_dow'] == 6]\n",
    "\n",
    "\n",
    "# Agrupar por la hora del día y contar el número de pedidos para cada hora en los miércoles y domingos\n",
    "\n",
    "pedidos_por_hora_miercoles = miercoles_orders.groupby('order_hour_of_day').size()\n",
    "pedidos_por_hora_sabados = sabado_orders.groupby('order_hour_of_day').size()\n",
    "\n",
    "\n",
    "# Unir los datos en un solo DataFrame\n",
    "data = {'Miércoles': pedidos_por_hora_miercoles, 'Sábados': pedidos_por_hora_sabados}\n",
    "df_combined = pd.DataFrame(data).fillna(0)  # Llenar con 0 si no hay pedidos el sábados\n",
    "print(df_combined)\n",
    "\n",
    "# Graficar el comportamiento de pedidos los miércoles y domingos por hora del día\n",
    "df_combined.plot(kind='bar', figsize=(10, 6))\n",
    "plt.xlabel('Hora del día')\n",
    "plt.ylabel('Número de pedidos')\n",
    "plt.title('Pedidos los miércoles y sábados por hora del día')\n",
    "plt.grid(True)\n",
    "plt.show()"
   ]
  },
  {
   "cell_type": "markdown",
   "id": "charitable-congo",
   "metadata": {
    "id": "charitable-congo"
   },
   "source": [
    "Escribe aquí tus conclusiones: Para ambos días las horas con mayor número de pedidos es entre 10 am 5 pm.\n"
   ]
  },
  {
   "cell_type": "markdown",
   "id": "e3891143",
   "metadata": {
    "id": "e3891143"
   },
   "source": [
    "### [B2] ¿Cuál es la distribución para el número de pedidos por cliente?"
   ]
  },
  {
   "cell_type": "code",
   "execution_count": 40,
   "id": "d8c26c23",
   "metadata": {
    "id": "d8c26c23"
   },
   "outputs": [
    {
     "name": "stdout",
     "output_type": "stream",
     "text": [
      "user_id\n",
      "2    2\n",
      "4    2\n",
      "5    1\n",
      "6    2\n",
      "7    2\n",
      "dtype: int64\n",
      "1    55357\n",
      "2    36508\n",
      "3    21547\n",
      "4    13498\n",
      "5     8777\n",
      "dtype: int64\n"
     ]
    },
    {
     "data": {
      "image/png": "[encoded data removed]",
      "text/plain": [
       "<Figure size 1000x600 with 1 Axes>"
      ]
     },
     "metadata": {},
     "output_type": "display_data"
    }
   ],
   "source": [
    "#2. Grafica la dis# Contar el número de órdenes por cliente\n",
    "ordenes_por_cliente = df_car_orders.groupby('user_id').size()\n",
    "print(ordenes_por_cliente.head(5))\n",
    "\n",
    "# Contar el número de clientes que han realizado un determinado número de órdenes\n",
    "distribucion_ordenes = ordenes_por_cliente.value_counts().sort_index()\n",
    "print(distribucion_ordenes.head(5))\n",
    "\n",
    "# Graficar la distribución del número de órdenes por cliente\n",
    "distribucion_ordenes.plot(kind='bar', figsize=(10, 6))\n",
    "plt.xlabel('Número de órdenes')\n",
    "plt.ylabel('Número de clientes')\n",
    "plt.title('Distribución del número de órdenes por cliente')\n",
    "plt.grid(True)\n",
    "plt.show()"
   ]
  },
  {
   "cell_type": "code",
   "execution_count": 41,
   "id": "00e69a66",
   "metadata": {
    "id": "00e69a66"
   },
   "outputs": [
    {
     "ename": "SyntaxError",
     "evalue": "invalid syntax (1889976866.py, line 1)",
     "output_type": "error",
     "traceback": [
      "\u001b[0;36m  Cell \u001b[0;32mIn[41], line 1\u001b[0;36m\u001b[0m\n\u001b[0;31m    Hay 56,000 clientes que piden solo una orden.\u001b[0m\n\u001b[0m        ^\u001b[0m\n\u001b[0;31mSyntaxError\u001b[0m\u001b[0;31m:\u001b[0m invalid syntax\n"
     ]
    }
   ],
   "source": [
    "Hay 56,000 clientes que piden solo una orden."
   ]
  },
  {
   "cell_type": "markdown",
   "id": "d2eff7d5",
   "metadata": {
    "id": "d2eff7d5"
   },
   "source": [
    "Escribe aquí tus conclusiones"
   ]
  },
  {
   "cell_type": "markdown",
   "id": "54a0319c",
   "metadata": {
    "id": "54a0319c"
   },
   "source": [
    "### [B3] ¿Cuáles son los 20 productos más populares (muestra su ID y nombre)?"
   ]
  },
  {
   "cell_type": "code",
   "execution_count": 48,
   "id": "exterior-arizona",
   "metadata": {
    "id": "exterior-arizona",
    "scrolled": true
   },
   "outputs": [
    {
     "name": "stdout",
     "output_type": "stream",
     "text": [
      "product_id  product_name            \n",
      "24852       Banana                      66050\n",
      "13176       Bag of Organic Bananas      53297\n",
      "21137       Organic Strawberries        37039\n",
      "21903       Organic Baby Spinach        33971\n",
      "47209       Organic Hass Avocado        29773\n",
      "47766       Organic Avocado             24689\n",
      "47626       Large Lemon                 21495\n",
      "16797       Strawberries                20018\n",
      "26209       Limes                       19690\n",
      "27845       Organic Whole Milk          19600\n",
      "27966       Organic Raspberries         19197\n",
      "22935       Organic Yellow Onion        15898\n",
      "24964       Organic Garlic              15292\n",
      "45007       Organic Zucchini            14584\n",
      "39275       Organic Blueberries         13879\n",
      "49683       Cucumber Kirby              13675\n",
      "28204       Organic Fuji Apple          12544\n",
      "5876        Organic Lemon               12232\n",
      "8277        Apple Honeycrisp Organic    11993\n",
      "40706       Organic Grape Tomatoes      11781\n",
      "dtype: int64\n"
     ]
    }
   ],
   "source": [
    "# Agrupar por el identificador y nombre del producto y contar la frecuencia de cada producto\n",
    "merged_df = pd.merge(df_order_product, df_product, on='product_id', how='inner')\n",
    "frecuencia_productos = merged_df.groupby(['product_id', 'product_name']).size()\n",
    "\n",
    "#print(frecuencia_productos)\n",
    "\n",
    "# Ordenar los resultados por frecuencia en orden descendente y tomar los primeros 20 productos\n",
    "top_20_productos = frecuencia_productos.sort_values(ascending=False).head(20)\n",
    "\n",
    "print(top_20_productos)"
   ]
  },
  {
   "cell_type": "markdown",
   "id": "7df00f47",
   "metadata": {
    "id": "7df00f47"
   },
   "source": [
    "Escribe aquí tus conclusiones"
   ]
  },
  {
   "cell_type": "markdown",
   "id": "gross-theme",
   "metadata": {
    "id": "gross-theme"
   },
   "source": [
    "# [C] Difícil (deben completarse todos para aprobar)\n",
    "\n",
    "1. ¿Cuántos artículos suelen comprar las personas en un pedido? ¿Cómo es la distribución?\n",
    "2. ¿Cuáles son los 20 principales artículos que vuelven a pedirse con mayor frecuencia (muestra sus nombres e IDs de los productos)?\n",
    "3. Para cada producto, ¿cuál es la tasa de repetición del pedido (número de repeticiones de pedido/total de pedidos?\n",
    "4. Para cada cliente, ¿qué proporción de los productos que pidió ya los había pedido? Calcula la tasa de repetición de pedido para cada usuario en lugar de para cada producto.\n",
    "5. ¿Cuáles son los 20 principales artículos que la gente pone primero en sus carritos (muestra las IDs de los productos, sus nombres, y el número de veces en que fueron el primer artículo en añadirse al carrito)?"
   ]
  },
  {
   "cell_type": "markdown",
   "id": "romantic-deposit",
   "metadata": {
    "id": "romantic-deposit"
   },
   "source": [
    "### [C1] ¿Cuántos artículos compran normalmente las personas en un pedido? ¿Cómo es la distribución?"
   ]
  },
  {
   "cell_type": "code",
   "execution_count": 50,
   "id": "virtual-punch",
   "metadata": {
    "id": "virtual-punch",
    "scrolled": true
   },
   "outputs": [
    {
     "name": "stdout",
     "output_type": "stream",
     "text": [
      "order_id\n",
      "4     13\n",
      "9     15\n",
      "11     5\n",
      "19     3\n",
      "20     8\n",
      "dtype: int64\n",
      "1    21847\n",
      "2    26292\n",
      "3    29046\n",
      "4    31054\n",
      "5    31923\n",
      "dtype: int64\n"
     ]
    },
    {
     "data": {
      "image/png": "[encoded data removed]",
      "text/plain": [
       "<Figure size 2000x1200 with 1 Axes>"
      ]
     },
     "metadata": {},
     "output_type": "display_data"
    }
   ],
   "source": [
    "# Contar el número de productos por orden\n",
    "productos_por_orden = df_order_product.groupby('order_id').size()\n",
    "print(productos_por_orden.head(5))\n",
    "\n",
    "\n",
    "distribucion_ordenesxprod = productos_por_orden.value_counts().sort_index()\n",
    "print(distribucion_ordenesxprod.head(5))\n",
    "\n",
    "# Graficar la distribución del número de órdenes por cliente\n",
    "distribucion_ordenesxprod.plot(kind='bar', figsize=(20, 12))\n",
    "plt.xlabel('Número de productos')\n",
    "plt.ylabel('Número de ordenes')\n",
    "plt.title('Distribución del número de productos por orden')\n",
    "plt.grid(True)\n",
    "plt.show()"
   ]
  },
  {
   "cell_type": "markdown",
   "id": "designed-mortality",
   "metadata": {
    "id": "designed-mortality"
   },
   "source": [
    "Escribe aquí tus conclusiones : En su mayoría de 25,000 a 30,000 ordenes llevan de 4 a 10 productos en sus ordenes."
   ]
  },
  {
   "cell_type": "markdown",
   "id": "5e6b5537",
   "metadata": {
    "id": "5e6b5537"
   },
   "source": [
    "### [C2] ¿Cuáles son los 20 principales artículos que vuelven a pedirse con mayor frecuencia (muestra sus nombres e IDs de los productos)?"
   ]
  },
  {
   "cell_type": "code",
   "execution_count": 51,
   "id": "9374e55a",
   "metadata": {
    "id": "9374e55a"
   },
   "outputs": [
    {
     "name": "stdout",
     "output_type": "stream",
     "text": [
      "product_id  product_name            \n",
      "24852       Banana                      66050\n",
      "13176       Bag of Organic Bananas      53297\n",
      "21137       Organic Strawberries        37039\n",
      "21903       Organic Baby Spinach        33971\n",
      "47209       Organic Hass Avocado        29773\n",
      "47766       Organic Avocado             24689\n",
      "47626       Large Lemon                 21495\n",
      "16797       Strawberries                20018\n",
      "26209       Limes                       19690\n",
      "27845       Organic Whole Milk          19600\n",
      "27966       Organic Raspberries         19197\n",
      "22935       Organic Yellow Onion        15898\n",
      "24964       Organic Garlic              15292\n",
      "45007       Organic Zucchini            14584\n",
      "39275       Organic Blueberries         13879\n",
      "49683       Cucumber Kirby              13675\n",
      "28204       Organic Fuji Apple          12544\n",
      "5876        Organic Lemon               12232\n",
      "8277        Apple Honeycrisp Organic    11993\n",
      "40706       Organic Grape Tomatoes      11781\n",
      "dtype: int64\n"
     ]
    }
   ],
   "source": [
    "# Agrupar por el identificador y nombre del producto y contar la frecuencia de cada producto\n",
    "merged_df = pd.merge(df_order_product, df_product, on='product_id', how='inner')\n",
    "frecuencia_productos = merged_df.groupby(['product_id', 'product_name']).size()\n",
    "\n",
    "#print(frecuencia_productos)\n",
    "\n",
    "# Ordenar los resultados por frecuencia en orden descendente y tomar los primeros 20 productos\n",
    "top_20_productos = frecuencia_productos.sort_values(ascending=False).head(20)\n",
    "\n",
    "print(top_20_productos)"
   ]
  },
  {
   "cell_type": "markdown",
   "id": "80e70c74",
   "metadata": {
    "id": "80e70c74"
   },
   "source": [
    "Escribe aquí tus conclusiones Este ejercicio esta repetido con la pregunta 7.7"
   ]
  },
  {
   "cell_type": "markdown",
   "id": "9d312b14",
   "metadata": {
    "id": "9d312b14"
   },
   "source": [
    "### [C3] Para cada producto, ¿cuál es la proporción de las veces que se pide y que se vuelve a pedir?"
   ]
  },
  {
   "cell_type": "code",
   "execution_count": 47,
   "id": "8ae9f4b1",
   "metadata": {
    "id": "8ae9f4b1"
   },
   "outputs": [
    {
     "name": "stdout",
     "output_type": "stream",
     "text": [
      "1        0.564286\n",
      "2        0.000000\n",
      "3        0.738095\n",
      "4        0.510204\n",
      "7        0.500000\n",
      "           ...   \n",
      "49690    0.800000\n",
      "49691    0.430556\n",
      "49692    0.416667\n",
      "49693    0.440000\n",
      "49694    0.333333\n",
      "Name: product_id, Length: 45573, dtype: float64\n"
     ]
    }
   ],
   "source": [
    "# Contar la frecuencia de cada producto\n",
    "frecuencia_productos = df_order_product['product_id'].value_counts()\n",
    "\n",
    "# Contar la frecuencia de cada producto cuandot se vuelve a pedir\n",
    "frecuencia_repedidos = df_order_product[df_order_product['reordered'] == 1]['product_id'].value_counts()\n",
    "\n",
    "# Calcular la proporción de repeticiones para cada producto\n",
    "proporcion_repedidos = (frecuencia_repedidos / frecuencia_productos).fillna(0)\n",
    "\n",
    "print(proporcion_repedidos)"
   ]
  },
  {
   "cell_type": "code",
   "execution_count": null,
   "id": "103e7fe1",
   "metadata": {
    "id": "103e7fe1"
   },
   "outputs": [],
   "source": []
  },
  {
   "cell_type": "code",
   "execution_count": null,
   "id": "social-individual",
   "metadata": {
    "id": "social-individual"
   },
   "outputs": [],
   "source": []
  },
  {
   "cell_type": "markdown",
   "id": "I10dEIAyldcO",
   "metadata": {
    "id": "I10dEIAyldcO"
   },
   "source": [
    "Escribe aquí tus conclusiones"
   ]
  },
  {
   "cell_type": "markdown",
   "id": "subject-boxing",
   "metadata": {
    "id": "subject-boxing"
   },
   "source": [
    "### [C4] Para cada cliente, ¿qué proporción de sus productos ya los había pedido?"
   ]
  },
  {
   "cell_type": "code",
   "execution_count": 45,
   "id": "f1794e5d",
   "metadata": {},
   "outputs": [
    {
     "name": "stdout",
     "output_type": "stream",
     "text": [
      "user_id\n",
      "2         0.020000\n",
      "4         0.000000\n",
      "5         0.666667\n",
      "6         0.000000\n",
      "7         0.923077\n",
      "            ...   \n",
      "206203    0.222222\n",
      "206206    0.676471\n",
      "206207    0.848485\n",
      "206208    0.577083\n",
      "206209    0.320000\n",
      "Length: 149626, dtype: float64\n"
     ]
    }
   ],
   "source": [
    "# Fusionar los DataFrames df_order_product y df_product para obtener el nombre de los productos\n",
    "merged_order_product= pd.merge(df_order_product, df_product, on='product_id', how='inner')\n",
    "#Fusionar los productos con las ordenes de productos\n",
    "merged_df_cli = pd.merge(merged_order_product, df_car_orders, on='order_id', how='inner')\n",
    "\n",
    "# Contar la frecuencia de cada producto por cliente\n",
    "frecuencia_productos_cliente = merged_df_cli.groupby(['user_id', 'product_id']).size()\n",
    "\n",
    "# Identificar los productos que un cliente ha vuelto a pedir\n",
    "productos_repedidos_cliente = merged_df_cli[merged_df_cli['reordered'] == 1].groupby(['user_id', 'product_id']).size()\n",
    "\n",
    "# Calcular la proporción de productos que un cliente ha vuelto a pedir de todos los productos que ha pedido\n",
    "proporcion_productos_repedidos = productos_repedidos_cliente.div(frecuencia_productos_cliente, fill_value=0).groupby(['user_id']).mean()\n",
    "\n",
    "print(proporcion_productos_repedidos)\n"
   ]
  },
  {
   "cell_type": "code",
   "execution_count": null,
   "id": "e77161b8",
   "metadata": {},
   "outputs": [],
   "source": [
    "####Conclusiones , con el resultado se puede ver la preferencia del cliente a ciertos productos, entre más cercano a uno es que siempre lo está reordenando. "
   ]
  },
  {
   "cell_type": "code",
   "execution_count": null,
   "id": "40029c58",
   "metadata": {},
   "outputs": [],
   "source": [
    "### [C5] ¿Cuáles son los 20 principales artículos que las personas ponen primero en sus carritos?"
   ]
  },
  {
   "cell_type": "code",
   "execution_count": 46,
   "id": "687e71a7",
   "metadata": {},
   "outputs": [
    {
     "name": "stdout",
     "output_type": "stream",
     "text": [
      "Banana                         15562\n",
      "Bag of Organic Bananas         11026\n",
      "Organic Whole Milk              4363\n",
      "Organic Strawberries            3946\n",
      "Organic Hass Avocado            3390\n",
      "Organic Baby Spinach            3336\n",
      "Organic Avocado                 3044\n",
      "Spring Water                    2336\n",
      "Strawberries                    2308\n",
      "Organic Raspberries             2024\n",
      "Sparkling Water Grapefruit      1914\n",
      "Organic Half & Half             1797\n",
      "Large Lemon                     1737\n",
      "Soda                            1733\n",
      "Organic Reduced Fat Milk        1397\n",
      "Limes                           1370\n",
      "Hass Avocados                   1340\n",
      "Organic Reduced Fat 2% Milk     1310\n",
      "Half & Half                     1309\n",
      "Organic Yellow Onion            1246\n",
      "Name: product_name, dtype: int64\n"
     ]
    }
   ],
   "source": [
    "#Fusionar los DataFrames df_order_product y df_product para obtener el nombre de los productos\n",
    "\n",
    "merged_df = pd.merge(df_order_product, df_product, on='product_id', how='inner')\n",
    "\n",
    "# Filtrar las filas donde el producto se agrega al carrito por primera vez\n",
    "\n",
    "primeras_veces = merged_df[merged_df['add_to_cart_order'] == 1]\n",
    "# Contar la frecuencia de cada producto que se agrega al carrito por primera vez\n",
    "\n",
    "contar_productos = primeras_veces['product_name'].value_counts().head(20)\n",
    "print(contar_productos)\n"
   ]
  },
  {
   "cell_type": "code",
   "execution_count": null,
   "id": "28769655",
   "metadata": {},
   "outputs": [],
   "source": [
    "La Bananana y la Bag organic banana son los víveres que tienen como prioridad para ingresarlos en el carrito y adicional es un producto con alto consumo de los clientes ( frecuente)"
   ]
  },
  {
   "cell_type": "code",
   "execution_count": null,
   "id": "abb230b4",
   "metadata": {},
   "outputs": [],
   "source": [
    "#CONCLUSIONES DEL PROYECTO\n",
    "\n",
    "En el proyecto se analiza el comportamiento de consumo de los clientes. Horarios y días pico.\n",
    "Si el cliente tiene preferencia por algún producto y que tan frecuentemente lo solicita.\n",
    "Los productos mayormente vendidos y preferidos por el cliente . \n",
    "\n",
    "\n",
    "En cuanto a lo técnico , el proyecto ya estuvo muy elevado. Yo si tuve que pedir apoyo a alguien cercano para poder resolverlo,\n",
    "debido a la complejidad . \n",
    "\n",
    "Borré varias líneas de mi proyecto por accidente casi al final por eso las ultimas conclusiones pueden estar en otro formato.\n",
    "Me falta el expertaise para Jupiter Notebook y pithon.\n",
    "\n",
    "Algo adicional es que el tiempo que marca el contenido de estudio , muchas veces no se cumple, termina uno llevándose más tiempo.\n",
    "\n",
    "\n"
   ]
  },
  {
   "cell_type": "code",
   "execution_count": null,
   "id": "fe0b8e3e",
   "metadata": {},
   "outputs": [],
   "source": []
  },
  {
   "cell_type": "code",
   "execution_count": null,
   "id": "1ac98b74",
   "metadata": {},
   "outputs": [],
   "source": []
  }
 ],
 "metadata": {
  "ExecuteTimeLog": [
   {
    "duration": 351,
    "start_time": "2024-05-16T16:19:26.009Z"
   },
   {
    "duration": 469,
    "start_time": "2024-05-16T16:24:30.728Z"
   },
   {
    "duration": 1714,
    "start_time": "2024-05-16T16:24:31.208Z"
   },
   {
    "duration": 244,
    "start_time": "2024-05-16T16:24:32.926Z"
   },
   {
    "duration": 158,
    "start_time": "2024-05-16T16:24:33.174Z"
   },
   {
    "duration": 21,
    "start_time": "2024-05-16T16:24:33.335Z"
   },
   {
    "duration": 19,
    "start_time": "2024-05-16T16:24:33.359Z"
   },
   {
    "duration": 3646,
    "start_time": "2024-05-16T16:24:33.408Z"
   },
   {
    "duration": 67,
    "start_time": "2024-05-16T16:24:37.057Z"
   },
   {
    "duration": 13,
    "start_time": "2024-05-16T16:24:37.126Z"
   },
   {
    "duration": 426,
    "start_time": "2024-05-16T16:24:37.146Z"
   },
   {
    "duration": 180,
    "start_time": "2024-05-16T16:24:37.575Z"
   },
   {
    "duration": 115,
    "start_time": "2024-05-16T16:24:37.758Z"
   },
   {
    "duration": 21,
    "start_time": "2024-05-16T16:24:37.876Z"
   },
   {
    "duration": 14,
    "start_time": "2024-05-16T16:24:37.910Z"
   },
   {
    "duration": 89,
    "start_time": "2024-05-16T16:24:37.928Z"
   },
   {
    "duration": 38,
    "start_time": "2024-05-16T16:24:38.020Z"
   },
   {
    "duration": 7,
    "start_time": "2024-05-16T16:24:38.061Z"
   },
   {
    "duration": 37,
    "start_time": "2024-05-16T16:24:38.071Z"
   },
   {
    "duration": 6,
    "start_time": "2024-05-16T16:24:38.112Z"
   },
   {
    "duration": 9,
    "start_time": "2024-05-16T16:24:38.121Z"
   },
   {
    "duration": 1412,
    "start_time": "2024-05-16T16:24:38.132Z"
   },
   {
    "duration": 477,
    "start_time": "2024-05-16T16:24:39.547Z"
   },
   {
    "duration": 68,
    "start_time": "2024-05-16T16:24:40.027Z"
   },
   {
    "duration": 13,
    "start_time": "2024-05-16T16:24:40.110Z"
   },
   {
    "duration": 14,
    "start_time": "2024-05-16T16:24:40.126Z"
   },
   {
    "duration": 10,
    "start_time": "2024-05-16T16:24:40.143Z"
   },
   {
    "duration": 82,
    "start_time": "2024-05-16T16:24:40.157Z"
   },
   {
    "duration": 89,
    "start_time": "2024-05-16T16:24:40.247Z"
   },
   {
    "duration": 11,
    "start_time": "2024-05-16T16:24:40.338Z"
   },
   {
    "duration": 65,
    "start_time": "2024-05-16T16:24:40.352Z"
   },
   {
    "duration": 106,
    "start_time": "2024-05-16T16:24:40.420Z"
   },
   {
    "duration": 12,
    "start_time": "2024-05-16T16:24:40.528Z"
   },
   {
    "duration": 82,
    "start_time": "2024-05-16T16:24:40.543Z"
   },
   {
    "duration": 25,
    "start_time": "2024-05-16T16:24:40.628Z"
   },
   {
    "duration": 4446,
    "start_time": "2024-05-16T16:24:40.656Z"
   },
   {
    "duration": 579,
    "start_time": "2024-05-16T16:24:45.108Z"
   },
   {
    "duration": 254,
    "start_time": "2024-05-16T16:24:45.690Z"
   },
   {
    "duration": 582,
    "start_time": "2024-05-16T16:24:45.947Z"
   },
   {
    "duration": 505,
    "start_time": "2024-05-16T16:51:15.011Z"
   },
   {
    "duration": 425,
    "start_time": "2024-05-16T17:19:36.186Z"
   },
   {
    "duration": 396,
    "start_time": "2024-05-16T18:24:23.583Z"
   },
   {
    "duration": 463,
    "start_time": "2024-05-16T18:26:46.134Z"
   },
   {
    "duration": 1562,
    "start_time": "2024-05-16T18:26:46.600Z"
   },
   {
    "duration": 229,
    "start_time": "2024-05-16T18:26:48.165Z"
   },
   {
    "duration": 150,
    "start_time": "2024-05-16T18:26:48.409Z"
   },
   {
    "duration": 19,
    "start_time": "2024-05-16T18:26:48.562Z"
   },
   {
    "duration": 37,
    "start_time": "2024-05-16T18:26:48.584Z"
   },
   {
    "duration": 3485,
    "start_time": "2024-05-16T18:26:48.625Z"
   },
   {
    "duration": 55,
    "start_time": "2024-05-16T18:26:52.113Z"
   },
   {
    "duration": 40,
    "start_time": "2024-05-16T18:26:52.172Z"
   },
   {
    "duration": 364,
    "start_time": "2024-05-16T18:26:52.217Z"
   },
   {
    "duration": 174,
    "start_time": "2024-05-16T18:26:52.584Z"
   },
   {
    "duration": 115,
    "start_time": "2024-05-16T18:26:52.764Z"
   },
   {
    "duration": 32,
    "start_time": "2024-05-16T18:26:52.882Z"
   },
   {
    "duration": 17,
    "start_time": "2024-05-16T18:26:52.917Z"
   },
   {
    "duration": 88,
    "start_time": "2024-05-16T18:26:52.937Z"
   },
   {
    "duration": 36,
    "start_time": "2024-05-16T18:26:53.028Z"
   },
   {
    "duration": 7,
    "start_time": "2024-05-16T18:26:53.067Z"
   },
   {
    "duration": 33,
    "start_time": "2024-05-16T18:26:53.079Z"
   },
   {
    "duration": 7,
    "start_time": "2024-05-16T18:26:53.114Z"
   },
   {
    "duration": 8,
    "start_time": "2024-05-16T18:26:53.125Z"
   },
   {
    "duration": 1382,
    "start_time": "2024-05-16T18:26:53.136Z"
   },
   {
    "duration": 542,
    "start_time": "2024-05-16T18:26:54.522Z"
   },
   {
    "duration": 84,
    "start_time": "2024-05-16T18:26:55.068Z"
   },
   {
    "duration": 14,
    "start_time": "2024-05-16T18:26:55.155Z"
   },
   {
    "duration": 14,
    "start_time": "2024-05-16T18:26:55.173Z"
   },
   {
    "duration": 13,
    "start_time": "2024-05-16T18:26:55.210Z"
   },
   {
    "duration": 37,
    "start_time": "2024-05-16T18:26:55.226Z"
   },
   {
    "duration": 106,
    "start_time": "2024-05-16T18:26:55.270Z"
   },
   {
    "duration": 32,
    "start_time": "2024-05-16T18:26:55.379Z"
   },
   {
    "duration": 39,
    "start_time": "2024-05-16T18:26:55.415Z"
   },
   {
    "duration": 115,
    "start_time": "2024-05-16T18:26:55.457Z"
   },
   {
    "duration": 11,
    "start_time": "2024-05-16T18:26:55.575Z"
   },
   {
    "duration": 50,
    "start_time": "2024-05-16T18:26:55.608Z"
   },
   {
    "duration": 47,
    "start_time": "2024-05-16T18:26:55.661Z"
   },
   {
    "duration": 776,
    "start_time": "2024-05-16T18:26:55.711Z"
   },
   {
    "duration": 569,
    "start_time": "2024-05-16T18:26:56.490Z"
   },
   {
    "duration": 258,
    "start_time": "2024-05-16T18:26:57.062Z"
   },
   {
    "duration": 519,
    "start_time": "2024-05-16T18:26:57.323Z"
   },
   {
    "duration": 323,
    "start_time": "2024-05-16T18:44:41.267Z"
   },
   {
    "duration": 25,
    "start_time": "2024-05-16T18:45:22.030Z"
   },
   {
    "duration": 473,
    "start_time": "2024-05-16T18:45:40.236Z"
   },
   {
    "duration": 1715,
    "start_time": "2024-05-16T18:45:40.712Z"
   },
   {
    "duration": 222,
    "start_time": "2024-05-16T18:45:42.430Z"
   },
   {
    "duration": 186,
    "start_time": "2024-05-16T18:45:42.657Z"
   },
   {
    "duration": 21,
    "start_time": "2024-05-16T18:45:42.846Z"
   },
   {
    "duration": 45,
    "start_time": "2024-05-16T18:45:42.869Z"
   },
   {
    "duration": 3464,
    "start_time": "2024-05-16T18:45:42.917Z"
   },
   {
    "duration": 66,
    "start_time": "2024-05-16T18:45:46.384Z"
   },
   {
    "duration": 12,
    "start_time": "2024-05-16T18:45:46.453Z"
   },
   {
    "duration": 365,
    "start_time": "2024-05-16T18:45:46.472Z"
   },
   {
    "duration": 177,
    "start_time": "2024-05-16T18:45:46.840Z"
   },
   {
    "duration": 105,
    "start_time": "2024-05-16T18:45:47.020Z"
   },
   {
    "duration": 20,
    "start_time": "2024-05-16T18:45:47.128Z"
   },
   {
    "duration": 16,
    "start_time": "2024-05-16T18:45:47.151Z"
   },
   {
    "duration": 93,
    "start_time": "2024-05-16T18:45:47.170Z"
   },
   {
    "duration": 55,
    "start_time": "2024-05-16T18:45:47.265Z"
   },
   {
    "duration": 7,
    "start_time": "2024-05-16T18:45:47.323Z"
   },
   {
    "duration": 7,
    "start_time": "2024-05-16T18:45:47.333Z"
   },
   {
    "duration": 8,
    "start_time": "2024-05-16T18:45:47.343Z"
   },
   {
    "duration": 11,
    "start_time": "2024-05-16T18:45:47.355Z"
   },
   {
    "duration": 1344,
    "start_time": "2024-05-16T18:45:47.410Z"
   },
   {
    "duration": 463,
    "start_time": "2024-05-16T18:45:48.757Z"
   },
   {
    "duration": 67,
    "start_time": "2024-05-16T18:45:49.223Z"
   },
   {
    "duration": 25,
    "start_time": "2024-05-16T18:45:49.293Z"
   },
   {
    "duration": 13,
    "start_time": "2024-05-16T18:45:49.320Z"
   },
   {
    "duration": 10,
    "start_time": "2024-05-16T18:45:49.336Z"
   },
   {
    "duration": 80,
    "start_time": "2024-05-16T18:45:49.350Z"
   },
   {
    "duration": 86,
    "start_time": "2024-05-16T18:45:49.437Z"
   },
   {
    "duration": 8,
    "start_time": "2024-05-16T18:45:49.527Z"
   },
   {
    "duration": 73,
    "start_time": "2024-05-16T18:45:49.538Z"
   },
   {
    "duration": 106,
    "start_time": "2024-05-16T18:45:49.615Z"
   },
   {
    "duration": 11,
    "start_time": "2024-05-16T18:45:49.723Z"
   },
   {
    "duration": 76,
    "start_time": "2024-05-16T18:45:49.738Z"
   },
   {
    "duration": 24,
    "start_time": "2024-05-16T18:45:49.817Z"
   },
   {
    "duration": 775,
    "start_time": "2024-05-16T18:45:49.844Z"
   },
   {
    "duration": 546,
    "start_time": "2024-05-16T18:45:50.623Z"
   },
   {
    "duration": 255,
    "start_time": "2024-05-16T18:45:51.172Z"
   },
   {
    "duration": 491,
    "start_time": "2024-05-16T18:45:51.430Z"
   },
   {
    "duration": 43,
    "start_time": "2024-05-16T18:45:51.924Z"
   },
   {
    "duration": 737,
    "start_time": "2024-05-16T18:46:19.660Z"
   },
   {
    "duration": 7,
    "start_time": "2024-05-16T18:57:16.198Z"
   },
   {
    "duration": 525,
    "start_time": "2024-05-16T19:01:45.622Z"
   },
   {
    "duration": 1717,
    "start_time": "2024-05-16T19:01:46.151Z"
   },
   {
    "duration": 272,
    "start_time": "2024-05-16T19:01:47.871Z"
   },
   {
    "duration": 152,
    "start_time": "2024-05-16T19:01:48.148Z"
   },
   {
    "duration": 22,
    "start_time": "2024-05-16T19:01:48.310Z"
   },
   {
    "duration": 19,
    "start_time": "2024-05-16T19:01:48.335Z"
   },
   {
    "duration": 3674,
    "start_time": "2024-05-16T19:01:48.357Z"
   },
   {
    "duration": 56,
    "start_time": "2024-05-16T19:01:52.035Z"
   },
   {
    "duration": 15,
    "start_time": "2024-05-16T19:01:52.109Z"
   },
   {
    "duration": 363,
    "start_time": "2024-05-16T19:01:52.129Z"
   },
   {
    "duration": 204,
    "start_time": "2024-05-16T19:01:52.495Z"
   },
   {
    "duration": 107,
    "start_time": "2024-05-16T19:01:52.703Z"
   },
   {
    "duration": 21,
    "start_time": "2024-05-16T19:01:52.813Z"
   },
   {
    "duration": 16,
    "start_time": "2024-05-16T19:01:52.838Z"
   },
   {
    "duration": 117,
    "start_time": "2024-05-16T19:01:52.857Z"
   },
   {
    "duration": 48,
    "start_time": "2024-05-16T19:01:52.977Z"
   },
   {
    "duration": 7,
    "start_time": "2024-05-16T19:01:53.028Z"
   },
   {
    "duration": 8,
    "start_time": "2024-05-16T19:01:53.039Z"
   },
   {
    "duration": 8,
    "start_time": "2024-05-16T19:01:53.051Z"
   },
   {
    "duration": 48,
    "start_time": "2024-05-16T19:01:53.062Z"
   },
   {
    "duration": 1388,
    "start_time": "2024-05-16T19:01:53.114Z"
   },
   {
    "duration": 509,
    "start_time": "2024-05-16T19:01:54.510Z"
   },
   {
    "duration": 106,
    "start_time": "2024-05-16T19:01:55.023Z"
   },
   {
    "duration": 16,
    "start_time": "2024-05-16T19:01:55.137Z"
   },
   {
    "duration": 15,
    "start_time": "2024-05-16T19:01:55.157Z"
   },
   {
    "duration": 40,
    "start_time": "2024-05-16T19:01:55.176Z"
   },
   {
    "duration": 39,
    "start_time": "2024-05-16T19:01:55.223Z"
   },
   {
    "duration": 106,
    "start_time": "2024-05-16T19:01:55.265Z"
   },
   {
    "duration": 8,
    "start_time": "2024-05-16T19:01:55.377Z"
   },
   {
    "duration": 62,
    "start_time": "2024-05-16T19:01:55.388Z"
   },
   {
    "duration": 117,
    "start_time": "2024-05-16T19:01:55.459Z"
   },
   {
    "duration": 32,
    "start_time": "2024-05-16T19:01:55.579Z"
   },
   {
    "duration": 52,
    "start_time": "2024-05-16T19:01:55.615Z"
   },
   {
    "duration": 56,
    "start_time": "2024-05-16T19:01:55.671Z"
   },
   {
    "duration": 823,
    "start_time": "2024-05-16T19:01:55.730Z"
   },
   {
    "duration": 563,
    "start_time": "2024-05-16T19:01:56.557Z"
   },
   {
    "duration": 297,
    "start_time": "2024-05-16T19:01:57.125Z"
   },
   {
    "duration": 507,
    "start_time": "2024-05-16T19:01:57.433Z"
   },
   {
    "duration": 346,
    "start_time": "2024-05-16T19:10:07.719Z"
   },
   {
    "duration": 496,
    "start_time": "2024-05-16T19:10:29.969Z"
   },
   {
    "duration": 1764,
    "start_time": "2024-05-16T19:10:30.469Z"
   },
   {
    "duration": 256,
    "start_time": "2024-05-16T19:10:32.236Z"
   },
   {
    "duration": 164,
    "start_time": "2024-05-16T19:10:32.508Z"
   },
   {
    "duration": 32,
    "start_time": "2024-05-16T19:10:32.677Z"
   },
   {
    "duration": 22,
    "start_time": "2024-05-16T19:10:32.712Z"
   },
   {
    "duration": 3716,
    "start_time": "2024-05-16T19:10:32.739Z"
   },
   {
    "duration": 74,
    "start_time": "2024-05-16T19:10:36.458Z"
   },
   {
    "duration": 13,
    "start_time": "2024-05-16T19:10:36.535Z"
   },
   {
    "duration": 359,
    "start_time": "2024-05-16T19:10:36.555Z"
   },
   {
    "duration": 196,
    "start_time": "2024-05-16T19:10:36.918Z"
   },
   {
    "duration": 112,
    "start_time": "2024-05-16T19:10:37.117Z"
   },
   {
    "duration": 22,
    "start_time": "2024-05-16T19:10:37.232Z"
   },
   {
    "duration": 15,
    "start_time": "2024-05-16T19:10:37.260Z"
   },
   {
    "duration": 107,
    "start_time": "2024-05-16T19:10:37.279Z"
   },
   {
    "duration": 57,
    "start_time": "2024-05-16T19:10:37.390Z"
   },
   {
    "duration": 7,
    "start_time": "2024-05-16T19:10:37.449Z"
   },
   {
    "duration": 7,
    "start_time": "2024-05-16T19:10:37.458Z"
   },
   {
    "duration": 43,
    "start_time": "2024-05-16T19:10:37.468Z"
   },
   {
    "duration": 9,
    "start_time": "2024-05-16T19:10:37.514Z"
   },
   {
    "duration": 1391,
    "start_time": "2024-05-16T19:10:37.526Z"
   },
   {
    "duration": 524,
    "start_time": "2024-05-16T19:10:38.920Z"
   },
   {
    "duration": 105,
    "start_time": "2024-05-16T19:10:39.447Z"
   },
   {
    "duration": 14,
    "start_time": "2024-05-16T19:10:39.556Z"
   },
   {
    "duration": 37,
    "start_time": "2024-05-16T19:10:39.573Z"
   },
   {
    "duration": 12,
    "start_time": "2024-05-16T19:10:39.613Z"
   },
   {
    "duration": 37,
    "start_time": "2024-05-16T19:10:39.628Z"
   },
   {
    "duration": 119,
    "start_time": "2024-05-16T19:10:39.673Z"
   },
   {
    "duration": 19,
    "start_time": "2024-05-16T19:10:39.795Z"
   },
   {
    "duration": 38,
    "start_time": "2024-05-16T19:10:39.817Z"
   },
   {
    "duration": 131,
    "start_time": "2024-05-16T19:10:39.859Z"
   },
   {
    "duration": 19,
    "start_time": "2024-05-16T19:10:39.993Z"
   },
   {
    "duration": 52,
    "start_time": "2024-05-16T19:10:40.015Z"
   },
   {
    "duration": 60,
    "start_time": "2024-05-16T19:10:40.070Z"
   },
   {
    "duration": 808,
    "start_time": "2024-05-16T19:10:40.133Z"
   },
   {
    "duration": 567,
    "start_time": "2024-05-16T19:10:40.944Z"
   },
   {
    "duration": 275,
    "start_time": "2024-05-16T19:10:41.514Z"
   },
   {
    "duration": 517,
    "start_time": "2024-05-16T19:10:41.793Z"
   },
   {
    "duration": 332,
    "start_time": "2024-05-16T19:10:42.313Z"
   },
   {
    "duration": 322,
    "start_time": "2024-05-16T19:11:55.119Z"
   },
   {
    "duration": 318,
    "start_time": "2024-05-16T19:12:38.777Z"
   },
   {
    "duration": 441,
    "start_time": "2024-05-16T19:15:07.325Z"
   },
   {
    "duration": 37,
    "start_time": "2024-05-16T19:15:45.373Z"
   },
   {
    "duration": 46,
    "start_time": "2024-05-16T19:21:10.214Z"
   },
   {
    "duration": 40,
    "start_time": "2024-05-16T19:21:21.519Z"
   },
   {
    "duration": 757,
    "start_time": "2024-05-16T19:24:23.762Z"
   },
   {
    "duration": 323,
    "start_time": "2024-05-16T19:24:52.061Z"
   },
   {
    "duration": 465,
    "start_time": "2024-05-16T19:30:51.550Z"
   },
   {
    "duration": 1714,
    "start_time": "2024-05-16T19:30:52.019Z"
   },
   {
    "duration": 237,
    "start_time": "2024-05-16T19:30:53.736Z"
   },
   {
    "duration": 161,
    "start_time": "2024-05-16T19:30:53.978Z"
   },
   {
    "duration": 20,
    "start_time": "2024-05-16T19:30:54.142Z"
   },
   {
    "duration": 43,
    "start_time": "2024-05-16T19:30:54.165Z"
   },
   {
    "duration": 3604,
    "start_time": "2024-05-16T19:30:54.212Z"
   },
   {
    "duration": 57,
    "start_time": "2024-05-16T19:30:57.819Z"
   },
   {
    "duration": 36,
    "start_time": "2024-05-16T19:30:57.878Z"
   },
   {
    "duration": 358,
    "start_time": "2024-05-16T19:30:57.920Z"
   },
   {
    "duration": 170,
    "start_time": "2024-05-16T19:30:58.282Z"
   },
   {
    "duration": 110,
    "start_time": "2024-05-16T19:30:58.455Z"
   },
   {
    "duration": 20,
    "start_time": "2024-05-16T19:30:58.568Z"
   },
   {
    "duration": 30,
    "start_time": "2024-05-16T19:30:58.591Z"
   },
   {
    "duration": 85,
    "start_time": "2024-05-16T19:30:58.624Z"
   },
   {
    "duration": 36,
    "start_time": "2024-05-16T19:30:58.712Z"
   },
   {
    "duration": 6,
    "start_time": "2024-05-16T19:30:58.751Z"
   },
   {
    "duration": 7,
    "start_time": "2024-05-16T19:30:58.761Z"
   },
   {
    "duration": 6,
    "start_time": "2024-05-16T19:30:58.808Z"
   },
   {
    "duration": 7,
    "start_time": "2024-05-16T19:30:58.817Z"
   },
   {
    "duration": 1401,
    "start_time": "2024-05-16T19:30:58.828Z"
   },
   {
    "duration": 483,
    "start_time": "2024-05-16T19:31:00.232Z"
   },
   {
    "duration": 71,
    "start_time": "2024-05-16T19:31:00.718Z"
   },
   {
    "duration": 14,
    "start_time": "2024-05-16T19:31:00.808Z"
   },
   {
    "duration": 15,
    "start_time": "2024-05-16T19:31:00.824Z"
   },
   {
    "duration": 10,
    "start_time": "2024-05-16T19:31:00.842Z"
   },
   {
    "duration": 76,
    "start_time": "2024-05-16T19:31:00.856Z"
   },
   {
    "duration": 93,
    "start_time": "2024-05-16T19:31:00.939Z"
   },
   {
    "duration": 8,
    "start_time": "2024-05-16T19:31:01.035Z"
   },
   {
    "duration": 62,
    "start_time": "2024-05-16T19:31:01.045Z"
   },
   {
    "duration": 106,
    "start_time": "2024-05-16T19:31:01.110Z"
   },
   {
    "duration": 12,
    "start_time": "2024-05-16T19:31:01.219Z"
   },
   {
    "duration": 77,
    "start_time": "2024-05-16T19:31:01.234Z"
   },
   {
    "duration": 24,
    "start_time": "2024-05-16T19:31:01.314Z"
   },
   {
    "duration": 782,
    "start_time": "2024-05-16T19:31:01.341Z"
   },
   {
    "duration": 551,
    "start_time": "2024-05-16T19:31:02.127Z"
   },
   {
    "duration": 256,
    "start_time": "2024-05-16T19:31:02.681Z"
   },
   {
    "duration": 496,
    "start_time": "2024-05-16T19:31:02.940Z"
   },
   {
    "duration": 518,
    "start_time": "2024-05-16T19:41:01.635Z"
   },
   {
    "duration": 1690,
    "start_time": "2024-05-16T19:41:02.156Z"
   },
   {
    "duration": 240,
    "start_time": "2024-05-16T19:41:03.849Z"
   },
   {
    "duration": 161,
    "start_time": "2024-05-16T19:41:04.093Z"
   },
   {
    "duration": 21,
    "start_time": "2024-05-16T19:41:04.258Z"
   },
   {
    "duration": 38,
    "start_time": "2024-05-16T19:41:04.283Z"
   },
   {
    "duration": 3552,
    "start_time": "2024-05-16T19:41:04.324Z"
   },
   {
    "duration": 69,
    "start_time": "2024-05-16T19:41:07.879Z"
   },
   {
    "duration": 12,
    "start_time": "2024-05-16T19:41:07.951Z"
   },
   {
    "duration": 347,
    "start_time": "2024-05-16T19:41:07.969Z"
   },
   {
    "duration": 170,
    "start_time": "2024-05-16T19:41:08.320Z"
   },
   {
    "duration": 120,
    "start_time": "2024-05-16T19:41:08.493Z"
   },
   {
    "duration": 20,
    "start_time": "2024-05-16T19:41:08.617Z"
   },
   {
    "duration": 15,
    "start_time": "2024-05-16T19:41:08.639Z"
   },
   {
    "duration": 107,
    "start_time": "2024-05-16T19:41:08.657Z"
   },
   {
    "duration": 59,
    "start_time": "2024-05-16T19:41:08.767Z"
   },
   {
    "duration": 7,
    "start_time": "2024-05-16T19:41:08.829Z"
   },
   {
    "duration": 6,
    "start_time": "2024-05-16T19:41:08.839Z"
   },
   {
    "duration": 6,
    "start_time": "2024-05-16T19:41:08.849Z"
   },
   {
    "duration": 6,
    "start_time": "2024-05-16T19:41:08.859Z"
   },
   {
    "duration": 1341,
    "start_time": "2024-05-16T19:41:08.910Z"
   },
   {
    "duration": 472,
    "start_time": "2024-05-16T19:41:10.254Z"
   },
   {
    "duration": 80,
    "start_time": "2024-05-16T19:41:10.728Z"
   },
   {
    "duration": 12,
    "start_time": "2024-05-16T19:41:10.812Z"
   },
   {
    "duration": 13,
    "start_time": "2024-05-16T19:41:10.827Z"
   },
   {
    "duration": 10,
    "start_time": "2024-05-16T19:41:10.844Z"
   },
   {
    "duration": 84,
    "start_time": "2024-05-16T19:41:10.857Z"
   },
   {
    "duration": 98,
    "start_time": "2024-05-16T19:41:10.949Z"
   },
   {
    "duration": 9,
    "start_time": "2024-05-16T19:41:11.052Z"
   },
   {
    "duration": 62,
    "start_time": "2024-05-16T19:41:11.064Z"
   },
   {
    "duration": 112,
    "start_time": "2024-05-16T19:41:11.128Z"
   },
   {
    "duration": 12,
    "start_time": "2024-05-16T19:41:11.243Z"
   },
   {
    "duration": 82,
    "start_time": "2024-05-16T19:41:11.258Z"
   },
   {
    "duration": 25,
    "start_time": "2024-05-16T19:41:11.343Z"
   },
   {
    "duration": 773,
    "start_time": "2024-05-16T19:41:11.371Z"
   },
   {
    "duration": 538,
    "start_time": "2024-05-16T19:41:12.147Z"
   },
   {
    "duration": 274,
    "start_time": "2024-05-16T19:41:12.688Z"
   },
   {
    "duration": 505,
    "start_time": "2024-05-16T19:41:12.966Z"
   },
   {
    "duration": 379,
    "start_time": "2024-05-16T19:41:13.474Z"
   },
   {
    "duration": 33,
    "start_time": "2024-05-16T19:46:20.388Z"
   },
   {
    "duration": 331,
    "start_time": "2024-05-16T19:46:51.047Z"
   },
   {
    "duration": 324,
    "start_time": "2024-05-16T20:00:09.131Z"
   },
   {
    "duration": 516,
    "start_time": "2024-05-16T20:00:37.368Z"
   },
   {
    "duration": 1676,
    "start_time": "2024-05-16T20:00:37.887Z"
   },
   {
    "duration": 230,
    "start_time": "2024-05-16T20:00:39.565Z"
   },
   {
    "duration": 142,
    "start_time": "2024-05-16T20:00:39.811Z"
   },
   {
    "duration": 23,
    "start_time": "2024-05-16T20:00:39.956Z"
   },
   {
    "duration": 42,
    "start_time": "2024-05-16T20:00:39.982Z"
   },
   {
    "duration": 3497,
    "start_time": "2024-05-16T20:00:40.027Z"
   },
   {
    "duration": 55,
    "start_time": "2024-05-16T20:00:43.527Z"
   },
   {
    "duration": 33,
    "start_time": "2024-05-16T20:00:43.584Z"
   },
   {
    "duration": 355,
    "start_time": "2024-05-16T20:00:43.622Z"
   },
   {
    "duration": 189,
    "start_time": "2024-05-16T20:00:43.980Z"
   },
   {
    "duration": 106,
    "start_time": "2024-05-16T20:00:44.173Z"
   },
   {
    "duration": 32,
    "start_time": "2024-05-16T20:00:44.282Z"
   },
   {
    "duration": 16,
    "start_time": "2024-05-16T20:00:44.317Z"
   },
   {
    "duration": 90,
    "start_time": "2024-05-16T20:00:44.335Z"
   },
   {
    "duration": 41,
    "start_time": "2024-05-16T20:00:44.428Z"
   },
   {
    "duration": 7,
    "start_time": "2024-05-16T20:00:44.472Z"
   },
   {
    "duration": 8,
    "start_time": "2024-05-16T20:00:44.508Z"
   },
   {
    "duration": 9,
    "start_time": "2024-05-16T20:00:44.519Z"
   },
   {
    "duration": 8,
    "start_time": "2024-05-16T20:00:44.531Z"
   },
   {
    "duration": 1400,
    "start_time": "2024-05-16T20:00:44.543Z"
   },
   {
    "duration": 481,
    "start_time": "2024-05-16T20:00:45.946Z"
   },
   {
    "duration": 79,
    "start_time": "2024-05-16T20:00:46.430Z"
   },
   {
    "duration": 13,
    "start_time": "2024-05-16T20:00:46.512Z"
   },
   {
    "duration": 13,
    "start_time": "2024-05-16T20:00:46.529Z"
   },
   {
    "duration": 12,
    "start_time": "2024-05-16T20:00:46.544Z"
   },
   {
    "duration": 74,
    "start_time": "2024-05-16T20:00:46.562Z"
   },
   {
    "duration": 91,
    "start_time": "2024-05-16T20:00:46.643Z"
   },
   {
    "duration": 8,
    "start_time": "2024-05-16T20:00:46.737Z"
   },
   {
    "duration": 69,
    "start_time": "2024-05-16T20:00:46.748Z"
   },
   {
    "duration": 106,
    "start_time": "2024-05-16T20:00:46.820Z"
   },
   {
    "duration": 14,
    "start_time": "2024-05-16T20:00:46.929Z"
   },
   {
    "duration": 83,
    "start_time": "2024-05-16T20:00:46.946Z"
   },
   {
    "duration": 25,
    "start_time": "2024-05-16T20:00:47.032Z"
   },
   {
    "duration": 791,
    "start_time": "2024-05-16T20:00:47.060Z"
   },
   {
    "duration": 553,
    "start_time": "2024-05-16T20:00:47.855Z"
   },
   {
    "duration": 267,
    "start_time": "2024-05-16T20:00:48.411Z"
   },
   {
    "duration": 489,
    "start_time": "2024-05-16T20:00:48.681Z"
   },
   {
    "duration": 212,
    "start_time": "2024-05-16T20:00:49.173Z"
   },
   {
    "duration": 212,
    "start_time": "2024-05-16T20:00:54.525Z"
   },
   {
    "duration": 238,
    "start_time": "2024-05-16T20:04:35.533Z"
   },
   {
    "duration": 236,
    "start_time": "2024-05-16T20:06:47.840Z"
   },
   {
    "duration": 302,
    "start_time": "2024-05-16T20:08:00.519Z"
   },
   {
    "duration": 330,
    "start_time": "2024-05-16T20:12:06.961Z"
   },
   {
    "duration": 1529,
    "start_time": "2024-05-16T20:12:46.853Z"
   },
   {
    "duration": 315,
    "start_time": "2024-05-16T20:13:39.927Z"
   },
   {
    "duration": 40,
    "start_time": "2024-05-16T20:26:40.646Z"
   },
   {
    "duration": 41,
    "start_time": "2024-05-16T20:27:06.900Z"
   },
   {
    "duration": 37,
    "start_time": "2024-05-16T20:27:48.780Z"
   },
   {
    "duration": 471,
    "start_time": "2024-05-16T20:28:15.303Z"
   },
   {
    "duration": 562,
    "start_time": "2024-05-17T00:26:29.246Z"
   },
   {
    "duration": 679,
    "start_time": "2024-05-17T00:33:35.611Z"
   },
   {
    "duration": 12,
    "start_time": "2024-05-17T00:48:22.536Z"
   },
   {
    "duration": 820,
    "start_time": "2024-05-17T00:48:56.292Z"
   },
   {
    "duration": 585,
    "start_time": "2024-05-17T00:49:28.850Z"
   },
   {
    "duration": 86,
    "start_time": "2024-05-17T01:04:00.772Z"
   },
   {
    "duration": 89,
    "start_time": "2024-05-17T01:05:48.951Z"
   },
   {
    "duration": 44,
    "start_time": "2024-05-17T01:12:00.509Z"
   },
   {
    "duration": 1850,
    "start_time": "2024-05-17T01:18:31.913Z"
   },
   {
    "duration": 1992,
    "start_time": "2024-05-17T01:19:15.102Z"
   },
   {
    "duration": 1976,
    "start_time": "2024-05-17T01:26:23.146Z"
   },
   {
    "duration": 461,
    "start_time": "2024-05-17T01:27:44.748Z"
   },
   {
    "duration": 1881,
    "start_time": "2024-05-17T01:28:39.627Z"
   },
   {
    "duration": 1970,
    "start_time": "2024-05-17T01:29:43.015Z"
   },
   {
    "duration": 1978,
    "start_time": "2024-05-17T01:29:47.439Z"
   },
   {
    "duration": 188,
    "start_time": "2024-05-17T01:34:15.966Z"
   },
   {
    "duration": 24386,
    "start_time": "2024-05-17T01:34:58.001Z"
   },
   {
    "duration": 2387,
    "start_time": "2024-05-17T01:41:54.254Z"
   },
   {
    "duration": 2226,
    "start_time": "2024-05-17T01:43:39.246Z"
   },
   {
    "duration": 1855,
    "start_time": "2024-05-17T01:47:09.753Z"
   },
   {
    "duration": 450,
    "start_time": "2024-05-17T02:00:21.110Z"
   },
   {
    "duration": 414,
    "start_time": "2024-05-17T02:01:09.273Z"
   },
   {
    "duration": 26,
    "start_time": "2024-05-17T02:09:35.046Z"
   },
   {
    "duration": 1510,
    "start_time": "2024-05-17T02:10:17.539Z"
   },
   {
    "duration": 3627,
    "start_time": "2024-05-17T02:13:22.612Z"
   },
   {
    "duration": 3800,
    "start_time": "2024-05-17T02:14:05.686Z"
   },
   {
    "duration": 3304,
    "start_time": "2024-05-17T02:15:14.060Z"
   },
   {
    "duration": 11042,
    "start_time": "2024-05-17T02:18:29.598Z"
   },
   {
    "duration": 11435,
    "start_time": "2024-05-17T02:19:48.007Z"
   },
   {
    "duration": 10806,
    "start_time": "2024-05-17T02:21:08.138Z"
   },
   {
    "duration": 11283,
    "start_time": "2024-05-17T02:22:46.775Z"
   },
   {
    "duration": 11265,
    "start_time": "2024-05-17T02:25:09.829Z"
   },
   {
    "duration": 762,
    "start_time": "2024-05-17T02:33:36.550Z"
   },
   {
    "duration": 789,
    "start_time": "2024-05-17T02:34:01.686Z"
   },
   {
    "duration": 836,
    "start_time": "2024-05-17T02:35:51.729Z"
   },
   {
    "duration": 913,
    "start_time": "2024-05-17T02:36:36.417Z"
   },
   {
    "duration": 796,
    "start_time": "2024-05-17T02:39:22.533Z"
   },
   {
    "duration": 814,
    "start_time": "2024-05-17T02:40:11.719Z"
   },
   {
    "duration": 781,
    "start_time": "2024-05-17T02:41:02.715Z"
   },
   {
    "duration": 856,
    "start_time": "2024-05-17T02:41:21.010Z"
   },
   {
    "duration": 1796,
    "start_time": "2024-05-17T02:42:24.881Z"
   },
   {
    "duration": 33,
    "start_time": "2024-05-18T02:30:04.034Z"
   },
   {
    "duration": 842,
    "start_time": "2024-05-18T02:30:44.103Z"
   },
   {
    "duration": 1680,
    "start_time": "2024-05-18T02:34:56.954Z"
   },
   {
    "duration": 705,
    "start_time": "2024-05-18T02:35:31.866Z"
   },
   {
    "duration": 310,
    "start_time": "2024-05-18T02:40:18.283Z"
   },
   {
    "duration": 476,
    "start_time": "2024-05-18T02:40:54.008Z"
   },
   {
    "duration": 1930,
    "start_time": "2024-05-18T02:40:54.488Z"
   },
   {
    "duration": 225,
    "start_time": "2024-05-18T02:40:56.422Z"
   },
   {
    "duration": 156,
    "start_time": "2024-05-18T02:40:56.652Z"
   },
   {
    "duration": 18,
    "start_time": "2024-05-18T02:40:56.812Z"
   },
   {
    "duration": 18,
    "start_time": "2024-05-18T02:40:56.833Z"
   },
   {
    "duration": 3630,
    "start_time": "2024-05-18T02:40:56.854Z"
   },
   {
    "duration": 70,
    "start_time": "2024-05-18T02:41:00.487Z"
   },
   {
    "duration": 14,
    "start_time": "2024-05-18T02:41:00.560Z"
   },
   {
    "duration": 390,
    "start_time": "2024-05-18T02:41:00.581Z"
   },
   {
    "duration": 172,
    "start_time": "2024-05-18T02:41:00.977Z"
   },
   {
    "duration": 113,
    "start_time": "2024-05-18T02:41:01.152Z"
   },
   {
    "duration": 23,
    "start_time": "2024-05-18T02:41:01.268Z"
   },
   {
    "duration": 16,
    "start_time": "2024-05-18T02:41:01.310Z"
   },
   {
    "duration": 90,
    "start_time": "2024-05-18T02:41:01.329Z"
   },
   {
    "duration": 40,
    "start_time": "2024-05-18T02:41:01.422Z"
   },
   {
    "duration": 9,
    "start_time": "2024-05-18T02:41:01.465Z"
   },
   {
    "duration": 32,
    "start_time": "2024-05-18T02:41:01.485Z"
   },
   {
    "duration": 11,
    "start_time": "2024-05-18T02:41:01.520Z"
   },
   {
    "duration": 12,
    "start_time": "2024-05-18T02:41:01.536Z"
   },
   {
    "duration": 1373,
    "start_time": "2024-05-18T02:41:01.552Z"
   },
   {
    "duration": 513,
    "start_time": "2024-05-18T02:41:02.927Z"
   },
   {
    "duration": 79,
    "start_time": "2024-05-18T02:41:03.444Z"
   },
   {
    "duration": 14,
    "start_time": "2024-05-18T02:41:03.526Z"
   },
   {
    "duration": 12,
    "start_time": "2024-05-18T02:41:03.543Z"
   },
   {
    "duration": 11,
    "start_time": "2024-05-18T02:41:03.559Z"
   },
   {
    "duration": 40,
    "start_time": "2024-05-18T02:41:03.609Z"
   },
   {
    "duration": 94,
    "start_time": "2024-05-18T02:41:03.658Z"
   },
   {
    "duration": 13,
    "start_time": "2024-05-18T02:41:03.755Z"
   },
   {
    "duration": 57,
    "start_time": "2024-05-18T02:41:03.771Z"
   },
   {
    "duration": 116,
    "start_time": "2024-05-18T02:41:03.831Z"
   },
   {
    "duration": 13,
    "start_time": "2024-05-18T02:41:03.951Z"
   },
   {
    "duration": 77,
    "start_time": "2024-05-18T02:41:03.968Z"
   },
   {
    "duration": 24,
    "start_time": "2024-05-18T02:41:04.049Z"
   },
   {
    "duration": 816,
    "start_time": "2024-05-18T02:41:04.077Z"
   },
   {
    "duration": 605,
    "start_time": "2024-05-18T02:41:04.897Z"
   },
   {
    "duration": 265,
    "start_time": "2024-05-18T02:41:05.505Z"
   },
   {
    "duration": 537,
    "start_time": "2024-05-18T02:41:05.773Z"
   },
   {
    "duration": 536,
    "start_time": "2024-05-18T02:41:06.314Z"
   },
   {
    "duration": 470,
    "start_time": "2024-05-18T02:41:06.853Z"
   },
   {
    "duration": 15,
    "start_time": "2024-05-18T02:41:07.327Z"
   },
   {
    "duration": 0,
    "start_time": "2024-05-18T02:41:07.354Z"
   },
   {
    "duration": 0,
    "start_time": "2024-05-18T02:41:07.356Z"
   },
   {
    "duration": 0,
    "start_time": "2024-05-18T02:41:07.358Z"
   },
   {
    "duration": 0,
    "start_time": "2024-05-18T02:41:07.361Z"
   },
   {
    "duration": 0,
    "start_time": "2024-05-18T02:41:07.363Z"
   },
   {
    "duration": 0,
    "start_time": "2024-05-18T02:41:07.373Z"
   },
   {
    "duration": 5842,
    "start_time": "2024-05-18T02:41:10.313Z"
   },
   {
    "duration": 0,
    "start_time": "2024-05-18T02:41:51.875Z"
   },
   {
    "duration": 5842,
    "start_time": "2024-05-18T02:42:24.969Z"
   },
   {
    "duration": 1242,
    "start_time": "2024-05-18T02:48:00.306Z"
   },
   {
    "duration": 11119,
    "start_time": "2024-05-18T02:54:05.301Z"
   },
   {
    "duration": 437,
    "start_time": "2024-05-18T04:35:43.079Z"
   },
   {
    "duration": 1686,
    "start_time": "2024-05-18T04:35:43.519Z"
   },
   {
    "duration": 223,
    "start_time": "2024-05-18T04:35:45.210Z"
   },
   {
    "duration": 150,
    "start_time": "2024-05-18T04:35:45.438Z"
   },
   {
    "duration": 19,
    "start_time": "2024-05-18T04:35:45.590Z"
   },
   {
    "duration": 35,
    "start_time": "2024-05-18T04:35:45.611Z"
   },
   {
    "duration": 3429,
    "start_time": "2024-05-18T04:35:45.649Z"
   },
   {
    "duration": 65,
    "start_time": "2024-05-18T04:35:49.081Z"
   },
   {
    "duration": 11,
    "start_time": "2024-05-18T04:35:49.150Z"
   },
   {
    "duration": 352,
    "start_time": "2024-05-18T04:35:49.166Z"
   },
   {
    "duration": 185,
    "start_time": "2024-05-18T04:35:49.520Z"
   },
   {
    "duration": 103,
    "start_time": "2024-05-18T04:35:49.708Z"
   },
   {
    "duration": 28,
    "start_time": "2024-05-18T04:35:49.814Z"
   },
   {
    "duration": 14,
    "start_time": "2024-05-18T04:35:49.845Z"
   },
   {
    "duration": 85,
    "start_time": "2024-05-18T04:35:49.862Z"
   },
   {
    "duration": 36,
    "start_time": "2024-05-18T04:35:49.951Z"
   },
   {
    "duration": 8,
    "start_time": "2024-05-18T04:35:49.989Z"
   },
   {
    "duration": 35,
    "start_time": "2024-05-18T04:35:50.000Z"
   },
   {
    "duration": 7,
    "start_time": "2024-05-18T04:35:50.038Z"
   },
   {
    "duration": 8,
    "start_time": "2024-05-18T04:35:50.048Z"
   },
   {
    "duration": 1344,
    "start_time": "2024-05-18T04:35:50.059Z"
   },
   {
    "duration": 478,
    "start_time": "2024-05-18T04:35:51.407Z"
   },
   {
    "duration": 79,
    "start_time": "2024-05-18T04:35:51.890Z"
   },
   {
    "duration": 14,
    "start_time": "2024-05-18T04:35:51.972Z"
   },
   {
    "duration": 41,
    "start_time": "2024-05-18T04:35:51.989Z"
   },
   {
    "duration": 15,
    "start_time": "2024-05-18T04:35:52.035Z"
   },
   {
    "duration": 37,
    "start_time": "2024-05-18T04:35:52.053Z"
   },
   {
    "duration": 101,
    "start_time": "2024-05-18T04:35:52.098Z"
   },
   {
    "duration": 30,
    "start_time": "2024-05-18T04:35:52.202Z"
   },
   {
    "duration": 39,
    "start_time": "2024-05-18T04:35:52.235Z"
   },
   {
    "duration": 119,
    "start_time": "2024-05-18T04:35:52.277Z"
   },
   {
    "duration": 11,
    "start_time": "2024-05-18T04:35:52.399Z"
   },
   {
    "duration": 49,
    "start_time": "2024-05-18T04:35:52.433Z"
   },
   {
    "duration": 48,
    "start_time": "2024-05-18T04:35:52.485Z"
   },
   {
    "duration": 4300,
    "start_time": "2024-05-18T04:35:52.536Z"
   },
   {
    "duration": 597,
    "start_time": "2024-05-18T04:35:56.839Z"
   },
   {
    "duration": 257,
    "start_time": "2024-05-18T04:35:57.439Z"
   },
   {
    "duration": 484,
    "start_time": "2024-05-18T04:35:57.699Z"
   },
   {
    "duration": 495,
    "start_time": "2024-05-18T04:35:58.186Z"
   },
   {
    "duration": 452,
    "start_time": "2024-05-18T04:35:58.684Z"
   },
   {
    "duration": 7,
    "start_time": "2024-05-18T04:35:59.139Z"
   },
   {
    "duration": 0,
    "start_time": "2024-05-18T04:35:59.149Z"
   },
   {
    "duration": 0,
    "start_time": "2024-05-18T04:35:59.151Z"
   },
   {
    "duration": 0,
    "start_time": "2024-05-18T04:35:59.154Z"
   },
   {
    "duration": 0,
    "start_time": "2024-05-18T04:35:59.156Z"
   },
   {
    "duration": 0,
    "start_time": "2024-05-18T04:35:59.159Z"
   },
   {
    "duration": 0,
    "start_time": "2024-05-18T04:35:59.160Z"
   },
   {
    "duration": 2235,
    "start_time": "2024-05-18T04:36:21.687Z"
   },
   {
    "duration": 458,
    "start_time": "2024-05-18T17:00:57.784Z"
   },
   {
    "duration": 1699,
    "start_time": "2024-05-18T17:00:58.246Z"
   },
   {
    "duration": 228,
    "start_time": "2024-05-18T17:00:59.949Z"
   },
   {
    "duration": 148,
    "start_time": "2024-05-18T17:01:00.180Z"
   },
   {
    "duration": 19,
    "start_time": "2024-05-18T17:01:00.331Z"
   },
   {
    "duration": 19,
    "start_time": "2024-05-18T17:01:00.353Z"
   },
   {
    "duration": 3547,
    "start_time": "2024-05-18T17:01:00.375Z"
   },
   {
    "duration": 68,
    "start_time": "2024-05-18T17:01:03.926Z"
   },
   {
    "duration": 13,
    "start_time": "2024-05-18T17:01:04.009Z"
   },
   {
    "duration": 377,
    "start_time": "2024-05-18T17:01:04.031Z"
   },
   {
    "duration": 182,
    "start_time": "2024-05-18T17:01:04.411Z"
   },
   {
    "duration": 112,
    "start_time": "2024-05-18T17:01:04.596Z"
   },
   {
    "duration": 23,
    "start_time": "2024-05-18T17:01:04.712Z"
   },
   {
    "duration": 16,
    "start_time": "2024-05-18T17:01:04.738Z"
   },
   {
    "duration": 97,
    "start_time": "2024-05-18T17:01:04.757Z"
   },
   {
    "duration": 38,
    "start_time": "2024-05-18T17:01:04.856Z"
   },
   {
    "duration": 8,
    "start_time": "2024-05-18T17:01:04.913Z"
   },
   {
    "duration": 9,
    "start_time": "2024-05-18T17:01:04.924Z"
   },
   {
    "duration": 7,
    "start_time": "2024-05-18T17:01:04.936Z"
   },
   {
    "duration": 9,
    "start_time": "2024-05-18T17:01:04.945Z"
   },
   {
    "duration": 1382,
    "start_time": "2024-05-18T17:01:04.958Z"
   },
   {
    "duration": 505,
    "start_time": "2024-05-18T17:01:06.343Z"
   },
   {
    "duration": 81,
    "start_time": "2024-05-18T17:01:06.850Z"
   },
   {
    "duration": 12,
    "start_time": "2024-05-18T17:01:06.935Z"
   },
   {
    "duration": 13,
    "start_time": "2024-05-18T17:01:06.951Z"
   },
   {
    "duration": 42,
    "start_time": "2024-05-18T17:01:06.967Z"
   },
   {
    "duration": 42,
    "start_time": "2024-05-18T17:01:07.013Z"
   },
   {
    "duration": 95,
    "start_time": "2024-05-18T17:01:07.063Z"
   },
   {
    "duration": 9,
    "start_time": "2024-05-18T17:01:07.162Z"
   },
   {
    "duration": 63,
    "start_time": "2024-05-18T17:01:07.174Z"
   },
   {
    "duration": 114,
    "start_time": "2024-05-18T17:01:07.239Z"
   },
   {
    "duration": 13,
    "start_time": "2024-05-18T17:01:07.357Z"
   },
   {
    "duration": 71,
    "start_time": "2024-05-18T17:01:07.374Z"
   },
   {
    "duration": 27,
    "start_time": "2024-05-18T17:01:07.448Z"
   },
   {
    "duration": 4410,
    "start_time": "2024-05-18T17:01:07.481Z"
   },
   {
    "duration": 600,
    "start_time": "2024-05-18T17:01:11.897Z"
   },
   {
    "duration": 263,
    "start_time": "2024-05-18T17:01:12.501Z"
   },
   {
    "duration": 504,
    "start_time": "2024-05-18T17:01:12.768Z"
   },
   {
    "duration": 484,
    "start_time": "2024-05-18T17:01:13.275Z"
   },
   {
    "duration": 480,
    "start_time": "2024-05-18T17:01:13.764Z"
   },
   {
    "duration": 8,
    "start_time": "2024-05-18T17:01:14.247Z"
   },
   {
    "duration": 0,
    "start_time": "2024-05-18T17:01:14.258Z"
   },
   {
    "duration": 0,
    "start_time": "2024-05-18T17:01:14.260Z"
   },
   {
    "duration": 0,
    "start_time": "2024-05-18T17:01:14.262Z"
   },
   {
    "duration": 0,
    "start_time": "2024-05-18T17:01:14.264Z"
   },
   {
    "duration": 0,
    "start_time": "2024-05-18T17:01:14.266Z"
   },
   {
    "duration": 0,
    "start_time": "2024-05-18T17:01:14.269Z"
   },
   {
    "duration": 2200,
    "start_time": "2024-05-18T17:08:11.884Z"
   },
   {
    "duration": 13088,
    "start_time": "2024-05-18T17:16:10.845Z"
   },
   {
    "duration": 13394,
    "start_time": "2024-05-18T17:18:30.480Z"
   },
   {
    "duration": 13021,
    "start_time": "2024-05-18T17:20:58.295Z"
   },
   {
    "duration": 15192,
    "start_time": "2024-05-18T17:30:19.528Z"
   },
   {
    "duration": 16159,
    "start_time": "2024-05-18T18:09:01.774Z"
   },
   {
    "duration": 544,
    "start_time": "2024-05-18T18:29:20.300Z"
   },
   {
    "duration": 1711,
    "start_time": "2024-05-18T18:29:20.849Z"
   },
   {
    "duration": 255,
    "start_time": "2024-05-18T18:29:22.564Z"
   },
   {
    "duration": 207,
    "start_time": "2024-05-18T18:29:22.823Z"
   },
   {
    "duration": 24,
    "start_time": "2024-05-18T18:29:23.033Z"
   },
   {
    "duration": 50,
    "start_time": "2024-05-18T18:29:23.061Z"
   },
   {
    "duration": 3920,
    "start_time": "2024-05-18T18:29:23.115Z"
   },
   {
    "duration": 72,
    "start_time": "2024-05-18T18:29:27.038Z"
   },
   {
    "duration": 11,
    "start_time": "2024-05-18T18:29:27.116Z"
   },
   {
    "duration": 422,
    "start_time": "2024-05-18T18:29:27.135Z"
   },
   {
    "duration": 208,
    "start_time": "2024-05-18T18:29:27.561Z"
   },
   {
    "duration": 118,
    "start_time": "2024-05-18T18:29:27.773Z"
   },
   {
    "duration": 35,
    "start_time": "2024-05-18T18:29:27.894Z"
   },
   {
    "duration": 17,
    "start_time": "2024-05-18T18:29:27.933Z"
   },
   {
    "duration": 105,
    "start_time": "2024-05-18T18:29:27.953Z"
   },
   {
    "duration": 60,
    "start_time": "2024-05-18T18:29:28.061Z"
   },
   {
    "duration": 7,
    "start_time": "2024-05-18T18:29:28.125Z"
   },
   {
    "duration": 8,
    "start_time": "2024-05-18T18:29:28.135Z"
   },
   {
    "duration": 6,
    "start_time": "2024-05-18T18:29:28.149Z"
   },
   {
    "duration": 45,
    "start_time": "2024-05-18T18:29:28.164Z"
   },
   {
    "duration": 1431,
    "start_time": "2024-05-18T18:29:28.212Z"
   },
   {
    "duration": 500,
    "start_time": "2024-05-18T18:29:29.646Z"
   },
   {
    "duration": 85,
    "start_time": "2024-05-18T18:29:30.150Z"
   },
   {
    "duration": 15,
    "start_time": "2024-05-18T18:29:30.238Z"
   },
   {
    "duration": 13,
    "start_time": "2024-05-18T18:29:30.256Z"
   },
   {
    "duration": 41,
    "start_time": "2024-05-18T18:29:30.272Z"
   },
   {
    "duration": 40,
    "start_time": "2024-05-18T18:29:30.317Z"
   },
   {
    "duration": 113,
    "start_time": "2024-05-18T18:29:30.367Z"
   },
   {
    "duration": 27,
    "start_time": "2024-05-18T18:29:30.483Z"
   },
   {
    "duration": 45,
    "start_time": "2024-05-18T18:29:30.514Z"
   },
   {
    "duration": 124,
    "start_time": "2024-05-18T18:29:30.563Z"
   },
   {
    "duration": 20,
    "start_time": "2024-05-18T18:29:30.690Z"
   },
   {
    "duration": 58,
    "start_time": "2024-05-18T18:29:30.713Z"
   },
   {
    "duration": 56,
    "start_time": "2024-05-18T18:29:30.776Z"
   },
   {
    "duration": 808,
    "start_time": "2024-05-18T18:29:30.836Z"
   },
   {
    "duration": 591,
    "start_time": "2024-05-18T18:29:31.647Z"
   },
   {
    "duration": 268,
    "start_time": "2024-05-18T18:29:32.243Z"
   },
   {
    "duration": 513,
    "start_time": "2024-05-18T18:29:32.514Z"
   },
   {
    "duration": 543,
    "start_time": "2024-05-18T18:29:33.030Z"
   },
   {
    "duration": 495,
    "start_time": "2024-05-18T18:29:33.577Z"
   },
   {
    "duration": 6,
    "start_time": "2024-05-18T18:29:34.075Z"
   },
   {
    "duration": 0,
    "start_time": "2024-05-18T18:29:34.085Z"
   },
   {
    "duration": 0,
    "start_time": "2024-05-18T18:29:34.087Z"
   },
   {
    "duration": 0,
    "start_time": "2024-05-18T18:29:34.089Z"
   },
   {
    "duration": 0,
    "start_time": "2024-05-18T18:29:34.109Z"
   },
   {
    "duration": 0,
    "start_time": "2024-05-18T18:29:34.111Z"
   },
   {
    "duration": 12438,
    "start_time": "2024-05-18T18:30:23.399Z"
   },
   {
    "duration": 15056,
    "start_time": "2024-05-18T18:33:17.678Z"
   },
   {
    "duration": 8424,
    "start_time": "2024-05-18T18:42:26.341Z"
   },
   {
    "duration": 12279,
    "start_time": "2024-05-18T18:46:56.267Z"
   },
   {
    "duration": 1243,
    "start_time": "2024-05-18T19:03:21.898Z"
   },
   {
    "duration": 436,
    "start_time": "2024-05-18T19:06:15.878Z"
   },
   {
    "duration": 1555,
    "start_time": "2024-05-18T19:12:35.214Z"
   },
   {
    "duration": 2204,
    "start_time": "2024-05-18T19:13:37.394Z"
   },
   {
    "duration": 2261,
    "start_time": "2024-05-18T19:13:43.665Z"
   },
   {
    "duration": 1582,
    "start_time": "2024-05-18T19:13:57.290Z"
   }
  ],
  "colab": {
   "provenance": []
  },
  "kernelspec": {
   "display_name": "Python 3 (ipykernel)",
   "language": "python",
   "name": "python3"
  },
  "language_info": {
   "codemirror_mode": {
    "name": "ipython",
    "version": 3
   },
   "file_extension": ".py",
   "mimetype": "text/x-python",
   "name": "python",
   "nbconvert_exporter": "python",
   "pygments_lexer": "ipython3",
   "version": "3.9.19"
  },
  "toc": {
   "base_numbering": 1,
   "nav_menu": {},
   "number_sections": true,
   "sideBar": true,
   "skip_h1_title": true,
   "title_cell": "Table of Contents",
   "title_sidebar": "Contents",
   "toc_cell": false,
   "toc_position": {},
   "toc_section_display": true,
   "toc_window_display": false
  },
  "vscode": {
   "interpreter": {
    "hash": "01a7be9ec63e704a62cefc5fe7a4756944464ee731be31632bdf42a4cb4688cf"
   }
  }
 },
 "nbformat": 4,
 "nbformat_minor": 5
}
