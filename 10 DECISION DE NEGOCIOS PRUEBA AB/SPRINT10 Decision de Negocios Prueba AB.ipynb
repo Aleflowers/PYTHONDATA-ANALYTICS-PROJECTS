{
 "cells": [
  {
   "cell_type": "markdown",
   "metadata": {},
   "source": [
    "# Hola Alejandra!\n",
    "\n",
    "Mi nombre es David Bautista, soy code reviewer de TripleTen y voy a revisar el proyecto que acabas de desarrollar.\n",
    "\n",
    "Cuando vea un error la primera vez, lo señalaré. Deberás encontrarlo y arreglarlo. La intención es que te prepares para un espacio real de trabajo. En un trabajo, el líder de tu equipo hará lo mismo. Si no puedes solucionar el error, te daré más información en la próxima ocasión.\n",
    "\n",
    "Encontrarás mis comentarios más abajo - **por favor, no los muevas, no los modifiques ni los borres.**\n",
    "\n",
    "¿Cómo lo voy a hacer? Voy a leer detenidamente cada una de las implementaciones que has llevado a cabo para cumplir con lo solicitado. Verás los comentarios de esta forma:\n",
    "\n",
    "<div class=\"alert alert-block alert-success\">\n",
    "<b>Comentario del revisor</b> <a class=\"tocSkip\"></a>\n",
    "    \n",
    "Si todo está perfecto.\n",
    "</div>\n",
    "\n",
    "\n",
    "<div class=\"alert alert-block alert-warning\">\n",
    "<b>Comentario del revisor</b> <a class=\"tocSkip\"></a>\n",
    "    \n",
    "Si tu código está bien pero se puede mejorar o hay algún detalle que le hace falta.\n",
    "</div>\n",
    "\n",
    "\n",
    "<div class=\"alert alert-block alert-danger\">\n",
    "    \n",
    "<b>Comentario del revisor</b> <a class=\"tocSkip\"></a>\n",
    "    \n",
    "    \n",
    "Si de pronto hace falta algo o existe algún problema con tu código o conclusiones.\n",
    "</div>\n",
    "\n",
    "\n",
    "Puedes responderme de esta forma: \n",
    "\n",
    "<div class=\"alert alert-block alert-info\">\n",
    "<b>Respuesta del estudiante</b> <a class=\"tocSkip\"></a>\n",
    "</div>\n",
    "\n",
    "¡Empecemos!"
   ]
  },
  {
   "cell_type": "markdown",
   "metadata": {},
   "source": [
    "<div class=\"alert alert-block alert-danger\">\n",
    "<b>Comentario del revisor </b> <a class=\"tocSkip\"></a>\n",
    "\n",
    "# Comentario General\n",
    "\n",
    "~~Hola Alejandra, te felicito por el desarrollo del proyecto hasta el momento. Ahora bien, he dejado diferentes comentarios para que los puedas tener en cuenta para la siguiente entrega.~~ </div>\n",
    "\n",
    "<div class=\"alert alert-block alert-success\">\n",
    "<b>Comentario del revisor </b> <a class=\"tocSkip\"></a>\n",
    "\n",
    "# Comentario General #2\n",
    "\n",
    "Hola, Alejandra, te felicito por la culminación del proyecto. Realizaste un contenido de muy alta calidad, interesante y ordenado, además mostraste tu buen manejo de la temática y del uso de Python como herramienta de trabajo.  </div>"
   ]
  },
  {
   "cell_type": "markdown",
   "metadata": {},
   "source": [
    "<div class=\"alert alert-block alert-info\">\n",
    "<b> INTRODUCCION: Analizando los datos en una gran tienda en línea. Junto con el departamento de marketing, se ha recopilado una lista de hipótesis orientadas a aumentar los ingresos de la empresa. El objetivo principal del proyecto es priorizar estas hipótesis mediante métodos analíticos y llevar a cabo un test A/B para analizar los resultados obtenidos. Esto permitirá fundamentar decisiones clave que impulsen el crecimiento del negocio.\n",
    "Este análisis proporciona una guía estructurada para identificar y priorizar estrategias de crecimiento, así como para evaluar su efectividad a través de experimentos controlados. Los resultados permitirán a la empresa tomar decisiones informadas, optimizando los recursos y maximizando los ingresos.</b> <a class=\"tocSkip\"></a>\n",
    "</div>\n",
    "\n",
    "\n",
    "\n",
    "\n"
   ]
  },
  {
   "cell_type": "markdown",
   "metadata": {},
   "source": [
    "# Parte 1. Priorizar hipótesis"
   ]
  },
  {
   "cell_type": "code",
   "execution_count": 1,
   "metadata": {},
   "outputs": [],
   "source": [
    "import pandas as pd\n",
    "import matplotlib.pyplot as plt\n",
    "import numpy as np\n",
    "import datetime as dt"
   ]
  },
  {
   "cell_type": "markdown",
   "metadata": {},
   "source": [
    "<div class=\"alert alert-block alert-success\">\n",
    "<b>Comentario del revisor </b> <a class=\"tocSkip\"></a>\n",
    "\n",
    "Perfecto, buen trabajo importando las librerías necesarias para el desarrollo del proyecto.   </div>"
   ]
  },
  {
   "cell_type": "code",
   "execution_count": 2,
   "metadata": {},
   "outputs": [
    {
     "name": "stdout",
     "output_type": "stream",
     "text": [
      "           Hypothesis;Reach;Impact;Confidence;Effort\n",
      "0  Add two new channels for attracting traffic. T...\n",
      "1  Launch your own delivery service. This will sh...\n",
      "2  Add product recommendation blocks to the store...\n",
      "3  Change the category structure. This will incre...\n",
      "4  Change the background color on the main page. ...\n",
      "Index(['Hypothesis;Reach;Impact;Confidence;Effort'], dtype='object')\n",
      "<class 'pandas.core.frame.DataFrame'>\n",
      "RangeIndex: 9 entries, 0 to 8\n",
      "Data columns (total 5 columns):\n",
      " #   Column      Non-Null Count  Dtype \n",
      "---  ------      --------------  ----- \n",
      " 0   Hypothesis  9 non-null      object\n",
      " 1   Reach       9 non-null      int64 \n",
      " 2   Impact      9 non-null      int64 \n",
      " 3   Confidence  9 non-null      int64 \n",
      " 4   Effort      9 non-null      int64 \n",
      "dtypes: int64(4), object(1)\n",
      "memory usage: 488.0+ bytes\n"
     ]
    },
    {
     "data": {
      "text/html": [
       "<div>\n",
       "<style scoped>\n",
       "    .dataframe tbody tr th:only-of-type {\n",
       "        vertical-align: middle;\n",
       "    }\n",
       "\n",
       "    .dataframe tbody tr th {\n",
       "        vertical-align: top;\n",
       "    }\n",
       "\n",
       "    .dataframe thead th {\n",
       "        text-align: right;\n",
       "    }\n",
       "</style>\n",
       "<table border=\"1\" class=\"dataframe\">\n",
       "  <thead>\n",
       "    <tr style=\"text-align: right;\">\n",
       "      <th></th>\n",
       "      <th>Hypothesis</th>\n",
       "      <th>Reach</th>\n",
       "      <th>Impact</th>\n",
       "      <th>Confidence</th>\n",
       "      <th>Effort</th>\n",
       "    </tr>\n",
       "  </thead>\n",
       "  <tbody>\n",
       "    <tr>\n",
       "      <th>0</th>\n",
       "      <td>Add two new channels for attracting traffic. T...</td>\n",
       "      <td>3</td>\n",
       "      <td>10</td>\n",
       "      <td>8</td>\n",
       "      <td>6</td>\n",
       "    </tr>\n",
       "    <tr>\n",
       "      <th>1</th>\n",
       "      <td>Launch your own delivery service. This will sh...</td>\n",
       "      <td>2</td>\n",
       "      <td>5</td>\n",
       "      <td>4</td>\n",
       "      <td>10</td>\n",
       "    </tr>\n",
       "    <tr>\n",
       "      <th>2</th>\n",
       "      <td>Add product recommendation blocks to the store...</td>\n",
       "      <td>8</td>\n",
       "      <td>3</td>\n",
       "      <td>7</td>\n",
       "      <td>3</td>\n",
       "    </tr>\n",
       "    <tr>\n",
       "      <th>3</th>\n",
       "      <td>Change the category structure. This will incre...</td>\n",
       "      <td>8</td>\n",
       "      <td>3</td>\n",
       "      <td>3</td>\n",
       "      <td>8</td>\n",
       "    </tr>\n",
       "    <tr>\n",
       "      <th>4</th>\n",
       "      <td>Change the background color on the main page. ...</td>\n",
       "      <td>3</td>\n",
       "      <td>1</td>\n",
       "      <td>1</td>\n",
       "      <td>1</td>\n",
       "    </tr>\n",
       "    <tr>\n",
       "      <th>5</th>\n",
       "      <td>Add a customer review page. This will increase...</td>\n",
       "      <td>3</td>\n",
       "      <td>2</td>\n",
       "      <td>2</td>\n",
       "      <td>3</td>\n",
       "    </tr>\n",
       "    <tr>\n",
       "      <th>6</th>\n",
       "      <td>Show banners with current offers and sales on ...</td>\n",
       "      <td>5</td>\n",
       "      <td>3</td>\n",
       "      <td>8</td>\n",
       "      <td>3</td>\n",
       "    </tr>\n",
       "    <tr>\n",
       "      <th>7</th>\n",
       "      <td>Add a subscription form to all the main pages....</td>\n",
       "      <td>10</td>\n",
       "      <td>7</td>\n",
       "      <td>8</td>\n",
       "      <td>5</td>\n",
       "    </tr>\n",
       "    <tr>\n",
       "      <th>8</th>\n",
       "      <td>Launch a promotion that gives users discounts ...</td>\n",
       "      <td>1</td>\n",
       "      <td>9</td>\n",
       "      <td>9</td>\n",
       "      <td>5</td>\n",
       "    </tr>\n",
       "  </tbody>\n",
       "</table>\n",
       "</div>"
      ],
      "text/plain": [
       "                                          Hypothesis  Reach  Impact  \\\n",
       "0  Add two new channels for attracting traffic. T...      3      10   \n",
       "1  Launch your own delivery service. This will sh...      2       5   \n",
       "2  Add product recommendation blocks to the store...      8       3   \n",
       "3  Change the category structure. This will incre...      8       3   \n",
       "4  Change the background color on the main page. ...      3       1   \n",
       "5  Add a customer review page. This will increase...      3       2   \n",
       "6  Show banners with current offers and sales on ...      5       3   \n",
       "7  Add a subscription form to all the main pages....     10       7   \n",
       "8  Launch a promotion that gives users discounts ...      1       9   \n",
       "\n",
       "   Confidence  Effort  \n",
       "0           8       6  \n",
       "1           4      10  \n",
       "2           7       3  \n",
       "3           3       8  \n",
       "4           1       1  \n",
       "5           2       3  \n",
       "6           8       3  \n",
       "7           8       5  \n",
       "8           9       5  "
      ]
     },
     "execution_count": 2,
     "metadata": {},
     "output_type": "execute_result"
    }
   ],
   "source": [
    "# Cargar los datos\n",
    "hypotheses = pd.read_csv('/datasets/hypotheses_us.csv', sep=',')\n",
    "\n",
    "# Verificar las primeras filas y las columnas\n",
    "print(hypotheses.head())\n",
    "print(hypotheses.columns)\n",
    "\n",
    "# Si las columnas están combinadas, separarlas\n",
    "if 'Hypothesis;Reach;Impact;Confidence;Effort' in hypotheses.columns:\n",
    "    hypotheses = hypotheses['Hypothesis;Reach;Impact;Confidence;Effort'].str.split(';', expand=True)\n",
    "    hypotheses.columns = [\"Hypothesis\", \"Reach\", \"Impact\", \"Confidence\", \"Effort\"]\n",
    "\n",
    "# Asegurar que las columnas numéricas tengan el tipo correcto\n",
    "hypotheses[[\"Reach\", \"Impact\", \"Confidence\", \"Effort\"]] = hypotheses[[\"Reach\", \"Impact\", \"Confidence\", \"Effort\"]].apply(pd.to_numeric)\n",
    "\n",
    "# Usar info para verificar el estado del DataFrame\n",
    "hypotheses.info()\n",
    "hypotheses\n"
   ]
  },
  {
   "cell_type": "markdown",
   "metadata": {},
   "source": [
    "<div class=\"alert alert-block alert-success\">\n",
    "<b>Comentario del revisor </b> <a class=\"tocSkip\"></a>\n",
    "\n",
    "Perfecto, buen trabajo cargando el dataset con información de las hipótesis, así mismo realizando modificaciones sobre este y explorando de manera inicial el contenido.   </div>"
   ]
  },
  {
   "cell_type": "code",
   "execution_count": 3,
   "metadata": {},
   "outputs": [
    {
     "name": "stdout",
     "output_type": "stream",
     "text": [
      "Priorización por ICE:\n",
      "                                          Hypothesis        ICE\n",
      "8  Launch a promotion that gives users discounts ...  16.200000\n",
      "0  Add two new channels for attracting traffic. T...  13.333333\n",
      "7  Add a subscription form to all the main pages....  11.200000\n",
      "6  Show banners with current offers and sales on ...   8.000000\n",
      "2  Add product recommendation blocks to the store...   7.000000\n",
      "1  Launch your own delivery service. This will sh...   2.000000\n",
      "5  Add a customer review page. This will increase...   1.333333\n",
      "3  Change the category structure. This will incre...   1.125000\n",
      "4  Change the background color on the main page. ...   1.000000\n"
     ]
    }
   ],
   "source": [
    "# Calcular ICE\n",
    "hypotheses['ICE'] = (hypotheses['Impact'] * hypotheses['Confidence']) / hypotheses['Effort']\n",
    "\n",
    "# Ordenar por ICE en orden descendente\n",
    "hypotheses_ice = hypotheses.sort_values(by='ICE', ascending=False)\n",
    "\n",
    "# Mostrar resultados ordenados por ICE\n",
    "print(\"Priorización por ICE:\")\n",
    "print(hypotheses_ice[['Hypothesis', 'ICE']])"
   ]
  },
  {
   "cell_type": "code",
   "execution_count": 4,
   "metadata": {},
   "outputs": [
    {
     "name": "stdout",
     "output_type": "stream",
     "text": [
      "Priorización por RICE:\n",
      "                                          Hypothesis   RICE\n",
      "7  Add a subscription form to all the main pages....  112.0\n",
      "2  Add product recommendation blocks to the store...   56.0\n",
      "0  Add two new channels for attracting traffic. T...   40.0\n",
      "6  Show banners with current offers and sales on ...   40.0\n",
      "8  Launch a promotion that gives users discounts ...   16.2\n",
      "3  Change the category structure. This will incre...    9.0\n",
      "1  Launch your own delivery service. This will sh...    4.0\n",
      "5  Add a customer review page. This will increase...    4.0\n",
      "4  Change the background color on the main page. ...    3.0\n"
     ]
    }
   ],
   "source": [
    "# Calcular RICE\n",
    "hypotheses['RICE'] = (hypotheses['Reach'] * hypotheses['Impact'] * hypotheses['Confidence']) / hypotheses['Effort']\n",
    "\n",
    "# Ordenar por RICE en orden descendente\n",
    "hypotheses_rice = hypotheses.sort_values(by='RICE', ascending=False)\n",
    "\n",
    "# Mostrar resultados ordenados por RICE\n",
    "print(\"Priorización por RICE:\")\n",
    "print(hypotheses_rice[['Hypothesis', 'RICE']])"
   ]
  },
  {
   "cell_type": "code",
   "execution_count": 5,
   "metadata": {},
   "outputs": [
    {
     "data": {
      "text/html": [
       "<div>\n",
       "<style scoped>\n",
       "    .dataframe tbody tr th:only-of-type {\n",
       "        vertical-align: middle;\n",
       "    }\n",
       "\n",
       "    .dataframe tbody tr th {\n",
       "        vertical-align: top;\n",
       "    }\n",
       "\n",
       "    .dataframe thead th {\n",
       "        text-align: right;\n",
       "    }\n",
       "</style>\n",
       "<table border=\"1\" class=\"dataframe\">\n",
       "  <thead>\n",
       "    <tr style=\"text-align: right;\">\n",
       "      <th></th>\n",
       "      <th>Hypothesis</th>\n",
       "      <th>Reach</th>\n",
       "      <th>Impact</th>\n",
       "      <th>Confidence</th>\n",
       "      <th>Effort</th>\n",
       "      <th>ICE</th>\n",
       "      <th>RICE</th>\n",
       "      <th>ICE Rank</th>\n",
       "      <th>RICE Rank</th>\n",
       "    </tr>\n",
       "  </thead>\n",
       "  <tbody>\n",
       "    <tr>\n",
       "      <th>0</th>\n",
       "      <td>Add two new channels for attracting traffic. T...</td>\n",
       "      <td>3</td>\n",
       "      <td>10</td>\n",
       "      <td>8</td>\n",
       "      <td>6</td>\n",
       "      <td>13.333333</td>\n",
       "      <td>40.0</td>\n",
       "      <td>2.0</td>\n",
       "      <td>3.5</td>\n",
       "    </tr>\n",
       "    <tr>\n",
       "      <th>1</th>\n",
       "      <td>Launch your own delivery service. This will sh...</td>\n",
       "      <td>2</td>\n",
       "      <td>5</td>\n",
       "      <td>4</td>\n",
       "      <td>10</td>\n",
       "      <td>2.000000</td>\n",
       "      <td>4.0</td>\n",
       "      <td>6.0</td>\n",
       "      <td>7.5</td>\n",
       "    </tr>\n",
       "    <tr>\n",
       "      <th>2</th>\n",
       "      <td>Add product recommendation blocks to the store...</td>\n",
       "      <td>8</td>\n",
       "      <td>3</td>\n",
       "      <td>7</td>\n",
       "      <td>3</td>\n",
       "      <td>7.000000</td>\n",
       "      <td>56.0</td>\n",
       "      <td>5.0</td>\n",
       "      <td>2.0</td>\n",
       "    </tr>\n",
       "    <tr>\n",
       "      <th>3</th>\n",
       "      <td>Change the category structure. This will incre...</td>\n",
       "      <td>8</td>\n",
       "      <td>3</td>\n",
       "      <td>3</td>\n",
       "      <td>8</td>\n",
       "      <td>1.125000</td>\n",
       "      <td>9.0</td>\n",
       "      <td>8.0</td>\n",
       "      <td>6.0</td>\n",
       "    </tr>\n",
       "    <tr>\n",
       "      <th>4</th>\n",
       "      <td>Change the background color on the main page. ...</td>\n",
       "      <td>3</td>\n",
       "      <td>1</td>\n",
       "      <td>1</td>\n",
       "      <td>1</td>\n",
       "      <td>1.000000</td>\n",
       "      <td>3.0</td>\n",
       "      <td>9.0</td>\n",
       "      <td>9.0</td>\n",
       "    </tr>\n",
       "    <tr>\n",
       "      <th>5</th>\n",
       "      <td>Add a customer review page. This will increase...</td>\n",
       "      <td>3</td>\n",
       "      <td>2</td>\n",
       "      <td>2</td>\n",
       "      <td>3</td>\n",
       "      <td>1.333333</td>\n",
       "      <td>4.0</td>\n",
       "      <td>7.0</td>\n",
       "      <td>7.5</td>\n",
       "    </tr>\n",
       "    <tr>\n",
       "      <th>6</th>\n",
       "      <td>Show banners with current offers and sales on ...</td>\n",
       "      <td>5</td>\n",
       "      <td>3</td>\n",
       "      <td>8</td>\n",
       "      <td>3</td>\n",
       "      <td>8.000000</td>\n",
       "      <td>40.0</td>\n",
       "      <td>4.0</td>\n",
       "      <td>3.5</td>\n",
       "    </tr>\n",
       "    <tr>\n",
       "      <th>7</th>\n",
       "      <td>Add a subscription form to all the main pages....</td>\n",
       "      <td>10</td>\n",
       "      <td>7</td>\n",
       "      <td>8</td>\n",
       "      <td>5</td>\n",
       "      <td>11.200000</td>\n",
       "      <td>112.0</td>\n",
       "      <td>3.0</td>\n",
       "      <td>1.0</td>\n",
       "    </tr>\n",
       "    <tr>\n",
       "      <th>8</th>\n",
       "      <td>Launch a promotion that gives users discounts ...</td>\n",
       "      <td>1</td>\n",
       "      <td>9</td>\n",
       "      <td>9</td>\n",
       "      <td>5</td>\n",
       "      <td>16.200000</td>\n",
       "      <td>16.2</td>\n",
       "      <td>1.0</td>\n",
       "      <td>5.0</td>\n",
       "    </tr>\n",
       "  </tbody>\n",
       "</table>\n",
       "</div>"
      ],
      "text/plain": [
       "                                          Hypothesis  Reach  Impact  \\\n",
       "0  Add two new channels for attracting traffic. T...      3      10   \n",
       "1  Launch your own delivery service. This will sh...      2       5   \n",
       "2  Add product recommendation blocks to the store...      8       3   \n",
       "3  Change the category structure. This will incre...      8       3   \n",
       "4  Change the background color on the main page. ...      3       1   \n",
       "5  Add a customer review page. This will increase...      3       2   \n",
       "6  Show banners with current offers and sales on ...      5       3   \n",
       "7  Add a subscription form to all the main pages....     10       7   \n",
       "8  Launch a promotion that gives users discounts ...      1       9   \n",
       "\n",
       "   Confidence  Effort        ICE   RICE  ICE Rank  RICE Rank  \n",
       "0           8       6  13.333333   40.0       2.0        3.5  \n",
       "1           4      10   2.000000    4.0       6.0        7.5  \n",
       "2           7       3   7.000000   56.0       5.0        2.0  \n",
       "3           3       8   1.125000    9.0       8.0        6.0  \n",
       "4           1       1   1.000000    3.0       9.0        9.0  \n",
       "5           2       3   1.333333    4.0       7.0        7.5  \n",
       "6           8       3   8.000000   40.0       4.0        3.5  \n",
       "7           8       5  11.200000  112.0       3.0        1.0  \n",
       "8           9       5  16.200000   16.2       1.0        5.0  "
      ]
     },
     "execution_count": 5,
     "metadata": {},
     "output_type": "execute_result"
    }
   ],
   "source": [
    "# Ordenar por ICE en orden descendente y asignar rangos\n",
    "hypotheses['ICE Rank'] = hypotheses['ICE'].rank(ascending=False)\n",
    "\n",
    "# Ordenar por RICE en orden descendente y asignar rangos\n",
    "hypotheses['RICE Rank'] = hypotheses['RICE'].rank(ascending=False)\n",
    "\n",
    "# Mostrar las primeras filas para verificar\n",
    "#print(hypotheses.head())\n",
    "hypotheses"
   ]
  },
  {
   "cell_type": "markdown",
   "metadata": {},
   "source": [
    "<div class=\"alert alert-block alert-success\">\n",
    "<b>Comentario del revisor </b> <a class=\"tocSkip\"></a>\n",
    "\n",
    "Perfecto, buen trabajo desplegando y estudiando los frameworks RICE e ICE. Asimismo mismo buen trabajo priorizando las hipótesis sujetas a los resultados obtenidos.    </div>"
   ]
  },
  {
   "cell_type": "markdown",
   "metadata": {},
   "source": [
    "CONCLUSION: Orden de prioridad según ICE:\n",
    "\n",
    "Hipótesis con mayor prioridad: \"Launch a promotion that gives users discounts...\" (ICE Rank: 1.0).\n",
    "Factores clave: Impacto y confianza altos (9 cada uno) y un esfuerzo relativamente bajo (5).\n",
    "Orden de prioridad según RICE:\n",
    "\n",
    "Hipótesis con mayor prioridad: \"Add a subscription form to all the main pages...\" (RICE Rank: 1.0).\n",
    "Factores clave: Alcance extremadamente alto (10), combinado con buen impacto (7) y confianza (8).\n",
    "Comparación entre ICE y RICE:\n",
    "\n",
    "Las hipótesis con un alto Reach (alcance) tienden a obtener mejores posiciones en RICE. Por ejemplo:\n",
    "\"Add a subscription form to all the main pages...\" sube al puesto 1 en RICE gracias a su alto Reach, mientras que en ICE está en el puesto 3.\n",
    "Las hipótesis con un alcance bajo se ven penalizadas en RICE. Por ejemplo:\n",
    "\"Launch a promotion that gives users discounts...\" baja del puesto 1 en ICE al puesto 5 en RICE debido a su bajo Reach (1).\n"
   ]
  },
  {
   "cell_type": "markdown",
   "metadata": {},
   "source": [
    "<div class=\"alert alert-block alert-success\">\n",
    "<b>Comentario del revisor </b> <a class=\"tocSkip\"></a>\n",
    "\n",
    "Buen trabajo.    </div>"
   ]
  },
  {
   "cell_type": "markdown",
   "metadata": {},
   "source": [
    "# Parte 2. Análisis del test A/B"
   ]
  },
  {
   "cell_type": "markdown",
   "metadata": {},
   "source": [
    "## Analiza el test A/B:"
   ]
  },
  {
   "cell_type": "markdown",
   "metadata": {},
   "source": [
    "### (1.) Representa gráficamente el ingreso acumulado por grupo. Haz conclusiones y conjeturas."
   ]
  },
  {
   "cell_type": "code",
   "execution_count": 6,
   "metadata": {},
   "outputs": [
    {
     "data": {
      "text/html": [
       "<div>\n",
       "<style scoped>\n",
       "    .dataframe tbody tr th:only-of-type {\n",
       "        vertical-align: middle;\n",
       "    }\n",
       "\n",
       "    .dataframe tbody tr th {\n",
       "        vertical-align: top;\n",
       "    }\n",
       "\n",
       "    .dataframe thead th {\n",
       "        text-align: right;\n",
       "    }\n",
       "</style>\n",
       "<table border=\"1\" class=\"dataframe\">\n",
       "  <thead>\n",
       "    <tr style=\"text-align: right;\">\n",
       "      <th></th>\n",
       "      <th>transactionId</th>\n",
       "      <th>visitorId</th>\n",
       "      <th>date</th>\n",
       "      <th>revenue</th>\n",
       "      <th>group</th>\n",
       "    </tr>\n",
       "  </thead>\n",
       "  <tbody>\n",
       "    <tr>\n",
       "      <th>0</th>\n",
       "      <td>3667963787</td>\n",
       "      <td>3312258926</td>\n",
       "      <td>2019-08-15</td>\n",
       "      <td>30.4</td>\n",
       "      <td>B</td>\n",
       "    </tr>\n",
       "    <tr>\n",
       "      <th>1</th>\n",
       "      <td>2804400009</td>\n",
       "      <td>3642806036</td>\n",
       "      <td>2019-08-15</td>\n",
       "      <td>15.2</td>\n",
       "      <td>B</td>\n",
       "    </tr>\n",
       "    <tr>\n",
       "      <th>2</th>\n",
       "      <td>2961555356</td>\n",
       "      <td>4069496402</td>\n",
       "      <td>2019-08-15</td>\n",
       "      <td>10.2</td>\n",
       "      <td>A</td>\n",
       "    </tr>\n",
       "    <tr>\n",
       "      <th>3</th>\n",
       "      <td>3797467345</td>\n",
       "      <td>1196621759</td>\n",
       "      <td>2019-08-15</td>\n",
       "      <td>155.1</td>\n",
       "      <td>B</td>\n",
       "    </tr>\n",
       "    <tr>\n",
       "      <th>4</th>\n",
       "      <td>2282983706</td>\n",
       "      <td>2322279887</td>\n",
       "      <td>2019-08-15</td>\n",
       "      <td>40.5</td>\n",
       "      <td>B</td>\n",
       "    </tr>\n",
       "    <tr>\n",
       "      <th>...</th>\n",
       "      <td>...</td>\n",
       "      <td>...</td>\n",
       "      <td>...</td>\n",
       "      <td>...</td>\n",
       "      <td>...</td>\n",
       "    </tr>\n",
       "    <tr>\n",
       "      <th>1192</th>\n",
       "      <td>2662137336</td>\n",
       "      <td>3733762160</td>\n",
       "      <td>2019-08-14</td>\n",
       "      <td>100.8</td>\n",
       "      <td>B</td>\n",
       "    </tr>\n",
       "    <tr>\n",
       "      <th>1193</th>\n",
       "      <td>2203539145</td>\n",
       "      <td>370388673</td>\n",
       "      <td>2019-08-14</td>\n",
       "      <td>50.1</td>\n",
       "      <td>A</td>\n",
       "    </tr>\n",
       "    <tr>\n",
       "      <th>1194</th>\n",
       "      <td>1807773912</td>\n",
       "      <td>573423106</td>\n",
       "      <td>2019-08-14</td>\n",
       "      <td>165.3</td>\n",
       "      <td>A</td>\n",
       "    </tr>\n",
       "    <tr>\n",
       "      <th>1195</th>\n",
       "      <td>1947021204</td>\n",
       "      <td>1614305549</td>\n",
       "      <td>2019-08-14</td>\n",
       "      <td>5.5</td>\n",
       "      <td>A</td>\n",
       "    </tr>\n",
       "    <tr>\n",
       "      <th>1196</th>\n",
       "      <td>3936777065</td>\n",
       "      <td>2108080724</td>\n",
       "      <td>2019-08-15</td>\n",
       "      <td>3120.1</td>\n",
       "      <td>B</td>\n",
       "    </tr>\n",
       "  </tbody>\n",
       "</table>\n",
       "<p>1197 rows × 5 columns</p>\n",
       "</div>"
      ],
      "text/plain": [
       "      transactionId   visitorId        date  revenue group\n",
       "0        3667963787  3312258926  2019-08-15     30.4     B\n",
       "1        2804400009  3642806036  2019-08-15     15.2     B\n",
       "2        2961555356  4069496402  2019-08-15     10.2     A\n",
       "3        3797467345  1196621759  2019-08-15    155.1     B\n",
       "4        2282983706  2322279887  2019-08-15     40.5     B\n",
       "...             ...         ...         ...      ...   ...\n",
       "1192     2662137336  3733762160  2019-08-14    100.8     B\n",
       "1193     2203539145   370388673  2019-08-14     50.1     A\n",
       "1194     1807773912   573423106  2019-08-14    165.3     A\n",
       "1195     1947021204  1614305549  2019-08-14      5.5     A\n",
       "1196     3936777065  2108080724  2019-08-15   3120.1     B\n",
       "\n",
       "[1197 rows x 5 columns]"
      ]
     },
     "execution_count": 6,
     "metadata": {},
     "output_type": "execute_result"
    }
   ],
   "source": [
    "orders= pd.read_csv('/datasets/orders_us.csv')\n",
    "orders"
   ]
  },
  {
   "cell_type": "code",
   "execution_count": 7,
   "metadata": {},
   "outputs": [
    {
     "name": "stdout",
     "output_type": "stream",
     "text": [
      "Index(['transactionId', 'visitorId', 'date', 'revenue', 'group'], dtype='object')\n"
     ]
    }
   ],
   "source": [
    "print(orders.columns)\n"
   ]
  },
  {
   "cell_type": "code",
   "execution_count": 8,
   "metadata": {},
   "outputs": [
    {
     "data": {
      "text/html": [
       "<div>\n",
       "<style scoped>\n",
       "    .dataframe tbody tr th:only-of-type {\n",
       "        vertical-align: middle;\n",
       "    }\n",
       "\n",
       "    .dataframe tbody tr th {\n",
       "        vertical-align: top;\n",
       "    }\n",
       "\n",
       "    .dataframe thead th {\n",
       "        text-align: right;\n",
       "    }\n",
       "</style>\n",
       "<table border=\"1\" class=\"dataframe\">\n",
       "  <thead>\n",
       "    <tr style=\"text-align: right;\">\n",
       "      <th></th>\n",
       "      <th>date</th>\n",
       "      <th>group</th>\n",
       "      <th>visits</th>\n",
       "    </tr>\n",
       "  </thead>\n",
       "  <tbody>\n",
       "    <tr>\n",
       "      <th>0</th>\n",
       "      <td>2019-08-01</td>\n",
       "      <td>A</td>\n",
       "      <td>719</td>\n",
       "    </tr>\n",
       "    <tr>\n",
       "      <th>1</th>\n",
       "      <td>2019-08-02</td>\n",
       "      <td>A</td>\n",
       "      <td>619</td>\n",
       "    </tr>\n",
       "    <tr>\n",
       "      <th>2</th>\n",
       "      <td>2019-08-03</td>\n",
       "      <td>A</td>\n",
       "      <td>507</td>\n",
       "    </tr>\n",
       "    <tr>\n",
       "      <th>3</th>\n",
       "      <td>2019-08-04</td>\n",
       "      <td>A</td>\n",
       "      <td>717</td>\n",
       "    </tr>\n",
       "    <tr>\n",
       "      <th>4</th>\n",
       "      <td>2019-08-05</td>\n",
       "      <td>A</td>\n",
       "      <td>756</td>\n",
       "    </tr>\n",
       "    <tr>\n",
       "      <th>...</th>\n",
       "      <td>...</td>\n",
       "      <td>...</td>\n",
       "      <td>...</td>\n",
       "    </tr>\n",
       "    <tr>\n",
       "      <th>57</th>\n",
       "      <td>2019-08-27</td>\n",
       "      <td>B</td>\n",
       "      <td>720</td>\n",
       "    </tr>\n",
       "    <tr>\n",
       "      <th>58</th>\n",
       "      <td>2019-08-28</td>\n",
       "      <td>B</td>\n",
       "      <td>654</td>\n",
       "    </tr>\n",
       "    <tr>\n",
       "      <th>59</th>\n",
       "      <td>2019-08-29</td>\n",
       "      <td>B</td>\n",
       "      <td>531</td>\n",
       "    </tr>\n",
       "    <tr>\n",
       "      <th>60</th>\n",
       "      <td>2019-08-30</td>\n",
       "      <td>B</td>\n",
       "      <td>490</td>\n",
       "    </tr>\n",
       "    <tr>\n",
       "      <th>61</th>\n",
       "      <td>2019-08-31</td>\n",
       "      <td>B</td>\n",
       "      <td>718</td>\n",
       "    </tr>\n",
       "  </tbody>\n",
       "</table>\n",
       "<p>62 rows × 3 columns</p>\n",
       "</div>"
      ],
      "text/plain": [
       "          date group  visits\n",
       "0   2019-08-01     A     719\n",
       "1   2019-08-02     A     619\n",
       "2   2019-08-03     A     507\n",
       "3   2019-08-04     A     717\n",
       "4   2019-08-05     A     756\n",
       "..         ...   ...     ...\n",
       "57  2019-08-27     B     720\n",
       "58  2019-08-28     B     654\n",
       "59  2019-08-29     B     531\n",
       "60  2019-08-30     B     490\n",
       "61  2019-08-31     B     718\n",
       "\n",
       "[62 rows x 3 columns]"
      ]
     },
     "execution_count": 8,
     "metadata": {},
     "output_type": "execute_result"
    }
   ],
   "source": [
    "visits= pd.read_csv('/datasets/visits_us.csv')\n",
    "visits"
   ]
  },
  {
   "cell_type": "code",
   "execution_count": 9,
   "metadata": {},
   "outputs": [
    {
     "name": "stdout",
     "output_type": "stream",
     "text": [
      "Index(['date', 'group', 'visits'], dtype='object')\n"
     ]
    }
   ],
   "source": [
    "print(visits.columns)\n"
   ]
  },
  {
   "cell_type": "markdown",
   "metadata": {},
   "source": [
    "<div class=\"alert alert-block alert-success\">\n",
    "<b>Comentario del revisor </b> <a class=\"tocSkip\"></a>\n",
    "\n",
    "Perfecto, buen trabajo cargando y explorando de manera inicial el contenido del dataset. "
   ]
  },
  {
   "cell_type": "markdown",
   "metadata": {},
   "source": [
    "#TODO LO ANTERIOR OK, REVISAR SI LO QUE SIGUE ES NECESARIO ESTÉ EN EL CÓDIGO"
   ]
  },
  {
   "cell_type": "code",
   "execution_count": 10,
   "metadata": {},
   "outputs": [
    {
     "name": "stdout",
     "output_type": "stream",
     "text": [
      "<class 'pandas.core.frame.DataFrame'>\n",
      "Int64Index: 1016 entries, 0 to 1196\n",
      "Data columns (total 5 columns):\n",
      " #   Column         Non-Null Count  Dtype         \n",
      "---  ------         --------------  -----         \n",
      " 0   transactionId  1016 non-null   int64         \n",
      " 1   visitorId      1016 non-null   int64         \n",
      " 2   date           1016 non-null   datetime64[ns]\n",
      " 3   revenue        1016 non-null   float64       \n",
      " 4   group          1016 non-null   object        \n",
      "dtypes: datetime64[ns](1), float64(1), int64(2), object(1)\n",
      "memory usage: 47.6+ KB\n",
      "None\n",
      "<class 'pandas.core.frame.DataFrame'>\n",
      "Int64Index: 62 entries, 0 to 61\n",
      "Data columns (total 3 columns):\n",
      " #   Column  Non-Null Count  Dtype         \n",
      "---  ------  --------------  -----         \n",
      " 0   date    62 non-null     datetime64[ns]\n",
      " 1   group   62 non-null     object        \n",
      " 2   visits  62 non-null     int64         \n",
      "dtypes: datetime64[ns](1), int64(1), object(1)\n",
      "memory usage: 1.9+ KB\n",
      "None\n"
     ]
    }
   ],
   "source": [
    "# Convertir 'date' al formato datetime\n",
    "orders['date'] = pd.to_datetime(orders['date'])\n",
    "visits['date'] = pd.to_datetime(visits['date'])\n",
    "\n",
    "# Eliminar duplicados\n",
    "orders = orders.drop_duplicates()\n",
    "visits = visits.drop_duplicates()\n",
    "\n",
    "# Identificar usuarios en ambos grupos\n",
    "user_groups = orders.groupby('visitorId')['group'].nunique()\n",
    "users_in_both_groups = user_groups[user_groups > 1].index\n",
    "\n",
    "# Filtrar usuarios duplicados\n",
    "orders = orders[~orders['visitorId'].isin(users_in_both_groups)]\n",
    "\n",
    "# Verificar datos después del preprocesamiento\n",
    "print(orders.info())\n",
    "print(visits.info())"
   ]
  },
  {
   "cell_type": "markdown",
   "metadata": {},
   "source": [
    "<div class=\"alert alert-block alert-success\">\n",
    "<b>Comentario del revisor </b> <a class=\"tocSkip\"></a>\n",
    "\n",
    "Perfecto, buen trabajo modificando tipos de datos de los datasets. Por otro lado, muy buen trabajo realizando la identificación y eliminación de los usuarios que están repetidos en los dos grupos. Esta transformación es clave para llegar a conclusiones correctas en el análisis de test a/b </div>"
   ]
  },
  {
   "cell_type": "code",
   "execution_count": 11,
   "metadata": {},
   "outputs": [
    {
     "name": "stdout",
     "output_type": "stream",
     "text": [
      "        date group  daily_revenue  daily_orders  cumulative_revenue\n",
      "0 2019-08-01     A         2266.6            23              2266.6\n",
      "1 2019-08-01     B          967.2            17               967.2\n",
      "2 2019-08-02     A         1468.3            19              3734.9\n",
      "3 2019-08-02     B         2568.1            23              3535.3\n",
      "4 2019-08-03     A         1815.2            24              5550.1\n"
     ]
    }
   ],
   "source": [
    "# Calcular ingresos acumulados por grupo\n",
    "cumulative_revenue = (\n",
    "    orders.groupby(['date', 'group'])\n",
    "    .agg({'revenue': 'sum', 'transactionId': 'count'})\n",
    "    .rename(columns={'revenue': 'daily_revenue', 'transactionId': 'daily_orders'})\n",
    "    .reset_index()\n",
    ")\n",
    "\n",
    "# Agregar ingresos acumulados\n",
    "cumulative_revenue['cumulative_revenue'] = (\n",
    "    cumulative_revenue.groupby('group')['daily_revenue'].cumsum()\n",
    ")\n",
    "\n",
    "print(cumulative_revenue.head())\n"
   ]
  },
  {
   "cell_type": "code",
   "execution_count": 12,
   "metadata": {
    "scrolled": true
   },
   "outputs": [
    {
     "data": {
      "image/png": "[encoded data removed]",
      "text/plain": [
       "<Figure size 1200x600 with 1 Axes>"
      ]
     },
     "metadata": {},
     "output_type": "display_data"
    }
   ],
   "source": [
    "import matplotlib.pyplot as plt\n",
    "\n",
    "# Pivotear la tabla para graficar más fácilmente\n",
    "cumulative_pivot = cumulative_revenue.pivot(index='date', columns='group', values='cumulative_revenue')\n",
    "\n",
    "# Gráfica de ingresos acumulados\n",
    "plt.figure(figsize=(12, 6))\n",
    "plt.plot(cumulative_pivot.index, cumulative_pivot['A'], label='Grupo A', color='blue')\n",
    "plt.plot(cumulative_pivot.index, cumulative_pivot['B'], label='Grupo B', color='orange')\n",
    "plt.title('Ingresos acumulados por grupo')\n",
    "plt.xlabel('Fecha')\n",
    "plt.ylabel('Ingresos acumulados')\n",
    "plt.legend()\n",
    "plt.grid()\n",
    "plt.show()\n"
   ]
  },
  {
   "cell_type": "markdown",
   "metadata": {},
   "source": [
    "El análisis de los ingresos acumulados revela que el grupo A lidera inicialmente, pero el grupo B está reduciendo rápidamente la brecha gracias a un crecimiento más rápido. Si esta tendencia continúa, B podría alcanzar o superar a A en pocos días. Este comportamiento podría depender de factores como estrategias de venta, precios, promociones, o la cantidad y valor promedio de las órdenes."
   ]
  },
  {
   "cell_type": "markdown",
   "metadata": {},
   "source": [
    "<div class=\"alert alert-block alert-success\">\n",
    "<b>Comentario del revisor </b> <a class=\"tocSkip\"></a>\n",
    "\n",
    "Excelente, buen trabajo estructurando este gráfico de los ingresos acumulados por grupo. </div>"
   ]
  },
  {
   "cell_type": "markdown",
   "metadata": {},
   "source": [
    "### (2.) Representa gráficamente el tamaño de pedido promedio acumulado por grupo. "
   ]
  },
  {
   "cell_type": "code",
   "execution_count": 13,
   "metadata": {},
   "outputs": [
    {
     "data": {
      "image/png": "[encoded data removed]",
      "text/plain": [
       "<Figure size 1400x600 with 2 Axes>"
      ]
     },
     "metadata": {},
     "output_type": "display_data"
    },
    {
     "name": "stdout",
     "output_type": "stream",
     "text": [
      "Tabla pivotada de ingresos acumulados:\n",
      "group             A        B\n",
      "date                        \n",
      "2019-08-01   2266.6    967.2\n",
      "2019-08-02   3734.9   3535.3\n",
      "2019-08-03   5550.1   4606.9\n",
      "2019-08-04   6225.6   6138.5\n",
      "2019-08-05   7623.6   7587.8\n",
      "2019-08-06   8292.0  10957.1\n",
      "2019-08-07  10234.0  14392.7\n",
      "2019-08-08  11638.8  16772.6\n",
      "2019-08-09  13734.0  18428.8\n",
      "2019-08-10  16121.5  20103.6\n",
      "2019-08-11  17084.9  20959.0\n",
      "2019-08-12  20533.7  22616.8\n",
      "2019-08-13  24630.6  24491.3\n",
      "2019-08-14  25347.2  26183.7\n",
      "2019-08-15  26622.5  31033.2\n",
      "2019-08-16  28221.6  32840.2\n",
      "2019-08-17  28770.1  34116.2\n",
      "2019-08-18  29735.7  34684.7\n",
      "2019-08-19  32389.3  56749.6\n",
      "2019-08-20  33325.3  59074.2\n",
      "2019-08-21  36004.2  61274.4\n",
      "2019-08-22  37455.1  63503.9\n",
      "2019-08-23  38409.2  64732.8\n",
      "2019-08-24  40321.3  66138.5\n",
      "2019-08-25  41139.5  67393.8\n",
      "2019-08-26  43604.3  70138.1\n",
      "2019-08-27  46539.0  71885.0\n",
      "2019-08-28  48065.9  72895.5\n",
      "2019-08-29  51134.8  74576.7\n",
      "2019-08-30  52363.7  77863.5\n",
      "2019-08-31  53212.0  79651.2\n",
      "\n",
      "Tabla pivotada de tamaño promedio acumulado:\n",
      "group                A           B\n",
      "date                              \n",
      "2019-08-01   98.547826   56.894118\n",
      "2019-08-02   88.926190   88.382500\n",
      "2019-08-03   84.092424   85.312963\n",
      "2019-08-04   80.851948   90.272059\n",
      "2019-08-05   77.006061   85.256180\n",
      "2019-08-06   72.736842   97.831250\n",
      "2019-08-07   78.723077  106.612593\n",
      "2019-08-08   80.825000  106.831847\n",
      "2019-08-09   88.606452  104.709091\n",
      "2019-08-10   94.832353  101.533333\n",
      "2019-08-11   94.391713   99.804762\n",
      "2019-08-12  102.668500   98.763319\n",
      "2019-08-13  115.096262   98.358635\n",
      "2019-08-14  109.728139   99.557795\n",
      "2019-08-15  110.466805  107.381315\n",
      "2019-08-16  108.963707  106.971336\n",
      "2019-08-17  108.566415  106.613125\n",
      "2019-08-18  106.962950  106.069419\n",
      "2019-08-19  108.325418  163.073563\n",
      "2019-08-20  107.848867  160.527717\n",
      "2019-08-21  109.435258  161.248421\n",
      "2019-08-22  110.487021  158.363840\n",
      "2019-08-23  106.989415  156.359420\n",
      "2019-08-24  108.390591  154.529206\n",
      "2019-08-25  108.261842  153.167727\n",
      "2019-08-26  110.111869  151.814069\n",
      "2019-08-27  111.071599  151.976744\n",
      "2019-08-28  110.750922  147.263636\n",
      "2019-08-29  113.380931  146.228824\n",
      "2019-08-30  113.834130  146.635593\n",
      "2019-08-31  113.700855  145.348905\n"
     ]
    }
   ],
   "source": [
    "# Calcular ingresos acumulados por grupo\n",
    "cumulative_revenue = (\n",
    "    orders.groupby(['date', 'group'])\n",
    "    .agg({'revenue': 'sum', 'transactionId': 'count'})\n",
    "    .rename(columns={'revenue': 'daily_revenue', 'transactionId': 'daily_orders'})\n",
    "    .reset_index()\n",
    ")\n",
    "\n",
    "# Agregar ingresos acumulados\n",
    "cumulative_revenue['cumulative_revenue'] = (\n",
    "    cumulative_revenue.groupby('group')['daily_revenue'].cumsum()\n",
    ")\n",
    "\n",
    "# Agregar pedidos acumulados\n",
    "cumulative_revenue['cumulative_orders'] = (\n",
    "    cumulative_revenue.groupby('group')['daily_orders'].cumsum()\n",
    ")\n",
    "\n",
    "# Calcular el tamaño promedio acumulado\n",
    "cumulative_revenue['avg_order_value'] = (\n",
    "    cumulative_revenue['cumulative_revenue'] / cumulative_revenue['cumulative_orders']\n",
    ")\n",
    "\n",
    "# Pivotear la tabla para ingresos acumulados\n",
    "cumulative_pivot_revenue = cumulative_revenue.pivot(index='date', columns='group', values='cumulative_revenue')\n",
    "\n",
    "# Pivotear la tabla para tamaño de pedido promedio acumulado\n",
    "cumulative_pivot_avg_order = cumulative_revenue.pivot(index='date', columns='group', values='avg_order_value')\n",
    "\n",
    "# Gráfica de ingresos acumulados\n",
    "plt.figure(figsize=(14, 6))\n",
    "\n",
    "plt.subplot(1, 2, 1)\n",
    "plt.plot(cumulative_pivot_revenue.index, cumulative_pivot_revenue['A'], label='Grupo A', color='blue', marker='o')\n",
    "plt.plot(cumulative_pivot_revenue.index, cumulative_pivot_revenue['B'], label='Grupo B', color='orange', marker='o')\n",
    "plt.title('Ingresos acumulados por grupo')\n",
    "plt.xlabel('Fecha')\n",
    "plt.ylabel('Ingresos acumulados')\n",
    "plt.legend()\n",
    "plt.grid()\n",
    "\n",
    "# Gráfica de tamaño promedio acumulado\n",
    "plt.subplot(1, 2, 2)\n",
    "plt.plot(cumulative_pivot_avg_order.index, cumulative_pivot_avg_order['A'], label='Grupo A', color='blue', marker='o')\n",
    "plt.plot(cumulative_pivot_avg_order.index, cumulative_pivot_avg_order['B'], label='Grupo B', color='orange', marker='o')\n",
    "plt.title('Tamaño promedio acumulado por grupo')\n",
    "plt.xlabel('Fecha')\n",
    "plt.ylabel('Tamaño promedio acumulado')\n",
    "plt.legend()\n",
    "plt.grid()\n",
    "\n",
    "plt.tight_layout()\n",
    "plt.show()\n",
    "\n",
    "# Mostrar la pivot table de ingresos acumulados\n",
    "print(\"Tabla pivotada de ingresos acumulados:\")\n",
    "print(cumulative_pivot_revenue)\n",
    "\n",
    "# Mostrar la pivot table de tamaño promedio acumulado\n",
    "print(\"\\nTabla pivotada de tamaño promedio acumulado:\")\n",
    "print(cumulative_pivot_avg_order)"
   ]
  },
  {
   "cell_type": "markdown",
   "metadata": {},
   "source": [
    "Ambos grupos tanto el A como el B muestran un comportamiento positivo pero con el avance del tiempo hay un aumento notable en el comportamiento del grupo B.\n",
    "El aumento notable en el tamaño promedio acumulado del grupo B podría indicar que la estrategia aplicada a este grupo (en el contexto de una prueba A/B) está teniendo un impacto positivo en el valor promedio de los pedidos.Los resultados podrían apoyar la idea de que la intervención o estrategia aplicada al grupo B es más efectiva para aumentar el tamaño promedio acumulado por pedido."
   ]
  },
  {
   "cell_type": "markdown",
   "metadata": {},
   "source": [
    "<div class=\"alert alert-block alert-success\">\n",
    "<b>Comentario del revisor </b> <a class=\"tocSkip\"></a>\n",
    "\n",
    "Excelente, buen trabajo con el despliegue del gráfico de tamaño de pedido promedio acumulado por grupo y así mismo con la comparación del comportamiento de los ingresos acumulados. </div>"
   ]
  },
  {
   "cell_type": "markdown",
   "metadata": {},
   "source": [
    "### (3.)\tRepresenta gráficamente la diferencia relativa en el tamaño de pedido promedio acumulado para el grupo B en comparación con el grupo A. "
   ]
  },
  {
   "cell_type": "code",
   "execution_count": 14,
   "metadata": {
    "scrolled": true
   },
   "outputs": [
    {
     "data": {
      "image/png": "[encoded data removed]",
      "text/plain": [
       "<Figure size 1200x600 with 1 Axes>"
      ]
     },
     "metadata": {},
     "output_type": "display_data"
    }
   ],
   "source": [
    "# Calcular la diferencia relativa entre los grupos B y A\n",
    "cumulative_pivot_avg_order['relative_difference'] = (\n",
    "    (cumulative_pivot_avg_order['B'] - cumulative_pivot_avg_order['A']) / cumulative_pivot_avg_order['A'] * 100\n",
    ")\n",
    "\n",
    "# Gráfica de la diferencia relativa\n",
    "plt.figure(figsize=(12, 6))\n",
    "plt.plot(\n",
    "    cumulative_pivot_avg_order.index,\n",
    "    cumulative_pivot_avg_order['relative_difference'],\n",
    "    label='Diferencia relativa (B vs A)',\n",
    "    color='purple',\n",
    "    marker='o'\n",
    ")\n",
    "plt.axhline(0, color='gray', linestyle='--', linewidth=1)  # Línea de referencia en 0\n",
    "plt.title('Diferencia relativa acumulada en tamaño promedio (Grupo B vs Grupo A)')\n",
    "plt.xlabel('Fecha')\n",
    "plt.ylabel('Diferencia relativa (%)')\n",
    "plt.xticks(rotation=45)\n",
    "plt.legend()\n",
    "plt.grid()\n",
    "plt.tight_layout()\n",
    "plt.show()\n",
    "\n",
    "# Mostrar la tabla de diferencia relativa\n",
    "#print(\"\\nTabla con la diferencia relativa:\")\n",
    "#print(cumulative_pivot_avg_order[['A', 'B', 'relative_difference']])"
   ]
  },
  {
   "cell_type": "markdown",
   "metadata": {},
   "source": [
    "Es posible que el grupo B haya respondido mejor a una promoción inicial, lo que explica los valores positivos de la diferencia relativa al principio.Sin embargo, las estrategias para el grupo B no parecen haber sido sostenibles, ya que la diferencia relativa acumulada se reduce al final del período.\n",
    "Los cambios abruptos y la alta variabilidad sugieren que factores externos o condiciones aleatorias afectaron los resultados del experimento."
   ]
  },
  {
   "cell_type": "markdown",
   "metadata": {},
   "source": [
    "<div class=\"alert alert-block alert-success\">\n",
    "<b>Comentario del revisor </b> <a class=\"tocSkip\"></a>\n",
    "\n",
    "Perfecto, buen trabajo realizando el cálculo y desplegando el gráfico de la diferencia relativa acumulada entre los tamaños de pedido promedio de los grupos. </div>"
   ]
  },
  {
   "cell_type": "markdown",
   "metadata": {},
   "source": [
    "### (4.) Calcula la tasa de conversión de cada grupo como la relación entre los pedidos y el número de visitas de cada día. Representa gráficamente las tasas de conversión diarias de los dos grupos y describe la diferencia. Saca conclusiones y haz conjeturas."
   ]
  },
  {
   "cell_type": "code",
   "execution_count": 15,
   "metadata": {},
   "outputs": [
    {
     "data": {
      "image/png": "[encoded data removed]",
      "text/plain": [
       "<Figure size 1200x600 with 1 Axes>"
      ]
     },
     "metadata": {},
     "output_type": "display_data"
    },
    {
     "name": "stdout",
     "output_type": "stream",
     "text": [
      "        date group  orders  visits  conversion_rate\n",
      "0 2019-08-01     A      23     719         0.031989\n",
      "1 2019-08-01     B      17     713         0.023843\n",
      "2 2019-08-02     A      19     619         0.030695\n",
      "3 2019-08-02     B      23     581         0.039587\n",
      "4 2019-08-03     A      24     507         0.047337\n"
     ]
    }
   ],
   "source": [
    "# Calcular el número de pedidos por día y por grupo\n",
    "orders_by_day = orders.groupby(['date', 'group'])['transactionId'].nunique().reset_index()\n",
    "orders_by_day.rename(columns={'transactionId': 'orders'}, inplace=True)\n",
    "\n",
    "# Calcular el número de visitas por día y por grupo\n",
    "visits_by_day = visits.groupby(['date', 'group'])['visits'].sum().reset_index()\n",
    "\n",
    "# Combinar los datos de pedidos y visitas\n",
    "conversion_data = pd.merge(orders_by_day, visits_by_day, on=['date', 'group'])\n",
    "\n",
    "# Calcular la tasa de conversión (pedidos / visitas)\n",
    "conversion_data['conversion_rate'] = conversion_data['orders'] / conversion_data['visits']\n",
    "\n",
    "# Graficar las tasas de conversión diarias para los dos grupos\n",
    "plt.figure(figsize=(12, 6))\n",
    "\n",
    "# Graficar tasa de conversión para el grupo A\n",
    "group_a = conversion_data[conversion_data['group'] == 'A']\n",
    "plt.plot(group_a['date'], group_a['conversion_rate'], label='Grupo A', color='blue', marker='o')\n",
    "\n",
    "# Graficar tasa de conversión para el grupo B\n",
    "group_b = conversion_data[conversion_data['group'] == 'B']\n",
    "plt.plot(group_b['date'], group_b['conversion_rate'], label='Grupo B', color='red', marker='o')\n",
    "\n",
    "plt.title('Tasa de conversión diaria por grupo')\n",
    "plt.xlabel('Fecha')\n",
    "plt.ylabel('Tasa de conversión')\n",
    "plt.xticks(rotation=45)\n",
    "plt.legend()\n",
    "plt.grid()\n",
    "plt.tight_layout()\n",
    "plt.show()\n",
    "\n",
    "# Mostrar las primeras filas de los datos de tasa de conversión\n",
    "print(conversion_data.head())"
   ]
  },
  {
   "cell_type": "markdown",
   "metadata": {},
   "source": [
    "Ambas tasas de conversión presentan fluctuaciones diarias significativas.\n",
    "El grupo B muestra picos más altos de tasa de conversión, alcanzando valores cercanos al 6% en algunos días, mientras que el grupo A parece mantenerse más estable, aunque con algunas caídas notorias.\n",
    "Sin una tendencia clara de cuál grupo domina constantemente, es posible que se necesiten análisis adicionales para determinar si las diferencias son estadísticamente significativas.\n"
   ]
  },
  {
   "cell_type": "markdown",
   "metadata": {},
   "source": [
    "<div class=\"alert alert-block alert-success\">\n",
    "<b>Comentario del revisor </b> <a class=\"tocSkip\"></a>\n",
    "\n",
    "Excelente, buen trabajo con el cálculo y despliegue del gráfico de las tasas de conversión diarias por grupo. <div>"
   ]
  },
  {
   "cell_type": "markdown",
   "metadata": {},
   "source": [
    "  ###  (5.)\tTraza un gráfico de dispersión del número de pedidos por usuario. "
   ]
  },
  {
   "cell_type": "code",
   "execution_count": 16,
   "metadata": {},
   "outputs": [
    {
     "data": {
      "image/png": "[encoded data removed]",
      "text/plain": [
       "<Figure size 1000x600 with 1 Axes>"
      ]
     },
     "metadata": {},
     "output_type": "display_data"
    },
    {
     "name": "stdout",
     "output_type": "stream",
     "text": [
      "count    973.000000\n",
      "mean       1.044193\n",
      "std        0.238090\n",
      "min        1.000000\n",
      "25%        1.000000\n",
      "50%        1.000000\n",
      "75%        1.000000\n",
      "max        3.000000\n",
      "Name: orders, dtype: float64\n"
     ]
    }
   ],
   "source": [
    "\n",
    "# Calcular el número de pedidos por usuario\n",
    "orders_per_user = orders.groupby('visitorId')['transactionId'].nunique().reset_index()\n",
    "orders_per_user.rename(columns={'transactionId': 'orders'}, inplace=True)\n",
    "\n",
    "# Graficar el número de pedidos por usuario\n",
    "plt.figure(figsize=(10, 6))\n",
    "plt.scatter(orders_per_user.index, orders_per_user['orders'], alpha=0.6, color='blue', edgecolor='k')\n",
    "plt.title('Gráfico de dispersión: Número de pedidos por usuario')\n",
    "plt.xlabel('Índice de usuario')\n",
    "plt.ylabel('Número de pedidos')\n",
    "plt.grid()\n",
    "plt.tight_layout()\n",
    "plt.show()\n",
    "\n",
    "# Mostrar estadísticas descriptivas\n",
    "print(orders_per_user['orders'].describe())"
   ]
  },
  {
   "cell_type": "markdown",
   "metadata": {},
   "source": [
    "La mayoría de los puntos en la gráfica están alineados en el valor de \"1\" en el eje y, indicando que la gran mayoría de los usuarios realizaron solo un pedido. Existen algunos puntos dispersos en valores de \"2\" y \"3\" en el eje y. Esto indica que hay usuarios que realizaron dos o tres pedidos, pero estos casos son significativamente menos frecuentes."
   ]
  },
  {
   "cell_type": "markdown",
   "metadata": {},
   "source": [
    "<div class=\"alert alert-block alert-success\">\n",
    "<b>Comentario del revisor </b> <a class=\"tocSkip\"></a>\n",
    "\n",
    "Excelente, buen trabajo desplegando el scatter para estudiar la dispersión del número de pedidos por cliente. </div>"
   ]
  },
  {
   "cell_type": "markdown",
   "metadata": {},
   "source": [
    "###    (6.)\tCalcula los percentiles 95 y 99 del número de pedidos por usuario. Define el punto en el cual un punto de datos se convierte en una anomalía."
   ]
  },
  {
   "cell_type": "code",
   "execution_count": 17,
   "metadata": {},
   "outputs": [
    {
     "name": "stdout",
     "output_type": "stream",
     "text": [
      "Percentil 95: 1.0\n",
      "Percentil 99: 2.0\n",
      "Cualquier usuario con más de 2.0 pedidos puede considerarse una anomalía.\n"
     ]
    }
   ],
   "source": [
    "import numpy as np\n",
    "\n",
    "# Calcular el número de pedidos por usuario\n",
    "orders_per_user = orders.groupby('visitorId')['transactionId'].nunique()\n",
    "\n",
    "# Calcular los percentiles 95 y 99\n",
    "percentile_95 = np.percentile(orders_per_user, 95)\n",
    "percentile_99 = np.percentile(orders_per_user, 99)\n",
    "\n",
    "# Imprimir resultados\n",
    "print(f\"Percentil 95: {percentile_95}\")\n",
    "print(f\"Percentil 99: {percentile_99}\")\n",
    "\n",
    "# Definir el punto de anomalía\n",
    "anomaly_threshold = percentile_99\n",
    "print(f\"Cualquier usuario con más de {anomaly_threshold} pedidos puede considerarse una anomalía.\")"
   ]
  },
  {
   "cell_type": "markdown",
   "metadata": {},
   "source": [
    " El 95% de los usuarios realizaron 1 pedido o menos. Solo el 5% de los usuarios realizaron más de 1 pedido. Esto indica que la mayoría de los usuarios tienen un comportamiento típico de realizar 1 pedido.\n",
    " El 99% de los usuarios realizaron 2 pedidos o menos. Solo el 1% de los usuarios realizaron más de 2 pedidos. Este grupo es mucho más pequeño y representa un comportamiento más raro o atípico.\n",
    " \n",
    " "
   ]
  },
  {
   "cell_type": "markdown",
   "metadata": {},
   "source": [
    "<div class=\"alert alert-block alert-success\">\n",
    "<b>Comentario del revisor </b> <a class=\"tocSkip\"></a>\n",
    "\n",
    "Excelente, buen trabajo con el calculo de los percentiles.  </div>"
   ]
  },
  {
   "cell_type": "markdown",
   "metadata": {},
   "source": [
    "### (7.)\tTraza un gráfico de dispersión de los precios de los pedidos. Haz conclusiones y conjeturas."
   ]
  },
  {
   "cell_type": "code",
   "execution_count": 18,
   "metadata": {},
   "outputs": [
    {
     "data": {
      "image/png": "[encoded data removed]",
      "text/plain": [
       "<Figure size 1200x600 with 1 Axes>"
      ]
     },
     "metadata": {},
     "output_type": "display_data"
    }
   ],
   "source": [
    "plt.figure(figsize=(12, 6))\n",
    "plt.scatter(range(len(orders)), orders['revenue'], alpha=0.6, color='blue', edgecolors='black')\n",
    "\n",
    "# Personalizar el gráfico\n",
    "plt.title('Gráfico de dispersión: Precios de los pedidos', fontsize=14)\n",
    "plt.xlabel('Índice del pedido', fontsize=12)\n",
    "plt.ylabel('Precio del pedido (revenue)', fontsize=12)\n",
    "plt.grid(True)\n",
    "plt.tight_layout()\n",
    "\n",
    "# Mostrar el gráfico\n",
    "plt.show()"
   ]
  },
  {
   "cell_type": "markdown",
   "metadata": {},
   "source": [
    "La mayoría de los puntos están agrupados cerca de un rango específico, eso indica que los precios de los pedidos tienden a ser consistentes.Esto indica que la mayoría de los ingresos por pedido no son muy elevados. Presencia de Outliers: Un punto en particular parece ser un pedido con un precio extremadamente alto (alrededor de 20,000), que podría considerarse una anomalía o un caso especial.\n",
    "\n"
   ]
  },
  {
   "cell_type": "markdown",
   "metadata": {},
   "source": [
    "<div class=\"alert alert-block alert-success\">\n",
    "<b>Comentario del revisor </b> <a class=\"tocSkip\"></a>\n",
    "\n",
    "Perfecto, buen trabajo desplegando el scatter para estudiar la dispersión del precio de los pedidos. </div>"
   ]
  },
  {
   "cell_type": "markdown",
   "metadata": {},
   "source": [
    "### (8.) Calcula los percentiles 95 y 99 de los precios de los pedidos. Define el punto en el cual un punto de datos se convierte en una anomalía."
   ]
  },
  {
   "cell_type": "code",
   "execution_count": 19,
   "metadata": {},
   "outputs": [
    {
     "name": "stdout",
     "output_type": "stream",
     "text": [
      "Percentil 95: 414.275\n",
      "Percentil 99: 830.3\n",
      "Cualquier pedido con un precio mayor a 830.3 puede considerarse una anomalía.\n"
     ]
    }
   ],
   "source": [
    "import numpy as np\n",
    "\n",
    "# Calcular los percentiles 95 y 99 del precio de los pedidos (revenue)\n",
    "percentile_95 = np.percentile(orders['revenue'], 95)\n",
    "percentile_99 = np.percentile(orders['revenue'], 99)\n",
    "\n",
    "# Imprimir los resultados\n",
    "print(f\"Percentil 95: {percentile_95}\")\n",
    "print(f\"Percentil 99: {percentile_99}\")\n",
    "\n",
    "# Definir el umbral de anomalía (más allá del percentil 99)\n",
    "print(f\"Cualquier pedido con un precio mayor a {percentile_99} puede considerarse una anomalía.\")\n"
   ]
  },
  {
   "cell_type": "markdown",
   "metadata": {},
   "source": [
    "<div class=\"alert alert-block alert-success\">\n",
    "<b>Comentario del revisor </b> <a class=\"tocSkip\"></a>\n",
    "\n",
    "Perfecto, buen trabajo con el calculo de los percentiles.  </div>"
   ]
  },
  {
   "cell_type": "markdown",
   "metadata": {},
   "source": [
    "<div class=\"alert alert-block alert-info\">\n",
    "<b>Respuesta a la primera revisión. En la sección de pruebas de significancia estadístic cargué de nuevo los datos porque tuve la confusión de como decía datos en bruto, no sabía si se refería a los datos originales los raw data, hago la corrección omitiendo las bases de datos, que ya había cargado con anterioridad. \n",
    "No cambia la respuesta de , \"Parar la prueba y concluir que no hay diferencia estadísticamente significativa entre los grupos\".</b> <a class=\"tocSkip\"></a>\n",
    "</div>\n"
   ]
  },
  {
   "cell_type": "markdown",
   "metadata": {},
   "source": [
    "<div class=\"alert alert-block alert-success\">\n",
    "<b>Comentario del revisor #2</b> <a class=\"tocSkip\"></a>\n",
    "\n",
    "Entiendo la confusión, como recomendación para ocasiones futuras es que puedes crear copias de los datasets originales usando el método ``copy()``, de este modo puedes manejar diferentes versiones según lo que se requiera y evitar volver a cargar los datos desde 0. \n",
    "</div>"
   ]
  },
  {
   "cell_type": "markdown",
   "metadata": {},
   "source": [
    "### (9.)\tEncuentra la significancia estadística de la diferencia en la conversión entre los grupos utilizando los datos en bruto. "
   ]
  },
  {
   "cell_type": "code",
   "execution_count": 20,
   "metadata": {
    "scrolled": true
   },
   "outputs": [
    {
     "name": "stdout",
     "output_type": "stream",
     "text": [
      "Tasa de conversión por grupo:\n",
      "group\n",
      "A    0.023751\n",
      "B    0.027913\n",
      "dtype: float64\n",
      "\n",
      "Resultados de la prueba de Mann-Whitney U:\n",
      "Estadístico U: 118254.0\n",
      "Valor p: 0.5880266909361814\n",
      "No hay una diferencia significativa en las tasas de conversión entre los grupos A y B.\n"
     ]
    }
   ],
   "source": [
    "#import pandas as pd\n",
    "from scipy.stats import mannwhitneyu\n",
    "\n",
    "\n",
    "# 2. Calcular la conversión por grupo\n",
    "# Contar los pedidos por grupo\n",
    "orders_per_group = orders.groupby('group')['visitorId'].nunique()\n",
    "\n",
    "# Calcular el total de visitas por grupo\n",
    "visits_per_group = visits.groupby('group')['visits'].sum()\n",
    "\n",
    "# Calcular la tasa de conversión por grupo\n",
    "conversion_rate = orders_per_group / visits_per_group\n",
    "print(\"Tasa de conversión por grupo:\")\n",
    "print(conversion_rate)\n",
    "\n",
    "# 3. Preparar datos para la prueba estadística\n",
    "# Extraer los datos de pedidos por usuario en cada grupo\n",
    "group_a_orders = orders[orders['group'] == 'A']['visitorId'].value_counts()\n",
    "group_b_orders = orders[orders['group'] == 'B']['visitorId'].value_counts()\n",
    "\n",
    "# Asegurarse de que cada visitante tenga un registro, incluso si no realizó pedidos\n",
    "# Crear índices únicos basados en los visitantes que realizaron pedidos\n",
    "unique_visitors_a = orders[orders['group'] == 'A']['visitorId'].unique()\n",
    "unique_visitors_b = orders[orders['group'] == 'B']['visitorId'].unique()\n",
    "\n",
    "group_a_orders = group_a_orders.reindex(unique_visitors_a, fill_value=0)\n",
    "group_b_orders = group_b_orders.reindex(unique_visitors_b, fill_value=0)\n",
    "\n",
    "# 4. Prueba estadística (Mann-Whitney U test)\n",
    "stat, p_value = mannwhitneyu(group_a_orders, group_b_orders, alternative='two-sided')\n",
    "\n",
    "# 5. Conclusiones\n",
    "print(\"\\nResultados de la prueba de Mann-Whitney U:\")\n",
    "print(f\"Estadístico U: {stat}\")\n",
    "print(f\"Valor p: {p_value}\")\n",
    "\n",
    "if p_value < 0.05:\n",
    "    print(\"Hay una diferencia significativa en las tasas de conversión entre los grupos A y B.\")\n",
    "else:\n",
    "    print(\"No hay una diferencia significativa en las tasas de conversión entre los grupos A y B.\")"
   ]
  },
  {
   "cell_type": "markdown",
   "metadata": {},
   "source": [
    "Grupo A: 0.0237521 (aproximadamente 2.37% de conversión).\n",
    "Grupo B: 0.030979 (aproximadamente 3.09% de conversión).\n",
    "Estadístico U: 118254.0.\n",
    "Valor p: 0.588, que es mucho mayor que el umbral de significancia típico de 0.05.\n",
    "\n",
    "\n",
    "Dado que el valor p es 0.588, lo que es mayor que 0.05, no hay una diferencia significativa en las tasas de conversión entre los grupos A y B.\n",
    "    "
   ]
  },
  {
   "cell_type": "markdown",
   "metadata": {},
   "source": [
    "### (10.) Encuentra la significancia estadística de la diferencia en el tamaño promedio de pedido entre los grupos utilizando los datos en bruto. Haz conclusiones y conjeturas."
   ]
  },
  {
   "cell_type": "code",
   "execution_count": 24,
   "metadata": {},
   "outputs": [
    {
     "name": "stdout",
     "output_type": "stream",
     "text": [
      "Tamaño promedio de pedido por grupo:\n",
      "group\n",
      "A    115.897487\n",
      "B    145.063437\n",
      "Name: revenue, dtype: float64\n",
      "\n",
      "Resultados de la prueba de Mann-Whitney U:\n",
      "Estadístico U: 175872.5\n",
      "Valor p: 0.6915246773264736\n",
      "No hay una diferencia significativa en el tamaño promedio de pedido entre los grupos A y B.\n"
     ]
    }
   ],
   "source": [
    "\n",
    "\n",
    "\n",
    "\n",
    "# 2. Calcular el tamaño promedio de pedido por grupo\n",
    "avg_order_size = orders.groupby('group')['revenue'].mean()\n",
    "print(\"Tamaño promedio de pedido por grupo:\")\n",
    "print(avg_order_size)\n",
    "\n",
    "# 3. Preparar datos para la prueba estadística\n",
    "# Extraer los ingresos (`revenue`) por pedido para cada grupo\n",
    "group_a_revenue = orders[orders['group'] == 'A']['revenue']\n",
    "group_b_revenue = orders[orders['group'] == 'B']['revenue']\n",
    "\n",
    "# 4. Prueba estadística (Mann-Whitney U test)\n",
    "stat, p_value = mannwhitneyu(group_a_revenue, group_b_revenue, alternative='two-sided')\n",
    "\n",
    "# 5. Conclusiones\n",
    "print(\"\\nResultados de la prueba de Mann-Whitney U:\")\n",
    "print(f\"Estadístico U: {stat}\")\n",
    "print(f\"Valor p: {p_value}\")\n",
    "\n",
    "if p_value < 0.05:\n",
    "    print(\"Hay una diferencia significativa en el tamaño promedio de pedido entre los grupos A y B.\")\n",
    "else:\n",
    "    print(\"No hay una diferencia significativa en el tamaño promedio de pedido entre los grupos A y B.\")"
   ]
  },
  {
   "cell_type": "markdown",
   "metadata": {},
   "source": [
    "Tamaño promedio de pedido por grupo:\n",
    "Grupo A: $115.89\n",
    "Grupo B: $145.06\n",
    "\n",
    "Resultados de la prueba de Mann-Whitney U:\n",
    "Estadístico U: 175872.5\n",
    "Valor p: 0.6915\n",
    "\n",
    "El valor p es 0.6915, que es mucho mayor que el umbral de significancia común de 0.05. Esto indica que no hay una diferencia estadísticamente significativa en el tamaño promedio de pedido entre los dos grupos. \n",
    "\n",
    "Con base en los resultados de la prueba estadística, no hay evidencia suficiente para afirmar que existe una diferencia significativa en el tamaño promedio de pedido entre los grupos A y B.Con base en los resultados de la prueba estadística, no hay evidencia suficiente para afirmar que existe una diferencia significativa en el tamaño promedio de pedido entre los grupos A y B.\n"
   ]
  },
  {
   "cell_type": "markdown",
   "metadata": {},
   "source": [
    "### (11.)\tEncuentra la significancia estadística de la diferencia en la conversión entre los grupos utilizando los datos filtrados. Haz conclusiones y conjeturas."
   ]
  },
  {
   "cell_type": "code",
   "execution_count": 25,
   "metadata": {},
   "outputs": [
    {
     "name": "stdout",
     "output_type": "stream",
     "text": [
      "Tamaño promedio de pedido por grupo:\n",
      "group\n",
      "A    115.897487\n",
      "B    145.063437\n",
      "Name: revenue, dtype: float64\n",
      "\n",
      "Resultados de la prueba de Mann-Whitney U:\n",
      "Estadístico U: 175872.5\n",
      "Valor p: 0.6915246773264736\n",
      "No hay una diferencia significativa en el tamaño promedio de pedido entre los grupos A y B.\n"
     ]
    }
   ],
   "source": [
    "\n",
    "# 2. Calcular el tamaño promedio de pedido por grupo\n",
    "avg_order_size = orders.groupby('group')['revenue'].mean()\n",
    "print(\"Tamaño promedio de pedido por grupo:\")\n",
    "print(avg_order_size)\n",
    "\n",
    "# 3. Preparar datos para la prueba estadística\n",
    "# Extraer los ingresos (`revenue`) por pedido para cada grupo\n",
    "group_a_revenue = orders[orders['group'] == 'A']['revenue']\n",
    "group_b_revenue = orders[orders['group'] == 'B']['revenue']\n",
    "\n",
    "# 4. Prueba estadística (Mann-Whitney U test)\n",
    "stat, p_value = mannwhitneyu(group_a_revenue, group_b_revenue, alternative='two-sided')\n",
    "\n",
    "# 5. Conclusiones\n",
    "print(\"\\nResultados de la prueba de Mann-Whitney U:\")\n",
    "print(f\"Estadístico U: {stat}\")\n",
    "print(f\"Valor p: {p_value}\")\n",
    "\n",
    "if p_value < 0.05:\n",
    "    print(\"Hay una diferencia significativa en el tamaño promedio de pedido entre los grupos A y B.\")\n",
    "else:\n",
    "    print(\"No hay una diferencia significativa en el tamaño promedio de pedido entre los grupos A y B.\")"
   ]
  },
  {
   "cell_type": "markdown",
   "metadata": {},
   "source": [
    "Tamaño promedio de pedido por grupo:\n",
    "Grupo A:  115.89\n",
    "Grupo B: 145.06\n",
    "Resultados de la prueba de Mann-Whitney U:\n",
    "Estadístico U: 175872.5 Valor p: 0.6915 El valor p obtenido es 0.6915, que es mucho mayor que el umbral común de 0.05 para significancia estadística. Esto indica que no hay una diferencia estadísticamente significativa entre los tamaños promedio de pedido de los grupos A y B.\n",
    "\n",
    "Con base en el valor p 0.6915, se concluye que no hay evidencia suficiente para afirmar que las tasas de conversión entre los grupos A y B sean significativamente diferentes.\n"
   ]
  },
  {
   "cell_type": "markdown",
   "metadata": {},
   "source": [
    "### (12.) Encuentra la significancia estadística de la diferencia en el tamaño promedio de pedido entre los grupos utilizando los datos filtrados. Haz conclusiones y conjeturas."
   ]
  },
  {
   "cell_type": "code",
   "execution_count": 26,
   "metadata": {},
   "outputs": [
    {
     "name": "stdout",
     "output_type": "stream",
     "text": [
      "Tamaño promedio de pedido por grupo (datos filtrados):\n",
      "group\n",
      "A    206.287633\n",
      "B    261.959509\n",
      "Name: revenue, dtype: float64\n",
      "\n",
      "Resultados de la prueba de Mann-Whitney U (datos filtrados):\n",
      "Estadístico U: 46652.5\n",
      "Valor p: 0.8091602018339863\n",
      "No hay una diferencia significativa en el tamaño promedio de pedido entre los grupos A y B (datos filtrados).\n"
     ]
    }
   ],
   "source": [
    "\n",
    "# 2. Filtrar los datos\n",
    "# Incluir solo pedidos realizados después de '2019-01-01' y con ingresos mayores a 50\n",
    "filtered_orders = orders[(orders['date'] >= '2019-01-01') & (orders['revenue'] > 50)]\n",
    "\n",
    "# 3. Calcular el tamaño promedio de pedido por grupo\n",
    "# Agrupar por grupo y calcular el promedio de revenue\n",
    "avg_order_size = filtered_orders.groupby('group')['revenue'].mean()\n",
    "print(\"Tamaño promedio de pedido por grupo (datos filtrados):\")\n",
    "print(avg_order_size)\n",
    "\n",
    "# 4. Preparar datos para la prueba estadística\n",
    "# Extraer los ingresos individuales (revenue) por grupo\n",
    "group_a_revenue = filtered_orders[filtered_orders['group'] == 'A']['revenue']\n",
    "group_b_revenue = filtered_orders[filtered_orders['group'] == 'B']['revenue']\n",
    "\n",
    "# 5. Prueba estadística (Mann-Whitney U test)\n",
    "stat, p_value = mannwhitneyu(group_a_revenue, group_b_revenue, alternative='two-sided')\n",
    "\n",
    "# 6. Conclusiones\n",
    "print(\"\\nResultados de la prueba de Mann-Whitney U (datos filtrados):\")\n",
    "print(f\"Estadístico U: {stat}\")\n",
    "print(f\"Valor p: {p_value}\")\n",
    "\n",
    "if p_value < 0.05:\n",
    "    print(\"Hay una diferencia significativa en el tamaño promedio de pedido entre los grupos A y B (datos filtrados).\")\n",
    "else:\n",
    "    print(\"No hay una diferencia significativa en el tamaño promedio de pedido entre los grupos A y B (datos filtrados).\")"
   ]
  },
  {
   "cell_type": "markdown",
   "metadata": {},
   "source": [
    "Aunque existe una diferencia en el tamaño promedio de los pedidos entre los dos grupos, esta diferencia no es significativa desde el punto de vista estadístico."
   ]
  },
  {
   "cell_type": "markdown",
   "metadata": {},
   "source": [
    "### (13.)\tToma una decisión basada en los resultados de la prueba. Las decisiones posibles son: 1. Parar la prueba, considerar a uno de los grupos como líder. 2. Parar la prueba, concluir que no hay diferencia entre los grupos. 3. Continuar la prueba."
   ]
  },
  {
   "cell_type": "markdown",
   "metadata": {},
   "source": [
    "Basado en los resultados, lo más apropiado sería la opción 2: Parar la prueba y concluir que no hay diferencia entre los grupos.\n",
    "\n",
    "Razón:Todas las pruebas muestran valores p muy por encima del umbral de 0.05.\n",
    "Las diferencias observadas no son estadísticamente significativas."
   ]
  }
 ],
 "metadata": {
  "ExecuteTimeLog": [
   {
    "duration": 2046,
    "start_time": "2025-01-20T16:01:49.569Z"
   },
   {
    "duration": 6,
    "start_time": "2025-01-20T16:01:53.020Z"
   },
   {
    "duration": 516,
    "start_time": "2025-01-20T16:03:58.858Z"
   },
   {
    "duration": 10,
    "start_time": "2025-01-20T16:05:48.112Z"
   },
   {
    "duration": 5,
    "start_time": "2025-01-20T16:05:51.472Z"
   },
   {
    "duration": 9,
    "start_time": "2025-01-20T16:05:52.839Z"
   },
   {
    "duration": 5,
    "start_time": "2025-01-20T16:05:56.819Z"
   },
   {
    "duration": 3,
    "start_time": "2025-01-20T16:06:11.304Z"
   },
   {
    "duration": 6,
    "start_time": "2025-01-20T16:07:28.463Z"
   },
   {
    "duration": 3,
    "start_time": "2025-01-20T16:07:51.761Z"
   },
   {
    "duration": 4,
    "start_time": "2025-01-20T16:07:53.674Z"
   },
   {
    "duration": 5,
    "start_time": "2025-01-20T16:10:08.658Z"
   },
   {
    "duration": 4,
    "start_time": "2025-01-20T17:20:06.132Z"
   },
   {
    "duration": 18,
    "start_time": "2025-01-20T17:50:11.658Z"
   },
   {
    "duration": 13,
    "start_time": "2025-01-20T17:51:09.627Z"
   },
   {
    "duration": 14,
    "start_time": "2025-01-20T17:51:20.098Z"
   },
   {
    "duration": 3,
    "start_time": "2025-01-20T17:53:49.728Z"
   },
   {
    "duration": 4,
    "start_time": "2025-01-20T17:55:20.067Z"
   },
   {
    "duration": 9,
    "start_time": "2025-01-20T17:58:24.304Z"
   },
   {
    "duration": 15,
    "start_time": "2025-01-20T17:58:41.199Z"
   },
   {
    "duration": 14,
    "start_time": "2025-01-20T18:03:34.869Z"
   },
   {
    "duration": 2,
    "start_time": "2025-01-20T18:08:21.932Z"
   },
   {
    "duration": 7,
    "start_time": "2025-01-20T18:08:23.505Z"
   },
   {
    "duration": 6,
    "start_time": "2025-01-20T18:08:25.724Z"
   },
   {
    "duration": 12,
    "start_time": "2025-01-20T18:08:31.366Z"
   },
   {
    "duration": 3,
    "start_time": "2025-01-20T18:08:36.120Z"
   },
   {
    "duration": 10,
    "start_time": "2025-01-20T18:08:38.339Z"
   },
   {
    "duration": 7,
    "start_time": "2025-01-20T18:08:43.894Z"
   },
   {
    "duration": 9,
    "start_time": "2025-01-20T18:09:23.850Z"
   },
   {
    "duration": 4,
    "start_time": "2025-01-20T18:10:12.284Z"
   },
   {
    "duration": 3,
    "start_time": "2025-01-20T18:10:16.865Z"
   },
   {
    "duration": 5,
    "start_time": "2025-01-20T18:10:44.836Z"
   },
   {
    "duration": 10,
    "start_time": "2025-01-20T18:11:08.786Z"
   },
   {
    "duration": 2,
    "start_time": "2025-01-20T18:11:41.318Z"
   },
   {
    "duration": 5,
    "start_time": "2025-01-20T18:13:24.517Z"
   },
   {
    "duration": 416,
    "start_time": "2025-01-20T18:14:23.345Z"
   },
   {
    "duration": 3,
    "start_time": "2025-01-20T22:57:09.532Z"
   },
   {
    "duration": 3,
    "start_time": "2025-01-20T22:57:15.116Z"
   },
   {
    "duration": 9,
    "start_time": "2025-01-20T23:00:04.853Z"
   },
   {
    "duration": 5,
    "start_time": "2025-01-20T23:00:34.185Z"
   },
   {
    "duration": 3,
    "start_time": "2025-01-20T23:03:00.527Z"
   },
   {
    "duration": 4,
    "start_time": "2025-01-20T23:03:15.196Z"
   },
   {
    "duration": 16,
    "start_time": "2025-01-20T23:05:23.619Z"
   },
   {
    "duration": 3,
    "start_time": "2025-01-20T23:05:31.219Z"
   },
   {
    "duration": 4,
    "start_time": "2025-01-20T23:09:37.908Z"
   },
   {
    "duration": 3,
    "start_time": "2025-01-20T23:15:20.092Z"
   },
   {
    "duration": 6,
    "start_time": "2025-01-20T23:15:22.223Z"
   },
   {
    "duration": 5,
    "start_time": "2025-01-20T23:15:25.805Z"
   },
   {
    "duration": 7,
    "start_time": "2025-01-20T23:15:45.944Z"
   },
   {
    "duration": 22,
    "start_time": "2025-01-20T23:17:04.390Z"
   },
   {
    "duration": 21,
    "start_time": "2025-01-20T23:17:24.309Z"
   },
   {
    "duration": 424,
    "start_time": "2025-01-20T23:17:51.420Z"
   },
   {
    "duration": 149,
    "start_time": "2025-01-21T01:55:47.748Z"
   },
   {
    "duration": 40,
    "start_time": "2025-01-21T01:56:42.462Z"
   },
   {
    "duration": 3,
    "start_time": "2025-01-21T01:56:52.603Z"
   },
   {
    "duration": 7,
    "start_time": "2025-01-21T01:56:54.749Z"
   },
   {
    "duration": 41,
    "start_time": "2025-01-21T01:56:57.713Z"
   },
   {
    "duration": 35,
    "start_time": "2025-01-21T01:57:08.458Z"
   },
   {
    "duration": 20,
    "start_time": "2025-01-21T02:01:19.312Z"
   },
   {
    "duration": 5,
    "start_time": "2025-01-21T02:01:40.285Z"
   },
   {
    "duration": 3,
    "start_time": "2025-01-21T02:02:15.842Z"
   },
   {
    "duration": 15,
    "start_time": "2025-01-21T02:03:26.591Z"
   },
   {
    "duration": 17,
    "start_time": "2025-01-21T02:03:44.118Z"
   },
   {
    "duration": 13,
    "start_time": "2025-01-21T02:08:51.030Z"
   },
   {
    "duration": 14,
    "start_time": "2025-01-21T02:11:54.172Z"
   },
   {
    "duration": 11,
    "start_time": "2025-01-21T02:11:57.042Z"
   },
   {
    "duration": 8,
    "start_time": "2025-01-21T02:13:53.474Z"
   },
   {
    "duration": 12,
    "start_time": "2025-01-21T02:14:02.707Z"
   },
   {
    "duration": 16,
    "start_time": "2025-01-21T02:14:08.302Z"
   },
   {
    "duration": 18,
    "start_time": "2025-01-21T02:14:43.100Z"
   },
   {
    "duration": 19,
    "start_time": "2025-01-21T02:16:11.705Z"
   },
   {
    "duration": 27,
    "start_time": "2025-01-21T02:16:41.096Z"
   },
   {
    "duration": 8,
    "start_time": "2025-01-21T02:50:39.070Z"
   },
   {
    "duration": 6,
    "start_time": "2025-01-21T03:02:46.493Z"
   },
   {
    "duration": 7,
    "start_time": "2025-01-21T03:03:08.018Z"
   },
   {
    "duration": 10,
    "start_time": "2025-01-21T03:04:56.024Z"
   },
   {
    "duration": 11,
    "start_time": "2025-01-21T03:15:45.892Z"
   },
   {
    "duration": 10,
    "start_time": "2025-01-21T03:16:26.073Z"
   },
   {
    "duration": 11,
    "start_time": "2025-01-21T03:17:42.410Z"
   },
   {
    "duration": 9,
    "start_time": "2025-01-21T03:17:44.123Z"
   },
   {
    "duration": 10,
    "start_time": "2025-01-21T03:20:39.342Z"
   },
   {
    "duration": 11,
    "start_time": "2025-01-21T03:21:22.141Z"
   },
   {
    "duration": 11,
    "start_time": "2025-01-21T03:28:52.997Z"
   },
   {
    "duration": 11,
    "start_time": "2025-01-21T03:30:18.434Z"
   },
   {
    "duration": 11,
    "start_time": "2025-01-21T03:36:01.468Z"
   },
   {
    "duration": 10,
    "start_time": "2025-01-21T03:46:34.911Z"
   },
   {
    "duration": 46,
    "start_time": "2025-01-21T03:48:50.858Z"
   },
   {
    "duration": 7,
    "start_time": "2025-01-21T03:49:18.908Z"
   },
   {
    "duration": 16,
    "start_time": "2025-01-21T03:50:01.247Z"
   },
   {
    "duration": 14,
    "start_time": "2025-01-21T03:50:19.278Z"
   },
   {
    "duration": 2135,
    "start_time": "2025-01-21T14:58:11.375Z"
   },
   {
    "duration": 27,
    "start_time": "2025-01-21T14:58:13.512Z"
   },
   {
    "duration": 7,
    "start_time": "2025-01-21T14:58:13.541Z"
   },
   {
    "duration": 5,
    "start_time": "2025-01-21T14:58:13.550Z"
   },
   {
    "duration": 10,
    "start_time": "2025-01-21T14:58:13.570Z"
   },
   {
    "duration": 21,
    "start_time": "2025-01-21T14:58:13.581Z"
   },
   {
    "duration": 194,
    "start_time": "2025-01-21T14:58:13.604Z"
   },
   {
    "duration": 0,
    "start_time": "2025-01-21T14:58:13.800Z"
   },
   {
    "duration": 0,
    "start_time": "2025-01-21T14:58:13.801Z"
   },
   {
    "duration": 17,
    "start_time": "2025-01-21T14:58:26.468Z"
   },
   {
    "duration": 3,
    "start_time": "2025-01-21T14:59:32.733Z"
   },
   {
    "duration": 14,
    "start_time": "2025-01-21T15:01:17.854Z"
   },
   {
    "duration": 3,
    "start_time": "2025-01-21T15:01:59.650Z"
   },
   {
    "duration": 20,
    "start_time": "2025-01-21T15:01:59.662Z"
   },
   {
    "duration": 7,
    "start_time": "2025-01-21T15:01:59.684Z"
   },
   {
    "duration": 7,
    "start_time": "2025-01-21T15:01:59.693Z"
   },
   {
    "duration": 14,
    "start_time": "2025-01-21T15:01:59.702Z"
   },
   {
    "duration": 17,
    "start_time": "2025-01-21T15:01:59.717Z"
   },
   {
    "duration": 3,
    "start_time": "2025-01-21T15:01:59.736Z"
   },
   {
    "duration": 40,
    "start_time": "2025-01-21T15:01:59.740Z"
   },
   {
    "duration": 21,
    "start_time": "2025-01-21T15:01:59.782Z"
   },
   {
    "duration": 25,
    "start_time": "2025-01-21T15:02:08.665Z"
   },
   {
    "duration": 3,
    "start_time": "2025-01-21T15:06:39.678Z"
   },
   {
    "duration": 23,
    "start_time": "2025-01-21T15:19:15.189Z"
   },
   {
    "duration": 12,
    "start_time": "2025-01-21T15:20:45.458Z"
   },
   {
    "duration": 205,
    "start_time": "2025-01-21T15:23:00.151Z"
   },
   {
    "duration": 520,
    "start_time": "2025-01-21T17:17:10.267Z"
   },
   {
    "duration": 17,
    "start_time": "2025-01-21T18:03:13.187Z"
   },
   {
    "duration": 360,
    "start_time": "2025-01-21T18:14:57.746Z"
   },
   {
    "duration": 290,
    "start_time": "2025-01-21T18:33:18.514Z"
   },
   {
    "duration": 273,
    "start_time": "2025-01-21T18:33:50.721Z"
   },
   {
    "duration": 293,
    "start_time": "2025-01-21T18:46:53.705Z"
   },
   {
    "duration": 232,
    "start_time": "2025-01-21T22:29:53.389Z"
   },
   {
    "duration": 2,
    "start_time": "2025-01-21T22:32:24.599Z"
   },
   {
    "duration": 21,
    "start_time": "2025-01-21T22:32:24.607Z"
   },
   {
    "duration": 7,
    "start_time": "2025-01-21T22:32:24.629Z"
   },
   {
    "duration": 7,
    "start_time": "2025-01-21T22:32:24.637Z"
   },
   {
    "duration": 10,
    "start_time": "2025-01-21T22:32:24.647Z"
   },
   {
    "duration": 12,
    "start_time": "2025-01-21T22:32:24.763Z"
   },
   {
    "duration": 3,
    "start_time": "2025-01-21T22:32:24.777Z"
   },
   {
    "duration": 11,
    "start_time": "2025-01-21T22:32:24.782Z"
   },
   {
    "duration": 3,
    "start_time": "2025-01-21T22:32:24.794Z"
   },
   {
    "duration": 19,
    "start_time": "2025-01-21T22:32:24.802Z"
   },
   {
    "duration": 11,
    "start_time": "2025-01-21T22:32:24.823Z"
   },
   {
    "duration": 211,
    "start_time": "2025-01-21T22:32:24.836Z"
   },
   {
    "duration": 450,
    "start_time": "2025-01-21T22:32:25.050Z"
   },
   {
    "duration": 383,
    "start_time": "2025-01-21T22:32:25.502Z"
   },
   {
    "duration": 393,
    "start_time": "2025-01-21T22:32:25.887Z"
   },
   {
    "duration": 255,
    "start_time": "2025-01-21T22:32:26.283Z"
   },
   {
    "duration": 5,
    "start_time": "2025-01-21T23:58:22.044Z"
   },
   {
    "duration": 245,
    "start_time": "2025-01-22T00:09:24.325Z"
   },
   {
    "duration": 5,
    "start_time": "2025-01-22T00:24:46.363Z"
   },
   {
    "duration": 164,
    "start_time": "2025-01-22T04:32:06.218Z"
   },
   {
    "duration": 14,
    "start_time": "2025-01-22T04:32:09.765Z"
   },
   {
    "duration": 2522,
    "start_time": "2025-01-22T04:32:26.256Z"
   },
   {
    "duration": 29,
    "start_time": "2025-01-22T04:32:28.781Z"
   },
   {
    "duration": 14,
    "start_time": "2025-01-22T04:32:28.813Z"
   },
   {
    "duration": 8,
    "start_time": "2025-01-22T04:32:28.829Z"
   },
   {
    "duration": 10,
    "start_time": "2025-01-22T04:32:28.838Z"
   },
   {
    "duration": 15,
    "start_time": "2025-01-22T04:32:28.850Z"
   },
   {
    "duration": 2,
    "start_time": "2025-01-22T04:32:28.867Z"
   },
   {
    "duration": 11,
    "start_time": "2025-01-22T04:32:28.871Z"
   },
   {
    "duration": 2,
    "start_time": "2025-01-22T04:32:28.885Z"
   },
   {
    "duration": 26,
    "start_time": "2025-01-22T04:32:28.923Z"
   },
   {
    "duration": 12,
    "start_time": "2025-01-22T04:32:28.951Z"
   },
   {
    "duration": 240,
    "start_time": "2025-01-22T04:32:28.964Z"
   },
   {
    "duration": 478,
    "start_time": "2025-01-22T04:32:29.207Z"
   },
   {
    "duration": 377,
    "start_time": "2025-01-22T04:32:29.688Z"
   },
   {
    "duration": 324,
    "start_time": "2025-01-22T04:32:30.067Z"
   },
   {
    "duration": 280,
    "start_time": "2025-01-22T04:32:30.393Z"
   },
   {
    "duration": 5,
    "start_time": "2025-01-22T04:32:30.676Z"
   },
   {
    "duration": 326,
    "start_time": "2025-01-22T04:32:30.683Z"
   },
   {
    "duration": 13,
    "start_time": "2025-01-22T04:32:31.011Z"
   },
   {
    "duration": 71,
    "start_time": "2025-01-22T04:32:31.026Z"
   },
   {
    "duration": 428,
    "start_time": "2025-01-22T04:34:40.284Z"
   },
   {
    "duration": 2134,
    "start_time": "2025-01-22T16:29:47.146Z"
   },
   {
    "duration": 30,
    "start_time": "2025-01-22T16:29:49.282Z"
   },
   {
    "duration": 7,
    "start_time": "2025-01-22T16:29:49.314Z"
   },
   {
    "duration": 7,
    "start_time": "2025-01-22T16:29:49.324Z"
   },
   {
    "duration": 12,
    "start_time": "2025-01-22T16:29:49.332Z"
   },
   {
    "duration": 14,
    "start_time": "2025-01-22T16:29:49.345Z"
   },
   {
    "duration": 3,
    "start_time": "2025-01-22T16:29:49.360Z"
   },
   {
    "duration": 12,
    "start_time": "2025-01-22T16:29:49.364Z"
   },
   {
    "duration": 35,
    "start_time": "2025-01-22T16:29:49.377Z"
   },
   {
    "duration": 18,
    "start_time": "2025-01-22T16:29:49.415Z"
   },
   {
    "duration": 10,
    "start_time": "2025-01-22T16:29:49.435Z"
   },
   {
    "duration": 218,
    "start_time": "2025-01-22T16:29:49.446Z"
   },
   {
    "duration": 508,
    "start_time": "2025-01-22T16:29:49.665Z"
   },
   {
    "duration": 400,
    "start_time": "2025-01-22T16:29:50.174Z"
   },
   {
    "duration": 343,
    "start_time": "2025-01-22T16:29:50.576Z"
   },
   {
    "duration": 259,
    "start_time": "2025-01-22T16:29:50.920Z"
   },
   {
    "duration": 5,
    "start_time": "2025-01-22T16:29:51.180Z"
   },
   {
    "duration": 301,
    "start_time": "2025-01-22T16:29:51.187Z"
   },
   {
    "duration": 5,
    "start_time": "2025-01-22T16:29:51.490Z"
   },
   {
    "duration": 361,
    "start_time": "2025-01-22T16:29:51.497Z"
   },
   {
    "duration": 834,
    "start_time": "2025-01-22T16:29:51.860Z"
   },
   {
    "duration": 3,
    "start_time": "2025-01-22T16:51:53.365Z"
   },
   {
    "duration": 20,
    "start_time": "2025-01-22T16:51:53.386Z"
   },
   {
    "duration": 6,
    "start_time": "2025-01-22T16:51:53.408Z"
   },
   {
    "duration": 6,
    "start_time": "2025-01-22T16:51:53.418Z"
   },
   {
    "duration": 11,
    "start_time": "2025-01-22T16:51:53.432Z"
   },
   {
    "duration": 13,
    "start_time": "2025-01-22T16:51:53.467Z"
   },
   {
    "duration": 3,
    "start_time": "2025-01-22T16:51:53.493Z"
   },
   {
    "duration": 10,
    "start_time": "2025-01-22T16:51:53.504Z"
   },
   {
    "duration": 2,
    "start_time": "2025-01-22T16:51:53.529Z"
   },
   {
    "duration": 18,
    "start_time": "2025-01-22T16:51:53.550Z"
   },
   {
    "duration": 10,
    "start_time": "2025-01-22T16:51:53.570Z"
   },
   {
    "duration": 185,
    "start_time": "2025-01-22T16:51:53.581Z"
   },
   {
    "duration": 469,
    "start_time": "2025-01-22T16:51:53.769Z"
   },
   {
    "duration": 369,
    "start_time": "2025-01-22T16:51:54.240Z"
   },
   {
    "duration": 335,
    "start_time": "2025-01-22T16:51:54.610Z"
   },
   {
    "duration": 240,
    "start_time": "2025-01-22T16:51:54.947Z"
   },
   {
    "duration": 21,
    "start_time": "2025-01-22T16:51:55.191Z"
   },
   {
    "duration": 374,
    "start_time": "2025-01-22T16:51:55.215Z"
   },
   {
    "duration": 5,
    "start_time": "2025-01-22T16:51:55.591Z"
   },
   {
    "duration": 22,
    "start_time": "2025-01-22T16:51:55.598Z"
   },
   {
    "duration": 247,
    "start_time": "2025-01-22T16:51:55.621Z"
   },
   {
    "duration": 11,
    "start_time": "2025-01-22T16:55:43.116Z"
   },
   {
    "duration": 8,
    "start_time": "2025-01-22T16:59:40.247Z"
   },
   {
    "duration": 58,
    "start_time": "2025-01-22T17:00:27.305Z"
   },
   {
    "duration": 54,
    "start_time": "2025-01-22T17:00:56.991Z"
   },
   {
    "duration": 29,
    "start_time": "2025-01-22T17:04:51.203Z"
   },
   {
    "duration": 15,
    "start_time": "2025-01-22T17:05:37.272Z"
   },
   {
    "duration": 19,
    "start_time": "2025-01-22T17:22:21.393Z"
   },
   {
    "duration": 12,
    "start_time": "2025-01-22T17:26:17.290Z"
   },
   {
    "duration": 12,
    "start_time": "2025-01-22T17:27:25.264Z"
   },
   {
    "duration": 13,
    "start_time": "2025-01-22T17:44:40.326Z"
   },
   {
    "duration": 17,
    "start_time": "2025-01-22T17:49:11.777Z"
   },
   {
    "duration": 18,
    "start_time": "2025-01-22T18:11:24.438Z"
   },
   {
    "duration": 2168,
    "start_time": "2025-01-23T16:52:00.104Z"
   },
   {
    "duration": 26,
    "start_time": "2025-01-23T16:52:02.274Z"
   },
   {
    "duration": 8,
    "start_time": "2025-01-23T16:52:02.302Z"
   },
   {
    "duration": 6,
    "start_time": "2025-01-23T16:52:02.312Z"
   },
   {
    "duration": 27,
    "start_time": "2025-01-23T16:52:02.319Z"
   },
   {
    "duration": 16,
    "start_time": "2025-01-23T16:52:02.348Z"
   },
   {
    "duration": 3,
    "start_time": "2025-01-23T16:52:02.366Z"
   },
   {
    "duration": 16,
    "start_time": "2025-01-23T16:52:02.370Z"
   },
   {
    "duration": 3,
    "start_time": "2025-01-23T16:52:02.388Z"
   },
   {
    "duration": 20,
    "start_time": "2025-01-23T16:52:02.394Z"
   },
   {
    "duration": 36,
    "start_time": "2025-01-23T16:52:02.416Z"
   },
   {
    "duration": 219,
    "start_time": "2025-01-23T16:52:02.453Z"
   },
   {
    "duration": 526,
    "start_time": "2025-01-23T16:52:02.674Z"
   },
   {
    "duration": 369,
    "start_time": "2025-01-23T16:52:03.202Z"
   },
   {
    "duration": 393,
    "start_time": "2025-01-23T16:52:03.573Z"
   },
   {
    "duration": 247,
    "start_time": "2025-01-23T16:52:03.968Z"
   },
   {
    "duration": 5,
    "start_time": "2025-01-23T16:52:04.217Z"
   },
   {
    "duration": 296,
    "start_time": "2025-01-23T16:52:04.224Z"
   },
   {
    "duration": 5,
    "start_time": "2025-01-23T16:52:04.523Z"
   },
   {
    "duration": 351,
    "start_time": "2025-01-23T16:52:04.529Z"
   },
   {
    "duration": 12,
    "start_time": "2025-01-23T16:52:04.882Z"
   },
   {
    "duration": 11,
    "start_time": "2025-01-23T16:52:04.895Z"
   },
   {
    "duration": 35,
    "start_time": "2025-01-23T16:52:04.908Z"
   },
   {
    "duration": 10,
    "start_time": "2025-01-23T16:55:17.112Z"
   },
   {
    "duration": 9,
    "start_time": "2025-01-23T16:59:08.239Z"
   },
   {
    "duration": 10,
    "start_time": "2025-01-23T17:02:46.843Z"
   }
  ],
  "kernelspec": {
   "display_name": "Python 3 (ipykernel)",
   "language": "python",
   "name": "python3"
  },
  "language_info": {
   "codemirror_mode": {
    "name": "ipython",
    "version": 3
   },
   "file_extension": ".py",
   "mimetype": "text/x-python",
   "name": "python",
   "nbconvert_exporter": "python",
   "pygments_lexer": "ipython3",
   "version": "3.9.19"
  },
  "toc": {
   "base_numbering": 1,
   "nav_menu": {},
   "number_sections": true,
   "sideBar": true,
   "skip_h1_title": true,
   "title_cell": "Table of Contents",
   "title_sidebar": "Contents",
   "toc_cell": false,
   "toc_position": {},
   "toc_section_display": true,
   "toc_window_display": true
  }
 },
 "nbformat": 4,
 "nbformat_minor": 2
}
