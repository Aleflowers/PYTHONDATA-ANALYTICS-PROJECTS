{
 "cells": [
  {
   "cell_type": "markdown",
   "metadata": {},
   "source": [
    "¡Hola, Alejandra!\n",
    "\n",
    "Mi nombre es Tonatiuh Cruz. Me complace revisar tu proyecto hoy.\n",
    "\n",
    "Al identificar cualquier error inicialmente, simplemente los destacaré. Te animo a localizar y abordar los problemas de forma independiente como parte de tu preparación para un rol como data-analyst. En un entorno profesional, tu líder de equipo seguiría un enfoque similar. Si encuentras la tarea desafiante, proporcionaré una pista más específica en la próxima iteración.\n",
    "\n",
    "Encontrarás mis comentarios a continuación - **por favor no los muevas, modifiques o elimines**.\n",
    "\n",
    "Puedes encontrar mis comentarios en cajas verdes, amarillas o rojas como esta:\n",
    "\n",
    "<div class=\"alert alert-block alert-success\">\n",
    "<b>Comentario del revisor</b> <a class=\"tocSkip\"></a>\n",
    "\n",
    "Éxito. Todo está hecho correctamente.\n",
    "</div>\n",
    "\n",
    "<div class=\"alert alert-block alert-warning\">\n",
    "<b>Comentario del revisor</b> <a class=\"tocSkip\"></a>\n",
    "\n",
    "Observaciones. Algunas recomendaciones.\n",
    "</div>\n",
    "\n",
    "<div class=\"alert alert-block alert-danger\">\n",
    "<b>Comentario del revisor</b> <a class=\"tocSkip\"></a>\n",
    "\n",
    "Necesita corrección. El bloque requiere algunas correcciones. El trabajo no puede ser aceptado con comentarios en rojo.\n",
    "</div>\n",
    "\n",
    "Puedes responderme utilizando esto:\n",
    "\n",
    "<div class=\"alert alert-block alert-info\">"
   ]
  },
  {
   "cell_type": "markdown",
   "metadata": {},
   "source": [
    "<div class=\"alert alert-block alert-success\">\n",
    "<b>Resumen de la revisión 1</b> <a class=\"tocSkip\"></a>\n",
    "\n",
    "Hola Alejandra! Has hecho un excelente trabajo con los ajustes, cada vez más cercas de convertirte en un analista de datos. Realizaste la carga de bases, su análisis inicial, sus ajustes, un análisis de algunos variables conmplementado con gráficas y el desarrollo de las pruebas de hipótesis. Solamente te dejo algunos comentarios para complementar el análisis. \n",
    "\n",
    "Sigue con el excelente trabajo!\n",
    "</div>"
   ]
  },
  {
   "cell_type": "markdown",
   "metadata": {},
   "source": [
    "<div class=\"alert alert-block alert-success\">\n",
    "<b>Resumen de la revisión 2</b> <a class=\"tocSkip\"></a>\n",
    "\n",
    "Hola Alejandra! Has hecho un excelente trabajo con los ajustes, completaste los valores nulos con la mediana y desarrollaste la prueba perfectamente de levene para mostrar el supuesto de varianzas iguales. \n",
    "\n",
    "Sigue con el excelente trabajo!\n",
    "</div>"
   ]
  },
  {
   "cell_type": "markdown",
   "metadata": {},
   "source": [
    "# Abre el archivo de datos y estudia la información general"
   ]
  },
  {
   "cell_type": "code",
   "execution_count": 2,
   "metadata": {
    "tags": [
     "e5c1f0c2-db9f-43a0-99b9-4875c52427e8"
    ]
   },
   "outputs": [
    {
     "name": "stdout",
     "output_type": "stream",
     "text": [
      "                       Name Platform  Year_of_Release         Genre  NA_sales  \\\n",
      "0                Wii Sports      Wii           2006.0        Sports     41.36   \n",
      "1         Super Mario Bros.      NES           1985.0      Platform     29.08   \n",
      "2            Mario Kart Wii      Wii           2008.0        Racing     15.68   \n",
      "3         Wii Sports Resort      Wii           2009.0        Sports     15.61   \n",
      "4  Pokemon Red/Pokemon Blue       GB           1996.0  Role-Playing     11.27   \n",
      "\n",
      "   EU_sales  JP_sales  Other_sales  Critic_Score User_Score Rating  \n",
      "0     28.96      3.77         8.45          76.0          8      E  \n",
      "1      3.58      6.81         0.77           NaN        NaN    NaN  \n",
      "2     12.76      3.79         3.29          82.0        8.3      E  \n",
      "3     10.93      3.28         2.95          80.0          8      E  \n",
      "4      8.89     10.22         1.00           NaN        NaN    NaN  \n",
      "<class 'pandas.core.frame.DataFrame'>\n",
      "RangeIndex: 16715 entries, 0 to 16714\n",
      "Data columns (total 11 columns):\n",
      " #   Column           Non-Null Count  Dtype  \n",
      "---  ------           --------------  -----  \n",
      " 0   Name             16713 non-null  object \n",
      " 1   Platform         16715 non-null  object \n",
      " 2   Year_of_Release  16446 non-null  float64\n",
      " 3   Genre            16713 non-null  object \n",
      " 4   NA_sales         16715 non-null  float64\n",
      " 5   EU_sales         16715 non-null  float64\n",
      " 6   JP_sales         16715 non-null  float64\n",
      " 7   Other_sales      16715 non-null  float64\n",
      " 8   Critic_Score     8137 non-null   float64\n",
      " 9   User_Score       10014 non-null  object \n",
      " 10  Rating           9949 non-null   object \n",
      "dtypes: float64(6), object(5)\n",
      "memory usage: 1.4+ MB\n",
      "None\n"
     ]
    }
   ],
   "source": [
    "import pandas as pd\n",
    "# Cargar el archivo CSV en un DataFrame\n",
    "df = pd.read_csv('/datasets/games.csv')\n",
    "\n",
    "# Mostrar las primeras filas para tener una idea de cómo está estructurado el dataset\n",
    "print(df.head())\n",
    "\n",
    "# Mostrar información general sobre el DataFrame\n",
    "print(df.info())\n"
   ]
  },
  {
   "cell_type": "markdown",
   "metadata": {},
   "source": [
    "\n",
    "<div class=\"alert alert-block alert-success\">\n",
    "<b>Comentario del revisor:</b> <a class=\"tocSkip\"></a>\n",
    "    \n",
    "Has realizado un excelente trabajo al importar los datos y las bibliotecas necesarias.\n",
    "\n",
    "</div>"
   ]
  },
  {
   "cell_type": "code",
   "execution_count": 3,
   "metadata": {},
   "outputs": [
    {
     "name": "stdout",
     "output_type": "stream",
     "text": [
      "['Name', 'Platform', 'Year_of_Release', 'Genre', 'NA_sales', 'EU_sales', 'JP_sales', 'Other_sales', 'Critic_Score', 'User_Score', 'Rating']\n"
     ]
    }
   ],
   "source": [
    "#revisar nombre de las columnas\n",
    "print(list(df.columns))\n"
   ]
  },
  {
   "cell_type": "markdown",
   "metadata": {},
   "source": [
    "# Remplaza los nombres de las columnas en minúsculas"
   ]
  },
  {
   "cell_type": "code",
   "execution_count": 4,
   "metadata": {},
   "outputs": [
    {
     "name": "stdout",
     "output_type": "stream",
     "text": [
      "['name', 'platform', 'year_of_release', 'genre', 'na_sales', 'eu_sales', 'jp_sales', 'other_sales', 'critic_score', 'user_score', 'rating']\n"
     ]
    }
   ],
   "source": [
    "#cambiar el nombre de las columnas a minúsculas\n",
    "df.columns = df.columns.str.lower()\n",
    "print(list(df.columns))\n"
   ]
  },
  {
   "cell_type": "markdown",
   "metadata": {},
   "source": [
    "Revisión de los user_score de Xbox one"
   ]
  },
  {
   "cell_type": "code",
   "execution_count": 5,
   "metadata": {},
   "outputs": [
    {
     "name": "stdout",
     "output_type": "stream",
     "text": [
      "Cantidad de calificaciones no nulas para Xbox One en 'user_score': 0\n",
      "Cantidad de calificaciones nulas para Xbox One en 'user_score': 0\n",
      "Plataformas únicas en el DataFrame:\n",
      "['Wii' 'NES' 'GB' 'DS' 'X360' 'PS3' 'PS2' 'SNES' 'GBA' 'PS4' '3DS' 'N64'\n",
      " 'PS' 'XB' 'PC' '2600' 'PSP' 'XOne' 'WiiU' 'GC' 'GEN' 'DC' 'PSV' 'SAT'\n",
      " 'SCD' 'WS' 'NG' 'TG16' '3DO' 'GG' 'PCFX']\n"
     ]
    }
   ],
   "source": [
    "# Filtrar los datos de user_score para la plataforma Xbox One\n",
    "xbox_one_scores = df[df['platform'] == 'Xbox One']['user_score']\n",
    "\n",
    "# Contar los valores no nulos y nulos en 'user_score' para Xbox One\n",
    "num_not_null = xbox_one_scores.notna().sum()\n",
    "num_null = xbox_one_scores.isna().sum()\n",
    "\n",
    "print(\"Cantidad de calificaciones no nulas para Xbox One en 'user_score':\", num_not_null)\n",
    "print(\"Cantidad de calificaciones nulas para Xbox One en 'user_score':\", num_null)\n",
    "\n",
    "\n",
    "# Ver todas las plataformas únicas en la columna 'platform'\n",
    "print(\"Plataformas únicas en el DataFrame:\")\n",
    "print(df['platform'].unique())\n"
   ]
  },
  {
   "cell_type": "markdown",
   "metadata": {},
   "source": [
    "# Convierte los datos en los tipos necesarios"
   ]
  },
  {
   "cell_type": "code",
   "execution_count": 6,
   "metadata": {},
   "outputs": [],
   "source": [
    "#cambiar el tipo de datos de las columnas si es necesario\n",
    "df['year_of_release'] = df['year_of_release'].fillna(0).astype(int)  # Rellena con 0 y cambia a entero\n"
   ]
  },
  {
   "cell_type": "markdown",
   "metadata": {},
   "source": [
    "<div class=\"alert alert-block alert-info\">\n",
    "    <b>Comentario del revisor:</b> <a class=\"tocSkip\"></a>\n",
    "    \n",
    "En ocasiones podemos completar los valores faltantes con información con proxys. Por ejemplo en este caso los podríamos completar con los años de lanzamientos de los juegos en otras plataformas\n",
    "</div>"
   ]
  },
  {
   "cell_type": "markdown",
   "metadata": {},
   "source": [
    "Explicación:\n",
    "Year_of_Release: Actualmente es de tipo float64, pero probablemente representa un año, que sería mejor como un entero (int) o incluso como una fecha (datetime) si necesitas trabajar con fechas completas.\n",
    "\n",
    "Puedes cambiarla a un tipo entero después de tratar los valores nulos (por ejemplo, rellenándolos o eliminándolos)"
   ]
  },
  {
   "cell_type": "code",
   "execution_count": 7,
   "metadata": {},
   "outputs": [],
   "source": [
    "df['user_score'] = pd.to_numeric(df['user_score'], errors='coerce')"
   ]
  },
  {
   "cell_type": "markdown",
   "metadata": {},
   "source": [
    "Explicación:\n",
    "User_Score: Esta columna está registrada como object, pero es probable que represente un puntaje numérico de los usuarios. Si este puntaje está en formato numérico (por ejemplo, \"8.0\" o \"9.5\"), lo mejor sería convertirlo a un tipo float. Sin embargo, si hay valores no numéricos (como \"N/A\" u otros), debes limpiarlos primero o convertir esos valores a NaN para evitar errores de conversión."
   ]
  },
  {
   "cell_type": "code",
   "execution_count": 8,
   "metadata": {},
   "outputs": [],
   "source": [
    "df['rating'] = df['rating'].astype('category')"
   ]
  },
  {
   "cell_type": "markdown",
   "metadata": {},
   "source": [
    "Explicación:\n",
    "Rating: Esta columna es de tipo object, y si el sistema de calificaciones tiene categorías limitadas (como \"E\", \"T\", \"M\"), \n",
    "podrías considerar convertirla en un tipo category, que ahorra memoria y mejora la velocidad en análisis categóricos."
   ]
  },
  {
   "cell_type": "markdown",
   "metadata": {},
   "source": [
    "# Valores ausentes "
   ]
  },
  {
   "cell_type": "code",
   "execution_count": 9,
   "metadata": {},
   "outputs": [
    {
     "name": "stdout",
     "output_type": "stream",
     "text": [
      "name                  2\n",
      "platform              0\n",
      "year_of_release       0\n",
      "genre                 2\n",
      "na_sales              0\n",
      "eu_sales              0\n",
      "jp_sales              0\n",
      "other_sales           0\n",
      "critic_score       8578\n",
      "user_score         9125\n",
      "rating             6766\n",
      "dtype: int64\n",
      "                       name platform  year_of_release         genre  na_sales  \\\n",
      "0                Wii Sports      Wii             2006        Sports     41.36   \n",
      "1         Super Mario Bros.      NES             1985      Platform     29.08   \n",
      "2            Mario Kart Wii      Wii             2008        Racing     15.68   \n",
      "3         Wii Sports Resort      Wii             2009        Sports     15.61   \n",
      "4  Pokemon Red/Pokemon Blue       GB             1996  Role-Playing     11.27   \n",
      "\n",
      "   eu_sales  jp_sales  other_sales  critic_score  user_score rating  \n",
      "0     28.96      3.77         8.45          76.0         8.0      E  \n",
      "1      3.58      6.81         0.77           NaN         NaN    NaN  \n",
      "2     12.76      3.79         3.29          82.0         8.3      E  \n",
      "3     10.93      3.28         2.95          80.0         8.0      E  \n",
      "4      8.89     10.22         1.00           NaN         NaN    NaN  \n"
     ]
    }
   ],
   "source": [
    "#revisar valores nulos\n",
    "\n",
    "print(df.isnull().sum())\n",
    "\n",
    "#print(df.isnull().any().any())\n",
    "\n",
    "# Eliminar las filas donde 'year_of_release' es 0 en el DataFrame original\n",
    "df = df[df['year_of_release'] != 0]\n",
    "\n",
    "# Verifica los primeros registros del DataFrame después de la eliminación\n",
    "print(df.head())\n",
    "\n",
    "      "
   ]
  },
  {
   "cell_type": "markdown",
   "metadata": {},
   "source": [
    "# Modificación por 1era Revisión sacar la mediana para user_score"
   ]
  },
  {
   "cell_type": "code",
   "execution_count": 10,
   "metadata": {},
   "outputs": [
    {
     "name": "stdout",
     "output_type": "stream",
     "text": [
      "name               0\n",
      "platform           0\n",
      "year_of_release    0\n",
      "genre              0\n",
      "na_sales           0\n",
      "eu_sales           0\n",
      "jp_sales           0\n",
      "other_sales        0\n",
      "critic_score       0\n",
      "user_score         0\n",
      "rating             0\n",
      "dtype: int64\n"
     ]
    }
   ],
   "source": [
    "# Completar los valores nulos de 'user_score' con la mediana de esa columna\n",
    "df['user_score'].fillna(df['user_score'].median(), inplace=True)\n",
    "\n",
    "# Eliminar los valores nulos de las demás columnas\n",
    "df.dropna(subset=['name', 'platform', 'year_of_release', 'genre', 'na_sales', 'eu_sales', 'jp_sales', 'other_sales', 'critic_score', 'rating'], inplace=True)\n",
    "\n",
    "# Verificar si hay valores nulos en el DataFrame\n",
    "print(df.isnull().sum())\n",
    "\n",
    "#eliminar valores nulos de las columnas\n",
    "#df = df.dropna()\n",
    "#print(df.isnull().sum())"
   ]
  },
  {
   "cell_type": "markdown",
   "metadata": {},
   "source": [
    "# Calcular las ventas totales ( la suma de las ventas en todas las regiones )"
   ]
  },
  {
   "cell_type": "code",
   "execution_count": 11,
   "metadata": {},
   "outputs": [
    {
     "data": {
      "text/html": [
       "<div>\n",
       "<style scoped>\n",
       "    .dataframe tbody tr th:only-of-type {\n",
       "        vertical-align: middle;\n",
       "    }\n",
       "\n",
       "    .dataframe tbody tr th {\n",
       "        vertical-align: top;\n",
       "    }\n",
       "\n",
       "    .dataframe thead th {\n",
       "        text-align: right;\n",
       "    }\n",
       "</style>\n",
       "<table border=\"1\" class=\"dataframe\">\n",
       "  <thead>\n",
       "    <tr style=\"text-align: right;\">\n",
       "      <th></th>\n",
       "      <th>name</th>\n",
       "      <th>platform</th>\n",
       "      <th>year_of_release</th>\n",
       "      <th>genre</th>\n",
       "      <th>na_sales</th>\n",
       "      <th>eu_sales</th>\n",
       "      <th>jp_sales</th>\n",
       "      <th>other_sales</th>\n",
       "      <th>critic_score</th>\n",
       "      <th>user_score</th>\n",
       "      <th>rating</th>\n",
       "      <th>total_sales</th>\n",
       "    </tr>\n",
       "  </thead>\n",
       "  <tbody>\n",
       "    <tr>\n",
       "      <th>0</th>\n",
       "      <td>Wii Sports</td>\n",
       "      <td>Wii</td>\n",
       "      <td>2006</td>\n",
       "      <td>Sports</td>\n",
       "      <td>41.36</td>\n",
       "      <td>28.96</td>\n",
       "      <td>3.77</td>\n",
       "      <td>8.45</td>\n",
       "      <td>76.0</td>\n",
       "      <td>8.0</td>\n",
       "      <td>E</td>\n",
       "      <td>82.54</td>\n",
       "    </tr>\n",
       "    <tr>\n",
       "      <th>2</th>\n",
       "      <td>Mario Kart Wii</td>\n",
       "      <td>Wii</td>\n",
       "      <td>2008</td>\n",
       "      <td>Racing</td>\n",
       "      <td>15.68</td>\n",
       "      <td>12.76</td>\n",
       "      <td>3.79</td>\n",
       "      <td>3.29</td>\n",
       "      <td>82.0</td>\n",
       "      <td>8.3</td>\n",
       "      <td>E</td>\n",
       "      <td>35.52</td>\n",
       "    </tr>\n",
       "    <tr>\n",
       "      <th>3</th>\n",
       "      <td>Wii Sports Resort</td>\n",
       "      <td>Wii</td>\n",
       "      <td>2009</td>\n",
       "      <td>Sports</td>\n",
       "      <td>15.61</td>\n",
       "      <td>10.93</td>\n",
       "      <td>3.28</td>\n",
       "      <td>2.95</td>\n",
       "      <td>80.0</td>\n",
       "      <td>8.0</td>\n",
       "      <td>E</td>\n",
       "      <td>32.77</td>\n",
       "    </tr>\n",
       "    <tr>\n",
       "      <th>6</th>\n",
       "      <td>New Super Mario Bros.</td>\n",
       "      <td>DS</td>\n",
       "      <td>2006</td>\n",
       "      <td>Platform</td>\n",
       "      <td>11.28</td>\n",
       "      <td>9.14</td>\n",
       "      <td>6.50</td>\n",
       "      <td>2.88</td>\n",
       "      <td>89.0</td>\n",
       "      <td>8.5</td>\n",
       "      <td>E</td>\n",
       "      <td>29.80</td>\n",
       "    </tr>\n",
       "    <tr>\n",
       "      <th>7</th>\n",
       "      <td>Wii Play</td>\n",
       "      <td>Wii</td>\n",
       "      <td>2006</td>\n",
       "      <td>Misc</td>\n",
       "      <td>13.96</td>\n",
       "      <td>9.18</td>\n",
       "      <td>2.93</td>\n",
       "      <td>2.84</td>\n",
       "      <td>58.0</td>\n",
       "      <td>6.6</td>\n",
       "      <td>E</td>\n",
       "      <td>28.91</td>\n",
       "    </tr>\n",
       "    <tr>\n",
       "      <th>8</th>\n",
       "      <td>New Super Mario Bros. Wii</td>\n",
       "      <td>Wii</td>\n",
       "      <td>2009</td>\n",
       "      <td>Platform</td>\n",
       "      <td>14.44</td>\n",
       "      <td>6.94</td>\n",
       "      <td>4.70</td>\n",
       "      <td>2.24</td>\n",
       "      <td>87.0</td>\n",
       "      <td>8.4</td>\n",
       "      <td>E</td>\n",
       "      <td>28.32</td>\n",
       "    </tr>\n",
       "    <tr>\n",
       "      <th>11</th>\n",
       "      <td>Mario Kart DS</td>\n",
       "      <td>DS</td>\n",
       "      <td>2005</td>\n",
       "      <td>Racing</td>\n",
       "      <td>9.71</td>\n",
       "      <td>7.47</td>\n",
       "      <td>4.13</td>\n",
       "      <td>1.90</td>\n",
       "      <td>91.0</td>\n",
       "      <td>8.6</td>\n",
       "      <td>E</td>\n",
       "      <td>23.21</td>\n",
       "    </tr>\n",
       "    <tr>\n",
       "      <th>13</th>\n",
       "      <td>Wii Fit</td>\n",
       "      <td>Wii</td>\n",
       "      <td>2007</td>\n",
       "      <td>Sports</td>\n",
       "      <td>8.92</td>\n",
       "      <td>8.03</td>\n",
       "      <td>3.60</td>\n",
       "      <td>2.15</td>\n",
       "      <td>80.0</td>\n",
       "      <td>7.7</td>\n",
       "      <td>E</td>\n",
       "      <td>22.70</td>\n",
       "    </tr>\n",
       "    <tr>\n",
       "      <th>14</th>\n",
       "      <td>Kinect Adventures!</td>\n",
       "      <td>X360</td>\n",
       "      <td>2010</td>\n",
       "      <td>Misc</td>\n",
       "      <td>15.00</td>\n",
       "      <td>4.89</td>\n",
       "      <td>0.24</td>\n",
       "      <td>1.69</td>\n",
       "      <td>61.0</td>\n",
       "      <td>6.3</td>\n",
       "      <td>E</td>\n",
       "      <td>21.82</td>\n",
       "    </tr>\n",
       "    <tr>\n",
       "      <th>15</th>\n",
       "      <td>Wii Fit Plus</td>\n",
       "      <td>Wii</td>\n",
       "      <td>2009</td>\n",
       "      <td>Sports</td>\n",
       "      <td>9.01</td>\n",
       "      <td>8.49</td>\n",
       "      <td>2.53</td>\n",
       "      <td>1.77</td>\n",
       "      <td>80.0</td>\n",
       "      <td>7.4</td>\n",
       "      <td>E</td>\n",
       "      <td>21.80</td>\n",
       "    </tr>\n",
       "  </tbody>\n",
       "</table>\n",
       "</div>"
      ],
      "text/plain": [
       "                         name platform  year_of_release     genre  na_sales  \\\n",
       "0                  Wii Sports      Wii             2006    Sports     41.36   \n",
       "2              Mario Kart Wii      Wii             2008    Racing     15.68   \n",
       "3           Wii Sports Resort      Wii             2009    Sports     15.61   \n",
       "6       New Super Mario Bros.       DS             2006  Platform     11.28   \n",
       "7                    Wii Play      Wii             2006      Misc     13.96   \n",
       "8   New Super Mario Bros. Wii      Wii             2009  Platform     14.44   \n",
       "11              Mario Kart DS       DS             2005    Racing      9.71   \n",
       "13                    Wii Fit      Wii             2007    Sports      8.92   \n",
       "14         Kinect Adventures!     X360             2010      Misc     15.00   \n",
       "15               Wii Fit Plus      Wii             2009    Sports      9.01   \n",
       "\n",
       "    eu_sales  jp_sales  other_sales  critic_score  user_score rating  \\\n",
       "0      28.96      3.77         8.45          76.0         8.0      E   \n",
       "2      12.76      3.79         3.29          82.0         8.3      E   \n",
       "3      10.93      3.28         2.95          80.0         8.0      E   \n",
       "6       9.14      6.50         2.88          89.0         8.5      E   \n",
       "7       9.18      2.93         2.84          58.0         6.6      E   \n",
       "8       6.94      4.70         2.24          87.0         8.4      E   \n",
       "11      7.47      4.13         1.90          91.0         8.6      E   \n",
       "13      8.03      3.60         2.15          80.0         7.7      E   \n",
       "14      4.89      0.24         1.69          61.0         6.3      E   \n",
       "15      8.49      2.53         1.77          80.0         7.4      E   \n",
       "\n",
       "    total_sales  \n",
       "0         82.54  \n",
       "2         35.52  \n",
       "3         32.77  \n",
       "6         29.80  \n",
       "7         28.91  \n",
       "8         28.32  \n",
       "11        23.21  \n",
       "13        22.70  \n",
       "14        21.82  \n",
       "15        21.80  "
      ]
     },
     "execution_count": 11,
     "metadata": {},
     "output_type": "execute_result"
    }
   ],
   "source": [
    "# Calcula las ventas totales sumando las columnas de ventas por región\n",
    "df['total_sales'] = df['na_sales'] + df['eu_sales'] + df['jp_sales'] + df['other_sales']\n",
    "\n",
    "df.head(10)\n"
   ]
  },
  {
   "cell_type": "markdown",
   "metadata": {},
   "source": [
    "<div class=\"alert alert-block alert-success\">\n",
    "<b>Comentario del revisor:</b> <a class=\"tocSkip\"></a>\n",
    "    \n",
    "Hola! Muy buen trabajo en la sección, ajustaste los nombres de las columnas a minúsculas con el uso de la función str.lower(), cambiaste el tipo de variable de la base de datos y muy buen trabajo con la suma de todas las ventas. \n",
    "    \n",
    "   \n",
    "\n",
    "</div>"
   ]
  },
  {
   "cell_type": "markdown",
   "metadata": {},
   "source": [
    "<div class=\"alert alert-block alert-danger\">\n",
    "<b>Comentario del revisor:</b> <a class=\"tocSkip\"></a>\n",
    "\n",
    "Solamente para el caso de user_score te recomiendo también completar los valores nulos con la mediana para no sesgar nuestros resultados, esto dado que estamos trabajando con distribuciones sesgadas    \n",
    "    \n",
    "   \n",
    "\n",
    "</div>"
   ]
  },
  {
   "cell_type": "markdown",
   "metadata": {},
   "source": [
    "\n",
    "<div class=\"alert alert-block alert-success\">\n",
    "<b>Comentario del revisor:</b> <a class=\"tocSkip\"></a>\n",
    "    \n",
    "Excelente trabajo completando los valores nulos con la mediana para no sesgar nuestros resultados"
   ]
  },
  {
   "cell_type": "markdown",
   "metadata": {},
   "source": [
    "'''En código anterior ya se hizo el cálculo de la mediana para el user_score.'''"
   ]
  },
  {
   "cell_type": "markdown",
   "metadata": {},
   "source": [
    "# Analiza los datos"
   ]
  },
  {
   "cell_type": "markdown",
   "metadata": {},
   "source": [
    "#Numero de juegos que fueron lanzados cada año ¿ Son significativos los datos de cada periodo ? \n",
    "Si, se vé de manera cronológica como fue incrementando las ventas de juegos durante los años.\n",
    "En 1985 fue la aparición del primer juego.\n",
    "El periodo donde hubo más lanzamientos de juegos fue del 2001 al 2011.\n",
    "En el periodo del 2012 al 2016 vuelve haber una baja."
   ]
  },
  {
   "cell_type": "code",
   "execution_count": 12,
   "metadata": {},
   "outputs": [
    {
     "name": "stdout",
     "output_type": "stream",
     "text": [
      "year_of_release\n",
      "1985      1\n",
      "1988      1\n",
      "1992      1\n",
      "1994      1\n",
      "1996      7\n",
      "1997     16\n",
      "1998     27\n",
      "1999     39\n",
      "2000    142\n",
      "2001    326\n",
      "2002    627\n",
      "2003    584\n",
      "2004    558\n",
      "2005    654\n",
      "2006    619\n",
      "2007    692\n",
      "2008    710\n",
      "2009    645\n",
      "2010    497\n",
      "2011    488\n",
      "2012    313\n",
      "2013    267\n",
      "2014    258\n",
      "2015    212\n",
      "2016    217\n",
      "dtype: int64\n"
     ]
    }
   ],
   "source": [
    "print(df.groupby('year_of_release').size())"
   ]
  },
  {
   "cell_type": "code",
   "execution_count": 13,
   "metadata": {},
   "outputs": [
    {
     "name": "stdout",
     "output_type": "stream",
     "text": [
      "platform           3DS    DC     DS    GBA     GC     PC     PS     PS2  \\\n",
      "year_of_release                                                           \n",
      "1985              0.00  0.00   0.00   0.00   0.00   0.04   0.00    0.00   \n",
      "1988              0.00  0.00   0.00   0.00   0.00   0.03   0.00    0.00   \n",
      "1992              0.00  0.00   0.00   0.00   0.00   0.02   0.00    0.00   \n",
      "1994              0.00  0.00   0.00   0.00   0.00   0.00   1.26    0.00   \n",
      "1996              0.00  0.00   0.00   0.00   0.00   2.62  17.47    0.00   \n",
      "1997              0.00  0.00   0.00   0.00   0.00   6.56  36.21    0.00   \n",
      "1998              0.00  0.00   0.00   0.00   0.00   0.10  47.29    0.00   \n",
      "1999              0.00  2.04   0.00   0.00   0.00   0.11  52.05    0.00   \n",
      "2000              0.00  1.98   0.00   0.00   0.00   3.17  54.17   33.76   \n",
      "2001              0.00  0.53   0.00  44.58  26.34   5.35  19.58  151.29   \n",
      "2002              0.00  0.00   0.00  37.69  45.25   8.55   0.11  174.80   \n",
      "2003              0.00  0.00   0.00  27.22  38.95   6.41   0.00  147.77   \n",
      "2004              0.00  0.00   3.38  41.76  25.76  10.27   0.00  190.14   \n",
      "2005              0.00  0.00  97.61  12.08  22.81   4.00   0.00  123.20   \n",
      "2006              0.00  0.00  75.88   3.03  10.00   2.56   0.00   77.86   \n",
      "2007              0.00  0.00  89.92   0.19   0.26   8.91   0.00   52.46   \n",
      "2008              0.00  0.00  78.17   0.00   0.00   9.36   0.00   24.38   \n",
      "2009              0.00  0.00  49.61   0.00   0.00  15.38   0.00    5.28   \n",
      "2010              0.00  0.00  30.73   0.00   0.00  20.78   0.00    0.59   \n",
      "2011             44.42  0.00   7.87   0.00   0.00  30.73   0.00    0.00   \n",
      "2012             39.39  0.00   1.02   0.00   0.00  20.41   0.00    0.00   \n",
      "2013             15.89  0.00   0.00   0.00   0.00  10.86   0.00    0.00   \n",
      "2014             11.71  0.00   0.00   0.00   0.00  11.26   0.00    0.00   \n",
      "2015             10.55  0.00   0.00   0.00   0.00   7.16   0.00    0.00   \n",
      "2016              2.17  0.00   0.00   0.00   0.00   4.67   0.00    0.00   \n",
      "\n",
      "platform            PS3    PS4    PSP    PSV     Wii   WiiU    X360     XB  \\\n",
      "year_of_release                                                              \n",
      "1985               0.00   0.00   0.00   0.00    0.00   0.00    0.00   0.00   \n",
      "1988               0.00   0.00   0.00   0.00    0.00   0.00    0.00   0.00   \n",
      "1992               0.00   0.00   0.00   0.00    0.00   0.00    0.00   0.00   \n",
      "1994               0.00   0.00   0.00   0.00    0.00   0.00    0.00   0.00   \n",
      "1996               0.00   0.00   0.00   0.00    0.00   0.00    0.00   0.00   \n",
      "1997               0.00   0.00   0.00   0.00    0.00   0.00    0.00   0.00   \n",
      "1998               0.00   0.00   0.00   0.00    0.00   0.00    0.00   0.00   \n",
      "1999               0.00   0.00   0.00   0.00    0.00   0.00    0.00   0.00   \n",
      "2000               0.00   0.00   0.00   0.00    0.00   0.00    0.00   0.99   \n",
      "2001               0.00   0.00   0.00   0.00    0.00   0.00    0.00  22.01   \n",
      "2002               0.00   0.00   0.00   0.00    0.00   0.00    0.00  43.85   \n",
      "2003               0.00   0.00   0.00   0.00    0.00   0.00    0.00  46.00   \n",
      "2004               0.00   0.00   4.49   0.00    0.00   0.00    0.00  61.61   \n",
      "2005               0.00   0.00  39.35   0.00    0.00   0.00    7.64  43.73   \n",
      "2006              20.12   0.00  45.67   0.00  135.95   0.00   48.92   7.92   \n",
      "2007              68.72   0.00  37.77   0.00  128.28   0.00   90.24   0.55   \n",
      "2008             111.13   0.00  26.84   0.00  133.39   0.00  130.07   0.00   \n",
      "2009             118.86   0.00  21.11   0.00  161.23   0.00  111.59   0.00   \n",
      "2010             126.55   0.00  17.13   0.00   74.66   0.00  159.80   0.00   \n",
      "2011             135.66   0.00   4.04   3.88   35.37   0.00  129.92   0.00   \n",
      "2012              94.30   0.00   0.00  13.07   13.23  14.85   95.68   0.00   \n",
      "2013             102.22  25.07   0.15   5.96    0.00  17.40   74.82   0.00   \n",
      "2014              11.34  80.76   0.00   5.27    0.00  15.22   10.10   0.00   \n",
      "2015               0.02  80.01   0.00   1.83    0.00  15.35    0.00   0.00   \n",
      "2016               0.00  57.21   0.00   0.93    0.00   3.45    0.00   0.00   \n",
      "\n",
      "platform          XOne  \n",
      "year_of_release         \n",
      "1985              0.00  \n",
      "1988              0.00  \n",
      "1992              0.00  \n",
      "1994              0.00  \n",
      "1996              0.00  \n",
      "1997              0.00  \n",
      "1998              0.00  \n",
      "1999              0.00  \n",
      "2000              0.00  \n",
      "2001              0.00  \n",
      "2002              0.00  \n",
      "2003              0.00  \n",
      "2004              0.00  \n",
      "2005              0.00  \n",
      "2006              0.00  \n",
      "2007              0.00  \n",
      "2008              0.00  \n",
      "2009              0.00  \n",
      "2010              0.00  \n",
      "2011              0.00  \n",
      "2012              0.00  \n",
      "2013             14.92  \n",
      "2014             47.01  \n",
      "2015             44.26  \n",
      "2016             23.43  \n"
     ]
    }
   ],
   "source": [
    "# Crear una nueva columna que suma las ventas en todas las regiones\n",
    "df['total_sales'] = df[['na_sales', 'eu_sales', 'jp_sales', 'other_sales']].sum(axis=1)\n",
    "\n",
    "# Agrupar por año y plataforma y sumar las ventas\n",
    "sales_by_year_platform = df.groupby(['year_of_release', 'platform'])['total_sales'].sum().unstack()\n",
    "\n",
    "# Reemplazar los valores NaN por 0\n",
    "sales_by_year_platform = sales_by_year_platform.fillna(0)\n",
    "\n",
    "# Mostrar la tabla resultante\n",
    "print(sales_by_year_platform)\n"
   ]
  },
  {
   "cell_type": "markdown",
   "metadata": {},
   "source": [
    "<div class=\"alert alert-block alert-warning\">\n",
    "    <b>Comentario del revisor:</b> <a class=\"tocSkip\"></a>\n",
    "    \n",
    "Gran trabajo con el desarrollo de este análisis,  nos ayuda a entender también sobre el comportamiento del mercado de videojuegos en el tiempo. Esto lo puedes complementar con una gráfica\n",
    "</div>"
   ]
  },
  {
   "cell_type": "code",
   "execution_count": 14,
   "metadata": {},
   "outputs": [
    {
     "name": "stdout",
     "output_type": "stream",
     "text": [
      "year_of_release\n",
      "1985      0.04\n",
      "1988      0.03\n",
      "1992      0.02\n",
      "1994      1.26\n",
      "1996     20.09\n",
      "1997     42.77\n",
      "1998     47.39\n",
      "1999     54.20\n",
      "2000     94.07\n",
      "2001    269.68\n",
      "2002    310.25\n",
      "2003    266.35\n",
      "2004    337.41\n",
      "2005    350.42\n",
      "2006    427.91\n",
      "2007    477.30\n",
      "2008    513.34\n",
      "2009    483.06\n",
      "2010    430.24\n",
      "2011    391.89\n",
      "2012    291.95\n",
      "2013    267.29\n",
      "2014    192.67\n",
      "2015    159.18\n",
      "2016     91.86\n",
      "Name: total_sales, dtype: float64\n"
     ]
    }
   ],
   "source": [
    "#ordena por año de lanzamiento para ver la evolución y tendencias por año\n",
    "#df_sorted = df.sort_values(by='year_of_release')\n",
    "#print(df_sorted)\n",
    "\n",
    "yearly_sales = df.groupby('year_of_release')['total_sales'].sum()\n",
    "print(yearly_sales)"
   ]
  },
  {
   "cell_type": "code",
   "execution_count": 15,
   "metadata": {},
   "outputs": [
    {
     "name": "stdout",
     "output_type": "stream",
     "text": [
      "platform\n",
      "PS2     981.53\n",
      "X360    858.78\n",
      "PS3     788.92\n",
      "Wii     682.11\n",
      "DS      434.19\n",
      "PS4     243.05\n",
      "PS      228.14\n",
      "XB      226.66\n",
      "PSP     196.55\n",
      "PC      189.31\n",
      "GC      169.37\n",
      "GBA     166.55\n",
      "XOne    129.62\n",
      "3DS     124.13\n",
      "WiiU     66.27\n",
      "PSV      30.94\n",
      "DC        4.55\n",
      "Name: total_sales, dtype: float64\n"
     ]
    }
   ],
   "source": [
    "#Calcular las ventas totales por plataforma\n",
    "platform_sales = df.groupby('platform')['total_sales'].sum().sort_values(ascending=False)\n",
    "print(platform_sales)"
   ]
  },
  {
   "cell_type": "code",
   "execution_count": 16,
   "metadata": {},
   "outputs": [
    {
     "name": "stdout",
     "output_type": "stream",
     "text": [
      "                                      name platform  year_of_release  \\\n",
      "0                               Wii Sports      Wii             2006   \n",
      "2                           Mario Kart Wii      Wii             2008   \n",
      "3                        Wii Sports Resort      Wii             2009   \n",
      "6                    New Super Mario Bros.       DS             2006   \n",
      "7                                 Wii Play      Wii             2006   \n",
      "...                                    ...      ...              ...   \n",
      "16529  Hoshigami: Ruining Blue Earth Remix       DS             2007   \n",
      "16550                 Superstars V8 Racing     X360             2009   \n",
      "16591                    Micro Machines V4      PS2             2006   \n",
      "16613             Dragon Ball Z for Kinect     X360             2012   \n",
      "16698                     Mega Brain Boost       DS             2008   \n",
      "\n",
      "              genre  na_sales  eu_sales  jp_sales  other_sales  critic_score  \\\n",
      "0            Sports     41.36     28.96      3.77         8.45          76.0   \n",
      "2            Racing     15.68     12.76      3.79         3.29          82.0   \n",
      "3            Sports     15.61     10.93      3.28         2.95          80.0   \n",
      "6          Platform     11.28      9.14      6.50         2.88          89.0   \n",
      "7              Misc     13.96      9.18      2.93         2.84          58.0   \n",
      "...             ...       ...       ...       ...          ...           ...   \n",
      "16529  Role-Playing      0.00      0.00      0.01         0.00          55.0   \n",
      "16550        Racing      0.00      0.01      0.00         0.00          62.0   \n",
      "16591        Racing      0.01      0.00      0.00         0.00          64.0   \n",
      "16613      Fighting      0.01      0.00      0.00         0.00          49.0   \n",
      "16698        Puzzle      0.01      0.00      0.00         0.00          48.0   \n",
      "\n",
      "       user_score rating  total_sales  \n",
      "0             8.0      E        82.54  \n",
      "2             8.3      E        35.52  \n",
      "3             8.0      E        32.77  \n",
      "6             8.5      E        29.80  \n",
      "7             6.6      E        28.91  \n",
      "...           ...    ...          ...  \n",
      "16529         7.9      T         0.01  \n",
      "16550         7.5      E         0.01  \n",
      "16591         6.8      E         0.01  \n",
      "16613         2.1      T         0.01  \n",
      "16698         7.5      E         0.01  \n",
      "\n",
      "[4235 rows x 12 columns]\n"
     ]
    }
   ],
   "source": [
    "#Filtrar plataformas más populares\n",
    "top_platforms = platform_sales.head(5).index\n",
    "df_top_platforms = df[df['platform'].isin(top_platforms)]\n",
    "print(df_top_platforms)"
   ]
  },
  {
   "cell_type": "code",
   "execution_count": 17,
   "metadata": {},
   "outputs": [
    {
     "name": "stdout",
     "output_type": "stream",
     "text": [
      "platform            DS     PS2     PS3     Wii    X360\n",
      "year_of_release                                       \n",
      "2000               NaN   33.76     NaN     NaN     NaN\n",
      "2001               NaN  151.29     NaN     NaN     NaN\n",
      "2002               NaN  174.80     NaN     NaN     NaN\n",
      "2003               NaN  147.77     NaN     NaN     NaN\n",
      "2004              3.38  190.14     NaN     NaN     NaN\n",
      "2005             97.61  123.20     NaN     NaN    7.64\n",
      "2006             75.88   77.86   20.12  135.95   48.92\n",
      "2007             89.92   52.46   68.72  128.28   90.24\n",
      "2008             78.17   24.38  111.13  133.39  130.07\n",
      "2009             49.61    5.28  118.86  161.23  111.59\n",
      "2010             30.73    0.59  126.55   74.66  159.80\n",
      "2011              7.87     NaN  135.66   35.37  129.92\n",
      "2012              1.02     NaN   94.30   13.23   95.68\n",
      "2013               NaN     NaN  102.22     NaN   74.82\n",
      "2014               NaN     NaN   11.34     NaN   10.10\n",
      "2015               NaN     NaN    0.02     NaN     NaN\n"
     ]
    }
   ],
   "source": [
    "#Analizar la distribución de ventas de cada plataforma por año\n",
    "#Agrupar las plataformas principales por año y agrupa las ventas para cada combinación. \n",
    "\n",
    "platform_sales_by_year = df_top_platforms.groupby(['year_of_release', 'platform'])['total_sales'].sum().unstack()\n",
    "\n",
    "\n",
    "print(platform_sales_by_year)\n",
    "\n",
    "#La función unstack() aquí facilita la comparación de las ventas de cada plataforma a lo largo de los años.\n"
   ]
  },
  {
   "cell_type": "markdown",
   "metadata": {},
   "source": [
    "#  Identificar plataformas que solían ser populares pero ya no tienen ventas"
   ]
  },
  {
   "cell_type": "code",
   "execution_count": 18,
   "metadata": {},
   "outputs": [
    {
     "name": "stdout",
     "output_type": "stream",
     "text": [
      "Index(['DC', 'DS', 'GBA', 'GC', 'PS', 'PS2', 'PS3', 'PSP', 'Wii', 'X360',\n",
      "       'XB'],\n",
      "      dtype='object', name='platform')\n"
     ]
    }
   ],
   "source": [
    "# Primero, observa el último año disponible en los datos\n",
    "ultimo_año = df['year_of_release'].max()\n",
    "\n",
    "# Filtra plataformas que tienen ventas en años anteriores pero no en el último año\n",
    "ventas_historicas = df.groupby('platform')['year_of_release'].max()\n",
    "plataformas_descontinuadas = ventas_historicas[ventas_historicas < ultimo_año].index\n",
    "print(plataformas_descontinuadas)"
   ]
  },
  {
   "cell_type": "markdown",
   "metadata": {},
   "source": [
    "# Visualizar la variación de ventas por plataforma en cada año"
   ]
  },
  {
   "cell_type": "code",
   "execution_count": 19,
   "metadata": {},
   "outputs": [
    {
     "name": "stderr",
     "output_type": "stream",
     "text": [
      "/opt/conda/envs/python3/lib/python3.9/site-packages/pandas/core/indexing.py:1676: SettingWithCopyWarning: \n",
      "A value is trying to be set on a copy of a slice from a DataFrame.\n",
      "Try using .loc[row_indexer,col_indexer] = value instead\n",
      "\n",
      "See the caveats in the documentation: https://pandas.pydata.org/pandas-docs/stable/user_guide/indexing.html#returning-a-view-versus-a-copy\n",
      "  self._setitem_single_column(ilocs[0], value, pi)\n"
     ]
    },
    {
     "data": {
      "text/plain": [
       "<Figure size 1200x600 with 0 Axes>"
      ]
     },
     "metadata": {},
     "output_type": "display_data"
    },
    {
     "data": {
      "image/png": "[encoded data removed]",
      "text/plain": [
       "<Figure size 1000x600 with 1 Axes>"
      ]
     },
     "metadata": {},
     "output_type": "display_data"
    }
   ],
   "source": [
    "# Filtrar para incluir solo los datos de 2011 a 2016\n",
    "df_filtered = df[(df['year_of_release'] >= 2011) & (df['year_of_release'] <= 2016)]\n",
    "\n",
    "# Calcular las ventas totales por plataforma y año en el rango seleccionado\n",
    "df_filtered.loc[:, 'total_sales'] = df_filtered['na_sales'] + df_filtered['eu_sales'] + df_filtered['jp_sales'] + df_filtered['other_sales']\n",
    "\n",
    "# Agrupar por 'year_of_release' y 'platform' y sumar las ventas totales\n",
    "sales_by_platform_year = df_filtered.groupby(['year_of_release', 'platform'])['total_sales'].sum().unstack()\n",
    "\n",
    "import matplotlib.pyplot as plt\n",
    "\n",
    "# Crear gráfico de líneas\n",
    "plt.figure(figsize=(12, 6))\n",
    "sales_by_platform_year.plot(kind='line', marker='o', figsize=(10, 6))\n",
    "\n",
    "# Añadir título y etiquetas\n",
    "plt.title('Variación de Ventas por Plataforma y Año')\n",
    "plt.xlabel('Año de Lanzamiento')\n",
    "plt.ylabel('Ventas Totales (millones)')\n",
    "\n",
    "# Mostrar la leyenda para identificar las plataformas\n",
    "plt.legend(title='Plataforma', bbox_to_anchor=(1.05, 1), loc='upper left')\n",
    "\n",
    "# Mostrar el gráfico\n",
    "plt.tight_layout()\n",
    "plt.show()"
   ]
  },
  {
   "cell_type": "markdown",
   "metadata": {},
   "source": [
    "<div class=\"alert alert-block alert-warning\">\n",
    "<b>Comentario del revisor</b> <a class=\"tocSkip\"></a>\n",
    "    \n",
    "Gran trabajo con el desarrollo de la gráfica. Solamente te recomendaría que intentes reducir el periodo dado que el perido actual puede resultar muy extenso. Recordemos que con base en la información la popularidad la alcanzan en los primeros años. Es por ello que con un periodo largo puede no ser posible analizar de forma clara las plataformas y videojuegos actualizados y podrías estar analizando los desactualizados. Es por ello y dado que buscamos responder qué vender en 2017 te recomendareia gráficar un periodo que no supere los 5 años.     \n",
    "\n",
    "</div>"
   ]
  },
  {
   "cell_type": "markdown",
   "metadata": {},
   "source": [
    "Se modificó gráfico para que solo fueran 5 años."
   ]
  },
  {
   "cell_type": "markdown",
   "metadata": {},
   "source": [
    "# Construcción de Modelo 2017\n",
    "\n",
    "    Crecimiento Promedio Anual\n"
   ]
  },
  {
   "cell_type": "code",
   "execution_count": 20,
   "metadata": {},
   "outputs": [
    {
     "name": "stdout",
     "output_type": "stream",
     "text": [
      "   platform  sales_2017\n",
      "0       3DS    1.360040\n",
      "1        DC         NaN\n",
      "2        DS         NaN\n",
      "3       GBA         NaN\n",
      "4        GC         NaN\n",
      "5        PC   37.369419\n",
      "6        PS         NaN\n",
      "7       PS2         NaN\n",
      "8       PS3         NaN\n",
      "9       PS4   93.960350\n",
      "10      PSP         NaN\n",
      "11      PSV    1.034948\n",
      "12      Wii         NaN\n",
      "13     WiiU    2.828764\n",
      "14     X360         NaN\n",
      "15       XB         NaN\n",
      "16     XOne   36.095305\n"
     ]
    }
   ],
   "source": [
    "import pandas as pd\n",
    "\n",
    "\n",
    "# Crear una nueva columna 'total_sales' sumando las ventas de todas las regiones\n",
    "df['total_sales'] = df['na_sales'] + df['eu_sales'] + df['jp_sales'] + df['other_sales']\n",
    "\n",
    "# Agrupar por año y plataforma para obtener las ventas totales por plataforma por año\n",
    "platform_sales = df.groupby(['year_of_release', 'platform'])['total_sales'].sum().reset_index()\n",
    "\n",
    "# Calcular la tasa de crecimiento anual por plataforma\n",
    "platform_sales['growth_rate'] = platform_sales.groupby('platform')['total_sales'].pct_change()\n",
    "\n",
    "# Calcular la tasa de crecimiento promedio para cada plataforma\n",
    "platform_sales_avg_growth = platform_sales.groupby('platform')['growth_rate'].mean().reset_index()\n",
    "\n",
    "# Obtener las ventas para 2016 para cada plataforma\n",
    "sales_2016 = platform_sales[platform_sales['year_of_release'] == 2016][['platform', 'total_sales']]\n",
    "\n",
    "# Proyectar las ventas para 2017 por plataforma usando el crecimiento promedio\n",
    "platform_sales_avg_growth = platform_sales_avg_growth.merge(sales_2016, on='platform', how='left')\n",
    "platform_sales_avg_growth['sales_2017'] = platform_sales_avg_growth['total_sales'] * (1 + platform_sales_avg_growth['growth_rate'])\n",
    "\n",
    "# Mostrar la proyección de ventas para 2017 por plataforma\n",
    "print(platform_sales_avg_growth[['platform', 'sales_2017']])"
   ]
  },
  {
   "cell_type": "markdown",
   "metadata": {},
   "source": [
    "# ¿Cuánto tardan las plataformas en aparecer y las antiguas en desaparecer?\n"
   ]
  },
  {
   "cell_type": "markdown",
   "metadata": {},
   "source": [
    "Duran de 7 a 10 años en estar presentes en el mercado y cuando arranca una nueva otra aparece en el rango de 3 a 5 años .\n",
    "\n"
   ]
  },
  {
   "cell_type": "markdown",
   "metadata": {},
   "source": [
    "# ¿Que plataformas son líderes en ventas? ¿Cuáles crecen y cuáles se reducen?"
   ]
  },
  {
   "cell_type": "markdown",
   "metadata": {},
   "source": [
    "En su momento fueron las siguientes como top5 de ventas:\n",
    "platform\n",
    "PS2     962.42\n",
    "X360    862.91\n",
    "PS3     791.77\n",
    "Wii     672.58\n",
    "DS      383.21\n",
    "\n",
    "Todas con el tiempo tienen su auge de ventas , pero cuando sale una nueva plataforma la anterior va perdiendo presencia en el vá mercado y la nueva plataforma para incrementando tu presencia. "
   ]
  },
  {
   "cell_type": "markdown",
   "metadata": {},
   "source": [
    "# Diagrama de caja para las ventas globales"
   ]
  },
  {
   "cell_type": "code",
   "execution_count": 21,
   "metadata": {},
   "outputs": [
    {
     "data": {
      "image/png": "[encoded data removed]",
      "text/plain": [
       "<Figure size 1200x800 with 1 Axes>"
      ]
     },
     "metadata": {},
     "output_type": "display_data"
    }
   ],
   "source": [
    "import seaborn as sns\n",
    "import matplotlib.pyplot as plt\n",
    "\n",
    "# Crear el diagrama de caja de ventas totales por plataforma\n",
    "plt.figure(figsize=(12, 8))\n",
    "sns.boxplot(data=df, x='platform', y='total_sales')\n",
    "plt.title(\"Diagrama de Caja de Ventas Globales por Plataforma\")\n",
    "plt.xlabel(\"Plataforma\")\n",
    "plt.ylabel(\"Ventas Totales (Globales)\")\n",
    "plt.xticks(rotation=45)  # Rotar los nombres de las plataformas si son demasiadas\n",
    "plt.show()"
   ]
  },
  {
   "cell_type": "markdown",
   "metadata": {},
   "source": [
    "<div class=\"alert alert-block alert-warning\">\n",
    "    <b>Comentario del revisor</b> <a class=\"tocSkip\"></a>\n",
    "    \n",
    "Muy buen trabajo con el desarrollo de la gráfica de cajas, este tipo de gráficos nos ayuda a comparar resultados de manera precisa. Solamente recuerda que los graficos de box-plot nos ayudan a identificar outliers que posteriomente en el desarrollo de las pruebas de hipótesis nos servirían eliminar para que no puedan sesgar nuestros resultados. \n",
    "</div>"
   ]
  },
  {
   "cell_type": "markdown",
   "metadata": {},
   "source": [
    "Las plataformas que presentan outliners en sus ventas son el Wii, Ds, X360, PS3 y PS2. "
   ]
  },
  {
   "cell_type": "code",
   "execution_count": 22,
   "metadata": {},
   "outputs": [
    {
     "data": {
      "image/png": "[encoded data removed]",
      "text/plain": [
       "<Figure size 1000x600 with 1 Axes>"
      ]
     },
     "metadata": {},
     "output_type": "display_data"
    }
   ],
   "source": [
    "import seaborn as sns\n",
    "import matplotlib.pyplot as plt\n",
    "\n",
    "# Filtrar el DataFrame para obtener solo los datos de la plataforma Wii\n",
    "df_wii = df[df['platform'] == 'PS2']\n",
    "\n",
    "# Crear el gráfico de dispersión\n",
    "plt.figure(figsize=(10, 6))\n",
    "sns.scatterplot(data=df_wii, x='critic_score', y='total_sales', alpha=0.6)\n",
    "plt.title(\"Relación entre Puntuación de Críticos y Ventas Totales para la Plataforma Wii\")\n",
    "plt.xlabel(\"Puntuación de Críticos\")\n",
    "plt.ylabel(\"Ventas Totales (en millones)\")\n",
    "plt.show()"
   ]
  },
  {
   "cell_type": "markdown",
   "metadata": {},
   "source": [
    "<div class=\"alert alert-block alert-success\">\n",
    "    <b>Comentario del revisor</b> <a class=\"tocSkip\"></a>\n",
    "    \n",
    "Muy buen trabajo con el análisis de la relación estre las scores y las ventas. \n",
    "</div>"
   ]
  },
  {
   "cell_type": "markdown",
   "metadata": {},
   "source": [
    "#Observa como las reseñas de usuarios y profesionales afectan las ventas de una plataforma popular ( tu elección ). Crea un gráfico de dispersión y calcula la correlación entre las reseñas y las ventas. Saca conclusiones.\n",
    "\n",
    "En el gráfico anterior para la plataforma PS2 , se vé que las ventas incrementan cuando la puntuación de crlíticos es alta. Esto es para el caso de el PS2. \n",
    "\n",
    "Pera para el caso del Wii este comportamiento no es tan notorio, como si para esa plataforma la puntuación de críticos no fuera tan importante para sus ventas , aparentemente no tiene una correlación.\n",
    "\n"
   ]
  },
  {
   "cell_type": "code",
   "execution_count": 23,
   "metadata": {},
   "outputs": [
    {
     "data": {
      "image/png": "[encoded data removed]",
      "text/plain": [
       "<Figure size 1200x800 with 1 Axes>"
      ]
     },
     "metadata": {},
     "output_type": "display_data"
    }
   ],
   "source": [
    "import seaborn as sns\n",
    "import matplotlib.pyplot as plt\n",
    "\n",
    "# Contar el número de juegos por género\n",
    "genre_counts = df['genre'].value_counts()\n",
    "\n",
    "# Crear un gráfico de barras para mostrar la distribución de juegos por género\n",
    "plt.figure(figsize=(12, 8))\n",
    "sns.barplot(x=genre_counts.values, y=genre_counts.index, palette=\"viridis\")\n",
    "plt.title(\"Distribución de Juegos por Género\")\n",
    "plt.xlabel(\"Número de Juegos\")\n",
    "plt.ylabel(\"Género\")\n",
    "plt.show()"
   ]
  },
  {
   "cell_type": "markdown",
   "metadata": {},
   "source": [
    "#En el gráfico anterior podemos ver que los juegos que mayor creación tienen son los de acción, sports, shooter, Role-playing, Racing."
   ]
  },
  {
   "cell_type": "code",
   "execution_count": 24,
   "metadata": {},
   "outputs": [
    {
     "data": {
      "image/png": "[encoded data removed]",
      "text/plain": [
       "<Figure size 1200x800 with 1 Axes>"
      ]
     },
     "metadata": {},
     "output_type": "display_data"
    }
   ],
   "source": [
    "import seaborn as sns\n",
    "import matplotlib.pyplot as plt\n",
    "\n",
    "# Agrupar el total de ventas por género\n",
    "genre_sales = df.groupby('genre')['total_sales'].sum().sort_values(ascending=False)\n",
    "\n",
    "# Crear un gráfico de barras para mostrar las ventas totales por género\n",
    "plt.figure(figsize=(12, 8))\n",
    "sns.barplot(x=genre_sales.values, y=genre_sales.index, palette=\"viridis\")\n",
    "plt.title(\"Ventas Totales por Género\")\n",
    "plt.xlabel(\"Ventas Totales (en millones)\")\n",
    "plt.ylabel(\"Género\")\n",
    "plt.show()"
   ]
  },
  {
   "cell_type": "markdown",
   "metadata": {},
   "source": [
    "En el gráfico anterior podemos observar que el comportamiento de existencia de número de juegos está relacionando con la demanda de las ventas. Por ejemplo hay mucho más juegos creados de acción porque su demanda es mucho mayor, después le siguen los de action, sports,shooter, rol-playing y racing."
   ]
  },
  {
   "cell_type": "markdown",
   "metadata": {},
   "source": [
    "# 4.Crea un perfil de usuario para cada región"
   ]
  },
  {
   "cell_type": "code",
   "execution_count": 25,
   "metadata": {},
   "outputs": [
    {
     "name": "stdout",
     "output_type": "stream",
     "text": [
      "Top 5 plataformas en NA (América del Norte):\n",
      "          na_sales  na_market_share\n",
      "platform                           \n",
      "X360        537.81        19.025063\n",
      "PS2         488.60        17.284256\n",
      "Wii         359.67        12.723349\n",
      "PS3         344.41        12.183526\n",
      "DS          205.48         7.268868\n",
      "\n",
      "Top 5 plataformas en EU (Europa):\n",
      "          eu_sales  eu_market_share\n",
      "platform                           \n",
      "PS3         274.62        16.454953\n",
      "PS2         268.05        16.061285\n",
      "X360        235.02        14.082161\n",
      "Wii         208.50        12.493109\n",
      "PS4         111.78         6.697745\n",
      "\n",
      "Top 5 plataformas en JP (Japón):\n",
      "          jp_sales  jp_market_share\n",
      "platform                           \n",
      "DS           86.75        19.548415\n",
      "PS2          76.50        17.238660\n",
      "PS3          54.52        12.285643\n",
      "Wii          52.49        11.828199\n",
      "PS           39.71         8.948329\n",
      "\n",
      "Top 5 géneros en NA (América del Norte):\n",
      "genre\n",
      "Action     621.04\n",
      "Sports     482.11\n",
      "Shooter    451.56\n",
      "Racing     241.94\n",
      "Misc       241.92\n",
      "Name: na_sales, dtype: float64\n",
      "\n",
      "Top 5 géneros en EU (Europa):\n",
      "genre\n",
      "Action     399.76\n",
      "Shooter    262.15\n",
      "Sports     258.36\n",
      "Racing     171.49\n",
      "Misc       129.74\n",
      "Name: eu_sales, dtype: float64\n",
      "\n",
      "Top 5 géneros en JP (Japón):\n",
      "genre\n",
      "Role-Playing    122.68\n",
      "Action           77.16\n",
      "Platform         43.31\n",
      "Sports           35.14\n",
      "Misc             33.42\n",
      "Name: jp_sales, dtype: float64\n",
      "\n",
      "Top 5 clasificaciones ESRB en NA (América del Norte):\n",
      "rating\n",
      "E       1081.82\n",
      "M        726.47\n",
      "T        712.59\n",
      "E10+     304.45\n",
      "AO         1.26\n",
      "Name: na_sales, dtype: float64\n",
      "\n",
      "Top 5 clasificaciones ESRB en EU (Europa):\n",
      "rating\n",
      "E       630.41\n",
      "M       468.10\n",
      "T       406.93\n",
      "E10+    162.68\n",
      "AO        0.61\n",
      "Name: eu_sales, dtype: float64\n",
      "\n",
      "Top 5 clasificaciones ESRB en JP (Japón):\n",
      "rating\n",
      "E       194.74\n",
      "T       145.80\n",
      "M        62.28\n",
      "E10+     39.49\n",
      "K-A       1.46\n",
      "Name: jp_sales, dtype: float64\n",
      "\n",
      "Variación de cuota de mercado entre regiones:\n",
      "          na_market_share  eu_market_share  jp_market_share\n",
      "platform                                                   \n",
      "3DS              1.738684         2.009683         7.598531\n",
      "DC               0.054478         0.017377         0.599410\n",
      "DS               7.268868         6.474247        19.548415\n",
      "GBA              3.664149         2.503415         3.839827\n",
      "GC               4.098555         1.973732         3.632512\n",
      "PC               2.312468         6.343623         0.038308\n",
      "PS               3.648230         4.348920         8.948329\n",
      "PS2             17.284256        16.061285        17.238660\n",
      "PS3             12.183526        16.454953        12.285643\n",
      "PS4              2.978580         6.697745         2.093427\n",
      "PSP              3.087182         3.057067         5.723686\n",
      "PSV              0.351628         0.530283         1.717106\n",
      "Wii             12.723349        12.493109        11.828199\n",
      "WiiU             1.088844         1.228339         2.291728\n",
      "X360            19.025063        14.082161         2.280461\n",
      "XB               5.816368         3.202071         0.270410\n",
      "XOne             2.675770         2.521990         0.065349\n"
     ]
    }
   ],
   "source": [
    "import pandas as pd\n",
    "\n",
    "# Suponemos que 'df' es el DataFrame con los datos proporcionados\n",
    "# Primero, calculamos las ventas totales por plataforma en cada región (NA, EU, JP)\n",
    "platform_sales = df.groupby(['platform'])[['na_sales', 'eu_sales', 'jp_sales']].sum()\n",
    "\n",
    "# Calculamos las cuotas de mercado para cada plataforma en cada región\n",
    "platform_sales['na_market_share'] = platform_sales['na_sales'] / platform_sales['na_sales'].sum() * 100\n",
    "platform_sales['eu_market_share'] = platform_sales['eu_sales'] / platform_sales['eu_sales'].sum() * 100\n",
    "platform_sales['jp_market_share'] = platform_sales['jp_sales'] / platform_sales['jp_sales'].sum() * 100\n",
    "\n",
    "# Obtenemos las 5 plataformas principales en cada región\n",
    "top_platforms_na = platform_sales[['na_sales', 'na_market_share']].nlargest(5, 'na_sales')\n",
    "top_platforms_eu = platform_sales[['eu_sales', 'eu_market_share']].nlargest(5, 'eu_sales')\n",
    "top_platforms_jp = platform_sales[['jp_sales', 'jp_market_share']].nlargest(5, 'jp_sales')\n",
    "\n",
    "# Calculamos los 5 géneros principales en cada región\n",
    "genre_sales_na = df.groupby('genre')['na_sales'].sum().nlargest(5)\n",
    "genre_sales_eu = df.groupby('genre')['eu_sales'].sum().nlargest(5)\n",
    "genre_sales_jp = df.groupby('genre')['jp_sales'].sum().nlargest(5)\n",
    "\n",
    "# Calculamos las clasificaciones de ESRB más comunes por región\n",
    "esrb_ratings_na = df.groupby('rating')['na_sales'].sum().nlargest(5)\n",
    "esrb_ratings_eu = df.groupby('rating')['eu_sales'].sum().nlargest(5)\n",
    "esrb_ratings_jp = df.groupby('rating')['jp_sales'].sum().nlargest(5)\n",
    "\n",
    "# Mostramos los resultados\n",
    "print(\"Top 5 plataformas en NA (América del Norte):\")\n",
    "print(top_platforms_na)\n",
    "\n",
    "print(\"\\nTop 5 plataformas en EU (Europa):\")\n",
    "print(top_platforms_eu)\n",
    "\n",
    "print(\"\\nTop 5 plataformas en JP (Japón):\")\n",
    "print(top_platforms_jp)\n",
    "\n",
    "print(\"\\nTop 5 géneros en NA (América del Norte):\")\n",
    "print(genre_sales_na)\n",
    "\n",
    "print(\"\\nTop 5 géneros en EU (Europa):\")\n",
    "print(genre_sales_eu)\n",
    "\n",
    "print(\"\\nTop 5 géneros en JP (Japón):\")\n",
    "print(genre_sales_jp)\n",
    "\n",
    "print(\"\\nTop 5 clasificaciones ESRB en NA (América del Norte):\")\n",
    "print(esrb_ratings_na)\n",
    "\n",
    "print(\"\\nTop 5 clasificaciones ESRB en EU (Europa):\")\n",
    "print(esrb_ratings_eu)\n",
    "\n",
    "print(\"\\nTop 5 clasificaciones ESRB en JP (Japón):\")\n",
    "print(esrb_ratings_jp)\n",
    "\n",
    "# Comparar las variaciones en cuotas de mercado entre regiones\n",
    "platform_sales_comparison = platform_sales[['na_market_share', 'eu_market_share', 'jp_market_share']]\n",
    "\n",
    "# Mostrar la variación de cuota de mercado entre regiones\n",
    "print(\"\\nVariación de cuota de mercado entre regiones:\")\n",
    "print(platform_sales_comparison)\n"
   ]
  },
  {
   "cell_type": "markdown",
   "metadata": {},
   "source": [
    "# 5 Plataformas principales por cada región"
   ]
  },
  {
   "cell_type": "code",
   "execution_count": 26,
   "metadata": {},
   "outputs": [
    {
     "name": "stdout",
     "output_type": "stream",
     "text": [
      "Cinco plataformas principales y sus cuotas de mercado en cada región:\n",
      "          na_sales  na_market_share  eu_sales  eu_market_share  jp_sales  \\\n",
      "platform                                                                   \n",
      "X360        537.81        19.025063    235.02        14.082161     10.12   \n",
      "PS2         488.60        17.284256    268.05        16.061285     76.50   \n",
      "Wii         359.67        12.723349    208.50        12.493109     52.49   \n",
      "PS3         344.41        12.183526    274.62        16.454953     54.52   \n",
      "DS          205.48         7.268868    108.05         6.474247     86.75   \n",
      "\n",
      "          jp_market_share  \n",
      "platform                   \n",
      "X360             2.280461  \n",
      "PS2             17.238660  \n",
      "Wii             11.828199  \n",
      "PS3             12.285643  \n",
      "DS              19.548415  \n"
     ]
    }
   ],
   "source": [
    "\n",
    "\n",
    "# Paso 1: Calcular las ventas totales de cada plataforma en cada región\n",
    "platform_sales = df.groupby('platform')[['na_sales', 'eu_sales', 'jp_sales']].sum()\n",
    "\n",
    "# Paso 2: Calcular el total de ventas por región para obtener las cuotas de mercado\n",
    "platform_sales['na_market_share'] = platform_sales['na_sales'] / platform_sales['na_sales'].sum() * 100\n",
    "platform_sales['eu_market_share'] = platform_sales['eu_sales'] / platform_sales['eu_sales'].sum() * 100\n",
    "platform_sales['jp_market_share'] = platform_sales['jp_sales'] / platform_sales['jp_sales'].sum() * 100\n",
    "\n",
    "# Paso 3: Seleccionar las cinco plataformas con las ventas más altas\n",
    "top_platforms = platform_sales[['na_sales', 'na_market_share', 'eu_sales', 'eu_market_share', 'jp_sales', 'jp_market_share']].nlargest(5, 'na_sales')\n",
    "\n",
    "# Mostrar las cinco plataformas principales y sus cuotas de mercado por región\n",
    "print(\"Cinco plataformas principales y sus cuotas de mercado en cada región:\")\n",
    "print(top_platforms)\n"
   ]
  },
  {
   "cell_type": "markdown",
   "metadata": {},
   "source": [
    "CONCLUSIONES: \n",
    "Cada Región tiene su plataforma de mayor uso y no siempre coincide en todos los mercados .\n",
    "Por ejemplo en America del Norte el más exitoso fue el X360 y en Japón tuvo una participación muy baja de 2.31% en el mercado.\n",
    "Las Plataformas comunmente más compradas en los 3 mercados NA, EU, JP son PS2 (17%, 15%, 17%), PS3 (12%,16%,12%) y Wii (12%,12%,11.9%) en orden como anteriormente se menciona cada mercado.\n",
    "\n",
    "\n",
    "Top 5 plataformas en NA (América del Norte):\n",
    "          na_sales  na_market_share\n",
    "platform                           \n",
    "X360        539.91        19.783735\n",
    "PS2         481.15        17.630613\n",
    "Wii         351.57        12.882458\n",
    "PS3         344.82        12.635120\n",
    "DS          174.19         6.382784\n",
    "\n",
    "Top 5 plataformas en EU (Europa):\n",
    "          eu_sales  eu_market_share\n",
    "platform\n",
    "PS3         276.03        16.933317\n",
    "PS2         260.13        15.957917\n",
    "X360        236.62        14.515674\n",
    "Wii         207.81        12.748298\n",
    "PS4         111.78         6.857248\n",
    "\n",
    "Top 5 plataformas en JP (Japón):\n",
    "          jp_sales  jp_market_share\n",
    "platform                           \n",
    "DS           83.66        19.043934\n",
    "PS2          76.39        17.389028\n",
    "PS3          55.21        12.567721\n",
    "Wii          52.39        11.925791\n",
    "PS           38.85         8.843615\n"
   ]
  },
  {
   "cell_type": "markdown",
   "metadata": {},
   "source": [
    "# 5 Generos principales por cada región"
   ]
  },
  {
   "cell_type": "code",
   "execution_count": 27,
   "metadata": {},
   "outputs": [
    {
     "name": "stdout",
     "output_type": "stream",
     "text": [
      "Comparación de los cinco géneros principales en cada región:\n",
      "  NA_Top_Genres  NA_Sales EU_Top_Genres  EU_Sales JP_Top_Genres  JP_Sales\n",
      "0        Action    621.04        Action    399.76  Role-Playing    122.68\n",
      "1        Sports    482.11       Shooter    262.15        Action     77.16\n",
      "2       Shooter    451.56        Sports    258.36      Platform     43.31\n",
      "3        Racing    241.94        Racing    171.49        Sports     35.14\n",
      "4          Misc    241.92          Misc    129.74          Misc     33.42\n"
     ]
    }
   ],
   "source": [
    "import pandas as pd\n",
    "\n",
    "# Calcular las ventas por género y región\n",
    "genre_sales_by_region = df.groupby('genre')[['na_sales', 'eu_sales', 'jp_sales']].sum()\n",
    "\n",
    "# Obtener los cinco géneros principales por ventas en cada región\n",
    "top_genres_na = genre_sales_by_region['na_sales'].nlargest(5)\n",
    "top_genres_eu = genre_sales_by_region['eu_sales'].nlargest(5)\n",
    "top_genres_jp = genre_sales_by_region['jp_sales'].nlargest(5)\n",
    "\n",
    "# Crear un DataFrame para comparar los cinco géneros principales en cada región\n",
    "top_genres_comparison = pd.DataFrame({\n",
    "    'NA_Top_Genres': top_genres_na.index,\n",
    "    'NA_Sales': top_genres_na.values,\n",
    "    'EU_Top_Genres': top_genres_eu.index,\n",
    "    'EU_Sales': top_genres_eu.values,\n",
    "    'JP_Top_Genres': top_genres_jp.index,\n",
    "    'JP_Sales': top_genres_jp.values\n",
    "})\n",
    "\n",
    "# Mostrar la tabla de comparación\n",
    "print(\"Comparación de los cinco géneros principales en cada región:\")\n",
    "print(top_genres_comparison)\n"
   ]
  },
  {
   "cell_type": "markdown",
   "metadata": {},
   "source": [
    "CONCLUSIONES: El genero de Action es el que más participación tiene en los 3 mercados. Aunque el favorito en el mercado Japonés es el Role-Playing."
   ]
  },
  {
   "cell_type": "markdown",
   "metadata": {},
   "source": [
    "# Afectación de las clasificaciones ESRB  en regiones individuales"
   ]
  },
  {
   "cell_type": "code",
   "execution_count": 28,
   "metadata": {},
   "outputs": [
    {
     "name": "stdout",
     "output_type": "stream",
     "text": [
      "Tabla comparativa de ventas por clasificación ESRB en todas las regiones:\n",
      "        NA_Sales  EU_Sales  JP_Sales\n",
      "rating                              \n",
      "E        1081.82    630.41    194.74\n",
      "M         726.47    468.10     62.28\n",
      "T         712.59    406.93    145.80\n",
      "E10+      304.45    162.68     39.49\n",
      "AO          1.26      0.61      0.00\n",
      "K-A         0.26      0.16      1.46\n",
      "EC          0.00      0.00      0.00\n",
      "RP          0.00      0.03      0.00\n"
     ]
    }
   ],
   "source": [
    "# Agrupar por clasificación ESRB y sumar ventas por región\n",
    "esrb_sales_by_region = df.groupby('rating')[['na_sales', 'eu_sales', 'jp_sales']].sum()\n",
    "\n",
    "# Cambiar el nombre de las columnas para que sean más descriptivas\n",
    "esrb_sales_by_region.columns = ['NA_Sales', 'EU_Sales', 'JP_Sales']\n",
    "\n",
    "# Ordenar la tabla por las ventas en América del Norte (NA) en orden descendente como referencia principal\n",
    "esrb_sales_sorted = esrb_sales_by_region.sort_values(by='NA_Sales', ascending=False)\n",
    "\n",
    "# Mostrar la tabla de comparación consolidada\n",
    "print(\"Tabla comparativa de ventas por clasificación ESRB en todas las regiones:\")\n",
    "print(esrb_sales_sorted)\n"
   ]
  },
  {
   "cell_type": "markdown",
   "metadata": {},
   "source": [
    "CONCLUSIONES: Las clasificaciones E(Everyone) , M( Mature 17+), T(Teen), E10 (Everyone 10 and older) son las clasificaciones más vendidas en las 3 regiones. "
   ]
  },
  {
   "cell_type": "markdown",
   "metadata": {},
   "source": [
    "<div class=\"alert alert-block alert-success\">\n",
    "<b>Comentario del revisor:</b> <a class=\"tocSkip\"></a>\n",
    "\n",
    "Excelente! Con este análisis por región ayuda a complementar el análisis general anterior y a hacer zoom a los resultados por cada una de las regiones.   \n",
    "\n",
    "</div>"
   ]
  },
  {
   "cell_type": "markdown",
   "metadata": {},
   "source": [
    "# Código para la Hipótesis 1: Calificaciones de los Usuarios entre Xbox One y PC"
   ]
  },
  {
   "cell_type": "markdown",
   "metadata": {},
   "source": [
    "# Código para la Hipótesis 2: Calificaciones de los Usuarios entre los Géneros de Acción y Deportes"
   ]
  },
  {
   "cell_type": "code",
   "execution_count": 29,
   "metadata": {},
   "outputs": [
    {
     "name": "stdout",
     "output_type": "stream",
     "text": [
      "Prueba de Levene para plataformas: p-valor = 0.2715651891087979\n",
      "No podemos rechazar la hipótesis nula: Las varianzas de calificaciones de los usuarios para Xbox One y PC son las mismas.\n",
      "Prueba T para plataformas: estadístico T = -4.242493768243071, p-valor = 2.4625786842916353e-05\n",
      "Rechazamos la hipótesis nula: Las calificaciones promedio de los usuarios para Xbox One y PC son diferentes.\n",
      "Prueba de Levene para géneros: p-valor = 0.5363983496102895\n",
      "Prueba T para géneros: estadístico T = -0.8101797053091849, p-valor = 0.41790146080279555\n",
      "No podemos rechazar la hipótesis nula: Las calificaciones promedio de los usuarios para los géneros de Acción y Deportes son las mismas.\n"
     ]
    }
   ],
   "source": [
    "import pandas as pd\n",
    "import scipy.stats as st\n",
    "\n",
    "\n",
    "# Filtra los datos para Xbox One y PC\n",
    "xbox_one_scores = df[(df['platform'] == 'XOne')]['user_score'].dropna()\n",
    "pc_scores = df[(df['platform'] == 'PC')]['user_score'].dropna()\n",
    "\n",
    "# Filtra los datos para Acción y Deportes\n",
    "accion_scores = df[(df['genre'] == 'Action')]['user_score'].dropna()\n",
    "deportes_scores = df[(df['genre'] == 'Sports')]['user_score'].dropna()\n",
    "\n",
    "# Nivel de significancia\n",
    "alpha = 0.05\n",
    "\n",
    "# Prueba de Levene para Xbox One vs PC\n",
    "levene_result_platform = st.levene(xbox_one_scores, pc_scores)\n",
    "print(f\"Prueba de Levene para plataformas: p-valor = {levene_result_platform.pvalue}\")\n",
    "\n",
    "# Definición de equal_var para la prueba T según el resultado de Levene\n",
    "#equal_var_platform = levene_result_platform.pvalue > alpha\n",
    "\n",
    "#Hipotesis nula: Las varianzas de las calificaciones son iguales . \n",
    "#Hipotesis alternativa: Las varianzas de las calificaciones son diferentes ( lo que yo creo)\n",
    "\n",
    "\n",
    "# Interpreta el resultado de la prueba T para plataformas\n",
    "if levene_result_platform.pvalue < alpha:\n",
    "    print(\"Rechazamos la hipótesis nula: Las varianzas de calificaciones de los usuarios para Xbox One y PC son diferentes.\")\n",
    "    equal_var_platform=False\n",
    "else:\n",
    "    print(\"No podemos rechazar la hipótesis nula: Las varianzas de calificaciones de los usuarios para Xbox One y PC son las mismas.\")\n",
    "    equal_var_platform=True\n",
    "\n",
    "\n",
    "# Prueba T para plataformas Xbox One vs PC\n",
    "t_test_platform = st.ttest_ind(xbox_one_scores, pc_scores, equal_var=equal_var_platform)\n",
    "print(f\"Prueba T para plataformas: estadístico T = {t_test_platform.statistic}, p-valor = {t_test_platform.pvalue}\")\n",
    "\n",
    "# Interpreta el resultado de la prueba T para plataformas\n",
    "if t_test_platform.pvalue < alpha:\n",
    "    print(\"Rechazamos la hipótesis nula: Las calificaciones promedio de los usuarios para Xbox One y PC son diferentes.\")\n",
    "else:\n",
    "    print(\"No podemos rechazar la hipótesis nula: Las calificaciones promedio de los usuarios para Xbox One y PC son las mismas.\")\n",
    "\n",
    "# Prueba de Levene para géneros Acción vs Deportes\n",
    "levene_result_genre = st.levene(accion_scores, deportes_scores)\n",
    "print(f\"Prueba de Levene para géneros: p-valor = {levene_result_genre.pvalue}\")\n",
    "\n",
    "# Definición de equal_var para la prueba T según el resultado de Levene\n",
    "equal_var_genre = levene_result_genre.pvalue > alpha\n",
    "\n",
    "# Prueba T para géneros Acción vs Deportes\n",
    "t_test_genre = st.ttest_ind(accion_scores, deportes_scores, equal_var=equal_var_genre)\n",
    "print(f\"Prueba T para géneros: estadístico T = {t_test_genre.statistic}, p-valor = {t_test_genre.pvalue}\")\n",
    "\n",
    "# Interpreta el resultado de la prueba T para géneros\n",
    "if t_test_genre.pvalue < alpha:\n",
    "    print(\"Rechazamos la hipótesis nula: Las calificaciones promedio de los usuarios para los géneros de Acción y Deportes son diferentes.\")\n",
    "else:\n",
    "    print(\"No podemos rechazar la hipótesis nula: Las calificaciones promedio de los usuarios para los géneros de Acción y Deportes son las mismas.\")"
   ]
  },
  {
   "cell_type": "markdown",
   "metadata": {},
   "source": [
    "CONCLUSIONES:\n",
    "Hipótesis 1: Calificaciones de los Usuarios entre Xbox One y PC\n",
    "Prueba de Levene:\n",
    "\n",
    "Resultado: p-valor = 0.2715651891087979\n",
    "Interpretación: La prueba de Levene verifica si las varianzas de las calificaciones de usuarios para Xbox One y PC son iguales.\n",
    "Con un nivel de significancia comúnmente usado, α = 0.05, el p-valor obtenido (0.2716) es mayor a 0.05. Esto significa que no podemos rechazar la hipótesis nula de la prueba de Levene, indicando que las varianzas son iguales para ambas plataformas.\n",
    "Por lo tanto, establecemos equal_var=True en la prueba T de Student, lo que implica que la prueba T debe asumir varianzas iguales entre ambas muestras.\n",
    "Prueba T de Student:\n",
    "\n",
    "Resultado: estadístico T = -4.2425, p-valor = 2.4626e-05 (o 0.0000246)\n",
    "Interpretación: La prueba T verifica si las calificaciones promedio de los usuarios para Xbox One y PC son iguales.\n",
    "Con un nivel de significancia α = 0.05, el p-valor obtenido (0.0000246) es mucho menor que 0.05. Esto indica una diferencia estadísticamente significativa entre las calificaciones promedio de ambas plataformas.\n",
    "Conclusión de la prueba T: Rechazamos la hipótesis nula, lo que significa que las calificaciones promedio de los usuarios para Xbox One y PC son diferentes.\n",
    "\n",
    "Hipótesis 2: Calificación de los usuarios entre los géneros de Acción y deportes.\n",
    "Prueba de Levene:\n",
    "\n",
    "Resultado: p-valor = 0.5364\n",
    "Interpretación: Con un nivel de significancia α = 0.05, el p-valor (0.5364) es mayor que 0.05. Esto significa que no podemos rechazar la hipótesis nula de la prueba de Levene, lo que indica que las varianzas de las calificaciones entre los géneros Acción y Deportes son estadísticamente iguales.\n",
    "Consecuencia: Esto permite establecer equal_var=True en la prueba T de Student, lo cual significa que la prueba T asume varianzas iguales entre ambas muestras.\n",
    "Prueba T de Student:\n",
    "\n",
    "Resultado: estadístico T = -0.8102, p-valor = 0.4179\n",
    "Interpretación: La prueba T evalúa si las calificaciones promedio de los usuarios para los géneros de Acción y Deportes son iguales.\n",
    "Con un nivel de significancia α = 0.05, el p-valor (0.4179) es mucho mayor que 0.05. Esto significa que no hay evidencia estadística suficiente para rechazar la hipótesis nula de la prueba T, indicando que las calificaciones promedio de los géneros Acción y Deportes no son significativamente diferentes.\n",
    "Conclusión General\n",
    "Dado que:\n",
    "\n",
    "Las varianzas de las calificaciones de los géneros Acción y Deportes son iguales (según la prueba de Levene).\n",
    "No existe una diferencia estadísticamente significativa entre las calificaciones promedio de ambos géneros (según la prueba T de Student).\n",
    "Podemos concluir que las calificaciones promedio de los usuarios para los géneros de Acción y Deportes son, estadísticamente, las mismas. Esto sugiere que la percepción o satisfacción de los usuarios, en términos de calificaciones, no varía significativamente entre estos dos géneros.\n",
    "\n",
    "\n"
   ]
  },
  {
   "cell_type": "markdown",
   "metadata": {},
   "source": [
    " <div class=\"alert alert-block alert-danger\">\n",
    "<b>Comentario revisor</b> <a class=\"tocSkip\"></a>\n",
    "\n",
    "Para estas pruebas te recomiendo hacer una prueba de  Levene  para mostrar si las varianzas son iguales y agregarlo dentro de la función. Actualmente lo colocar como equal_var=False. Para esto, primero debes calcular las varianzas para cada uno de las plataformas y en un segundo tiempo debes de hacer uso de la siguiente función: \n",
    "    \n",
    "    levene(xbox_one_scores, pc_scores)\n",
    "    \n",
    "Adoptaremos un nivel de significancia de 0.05; si el valor p resultante es mayor a 0.05, no podemos rechazar la hipótesis nula, y si es menor a 0.05, rechazamos la hipótesis nula, indicando que las varianzas no son iguales. \n",
    "    \n",
    "Solamente recuerda que la prueba de levene no es sustituto a la prueba de st.ttest_ind, más bien es complemento para saber que colocar dentro del elemento \"equal_var\". En este caso como rechazamos la hipótesis de varianzas iguales debemos de colocar False. Es por eso que para terminar la prueba debes de realizar la prueba de st.ttest_ind considernado el resultado de la prueba realizada de levene    \n",
    "</div>"
   ]
  },
  {
   "cell_type": "markdown",
   "metadata": {},
   "source": [
    "\n",
    "<div class=\"alert alert-block alert-success\">\n",
    "<b>Comentario del revisor:</b> <a class=\"tocSkip\"></a>\n",
    "    \n",
    "Excelente trabajo con la prueba de levene para mostrar el supuesto de varianzas iguales!"
   ]
  },
  {
   "cell_type": "markdown",
   "metadata": {},
   "source": [
    "# CONCLUSION GENERAL"
   ]
  },
  {
   "cell_type": "markdown",
   "metadata": {},
   "source": [
    "Variación Regional:\n",
    "    Existen diferencias significativas en la preferencia de plataformas y géneros entre regiones. \n",
    "    Mientras que en NA y EU predominan los géneros de acción y disparos, en Japón sobresalen los RPG, lo que destaca la influencia cultural en las preferencias de género.\n",
    "Preferencia de Marca: \n",
    "    Sony y Nintendo tienen una presencia significativa en todas las regiones, aunque la preferencia específica de plataforma varía. Xbox es popular principalmente en NA y EU, pero tiene poca presencia en Japón.\n",
    "Cuotas de Mercado por Región:\n",
    "    Las cuotas de mercado varían ampliamente. En Japón, las consolas portátiles de Nintendo como DS ocupan una mayor cuota, mientras que en NA y EU dominan las consolas de sobremesa.\n",
    "\n",
    "   Este análisis sugiere que una estrategia global para los videojuegos debería considerar estas variaciones culturales y de mercado, adaptando los lanzamientos de plataformas y juegos\n",
    "    según las preferencias regionales para maximizar el éxito comercial en cada región.\n",
    "\n",
    "\n",
    "    "
   ]
  },
  {
   "cell_type": "markdown",
   "metadata": {},
   "source": [
    "<div class=\"alert alert-block alert-warning\">\n",
    "<b>Comentario revisor</b> <a class=\"tocSkip\"></a>\n",
    "\n",
    "Alejandra, en general creo que hiciste un muy buen trabajo con el proyecto, pudiste limpiar y trabajar las bases de datos de beuna manera. Además, el análisis explorario de datos fue completo al mostrar resultados relevantes que pueden ser de mucha utilidad para la toma de decisiones y desarrollaste las pruebas de hipótesis de una buena manera. No obstante, recuerda que siempre podemos mejorar y te menciono algunos puntos que debes considerar:\n",
    "\n",
    "* Verificar que cuando llenamos variables con valores nulos los estamos comletando con valores que no sesgan nuestros resultados\n",
    "\n",
    "*  Considerar eliminar registros atipicos que puedan sesgar nuestros resultados. \n",
    "    \n",
    "*  Verificar los supuestos de las pruebas de hipótesis. \n",
    "    \n",
    "</div>"
   ]
  }
 ],
 "metadata": {
  "ExecuteTimeLog": [
   {
    "duration": 392,
    "start_time": "2024-11-09T00:18:37.454Z"
   },
   {
    "duration": 154,
    "start_time": "2024-11-09T15:53:50.907Z"
   },
   {
    "duration": 483,
    "start_time": "2024-11-09T15:53:58.815Z"
   },
   {
    "duration": 4,
    "start_time": "2024-11-09T15:54:06.020Z"
   },
   {
    "duration": 5,
    "start_time": "2024-11-09T15:59:41.577Z"
   },
   {
    "duration": 5,
    "start_time": "2024-11-09T16:00:00.694Z"
   },
   {
    "duration": 7,
    "start_time": "2024-11-09T16:01:05.481Z"
   },
   {
    "duration": 3,
    "start_time": "2024-11-09T16:08:54.335Z"
   },
   {
    "duration": 10,
    "start_time": "2024-11-09T16:20:46.521Z"
   },
   {
    "duration": 7,
    "start_time": "2024-11-09T16:21:13.310Z"
   },
   {
    "duration": 3,
    "start_time": "2024-11-09T16:32:51.052Z"
   },
   {
    "duration": 3,
    "start_time": "2024-11-09T16:32:58.492Z"
   },
   {
    "duration": 7,
    "start_time": "2024-11-09T16:43:41.974Z"
   },
   {
    "duration": 3,
    "start_time": "2024-11-09T16:43:54.789Z"
   },
   {
    "duration": 7,
    "start_time": "2024-11-09T16:48:11.726Z"
   },
   {
    "duration": 19,
    "start_time": "2024-11-09T16:50:37.959Z"
   },
   {
    "duration": 8,
    "start_time": "2024-11-09T16:50:54.003Z"
   },
   {
    "duration": 4,
    "start_time": "2024-11-09T17:14:35.661Z"
   },
   {
    "duration": 3,
    "start_time": "2024-11-09T17:14:44.139Z"
   },
   {
    "duration": 3,
    "start_time": "2024-11-09T17:14:44.491Z"
   },
   {
    "duration": 5,
    "start_time": "2024-11-09T17:19:33.636Z"
   },
   {
    "duration": 4,
    "start_time": "2024-11-09T17:24:24.267Z"
   },
   {
    "duration": 11,
    "start_time": "2024-11-09T17:29:20.421Z"
   },
   {
    "duration": 5,
    "start_time": "2024-11-09T17:35:21.724Z"
   },
   {
    "duration": 5,
    "start_time": "2024-11-09T17:40:53.537Z"
   },
   {
    "duration": 4,
    "start_time": "2024-11-09T17:53:52.068Z"
   },
   {
    "duration": 50,
    "start_time": "2024-11-09T17:54:31.521Z"
   },
   {
    "duration": 5,
    "start_time": "2024-11-09T17:54:41.900Z"
   },
   {
    "duration": 10,
    "start_time": "2024-11-09T17:56:43.089Z"
   },
   {
    "duration": 9,
    "start_time": "2024-11-09T17:59:19.905Z"
   },
   {
    "duration": 5,
    "start_time": "2024-11-09T18:06:25.405Z"
   },
   {
    "duration": 2048,
    "start_time": "2024-11-09T18:20:13.101Z"
   },
   {
    "duration": 248,
    "start_time": "2024-11-09T18:30:27.833Z"
   },
   {
    "duration": 293,
    "start_time": "2024-11-09T18:31:10.688Z"
   },
   {
    "duration": 4,
    "start_time": "2024-11-09T18:37:53.398Z"
   },
   {
    "duration": 4,
    "start_time": "2024-11-09T18:40:40.497Z"
   },
   {
    "duration": 4,
    "start_time": "2024-11-09T19:31:03.162Z"
   },
   {
    "duration": 759,
    "start_time": "2024-11-09T20:41:16.720Z"
   },
   {
    "duration": 179,
    "start_time": "2024-11-09T20:54:50.545Z"
   },
   {
    "duration": 173,
    "start_time": "2024-11-09T20:58:47.815Z"
   },
   {
    "duration": 137,
    "start_time": "2024-11-09T21:29:32.344Z"
   },
   {
    "duration": 175,
    "start_time": "2024-11-09T21:31:04.109Z"
   },
   {
    "duration": 151,
    "start_time": "2024-11-09T21:36:49.190Z"
   },
   {
    "duration": 178,
    "start_time": "2024-11-10T00:25:03.872Z"
   },
   {
    "duration": 346,
    "start_time": "2024-11-10T00:25:15.542Z"
   },
   {
    "duration": 2,
    "start_time": "2024-11-10T00:25:15.891Z"
   },
   {
    "duration": 7,
    "start_time": "2024-11-10T00:25:15.895Z"
   },
   {
    "duration": 5,
    "start_time": "2024-11-10T00:25:15.904Z"
   },
   {
    "duration": 3,
    "start_time": "2024-11-10T00:25:15.912Z"
   },
   {
    "duration": 7,
    "start_time": "2024-11-10T00:25:15.916Z"
   },
   {
    "duration": 4,
    "start_time": "2024-11-10T00:25:15.924Z"
   },
   {
    "duration": 5,
    "start_time": "2024-11-10T00:25:15.929Z"
   },
   {
    "duration": 0,
    "start_time": "2024-11-10T00:25:15.936Z"
   },
   {
    "duration": 0,
    "start_time": "2024-11-10T00:25:15.938Z"
   },
   {
    "duration": 0,
    "start_time": "2024-11-10T00:25:15.939Z"
   },
   {
    "duration": 0,
    "start_time": "2024-11-10T00:25:15.941Z"
   },
   {
    "duration": 0,
    "start_time": "2024-11-10T00:25:15.943Z"
   },
   {
    "duration": 0,
    "start_time": "2024-11-10T00:25:15.944Z"
   },
   {
    "duration": 0,
    "start_time": "2024-11-10T00:25:15.986Z"
   },
   {
    "duration": 0,
    "start_time": "2024-11-10T00:25:15.987Z"
   },
   {
    "duration": 0,
    "start_time": "2024-11-10T00:25:15.988Z"
   },
   {
    "duration": 0,
    "start_time": "2024-11-10T00:25:15.989Z"
   },
   {
    "duration": 0,
    "start_time": "2024-11-10T00:25:15.990Z"
   },
   {
    "duration": 0,
    "start_time": "2024-11-10T00:25:15.991Z"
   },
   {
    "duration": 0,
    "start_time": "2024-11-10T00:25:15.992Z"
   },
   {
    "duration": 0,
    "start_time": "2024-11-10T00:25:15.993Z"
   },
   {
    "duration": 33,
    "start_time": "2024-11-10T00:25:34.440Z"
   },
   {
    "duration": 3,
    "start_time": "2024-11-10T00:25:40.164Z"
   },
   {
    "duration": 7,
    "start_time": "2024-11-10T00:25:43.882Z"
   },
   {
    "duration": 4,
    "start_time": "2024-11-10T00:25:48.335Z"
   },
   {
    "duration": 4,
    "start_time": "2024-11-10T00:25:49.739Z"
   },
   {
    "duration": 3,
    "start_time": "2024-11-10T00:25:51.159Z"
   },
   {
    "duration": 3,
    "start_time": "2024-11-10T00:25:52.719Z"
   },
   {
    "duration": 6,
    "start_time": "2024-11-10T00:25:58.400Z"
   },
   {
    "duration": 4,
    "start_time": "2024-11-10T00:25:59.632Z"
   },
   {
    "duration": 3,
    "start_time": "2024-11-10T00:26:02.247Z"
   },
   {
    "duration": 16,
    "start_time": "2024-11-10T00:26:13.788Z"
   },
   {
    "duration": 4,
    "start_time": "2024-11-10T00:26:18.476Z"
   },
   {
    "duration": 4,
    "start_time": "2024-11-10T00:26:24.639Z"
   },
   {
    "duration": 6,
    "start_time": "2024-11-10T00:26:28.949Z"
   },
   {
    "duration": 6,
    "start_time": "2024-11-10T00:26:34.375Z"
   },
   {
    "duration": 11,
    "start_time": "2024-11-10T00:26:40.060Z"
   },
   {
    "duration": 10,
    "start_time": "2024-11-10T00:26:47.254Z"
   },
   {
    "duration": 6,
    "start_time": "2024-11-10T00:26:52.453Z"
   },
   {
    "duration": 7,
    "start_time": "2024-11-10T00:26:53.500Z"
   },
   {
    "duration": 184,
    "start_time": "2024-11-10T00:26:58.968Z"
   },
   {
    "duration": 13,
    "start_time": "2024-11-10T00:27:14.622Z"
   },
   {
    "duration": 8,
    "start_time": "2024-11-10T00:31:06.481Z"
   },
   {
    "duration": 8,
    "start_time": "2024-11-10T00:31:07.169Z"
   },
   {
    "duration": 16,
    "start_time": "2024-11-10T00:37:16.294Z"
   },
   {
    "duration": 15,
    "start_time": "2024-11-10T00:50:08.796Z"
   },
   {
    "duration": 392,
    "start_time": "2024-11-10T00:53:38.551Z"
   },
   {
    "duration": 158,
    "start_time": "2024-11-10T00:57:50.899Z"
   },
   {
    "duration": 18,
    "start_time": "2024-11-10T01:02:11.265Z"
   },
   {
    "duration": 28,
    "start_time": "2024-11-10T01:13:28.760Z"
   },
   {
    "duration": 13,
    "start_time": "2024-11-10T01:47:33.866Z"
   },
   {
    "duration": 8,
    "start_time": "2024-11-10T01:54:51.602Z"
   },
   {
    "duration": 8,
    "start_time": "2024-11-10T01:58:38.268Z"
   },
   {
    "duration": 11,
    "start_time": "2024-11-10T02:21:41.772Z"
   },
   {
    "duration": 12,
    "start_time": "2024-11-10T02:28:27.914Z"
   },
   {
    "duration": 8,
    "start_time": "2024-11-10T02:37:44.846Z"
   },
   {
    "duration": 357,
    "start_time": "2024-11-10T03:16:25.417Z"
   },
   {
    "duration": 8,
    "start_time": "2024-11-10T03:19:08.620Z"
   },
   {
    "duration": 7,
    "start_time": "2024-11-10T03:35:37.756Z"
   },
   {
    "duration": 7,
    "start_time": "2024-11-10T03:37:26.373Z"
   },
   {
    "duration": 5,
    "start_time": "2024-11-10T04:57:15.759Z"
   },
   {
    "duration": 16,
    "start_time": "2024-11-10T05:03:48.029Z"
   },
   {
    "duration": 8,
    "start_time": "2024-11-10T05:08:40.104Z"
   },
   {
    "duration": 17,
    "start_time": "2024-11-10T05:09:32.182Z"
   },
   {
    "duration": 11,
    "start_time": "2024-11-10T05:12:34.177Z"
   },
   {
    "duration": 359,
    "start_time": "2024-11-10T05:13:39.083Z"
   },
   {
    "duration": 3,
    "start_time": "2024-11-10T05:13:39.444Z"
   },
   {
    "duration": 4,
    "start_time": "2024-11-10T05:13:39.449Z"
   },
   {
    "duration": 4,
    "start_time": "2024-11-10T05:13:39.456Z"
   },
   {
    "duration": 31,
    "start_time": "2024-11-10T05:13:39.461Z"
   },
   {
    "duration": 5,
    "start_time": "2024-11-10T05:13:39.495Z"
   },
   {
    "duration": 13,
    "start_time": "2024-11-10T05:13:39.501Z"
   },
   {
    "duration": 8,
    "start_time": "2024-11-10T05:13:39.516Z"
   },
   {
    "duration": 4,
    "start_time": "2024-11-10T05:13:39.526Z"
   },
   {
    "duration": 5,
    "start_time": "2024-11-10T05:13:39.533Z"
   },
   {
    "duration": 58,
    "start_time": "2024-11-10T05:13:39.539Z"
   },
   {
    "duration": 6,
    "start_time": "2024-11-10T05:13:39.598Z"
   },
   {
    "duration": 6,
    "start_time": "2024-11-10T05:13:39.606Z"
   },
   {
    "duration": 11,
    "start_time": "2024-11-10T05:13:39.614Z"
   },
   {
    "duration": 10,
    "start_time": "2024-11-10T05:13:39.627Z"
   },
   {
    "duration": 5,
    "start_time": "2024-11-10T05:13:39.639Z"
   },
   {
    "duration": 2419,
    "start_time": "2024-11-10T05:13:39.686Z"
   },
   {
    "duration": 0,
    "start_time": "2024-11-10T05:13:42.108Z"
   },
   {
    "duration": 0,
    "start_time": "2024-11-10T05:13:42.109Z"
   },
   {
    "duration": 0,
    "start_time": "2024-11-10T05:13:42.111Z"
   },
   {
    "duration": 0,
    "start_time": "2024-11-10T05:13:42.112Z"
   },
   {
    "duration": 0,
    "start_time": "2024-11-10T05:13:42.114Z"
   },
   {
    "duration": 0,
    "start_time": "2024-11-10T05:13:42.115Z"
   },
   {
    "duration": 0,
    "start_time": "2024-11-10T05:13:42.116Z"
   },
   {
    "duration": 0,
    "start_time": "2024-11-10T05:13:42.118Z"
   },
   {
    "duration": 0,
    "start_time": "2024-11-10T05:13:42.120Z"
   },
   {
    "duration": 0,
    "start_time": "2024-11-10T05:13:42.121Z"
   },
   {
    "duration": 0,
    "start_time": "2024-11-10T05:13:42.123Z"
   },
   {
    "duration": 0,
    "start_time": "2024-11-10T05:13:42.124Z"
   },
   {
    "duration": 0,
    "start_time": "2024-11-10T05:13:42.126Z"
   },
   {
    "duration": 17,
    "start_time": "2024-11-10T05:16:13.082Z"
   },
   {
    "duration": 17,
    "start_time": "2024-11-10T05:18:50.434Z"
   },
   {
    "duration": 56,
    "start_time": "2024-11-10T05:22:21.442Z"
   },
   {
    "duration": 9,
    "start_time": "2024-11-10T05:22:52.685Z"
   },
   {
    "duration": 4,
    "start_time": "2024-11-10T05:27:21.852Z"
   },
   {
    "duration": 4,
    "start_time": "2024-11-10T05:27:25.752Z"
   },
   {
    "duration": 13,
    "start_time": "2024-11-10T05:30:25.144Z"
   },
   {
    "duration": 289,
    "start_time": "2024-11-10T05:31:27.822Z"
   },
   {
    "duration": 6,
    "start_time": "2024-11-10T05:31:44.626Z"
   },
   {
    "duration": 5,
    "start_time": "2024-11-10T05:34:46.509Z"
   },
   {
    "duration": 437,
    "start_time": "2024-11-10T05:35:00.446Z"
   },
   {
    "duration": 18,
    "start_time": "2024-11-10T05:39:50.647Z"
   },
   {
    "duration": 734,
    "start_time": "2024-11-10T05:40:18.339Z"
   },
   {
    "duration": 140,
    "start_time": "2024-11-10T05:58:00.126Z"
   },
   {
    "duration": 182,
    "start_time": "2024-11-10T05:59:31.192Z"
   },
   {
    "duration": 173,
    "start_time": "2024-11-10T05:59:41.239Z"
   },
   {
    "duration": 13,
    "start_time": "2024-11-10T05:59:56.858Z"
   },
   {
    "duration": 12,
    "start_time": "2024-11-10T06:00:02.811Z"
   },
   {
    "duration": 4,
    "start_time": "2024-11-10T06:00:24.016Z"
   },
   {
    "duration": 5,
    "start_time": "2024-11-10T06:00:27.758Z"
   },
   {
    "duration": 8,
    "start_time": "2024-11-10T06:00:36.973Z"
   },
   {
    "duration": 6,
    "start_time": "2024-11-10T06:00:43.363Z"
   },
   {
    "duration": 8,
    "start_time": "2024-11-10T06:00:51.553Z"
   },
   {
    "duration": 329,
    "start_time": "2024-11-11T03:30:12.937Z"
   },
   {
    "duration": 3,
    "start_time": "2024-11-11T03:30:19.377Z"
   },
   {
    "duration": 3,
    "start_time": "2024-11-11T03:30:24.400Z"
   },
   {
    "duration": 3,
    "start_time": "2024-11-11T03:30:44.553Z"
   },
   {
    "duration": 3,
    "start_time": "2024-11-11T03:30:46.154Z"
   },
   {
    "duration": 7,
    "start_time": "2024-11-11T03:31:02.444Z"
   },
   {
    "duration": 5,
    "start_time": "2024-11-11T03:31:03.953Z"
   },
   {
    "duration": 13,
    "start_time": "2024-11-11T03:31:12.158Z"
   },
   {
    "duration": 16,
    "start_time": "2024-11-11T03:31:19.469Z"
   },
   {
    "duration": 36,
    "start_time": "2024-11-11T03:45:33.112Z"
   },
   {
    "duration": 2,
    "start_time": "2024-11-11T03:45:39.911Z"
   },
   {
    "duration": 4,
    "start_time": "2024-11-11T03:45:44.099Z"
   },
   {
    "duration": 3,
    "start_time": "2024-11-11T03:45:49.025Z"
   },
   {
    "duration": 7,
    "start_time": "2024-11-11T03:45:53.929Z"
   },
   {
    "duration": 4,
    "start_time": "2024-11-11T03:46:00.773Z"
   },
   {
    "duration": 14,
    "start_time": "2024-11-11T03:46:11.485Z"
   },
   {
    "duration": 16,
    "start_time": "2024-11-11T03:46:20.260Z"
   },
   {
    "duration": 33,
    "start_time": "2024-11-11T03:47:56.587Z"
   },
   {
    "duration": 3,
    "start_time": "2024-11-11T03:48:03.724Z"
   },
   {
    "duration": 4,
    "start_time": "2024-11-11T03:48:07.677Z"
   },
   {
    "duration": 5,
    "start_time": "2024-11-11T03:48:11.722Z"
   },
   {
    "duration": 6,
    "start_time": "2024-11-11T03:48:16.629Z"
   },
   {
    "duration": 6,
    "start_time": "2024-11-11T03:48:18.698Z"
   },
   {
    "duration": 13,
    "start_time": "2024-11-11T03:48:23.368Z"
   },
   {
    "duration": 10,
    "start_time": "2024-11-11T03:48:29.001Z"
   },
   {
    "duration": 15,
    "start_time": "2024-11-11T03:48:43.945Z"
   },
   {
    "duration": 4,
    "start_time": "2024-11-11T03:54:18.037Z"
   },
   {
    "duration": 17,
    "start_time": "2024-11-11T03:54:27.921Z"
   },
   {
    "duration": 5,
    "start_time": "2024-11-11T03:55:01.588Z"
   },
   {
    "duration": 6,
    "start_time": "2024-11-11T03:55:10.815Z"
   },
   {
    "duration": 11,
    "start_time": "2024-11-11T03:55:17.628Z"
   },
   {
    "duration": 8,
    "start_time": "2024-11-11T03:55:25.704Z"
   },
   {
    "duration": 6,
    "start_time": "2024-11-11T03:55:37.992Z"
   },
   {
    "duration": 2271,
    "start_time": "2024-11-11T03:55:43.701Z"
   },
   {
    "duration": 398,
    "start_time": "2024-11-11T03:59:10.530Z"
   },
   {
    "duration": 412,
    "start_time": "2024-11-11T03:59:29.318Z"
   },
   {
    "duration": 351,
    "start_time": "2024-11-11T04:00:42.445Z"
   },
   {
    "duration": 7,
    "start_time": "2024-11-11T04:01:28.705Z"
   },
   {
    "duration": 315,
    "start_time": "2024-11-11T04:01:49.894Z"
   },
   {
    "duration": 18,
    "start_time": "2024-11-11T04:05:00.210Z"
   },
   {
    "duration": 649,
    "start_time": "2024-11-11T04:05:09.071Z"
   },
   {
    "duration": 117,
    "start_time": "2024-11-11T04:05:42.818Z"
   },
   {
    "duration": 115,
    "start_time": "2024-11-11T04:05:59.739Z"
   },
   {
    "duration": 35,
    "start_time": "2024-11-11T04:12:00.282Z"
   },
   {
    "duration": 35,
    "start_time": "2024-11-11T04:12:40.919Z"
   },
   {
    "duration": 3,
    "start_time": "2024-11-11T04:12:49.109Z"
   },
   {
    "duration": 4,
    "start_time": "2024-11-11T04:12:53.307Z"
   },
   {
    "duration": 4,
    "start_time": "2024-11-11T04:13:03.037Z"
   },
   {
    "duration": 3,
    "start_time": "2024-11-11T04:13:06.664Z"
   },
   {
    "duration": 12,
    "start_time": "2024-11-11T04:13:14.020Z"
   },
   {
    "duration": 793,
    "start_time": "2024-11-11T04:13:23.508Z"
   },
   {
    "duration": 34,
    "start_time": "2024-11-11T04:14:29.566Z"
   },
   {
    "duration": 3,
    "start_time": "2024-11-11T04:14:37.602Z"
   },
   {
    "duration": 3,
    "start_time": "2024-11-11T04:14:39.194Z"
   },
   {
    "duration": 4,
    "start_time": "2024-11-11T04:14:45.334Z"
   },
   {
    "duration": 10,
    "start_time": "2024-11-11T04:14:51.376Z"
   },
   {
    "duration": 5,
    "start_time": "2024-11-11T04:14:53.592Z"
   },
   {
    "duration": 12,
    "start_time": "2024-11-11T04:15:00.068Z"
   },
   {
    "duration": 9,
    "start_time": "2024-11-11T04:15:08.751Z"
   },
   {
    "duration": 10,
    "start_time": "2024-11-11T04:18:05.501Z"
   },
   {
    "duration": 13,
    "start_time": "2024-11-11T04:18:13.155Z"
   },
   {
    "duration": 4,
    "start_time": "2024-11-11T04:18:25.740Z"
   },
   {
    "duration": 17,
    "start_time": "2024-11-11T04:18:31.284Z"
   },
   {
    "duration": 6,
    "start_time": "2024-11-11T04:18:39.609Z"
   },
   {
    "duration": 7,
    "start_time": "2024-11-11T04:18:47.135Z"
   },
   {
    "duration": 11,
    "start_time": "2024-11-11T04:18:53.487Z"
   },
   {
    "duration": 9,
    "start_time": "2024-11-11T04:18:59.142Z"
   },
   {
    "duration": 6,
    "start_time": "2024-11-11T04:19:05.548Z"
   },
   {
    "duration": 365,
    "start_time": "2024-11-11T04:19:11.528Z"
   },
   {
    "duration": 17,
    "start_time": "2024-11-11T04:26:08.239Z"
   },
   {
    "duration": 272,
    "start_time": "2024-11-11T04:26:19.985Z"
   },
   {
    "duration": 142,
    "start_time": "2024-11-11T04:26:29.388Z"
   },
   {
    "duration": 181,
    "start_time": "2024-11-11T04:27:17.391Z"
   },
   {
    "duration": 171,
    "start_time": "2024-11-11T04:27:32.030Z"
   },
   {
    "duration": 29,
    "start_time": "2024-11-11T04:27:41.422Z"
   },
   {
    "duration": 12,
    "start_time": "2024-11-11T04:27:55.739Z"
   },
   {
    "duration": 10,
    "start_time": "2024-11-11T04:28:22.799Z"
   },
   {
    "duration": 9,
    "start_time": "2024-11-11T04:28:37.389Z"
   },
   {
    "duration": 7,
    "start_time": "2024-11-11T04:29:08.078Z"
   },
   {
    "duration": 7,
    "start_time": "2024-11-11T04:29:38.372Z"
   },
   {
    "duration": 8,
    "start_time": "2024-11-11T04:29:53.336Z"
   },
   {
    "duration": 9,
    "start_time": "2024-11-11T04:30:17.340Z"
   },
   {
    "duration": 14,
    "start_time": "2024-11-11T04:34:19.087Z"
   },
   {
    "duration": 967,
    "start_time": "2024-11-11T16:39:36.520Z"
   },
   {
    "duration": 64,
    "start_time": "2024-11-11T16:40:30.864Z"
   },
   {
    "duration": 3,
    "start_time": "2024-11-11T16:40:38.906Z"
   },
   {
    "duration": 3,
    "start_time": "2024-11-11T16:40:41.155Z"
   },
   {
    "duration": 5,
    "start_time": "2024-11-11T16:40:47.818Z"
   },
   {
    "duration": 3,
    "start_time": "2024-11-11T16:40:49.807Z"
   },
   {
    "duration": 8,
    "start_time": "2024-11-11T16:40:53.414Z"
   },
   {
    "duration": 5,
    "start_time": "2024-11-11T16:40:55.407Z"
   },
   {
    "duration": 23,
    "start_time": "2024-11-11T16:41:00.970Z"
   },
   {
    "duration": 12,
    "start_time": "2024-11-11T16:41:09.854Z"
   },
   {
    "duration": 26,
    "start_time": "2024-11-11T16:41:17.413Z"
   },
   {
    "duration": 20,
    "start_time": "2024-11-11T16:42:07.207Z"
   },
   {
    "duration": 396,
    "start_time": "2024-11-11T16:47:22.906Z"
   },
   {
    "duration": 3,
    "start_time": "2024-11-11T16:47:23.309Z"
   },
   {
    "duration": 5,
    "start_time": "2024-11-11T16:47:23.314Z"
   },
   {
    "duration": 4,
    "start_time": "2024-11-11T16:47:23.321Z"
   },
   {
    "duration": 8,
    "start_time": "2024-11-11T16:47:23.326Z"
   },
   {
    "duration": 5,
    "start_time": "2024-11-11T16:47:23.336Z"
   },
   {
    "duration": 13,
    "start_time": "2024-11-11T16:47:23.343Z"
   },
   {
    "duration": 12,
    "start_time": "2024-11-11T16:47:23.358Z"
   },
   {
    "duration": 19,
    "start_time": "2024-11-11T16:47:23.410Z"
   },
   {
    "duration": 5,
    "start_time": "2024-11-11T16:47:23.434Z"
   },
   {
    "duration": 19,
    "start_time": "2024-11-11T16:47:23.441Z"
   },
   {
    "duration": 5,
    "start_time": "2024-11-11T16:47:23.462Z"
   },
   {
    "duration": 41,
    "start_time": "2024-11-11T16:47:23.469Z"
   },
   {
    "duration": 13,
    "start_time": "2024-11-11T16:47:23.512Z"
   },
   {
    "duration": 9,
    "start_time": "2024-11-11T16:47:23.528Z"
   },
   {
    "duration": 7,
    "start_time": "2024-11-11T16:47:23.539Z"
   },
   {
    "duration": 2463,
    "start_time": "2024-11-11T16:47:23.547Z"
   },
   {
    "duration": 22,
    "start_time": "2024-11-11T16:47:26.012Z"
   },
   {
    "duration": 727,
    "start_time": "2024-11-11T16:47:26.037Z"
   },
   {
    "duration": 156,
    "start_time": "2024-11-11T16:47:26.766Z"
   },
   {
    "duration": 207,
    "start_time": "2024-11-11T16:47:26.924Z"
   },
   {
    "duration": 271,
    "start_time": "2024-11-11T16:47:27.133Z"
   },
   {
    "duration": 34,
    "start_time": "2024-11-11T16:47:27.409Z"
   },
   {
    "duration": 21,
    "start_time": "2024-11-11T16:47:27.444Z"
   },
   {
    "duration": 12,
    "start_time": "2024-11-11T16:47:27.467Z"
   },
   {
    "duration": 28,
    "start_time": "2024-11-11T16:47:27.481Z"
   },
   {
    "duration": 10,
    "start_time": "2024-11-11T16:47:27.511Z"
   },
   {
    "duration": 12,
    "start_time": "2024-11-11T16:47:27.526Z"
   },
   {
    "duration": 7,
    "start_time": "2024-11-11T16:47:27.541Z"
   },
   {
    "duration": 13,
    "start_time": "2024-11-11T16:47:27.550Z"
   },
   {
    "duration": 8,
    "start_time": "2024-11-11T16:47:27.566Z"
   },
   {
    "duration": 18,
    "start_time": "2024-11-11T16:48:09.292Z"
   },
   {
    "duration": 360,
    "start_time": "2024-11-11T16:48:34.802Z"
   },
   {
    "duration": 3,
    "start_time": "2024-11-11T16:54:20.727Z"
   },
   {
    "duration": 37,
    "start_time": "2024-11-11T16:55:36.342Z"
   },
   {
    "duration": 3,
    "start_time": "2024-11-11T16:55:41.695Z"
   },
   {
    "duration": 3,
    "start_time": "2024-11-11T16:55:46.803Z"
   },
   {
    "duration": 45,
    "start_time": "2024-11-11T16:57:50.186Z"
   },
   {
    "duration": 2,
    "start_time": "2024-11-11T16:57:55.972Z"
   },
   {
    "duration": 4,
    "start_time": "2024-11-11T16:58:00.665Z"
   },
   {
    "duration": 3,
    "start_time": "2024-11-11T16:58:06.193Z"
   },
   {
    "duration": 4,
    "start_time": "2024-11-11T16:58:54.034Z"
   },
   {
    "duration": 8,
    "start_time": "2024-11-11T17:04:44.777Z"
   },
   {
    "duration": 7,
    "start_time": "2024-11-11T17:06:48.730Z"
   },
   {
    "duration": 690,
    "start_time": "2024-11-11T17:11:02.975Z"
   },
   {
    "duration": 416,
    "start_time": "2024-11-11T17:11:47.116Z"
   },
   {
    "duration": 3,
    "start_time": "2024-11-11T17:11:47.535Z"
   },
   {
    "duration": 4,
    "start_time": "2024-11-11T17:11:47.540Z"
   },
   {
    "duration": 8,
    "start_time": "2024-11-11T17:11:47.547Z"
   },
   {
    "duration": 5,
    "start_time": "2024-11-11T17:11:47.559Z"
   },
   {
    "duration": 9,
    "start_time": "2024-11-11T17:11:47.566Z"
   },
   {
    "duration": 5,
    "start_time": "2024-11-11T17:11:47.577Z"
   },
   {
    "duration": 18,
    "start_time": "2024-11-11T17:11:47.611Z"
   },
   {
    "duration": 14,
    "start_time": "2024-11-11T17:11:47.633Z"
   },
   {
    "duration": 20,
    "start_time": "2024-11-11T17:11:47.651Z"
   },
   {
    "duration": 4,
    "start_time": "2024-11-11T17:11:47.673Z"
   },
   {
    "duration": 46,
    "start_time": "2024-11-11T17:11:47.680Z"
   },
   {
    "duration": 5,
    "start_time": "2024-11-11T17:11:47.728Z"
   },
   {
    "duration": 6,
    "start_time": "2024-11-11T17:11:47.735Z"
   },
   {
    "duration": 12,
    "start_time": "2024-11-11T17:11:47.743Z"
   },
   {
    "duration": 9,
    "start_time": "2024-11-11T17:11:47.757Z"
   },
   {
    "duration": 43,
    "start_time": "2024-11-11T17:11:47.769Z"
   },
   {
    "duration": 602,
    "start_time": "2024-11-11T17:11:47.816Z"
   },
   {
    "duration": 19,
    "start_time": "2024-11-11T17:11:48.420Z"
   },
   {
    "duration": 727,
    "start_time": "2024-11-11T17:11:48.441Z"
   },
   {
    "duration": 162,
    "start_time": "2024-11-11T17:11:49.171Z"
   },
   {
    "duration": 213,
    "start_time": "2024-11-11T17:11:49.336Z"
   },
   {
    "duration": 194,
    "start_time": "2024-11-11T17:11:49.551Z"
   },
   {
    "duration": 45,
    "start_time": "2024-11-11T17:11:49.746Z"
   },
   {
    "duration": 19,
    "start_time": "2024-11-11T17:11:49.793Z"
   },
   {
    "duration": 12,
    "start_time": "2024-11-11T17:11:49.814Z"
   },
   {
    "duration": 10,
    "start_time": "2024-11-11T17:11:49.828Z"
   },
   {
    "duration": 16,
    "start_time": "2024-11-11T17:11:49.843Z"
   },
   {
    "duration": 3,
    "start_time": "2024-11-11T17:11:49.861Z"
   },
   {
    "duration": 7,
    "start_time": "2024-11-11T17:11:49.866Z"
   },
   {
    "duration": 14,
    "start_time": "2024-11-11T17:12:02.390Z"
   },
   {
    "duration": 401,
    "start_time": "2024-11-11T18:02:11.048Z"
   },
   {
    "duration": 4,
    "start_time": "2024-11-11T18:02:11.451Z"
   },
   {
    "duration": 4,
    "start_time": "2024-11-11T18:02:11.457Z"
   },
   {
    "duration": 8,
    "start_time": "2024-11-11T18:02:11.463Z"
   },
   {
    "duration": 4,
    "start_time": "2024-11-11T18:02:11.472Z"
   },
   {
    "duration": 32,
    "start_time": "2024-11-11T18:02:11.478Z"
   },
   {
    "duration": 5,
    "start_time": "2024-11-11T18:02:11.513Z"
   },
   {
    "duration": 14,
    "start_time": "2024-11-11T18:02:11.520Z"
   },
   {
    "duration": 14,
    "start_time": "2024-11-11T18:02:11.536Z"
   },
   {
    "duration": 19,
    "start_time": "2024-11-11T18:02:11.555Z"
   },
   {
    "duration": 33,
    "start_time": "2024-11-11T18:02:11.576Z"
   },
   {
    "duration": 20,
    "start_time": "2024-11-11T18:02:11.611Z"
   },
   {
    "duration": 6,
    "start_time": "2024-11-11T18:02:11.634Z"
   },
   {
    "duration": 5,
    "start_time": "2024-11-11T18:02:11.642Z"
   },
   {
    "duration": 13,
    "start_time": "2024-11-11T18:02:11.650Z"
   },
   {
    "duration": 10,
    "start_time": "2024-11-11T18:02:11.665Z"
   },
   {
    "duration": 6,
    "start_time": "2024-11-11T18:02:11.710Z"
   },
   {
    "duration": 582,
    "start_time": "2024-11-11T18:02:11.718Z"
   },
   {
    "duration": 19,
    "start_time": "2024-11-11T18:02:12.302Z"
   },
   {
    "duration": 741,
    "start_time": "2024-11-11T18:02:12.323Z"
   },
   {
    "duration": 169,
    "start_time": "2024-11-11T18:02:13.066Z"
   },
   {
    "duration": 207,
    "start_time": "2024-11-11T18:02:13.237Z"
   },
   {
    "duration": 204,
    "start_time": "2024-11-11T18:02:13.446Z"
   },
   {
    "duration": 30,
    "start_time": "2024-11-11T18:02:13.652Z"
   },
   {
    "duration": 32,
    "start_time": "2024-11-11T18:02:13.684Z"
   },
   {
    "duration": 13,
    "start_time": "2024-11-11T18:02:13.718Z"
   },
   {
    "duration": 10,
    "start_time": "2024-11-11T18:02:13.734Z"
   },
   {
    "duration": 16,
    "start_time": "2024-11-11T18:02:13.748Z"
   },
   {
    "duration": 386,
    "start_time": "2024-11-11T18:02:58.571Z"
   },
   {
    "duration": 351,
    "start_time": "2024-11-11T18:06:01.437Z"
   },
   {
    "duration": 840,
    "start_time": "2024-11-13T02:45:31.855Z"
   },
   {
    "duration": 44,
    "start_time": "2024-11-13T02:45:57.880Z"
   },
   {
    "duration": 3,
    "start_time": "2024-11-13T02:45:57.926Z"
   },
   {
    "duration": 3,
    "start_time": "2024-11-13T02:45:57.931Z"
   },
   {
    "duration": 6,
    "start_time": "2024-11-13T02:45:57.951Z"
   },
   {
    "duration": 3,
    "start_time": "2024-11-13T02:45:57.967Z"
   },
   {
    "duration": 5,
    "start_time": "2024-11-13T02:45:58.001Z"
   },
   {
    "duration": 4,
    "start_time": "2024-11-13T02:45:58.020Z"
   },
   {
    "duration": 11,
    "start_time": "2024-11-13T02:45:58.047Z"
   },
   {
    "duration": 10,
    "start_time": "2024-11-13T02:45:58.078Z"
   },
   {
    "duration": 15,
    "start_time": "2024-11-13T02:45:58.115Z"
   },
   {
    "duration": 3,
    "start_time": "2024-11-13T02:45:58.161Z"
   },
   {
    "duration": 17,
    "start_time": "2024-11-13T02:45:58.183Z"
   },
   {
    "duration": 5,
    "start_time": "2024-11-13T02:45:58.203Z"
   },
   {
    "duration": 4,
    "start_time": "2024-11-13T02:45:58.224Z"
   },
   {
    "duration": 11,
    "start_time": "2024-11-13T02:45:58.244Z"
   },
   {
    "duration": 8,
    "start_time": "2024-11-13T02:45:58.257Z"
   },
   {
    "duration": 4,
    "start_time": "2024-11-13T02:45:58.278Z"
   },
   {
    "duration": 2266,
    "start_time": "2024-11-13T02:45:58.300Z"
   },
   {
    "duration": 18,
    "start_time": "2024-11-13T02:46:00.568Z"
   },
   {
    "duration": 341,
    "start_time": "2024-11-13T02:46:00.588Z"
   },
   {
    "duration": 144,
    "start_time": "2024-11-13T02:46:00.932Z"
   },
   {
    "duration": 185,
    "start_time": "2024-11-13T02:46:01.078Z"
   },
   {
    "duration": 193,
    "start_time": "2024-11-13T02:46:01.265Z"
   },
   {
    "duration": 90,
    "start_time": "2024-11-13T02:46:01.459Z"
   },
   {
    "duration": 11,
    "start_time": "2024-11-13T02:46:01.551Z"
   },
   {
    "duration": 10,
    "start_time": "2024-11-13T02:46:01.564Z"
   },
   {
    "duration": 32,
    "start_time": "2024-11-13T02:46:01.576Z"
   },
   {
    "duration": 14,
    "start_time": "2024-11-13T02:46:01.609Z"
   }
  ],
  "kernelspec": {
   "display_name": "Python 3 (ipykernel)",
   "language": "python",
   "name": "python3"
  },
  "language_info": {
   "codemirror_mode": {
    "name": "ipython",
    "version": 3
   },
   "file_extension": ".py",
   "mimetype": "text/x-python",
   "name": "python",
   "nbconvert_exporter": "python",
   "pygments_lexer": "ipython3",
   "version": "3.9.19"
  },
  "toc": {
   "base_numbering": 1,
   "nav_menu": {},
   "number_sections": true,
   "sideBar": true,
   "skip_h1_title": true,
   "title_cell": "Table of Contents",
   "title_sidebar": "Contents",
   "toc_cell": false,
   "toc_position": {},
   "toc_section_display": true,
   "toc_window_display": false
  }
 },
 "nbformat": 4,
 "nbformat_minor": 2
}
