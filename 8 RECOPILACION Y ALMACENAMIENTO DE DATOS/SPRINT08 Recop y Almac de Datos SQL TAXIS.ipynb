{
 "cells": [
  {
   "cell_type": "markdown",
   "metadata": {},
   "source": [
    "# ¡Hola Alejandra! 😊\n",
    "\n",
    "Mi nombre es **Alejandro Castellanos** y hoy tengo el placer de ser el revisor de tu proyecto.\n",
    "\n",
    "Voy a revisar todo tu código con detalle, buscando tanto los puntos fuertes como aquellos en los que podrías mejorar. Te dejaré comentarios a lo largo del notebook, destacando lo que has hecho bien y sugiriendo ajustes donde sea necesario. Si encuentro algún error, no te preocupes, te lo haré saber de forma clara y te daré información útil para que puedas corregirlo en la próxima. Si en algún punto tienes comentarios, siéntete libre de dejarlos también.\n",
    "\n",
    "\n",
    "Encontrarás mis comentarios específicos dentro de cajas verdes, amarillas o rojas, es muy importante que no muevas, modifiques o borres mis comentarios, con el fin de tener un seguimiento adecuado de tu proceso.:\n",
    "\n",
    "\n",
    "<div class=\"alert alert-block alert-success\">\n",
    "<b>Comentario del revisor</b> <a class=“tocSkip”></a>\n",
    "Si todo está perfecto.\n",
    "</div>\n",
    "\n",
    "<div class=\"alert alert-block alert-warning\">\n",
    "<b>Comentario del revisor</b> <a class=“tocSkip”></a>\n",
    "Si tu código está bien pero se puede mejorar o hay algún detalle que le hace falta.\n",
    "</div>\n",
    "\n",
    "<div class=\"alert alert-block alert-danger\">\n",
    "<b>Comentario del revisor</b> <a class=“tocSkip”></a>\n",
    "Si de pronto hace falta algo o existe algún problema con tu código o conclusiones.\n",
    "</div>\n",
    "\n",
    "Puedes responderme de esta forma:\n",
    "<div class=\"alert alert-block alert-info\">\n",
    "<b>Respuesta del estudiante</b> <a class=“tocSkip”></a>\n",
    "</div>\n",
    "\n",
    "A continuación te dejaré un comentario general con mi valoración del proyecto. **¡Mi objetivo es que sigas aprendiendo y mejorando con cada paso!**"
   ]
  },
  {
   "cell_type": "markdown",
   "metadata": {},
   "source": [
    "----"
   ]
  },
  {
   "cell_type": "markdown",
   "metadata": {},
   "source": [
    "<div class=\"alert alert-block alert-success\">\n",
    "<b>Comentario General del revisor (1ra Iteración)</b> <a class=“tocSkip”></a>\n",
    "    \n",
    "Alewjandra, completaste todas las tareas propuestas para el proyecto de manera sobresaliente, lo que te ha llevado a una aprobación bien merecida. Demuestras un excelente manejo de las herramientas de visualización de datos y de las pruebas de hipótesis, lo cual fortalece notablemente tu análisis. Continúa desarrollando estas habilidades, ya que estás en el camino correcto para lograr aún más en futuros proyectos. Éxitos en tu próximo sprint 🚀\n",
    "\n",
    "</div>"
   ]
  },
  {
   "cell_type": "markdown",
   "metadata": {},
   "source": [
    "----\n"
   ]
  },
  {
   "cell_type": "code",
   "execution_count": 1,
   "metadata": {},
   "outputs": [],
   "source": [
    "import pandas as pd\n",
    "import matplotlib.pyplot as plt\n",
    "import seaborn as sns\n",
    "\n",
    "\n",
    "# Configurar estilo de gráficos\n",
    "sns.set(style=\"whitegrid\")\n",
    "\n",
    "# 1. Importar los archivos CSV\n",
    "file_01 = '/datasets/project_sql_result_01.csv'\n",
    "file_04 = '/datasets/project_sql_result_04.csv'\n",
    "\n",
    "\n",
    "# Leer los datasets\n",
    "df_companies = pd.read_csv(file_01)\n",
    "df_neighborhoods = pd.read_csv(file_04)\n",
    "\n",
    "\n"
   ]
  },
  {
   "cell_type": "markdown",
   "metadata": {},
   "source": [
    "2. EXPLORACION DE LOS DATOS\n",
    "\n",
    "info() y describe() verifican tipos de datos, valores faltantes y estadísticas descriptivas."
   ]
  },
  {
   "cell_type": "code",
   "execution_count": 11,
   "metadata": {
    "scrolled": true
   },
   "outputs": [
    {
     "name": "stdout",
     "output_type": "stream",
     "text": [
      "Información general sobre los datos de empresas de taxis:\n",
      "<class 'pandas.core.frame.DataFrame'>\n",
      "RangeIndex: 64 entries, 0 to 63\n",
      "Data columns (total 2 columns):\n",
      " #   Column        Non-Null Count  Dtype \n",
      "---  ------        --------------  ----- \n",
      " 0   company_name  64 non-null     object\n",
      " 1   trips_amount  64 non-null     int64 \n",
      "dtypes: int64(1), object(1)\n",
      "memory usage: 1.1+ KB\n",
      "None\n",
      "\n",
      "Descripción estadística de la cantidad de viajes por empresa:\n",
      "       trips_amount\n",
      "count     64.000000\n",
      "mean    2145.484375\n",
      "std     3812.310186\n",
      "min        2.000000\n",
      "25%       20.750000\n",
      "50%      178.500000\n",
      "75%     2106.500000\n",
      "max    19558.000000\n",
      "\n",
      "Vista previa de los datos:\n",
      "                      company_name  trips_amount\n",
      "0                        Flash Cab         19558\n",
      "1        Taxi Affiliation Services         11422\n",
      "2                Medallion Leasing         10367\n",
      "3                       Yellow Cab          9888\n",
      "4  Taxi Affiliation Service Yellow          9299\n",
      "\n",
      "Empresas con la mayor cantidad de viajes:\n",
      "                      company_name  trips_amount\n",
      "0                        Flash Cab         19558\n",
      "1        Taxi Affiliation Services         11422\n",
      "2                Medallion Leasing         10367\n",
      "3                       Yellow Cab          9888\n",
      "4  Taxi Affiliation Service Yellow          9299\n",
      "Número de nombres duplicados en 'company_name': 0\n",
      "Número de valores negativos en 'trips_amount': 0\n"
     ]
    }
   ],
   "source": [
    "print(\"Información general sobre los datos de empresas de taxis:\")\n",
    "print(df_companies.info())  \n",
    "\n",
    "print(\"\\nDescripción estadística de la cantidad de viajes por empresa:\")\n",
    "print(df_companies.describe())  \n",
    "\n",
    "print(\"\\nVista previa de los datos:\")\n",
    "print(df_companies.head())\n",
    "\n",
    "print(\"\\nEmpresas con la mayor cantidad de viajes:\")\n",
    "print(df_companies.sort_values(by='trips_amount', ascending=False).head(5))\n",
    "\n",
    "# Revisar duplicados en los nombres de empresas\n",
    "duplicated_names = df_companies['company_name'].duplicated().sum()\n",
    "print(f\"Número de nombres duplicados en 'company_name': {duplicated_names}\")\n",
    "\n",
    "# Revisar valores negativos en trips_amount\n",
    "negative_trips = (df_companies['trips_amount'] < 0).sum()\n",
    "print(f\"Número de valores negativos en 'trips_amount': {negative_trips}\")\n",
    "\n"
   ]
  },
  {
   "cell_type": "markdown",
   "metadata": {},
   "source": [
    "<div class=\"alert alert-block alert-success\">\n",
    "<b>Comentario del revisor (1ra Iteración)</b> <a class=“tocSkip”></a>\n",
    "\n",
    "Muy buen trabajo explorando los datos y haciendo la comprobación de los datos duplicados.\n",
    "\n",
    "</div>"
   ]
  },
  {
   "cell_type": "code",
   "execution_count": 13,
   "metadata": {},
   "outputs": [
    {
     "name": "stdout",
     "output_type": "stream",
     "text": [
      "Información general sobre los datos de barrios:\n",
      "<class 'pandas.core.frame.DataFrame'>\n",
      "RangeIndex: 94 entries, 0 to 93\n",
      "Data columns (total 2 columns):\n",
      " #   Column                 Non-Null Count  Dtype  \n",
      "---  ------                 --------------  -----  \n",
      " 0   dropoff_location_name  94 non-null     object \n",
      " 1   average_trips          94 non-null     float64\n",
      "dtypes: float64(1), object(1)\n",
      "memory usage: 1.6+ KB\n",
      "None\n",
      "\n",
      "Descripción estadística del promedio de finalización de viajes por barrio:\n",
      "       average_trips\n",
      "count      94.000000\n",
      "mean      599.953728\n",
      "std      1714.591098\n",
      "min         1.800000\n",
      "25%        14.266667\n",
      "50%        52.016667\n",
      "75%       298.858333\n",
      "max     10727.466667\n",
      "\n",
      "Vista previa de los datos:\n",
      "  dropoff_location_name  average_trips\n",
      "0                  Loop   10727.466667\n",
      "1           River North    9523.666667\n",
      "2         Streeterville    6664.666667\n",
      "3             West Loop    5163.666667\n",
      "4                O'Hare    2546.900000\n",
      "\n",
      "Nombres duplicados en 'dropoff_location_name': 0\n",
      "\n",
      "Barrios con valores extremadamente altos en 'average_trips':\n",
      "  dropoff_location_name  average_trips\n",
      "0                  Loop   10727.466667\n",
      "1           River North    9523.666667\n",
      "2         Streeterville    6664.666667\n",
      "\n",
      "Barrios con valores extremadamente bajos en 'average_trips':\n",
      "Empty DataFrame\n",
      "Columns: [dropoff_location_name, average_trips]\n",
      "Index: []\n",
      "\n",
      "Barrios con el mayor promedio de finalización de viajes:\n",
      "  dropoff_location_name  average_trips\n",
      "0                  Loop   10727.466667\n",
      "1           River North    9523.666667\n",
      "2         Streeterville    6664.666667\n",
      "3             West Loop    5163.666667\n",
      "4                O'Hare    2546.900000\n",
      "5             Lake View    2420.966667\n",
      "6            Grant Park    2068.533333\n",
      "7         Museum Campus    1510.000000\n",
      "8            Gold Coast    1364.233333\n",
      "9    Sheffield & DePaul    1259.766667\n"
     ]
    }
   ],
   "source": [
    "# Información básica\n",
    "print(\"Información general sobre los datos de barrios:\")\n",
    "print(df_neighborhoods.info())\n",
    "\n",
    "print(\"\\nDescripción estadística del promedio de finalización de viajes por barrio:\")\n",
    "print(df_neighborhoods.describe())\n",
    "\n",
    "print(\"\\nVista previa de los datos:\")\n",
    "print(df_neighborhoods.head())\n",
    "\n",
    "# Verificar duplicados\n",
    "duplicated_locations = df_neighborhoods['dropoff_location_name'].duplicated().sum()\n",
    "print(f\"\\nNombres duplicados en 'dropoff_location_name': {duplicated_locations}\")\n",
    "\n",
    "# Verificar valores extremos\n",
    "print(\"\\nBarrios con valores extremadamente altos en 'average_trips':\")\n",
    "print(df_neighborhoods[df_neighborhoods['average_trips'] > (df_neighborhoods['average_trips'].mean() + 3 * df_neighborhoods['average_trips'].std())])\n",
    "\n",
    "print(\"\\nBarrios con valores extremadamente bajos en 'average_trips':\")\n",
    "print(df_neighborhoods[df_neighborhoods['average_trips'] < (df_neighborhoods['average_trips'].mean() - 3 * df_neighborhoods['average_trips'].std())])\n",
    "\n",
    "print(\"\\nBarrios con el mayor promedio de finalización de viajes:\")\n",
    "print(df_neighborhoods.sort_values(by='average_trips', ascending=False).head(10))\n"
   ]
  },
  {
   "cell_type": "markdown",
   "metadata": {},
   "source": [
    "<div class=\"alert alert-block alert-success\">\n",
    "<b>Comentario del revisor (1ra Iteración)</b> <a class=“tocSkip”></a>\n",
    "\n",
    "Excelente análisis exploratorio de datos, esto permite tener una visión preliminar de la información con la que estamos trabajando.\n",
    "</div>"
   ]
  },
  {
   "cell_type": "markdown",
   "metadata": {},
   "source": [
    "4.IDENTIFICAR LOS 10 PRINCIPALES BARRIOS EN TÉRMINOS DE FINALIZACION \n",
    "( se muestran los lugares de finalización con más viajes promedio)"
   ]
  },
  {
   "cell_type": "code",
   "execution_count": 28,
   "metadata": {},
   "outputs": [
    {
     "name": "stdout",
     "output_type": "stream",
     "text": [
      "  dropoff_location_name  average_trips\n",
      "0                  Loop   10727.466667\n",
      "1           River North    9523.666667\n",
      "2         Streeterville    6664.666667\n",
      "3             West Loop    5163.666667\n",
      "4                O'Hare    2546.900000\n",
      "5             Lake View    2420.966667\n",
      "6            Grant Park    2068.533333\n",
      "7         Museum Campus    1510.000000\n",
      "8            Gold Coast    1364.233333\n",
      "9    Sheffield & DePaul    1259.766667\n",
      "                        company_name  trips_amount\n",
      "0                          Flash Cab         19558\n",
      "1          Taxi Affiliation Services         11422\n",
      "2                  Medallion Leasing         10367\n",
      "3                         Yellow Cab          9888\n",
      "4    Taxi Affiliation Service Yellow          9299\n",
      "5          Chicago Carriage Cab Corp          9181\n",
      "6                       City Service          8448\n",
      "7                           Sun Taxi          7701\n",
      "8          Star North Management LLC          7455\n",
      "9  Blue Ribbon Taxi Association Inc.          5953\n"
     ]
    }
   ],
   "source": [
    "top_10_neighborhoods = df_neighborhoods.sort_values(by='average_trips', ascending=False).head(10)\n",
    "print(top_10_neighborhoods)\n",
    "\n",
    "top_10_companies = df_companies.sort_values(by='trips_amount', ascending=False).head(10)\n",
    "print(top_10_companies)"
   ]
  },
  {
   "cell_type": "markdown",
   "metadata": {},
   "source": [
    "HACER GRÁFICOS: empresas de taxis y número de viajes, los 10 barrios principales por número de finalizaciones"
   ]
  },
  {
   "cell_type": "code",
   "execution_count": 25,
   "metadata": {},
   "outputs": [
    {
     "data": {
      "image/png": "[encoded data removed]",
      "text/plain": [
       "<Figure size 1000x600 with 1 Axes>"
      ]
     },
     "metadata": {},
     "output_type": "display_data"
    }
   ],
   "source": [
    "# (a) Empresas de taxis y número de viajes\n",
    "top_10_companies = df_companies.sort_values(by='trips_amount', ascending=False).head(10)\n",
    "\n",
    "plt.figure(figsize=(10, 6))\n",
    "sns.barplot(data=top_10_companies, x='trips_amount', y='company_name', palette=\"viridis\", orient='h')\n",
    "plt.title('Top 10 Empresas de taxis por número de viajes (15-16 Nov 2017)', fontsize=16)\n",
    "plt.xlabel('Número de viajes', fontsize=12)\n",
    "plt.ylabel('Empresa de taxis', fontsize=12)\n",
    "plt.tight_layout()\n",
    "plt.show()"
   ]
  },
  {
   "cell_type": "markdown",
   "metadata": {},
   "source": [
    "Este gráfico permitirá identificar visualmente cuál es la empresa con más viajes y cuántos viajes hicieron las siguientes empresas, comparando las diferencias entre ellas de manera clara.\n",
    "La empresa Flash Cab tiene la mayor cantidad de viajes, con 19,558 viajes, lo que sugiere que es una de las principales empresas en la flota de taxis en Chicago durante los días seleccionados.\n",
    "Posteriormente a los resultados hay que analizar la empresa Flash Cab cuál es la razón por la cual está lidereando el mercado para poder mejorar la propia compañia de taxis. "
   ]
  },
  {
   "cell_type": "markdown",
   "metadata": {},
   "source": [
    "# (b) Los 10 barrios principales por finalización de viajes"
   ]
  },
  {
   "cell_type": "code",
   "execution_count": 26,
   "metadata": {},
   "outputs": [
    {
     "data": {
      "image/png": "[encoded data removed]",
      "text/plain": [
       "<Figure size 1000x600 with 1 Axes>"
      ]
     },
     "metadata": {},
     "output_type": "display_data"
    }
   ],
   "source": [
    "plt.figure(figsize=(10, 6))\n",
    "sns.barplot(data=top_10_neighborhoods, x='average_trips', y='dropoff_location_name', palette=\"coolwarm\")\n",
    "plt.title('Top 10 Barrios por Promedio de Finalización de Viajes (Nov 2017)', fontsize=16)\n",
    "plt.xlabel('Promedio de viajes', fontsize=12)\n",
    "plt.ylabel('Barrio', fontsize=12)\n",
    "plt.tight_layout()\n",
    "plt.show()\n"
   ]
  },
  {
   "cell_type": "markdown",
   "metadata": {},
   "source": [
    "Las empresas de taxis podrían orientar sus recursos y flotas hacia las zonas con más alta demanda, como Loop, River North, y Streeterville, donde el número de viajes es significativamente mayor.\n",
    "También podrían investigar las necesidades de transporte en las áreas con menor actividad, como Museum Campus o Gold Coast, para optimizar la cobertura de estos barrios y equilibrar la distribución de viajes."
   ]
  },
  {
   "cell_type": "markdown",
   "metadata": {},
   "source": [
    "<div class=\"alert alert-block alert-success\">\n",
    "<b>Comentario del revisor (1ra Iteración)</b> <a class=“tocSkip”></a>\n",
    "    \n",
    "Perfecto has encontrado la información correctra sobre el top 10 de empresas y barrios. Muy buen uso de los recursos gráficos, y también está muy bien incluir tus comentarios, los cuales son completamente pertinentes\n",
    "\n",
    "</div>"
   ]
  },
  {
   "cell_type": "markdown",
   "metadata": {},
   "source": [
    "Paso 5. Prueba de hipótesis (Python)"
   ]
  },
  {
   "cell_type": "code",
   "execution_count": null,
   "metadata": {},
   "outputs": [],
   "source": []
  },
  {
   "cell_type": "code",
   "execution_count": 49,
   "metadata": {},
   "outputs": [
    {
     "name": "stdout",
     "output_type": "stream",
     "text": [
      "Sábados con clima desfavorable: 180\n",
      "Sábados con clima favorable: 888\n",
      "Estadístico t: 7.186034288068629\n",
      "Valor p: 6.738994326108734e-12\n",
      "Rechazamos la hipótesis nula: La duración promedio de los viajes cambia los sábados con clima desfavorable.\n"
     ]
    }
   ],
   "source": [
    "import pandas as pd\n",
    "import scipy.stats as stats\n",
    "\n",
    "# Cargar el archivo CSV\n",
    "df = pd.read_csv('/datasets/project_sql_result_07.csv')\n",
    "\n",
    "# Asegurarse de que las columnas tienen el formato correcto\n",
    "df['start_ts'] = pd.to_datetime(df['start_ts'])\n",
    "\n",
    "# Filtrar los datos solo para los sábados\n",
    "df['day_of_week'] = df['start_ts'].dt.dayofweek\n",
    "df_saturdays = df[df['day_of_week'] == 5]  # 5 corresponde al sábado\n",
    "\n",
    "# Clasificar los viajes según el clima: \"bad\" para condiciones desfavorables\n",
    "df_saturdays['is_bad_weather'] = df_saturdays['weather_conditions'].str.lower() == 'bad'\n",
    "\n",
    "\n",
    "# Crear dos grupos: sábados con clima desfavorable (\"bad\") y favorable (\"good\")\n",
    "bad_weather_saturdays = df_saturdays[df_saturdays['is_bad_weather'] == True]\n",
    "good_weather_saturdays = df_saturdays[df_saturdays['is_bad_weather'] == False]\n",
    "\n",
    "# Asegurarse de que hay suficientes datos en ambos grupos\n",
    "print(f\"Sábados con clima desfavorable: {len(bad_weather_saturdays)}\")\n",
    "print(f\"Sábados con clima favorable: {len(good_weather_saturdays)}\")\n",
    "\n",
    "\n",
    "# Realizar la prueba t para comparar las duraciones promedio\n",
    "t_stat, p_value = stats.ttest_ind(\n",
    "    bad_weather_saturdays['duration_seconds'], \n",
    "    good_weather_saturdays['duration_seconds'], \n",
    "    equal_var=False  # Asumimos que las varianzas pueden ser diferentes\n",
    ")\n",
    "\n",
    "# Imprimir los resultados\n",
    "print(f'Estadístico t: {t_stat}')\n",
    "print(f'Valor p: {p_value}')\n",
    "\n",
    "# Comparar el valor p con el nivel de significación (alfa)\n",
    "alpha = 0.05\n",
    "if p_value < alpha:\n",
    "    print(\"Rechazamos la hipótesis nula: La duración promedio de los viajes cambia los sábados con clima desfavorable.\")\n",
    "else:\n",
    "    print(\"No rechazamos la hipótesis nula: No hay suficiente evidencia para afirmar que la duración promedio de los viajes cambia los sábados con clima desfavorable.\")\n",
    "\n",
    "    \n",
    "    \n"
   ]
  },
  {
   "cell_type": "markdown",
   "metadata": {},
   "source": [
    "Hipótesis Nula (H₀): La duración promedio de los viajes no cambia entre los sábados con clima desfavorable y los sábados con clima favorable.\n",
    "Hipótesis Alternativa (H₁): La duración promedio de los viajes sí cambia entre los sábados con clima desfavorable y favorable.\n",
    "\n",
    "Estadístico t = 7.19\n",
    "Valor p = \n",
    "6.73×10−12\n",
    "6.73×10−12 (muy pequeño)\n",
    "Ya que el valor p es mucho menor que el nivel de significación de 0.05 (𝑝<0.05), rechazamos la hipótesis nula. Esto significa que la duración promedio de los viajes cambia en función de si el clima es desfavorable o favorable.\n"
   ]
  },
  {
   "cell_type": "markdown",
   "metadata": {},
   "source": [
    "El resultado del código indica que existe una diferencia estadísticamente significativa entre las duraciones promedio de los viajes realizados los sábados con clima desfavorable y aquellos con clima favorable."
   ]
  },
  {
   "cell_type": "markdown",
   "metadata": {},
   "source": [
    "<div class=\"alert alert-block alert-success\">\n",
    "<b>Comentario del revisor (1ra Iteración)</b> <a class=“tocSkip”></a>\n",
    "    \n",
    "Alejandra excelente forma de aplicar las condiciones para crear subconjuntos de datos. Asimismo, la metodología que empleaste para hacer la prueba de hipótesis fue perfecta. Felicitaciones.\n",
    " \n",
    "\n",
    "</div>"
   ]
  }
 ],
 "metadata": {
  "ExecuteTimeLog": [
   {
    "duration": 2552,
    "start_time": "2024-12-16T00:21:03.541Z"
   },
   {
    "duration": 16,
    "start_time": "2024-12-16T00:21:13.049Z"
   },
   {
    "duration": 7,
    "start_time": "2024-12-16T00:21:57.006Z"
   },
   {
    "duration": 8,
    "start_time": "2024-12-16T00:22:05.428Z"
   },
   {
    "duration": 4,
    "start_time": "2024-12-16T00:22:23.857Z"
   },
   {
    "duration": 13,
    "start_time": "2024-12-16T00:24:02.150Z"
   },
   {
    "duration": 13,
    "start_time": "2024-12-16T00:31:32.038Z"
   },
   {
    "duration": 14,
    "start_time": "2024-12-16T00:32:39.583Z"
   },
   {
    "duration": 17,
    "start_time": "2024-12-16T00:36:23.112Z"
   },
   {
    "duration": 16,
    "start_time": "2024-12-16T00:36:27.020Z"
   },
   {
    "duration": 22,
    "start_time": "2024-12-16T00:46:50.500Z"
   },
   {
    "duration": 19,
    "start_time": "2024-12-16T00:51:12.754Z"
   },
   {
    "duration": 22,
    "start_time": "2024-12-16T00:51:19.985Z"
   },
   {
    "duration": 3,
    "start_time": "2024-12-16T01:00:56.901Z"
   },
   {
    "duration": 4,
    "start_time": "2024-12-16T01:03:06.461Z"
   },
   {
    "duration": 8,
    "start_time": "2024-12-16T01:05:33.439Z"
   },
   {
    "duration": 5,
    "start_time": "2024-12-16T01:06:37.883Z"
   },
   {
    "duration": 5,
    "start_time": "2024-12-16T01:06:44.308Z"
   },
   {
    "duration": 1344,
    "start_time": "2024-12-16T01:14:40.145Z"
   },
   {
    "duration": 1344,
    "start_time": "2024-12-16T01:17:43.499Z"
   },
   {
    "duration": 318,
    "start_time": "2024-12-16T01:18:13.092Z"
   },
   {
    "duration": 356,
    "start_time": "2024-12-16T01:18:44.571Z"
   },
   {
    "duration": 370,
    "start_time": "2024-12-16T01:19:03.222Z"
   },
   {
    "duration": 382,
    "start_time": "2024-12-16T01:19:05.562Z"
   },
   {
    "duration": 298,
    "start_time": "2024-12-16T01:55:59.114Z"
   },
   {
    "duration": 274,
    "start_time": "2024-12-16T03:37:02.737Z"
   },
   {
    "duration": 319,
    "start_time": "2024-12-16T04:24:06.434Z"
   },
   {
    "duration": 8,
    "start_time": "2024-12-16T04:30:40.355Z"
   },
   {
    "duration": 15,
    "start_time": "2024-12-16T04:43:18.102Z"
   },
   {
    "duration": 14,
    "start_time": "2024-12-16T04:45:22.945Z"
   },
   {
    "duration": 16,
    "start_time": "2024-12-16T04:50:37.710Z"
   },
   {
    "duration": 14,
    "start_time": "2024-12-16T14:58:49.794Z"
   },
   {
    "duration": 14,
    "start_time": "2024-12-16T14:59:51.013Z"
   },
   {
    "duration": 14,
    "start_time": "2024-12-16T15:00:55.395Z"
   },
   {
    "duration": 430,
    "start_time": "2024-12-16T15:02:04.209Z"
   },
   {
    "duration": 17,
    "start_time": "2024-12-16T15:03:20.175Z"
   },
   {
    "duration": 18,
    "start_time": "2024-12-16T15:05:25.023Z"
   },
   {
    "duration": 18,
    "start_time": "2024-12-16T15:07:53.865Z"
   },
   {
    "duration": 22,
    "start_time": "2024-12-16T15:10:13.110Z"
   },
   {
    "duration": 25,
    "start_time": "2024-12-16T15:13:41.744Z"
   },
   {
    "duration": 27,
    "start_time": "2024-12-16T15:14:51.311Z"
   },
   {
    "duration": 14,
    "start_time": "2024-12-16T15:38:49.444Z"
   },
   {
    "duration": 20,
    "start_time": "2024-12-16T16:02:47.408Z"
   },
   {
    "duration": 16,
    "start_time": "2024-12-16T16:03:59.984Z"
   },
   {
    "duration": 16,
    "start_time": "2024-12-16T16:20:14.258Z"
   },
   {
    "duration": 15,
    "start_time": "2024-12-16T16:23:43.490Z"
   },
   {
    "duration": 3,
    "start_time": "2024-12-16T16:24:45.709Z"
   },
   {
    "duration": 4,
    "start_time": "2024-12-16T16:27:05.605Z"
   },
   {
    "duration": 14,
    "start_time": "2024-12-16T16:47:40.119Z"
   },
   {
    "duration": 6,
    "start_time": "2024-12-16T17:40:44.641Z"
   },
   {
    "duration": 5,
    "start_time": "2024-12-16T17:43:52.691Z"
   }
  ],
  "kernelspec": {
   "display_name": "Python 3 (ipykernel)",
   "language": "python",
   "name": "python3"
  },
  "language_info": {
   "codemirror_mode": {
    "name": "ipython",
    "version": 3
   },
   "file_extension": ".py",
   "mimetype": "text/x-python",
   "name": "python",
   "nbconvert_exporter": "python",
   "pygments_lexer": "ipython3",
   "version": "3.9.19"
  },
  "toc": {
   "base_numbering": 1,
   "nav_menu": {},
   "number_sections": true,
   "sideBar": true,
   "skip_h1_title": true,
   "title_cell": "Table of Contents",
   "title_sidebar": "Contents",
   "toc_cell": false,
   "toc_position": {},
   "toc_section_display": true,
   "toc_window_display": false
  }
 },
 "nbformat": 4,
 "nbformat_minor": 2
}
