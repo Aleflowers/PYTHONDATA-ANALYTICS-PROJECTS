{
 "cells": [
  {
   "cell_type": "markdown",
   "metadata": {},
   "source": [
    "Hola **Alejandra**!\n",
    "\n",
    "Soy **Patricio Requena** 👋. Es un placer ser el revisor de tu proyecto el día de hoy!\n",
    "\n",
    "Revisaré tu proyecto detenidamente con el objetivo de ayudarte a mejorar y perfeccionar tus habilidades. Durante mi revisión, identificaré áreas donde puedas hacer mejoras en tu código, señalando específicamente qué y cómo podrías ajustar para optimizar el rendimiento y la claridad de tu proyecto. Además, es importante para mí destacar los aspectos que has manejado excepcionalmente bien. Reconocer tus fortalezas te ayudará a entender qué técnicas y métodos están funcionando a tu favor y cómo puedes aplicarlos en futuras tareas. \n",
    "\n",
    "_**Recuerda que al final de este notebook encontrarás un comentario general de mi parte**_, empecemos!\n",
    "\n",
    "Encontrarás mis comentarios dentro de cajas verdes, amarillas o rojas, ⚠️ **por favor, no muevas, modifiques o borres mis comentarios** ⚠️:\n",
    "\n",
    "\n",
    "<div class=\"alert alert-block alert-success\">\n",
    "<b>Comentario del revisor</b> <a class=“tocSkip”></a>\n",
    "Si todo está perfecto.\n",
    "</div>\n",
    "\n",
    "<div class=\"alert alert-block alert-warning\">\n",
    "<b>Comentario del revisor</b> <a class=“tocSkip”></a>\n",
    "Si tu código está bien pero se puede mejorar o hay algún detalle que le hace falta.\n",
    "</div>\n",
    "\n",
    "<div class=\"alert alert-block alert-danger\">\n",
    "<b>Comentario del revisor</b> <a class=“tocSkip”></a>\n",
    "Si de pronto hace falta algo o existe algún problema con tu código o conclusiones.\n",
    "</div>\n",
    "\n",
    "Puedes responderme de esta forma:\n",
    "<div class=\"alert alert-block alert-info\">\n",
    "<b>Respuesta del estudiante</b> <a class=“tocSkip”></a>\n",
    "</div>"
   ]
  },
  {
   "cell_type": "markdown",
   "metadata": {},
   "source": [
    "# Analisis para optimizar los Gastos de Marketing de Showz"
   ]
  },
  {
   "cell_type": "markdown",
   "metadata": {},
   "source": [
    "Paso 1. Acceda los datos y prepáralos para el análisis"
   ]
  },
  {
   "cell_type": "markdown",
   "metadata": {},
   "source": [
    "<div class=\"alert alert-block alert-danger\">\n",
    "<b>Comentario del revisor (1ra Iteracion)</b> <a class=“tocSkip”></a>\n",
    "\n",
    "Alejandra, la presentación de los notebooks es importante en esta profesión, por lo que te pediría incluir un título y una introducción al mismo. Los títulos los puedes generar escribiendo de la siguiente manera `# Título` en las celdas tipo markdown (no olvides el espacio después del #) y se ven de la siguiente forma:\n",
    "    \n",
    "# Título\n",
    "</div>"
   ]
  },
  {
   "cell_type": "markdown",
   "metadata": {},
   "source": [
    "<div class=\"alert alert-block alert-success\">\n",
    "<b>Comentario del revisor (2da Iteracion)</b> <a class=“tocSkip”></a>\n",
    "\n",
    "Correcto, así es mucho mejor la presentación\n",
    "</div>"
   ]
  },
  {
   "cell_type": "code",
   "execution_count": 22,
   "metadata": {},
   "outputs": [
    {
     "name": "stdout",
     "output_type": "stream",
     "text": [
      "\n",
      "Dataset: visits\n",
      "Shape: (359400, 5)\n",
      "Primeras filas:\n",
      "    Device               End Ts  Source Id             Start Ts  \\\n",
      "0    touch  2017-12-20 17:38:00          4  2017-12-20 17:20:00   \n",
      "1  desktop  2018-02-19 17:21:00          2  2018-02-19 16:53:00   \n",
      "2    touch  2017-07-01 01:54:00          5  2017-07-01 01:54:00   \n",
      "3  desktop  2018-05-20 11:23:00          9  2018-05-20 10:59:00   \n",
      "4  desktop  2017-12-27 14:06:00          3  2017-12-27 14:06:00   \n",
      "\n",
      "                    Uid  \n",
      "0  16879256277535980062  \n",
      "1    104060357244891740  \n",
      "2   7459035603376831527  \n",
      "3  16174680259334210214  \n",
      "4   9969694820036681168  \n",
      "Columnas:\n",
      "Index(['Device', 'End Ts', 'Source Id', 'Start Ts', 'Uid'], dtype='object')\n",
      "Tipos de datos:\n",
      "Device       object\n",
      "End Ts       object\n",
      "Source Id     int64\n",
      "Start Ts     object\n",
      "Uid          uint64\n",
      "dtype: object\n",
      "\n",
      "Dataset: orders\n",
      "Shape: (50415, 3)\n",
      "Primeras filas:\n",
      "                Buy Ts  Revenue                   Uid\n",
      "0  2017-06-01 00:10:00    17.00  10329302124590727494\n",
      "1  2017-06-01 00:25:00     0.55  11627257723692907447\n",
      "2  2017-06-01 00:27:00     0.37  17903680561304213844\n",
      "3  2017-06-01 00:29:00     0.55  16109239769442553005\n",
      "4  2017-06-01 07:58:00     0.37  14200605875248379450\n",
      "Columnas:\n",
      "Index(['Buy Ts', 'Revenue', 'Uid'], dtype='object')\n",
      "Tipos de datos:\n",
      "Buy Ts      object\n",
      "Revenue    float64\n",
      "Uid         uint64\n",
      "dtype: object\n",
      "\n",
      "Dataset: costs\n",
      "Shape: (2542, 3)\n",
      "Primeras filas:\n",
      "   source_id          dt  costs\n",
      "0          1  2017-06-01  75.20\n",
      "1          1  2017-06-02  62.25\n",
      "2          1  2017-06-03  36.53\n",
      "3          1  2017-06-04  55.00\n",
      "4          1  2017-06-05  57.08\n",
      "Columnas:\n",
      "Index(['source_id', 'dt', 'costs'], dtype='object')\n",
      "Tipos de datos:\n",
      "source_id      int64\n",
      "dt            object\n",
      "costs        float64\n",
      "dtype: object\n"
     ]
    }
   ],
   "source": [
    "import pandas as pd\n",
    "\n",
    "visits = pd.read_csv('/datasets/visits_log_us.csv')\n",
    "orders = pd.read_csv('/datasets/orders_log_us.csv')\n",
    "costs = pd.read_csv('/datasets/costs_us.csv')\n",
    "\n",
    "for df, name in [(visits, \"visits\"), (orders, \"orders\"), (costs, \"costs\")]:\n",
    "    print(f\"\\nDataset: {name}\")\n",
    "    print(f\"Shape: {df.shape}\")\n",
    "    print(f\"Primeras filas:\\n{df.head()}\")\n",
    "    print(f\"Columnas:\\n{df.columns}\")\n",
    "    print(f\"Tipos de datos:\\n{df.dtypes}\")\n",
    "    \n",
    "\n",
    "\n"
   ]
  },
  {
   "cell_type": "markdown",
   "metadata": {},
   "source": [
    "<div class=\"alert alert-block alert-warning\">\n",
    "<b>Comentario del revisor (1ra Iteracion)</b> <a class=“tocSkip”></a>\n",
    "\n",
    "Procura que la importación de librerías, carga de datos y exploración de estos sea cada paso en celdas separadas para más claridad de lo que estás mostrando en cada celda\n",
    "</div>"
   ]
  },
  {
   "cell_type": "markdown",
   "metadata": {},
   "source": [
    "## Revisión de Dataset Visits"
   ]
  },
  {
   "cell_type": "code",
   "execution_count": 23,
   "metadata": {},
   "outputs": [
    {
     "name": "stdout",
     "output_type": "stream",
     "text": [
      "start_ts    0\n",
      "end_ts      0\n",
      "dtype: int64\n"
     ]
    }
   ],
   "source": [
    "#Revisión de nombres de columnas del dataset visits\n",
    "visits.rename(columns={\n",
    "    'Device': 'device',\n",
    "    'End Ts': 'end_ts',\n",
    "    'Source Id': 'source_id',\n",
    "    'Start Ts': 'start_ts',\n",
    "    'Uid': 'uid'\n",
    "}, inplace=True)\n",
    "\n",
    "\n",
    "#Conversión de fechas y tiempos\n",
    "visits['start_ts'] = pd.to_datetime(visits['start_ts'], errors='coerce')\n",
    "visits['end_ts'] = pd.to_datetime(visits['end_ts'], errors='coerce')\n",
    "\n",
    "\n",
    "#Revisar si hay errores que no pudieron convertirse (NaT)\n",
    "print(visits[['start_ts', 'end_ts']].isnull().sum())\n",
    "\n",
    "\n"
   ]
  },
  {
   "cell_type": "code",
   "execution_count": 24,
   "metadata": {},
   "outputs": [
    {
     "name": "stdout",
     "output_type": "stream",
     "text": [
      "         device              end_ts  source_id            start_ts  \\\n",
      "4181    desktop 2018-03-25 03:18:00          3 2018-03-25 03:50:00   \n",
      "177972  desktop 2018-03-25 03:09:00          9 2018-03-25 03:55:00   \n",
      "\n",
      "                         uid  visit_duration_minutes  \n",
      "4181    13092152539246794986                   -32.0  \n",
      "177972   4621202742905035453                   -46.0  \n"
     ]
    }
   ],
   "source": [
    "#Calcular la duración de la visita\n",
    "visits['visit_duration_minutes'] = (visits['end_ts'] - visits['start_ts']).dt.total_seconds() / 60\n",
    "print(visits[visits['visit_duration_minutes'] < 0])\n"
   ]
  },
  {
   "cell_type": "code",
   "execution_count": 25,
   "metadata": {},
   "outputs": [
    {
     "name": "stdout",
     "output_type": "stream",
     "text": [
      "desktop    262567\n",
      "touch       96833\n",
      "Name: device, dtype: int64\n"
     ]
    }
   ],
   "source": [
    "#Verificar valores categóricos\n",
    "print(visits['device'].value_counts())"
   ]
  },
  {
   "cell_type": "code",
   "execution_count": 26,
   "metadata": {},
   "outputs": [
    {
     "name": "stdout",
     "output_type": "stream",
     "text": [
      "device                    0\n",
      "end_ts                    0\n",
      "source_id                 0\n",
      "start_ts                  0\n",
      "uid                       0\n",
      "visit_duration_minutes    0\n",
      "dtype: int64\n"
     ]
    }
   ],
   "source": [
    "#Verifica valores nulos\n",
    "print(visits.isnull().sum())"
   ]
  },
  {
   "cell_type": "markdown",
   "metadata": {},
   "source": [
    "## Revision de Dataset orders"
   ]
  },
  {
   "cell_type": "code",
   "execution_count": 27,
   "metadata": {},
   "outputs": [
    {
     "name": "stdout",
     "output_type": "stream",
     "text": [
      "buy_ts     0\n",
      "revenue    0\n",
      "uid        0\n",
      "dtype: int64\n",
      "            revenue           uid\n",
      "count  50415.000000  5.041500e+04\n",
      "mean       4.999647  9.098161e+18\n",
      "std       21.818359  5.285742e+18\n",
      "min        0.000000  3.135781e+14\n",
      "25%        1.220000  4.533567e+18\n",
      "50%        2.500000  9.102274e+18\n",
      "75%        4.890000  1.368290e+19\n",
      "max     2633.280000  1.844617e+19\n",
      "2017-06-01 00:10:00 2018-06-01 00:02:00\n"
     ]
    }
   ],
   "source": [
    "#Verificar y corregir nombres de columnas\n",
    "\n",
    "\n",
    "orders.rename(columns={\n",
    "    'Buy Ts': 'buy_ts',\n",
    "    'Revenue': 'revenue',\n",
    "    'Uid': 'uid',\n",
    "}, inplace=True)\n",
    "\n",
    "\n",
    "#Revisar tipos de datos\n",
    "orders['buy_ts'] = pd.to_datetime(orders['buy_ts'], errors='coerce')\n",
    "orders['revenue'] = pd.to_numeric(orders['revenue'], errors='coerce')\n",
    "\n",
    "#Buscar valores faltantes\n",
    "print(orders.isnull().sum())\n",
    "print(orders.describe())\n",
    "\n",
    "#Validar fechas y coherencia temporal\n",
    "print(orders['buy_ts'].min(), orders['buy_ts'].max())\n",
    "\n",
    "\n"
   ]
  },
  {
   "cell_type": "markdown",
   "metadata": {},
   "source": [
    "# Revision de dataset costs\n"
   ]
  },
  {
   "cell_type": "code",
   "execution_count": 28,
   "metadata": {},
   "outputs": [
    {
     "name": "stdout",
     "output_type": "stream",
     "text": [
      "source_id    0\n",
      "dt           0\n",
      "costs        0\n",
      "dtype: int64\n",
      "count    2542.000000\n",
      "mean      129.477427\n",
      "std       156.296628\n",
      "min         0.540000\n",
      "25%        21.945000\n",
      "50%        77.295000\n",
      "75%       170.065000\n",
      "max      1788.280000\n",
      "Name: costs, dtype: float64\n"
     ]
    }
   ],
   "source": [
    "##Revisión de tipo de datos\n",
    "df['dt'] = pd.to_datetime(df['dt'], errors='coerce')\n",
    "\n",
    "#Revisión de Nulos\n",
    "print(df.isnull().sum())\n",
    "\n",
    "print(df['costs'].describe())"
   ]
  },
  {
   "cell_type": "code",
   "execution_count": 29,
   "metadata": {
    "scrolled": true
   },
   "outputs": [
    {
     "name": "stdout",
     "output_type": "stream",
     "text": [
      "\n",
      "Dataset: visits\n",
      "Shape: (359400, 6)\n",
      "Primeras filas:\n",
      "    device              end_ts  source_id            start_ts  \\\n",
      "0    touch 2017-12-20 17:38:00          4 2017-12-20 17:20:00   \n",
      "1  desktop 2018-02-19 17:21:00          2 2018-02-19 16:53:00   \n",
      "2    touch 2017-07-01 01:54:00          5 2017-07-01 01:54:00   \n",
      "3  desktop 2018-05-20 11:23:00          9 2018-05-20 10:59:00   \n",
      "4  desktop 2017-12-27 14:06:00          3 2017-12-27 14:06:00   \n",
      "\n",
      "                    uid  visit_duration_minutes  \n",
      "0  16879256277535980062                    18.0  \n",
      "1    104060357244891740                    28.0  \n",
      "2   7459035603376831527                     0.0  \n",
      "3  16174680259334210214                    24.0  \n",
      "4   9969694820036681168                     0.0  \n",
      "Columnas:\n",
      "Index(['device', 'end_ts', 'source_id', 'start_ts', 'uid',\n",
      "       'visit_duration_minutes'],\n",
      "      dtype='object')\n",
      "Tipos de datos:\n",
      "device                            object\n",
      "end_ts                    datetime64[ns]\n",
      "source_id                          int64\n",
      "start_ts                  datetime64[ns]\n",
      "uid                               uint64\n",
      "visit_duration_minutes           float64\n",
      "dtype: object\n",
      "\n",
      "Dataset: orders\n",
      "Shape: (50415, 3)\n",
      "Primeras filas:\n",
      "               buy_ts  revenue                   uid\n",
      "0 2017-06-01 00:10:00    17.00  10329302124590727494\n",
      "1 2017-06-01 00:25:00     0.55  11627257723692907447\n",
      "2 2017-06-01 00:27:00     0.37  17903680561304213844\n",
      "3 2017-06-01 00:29:00     0.55  16109239769442553005\n",
      "4 2017-06-01 07:58:00     0.37  14200605875248379450\n",
      "Columnas:\n",
      "Index(['buy_ts', 'revenue', 'uid'], dtype='object')\n",
      "Tipos de datos:\n",
      "buy_ts     datetime64[ns]\n",
      "revenue           float64\n",
      "uid                uint64\n",
      "dtype: object\n",
      "\n",
      "Dataset: costs\n",
      "Shape: (2542, 3)\n",
      "Primeras filas:\n",
      "   source_id         dt  costs\n",
      "0          1 2017-06-01  75.20\n",
      "1          1 2017-06-02  62.25\n",
      "2          1 2017-06-03  36.53\n",
      "3          1 2017-06-04  55.00\n",
      "4          1 2017-06-05  57.08\n",
      "Columnas:\n",
      "Index(['source_id', 'dt', 'costs'], dtype='object')\n",
      "Tipos de datos:\n",
      "source_id             int64\n",
      "dt           datetime64[ns]\n",
      "costs               float64\n",
      "dtype: object\n"
     ]
    }
   ],
   "source": [
    "#Revisando como quedan finalmente las bases de datos para trabajar el análisis\n",
    "for df, name in [(visits, \"visits\"), (orders, \"orders\"), (costs, \"costs\")]:\n",
    "    print(f\"\\nDataset: {name}\")\n",
    "    print(f\"Shape: {df.shape}\")\n",
    "    print(f\"Primeras filas:\\n{df.head()}\")\n",
    "    print(f\"Columnas:\\n{df.columns}\")\n",
    "    print(f\"Tipos de datos:\\n{df.dtypes}\")\n"
   ]
  },
  {
   "cell_type": "code",
   "execution_count": 30,
   "metadata": {},
   "outputs": [
    {
     "name": "stdout",
     "output_type": "stream",
     "text": [
      "Index(['device', 'end_ts', 'source_id', 'start_ts', 'uid',\n",
      "       'visit_duration_minutes'],\n",
      "      dtype='object')\n",
      "Index(['buy_ts', 'revenue', 'uid'], dtype='object')\n",
      "Index(['source_id', 'dt', 'costs'], dtype='object')\n"
     ]
    }
   ],
   "source": [
    "print (visits.columns)\n",
    "print(orders.columns)\n",
    "print(costs.columns)"
   ]
  },
  {
   "cell_type": "markdown",
   "metadata": {},
   "source": [
    "<div class=\"alert alert-block alert-warning\">\n",
    "<b>Comentario del revisor (1ra Iteracion)</b> <a class=“tocSkip”></a>\n",
    "\n",
    "Buen trabajo con la exploración iniial de tus datos! Procura no tener varios procesos que generen más de una salida en una sola celda, por ejemplo, no tengas varios `.info()` en una misma celda sino en varios para que sea clara que parte genera cada salida\n",
    "</div>"
   ]
  },
  {
   "cell_type": "markdown",
   "metadata": {},
   "source": [
    "# 2. Haz informes y calcula métricas \n",
    "\tVisitas:\n",
    "1.\t¿Cuántas personas lo usan cada día, semana y mes?\n",
    "2.\t¿Cuántas sesiones hay por día? (Un usuario puede tener más de una sesión).\n",
    "3.\t¿Cuál es la duración de cada sesión?\n",
    "4.\t¿Con qué frecuencia los usuarios regresan?"
   ]
  },
  {
   "cell_type": "markdown",
   "metadata": {},
   "source": [
    "## 1.Visitas"
   ]
  },
  {
   "cell_type": "markdown",
   "metadata": {},
   "source": [
    "#### 1.1.¿Cuántas personas lo usan por día, semana y mes ?"
   ]
  },
  {
   "cell_type": "code",
   "execution_count": 31,
   "metadata": {},
   "outputs": [
    {
     "name": "stdout",
     "output_type": "stream",
     "text": [
      "Promedio de DAU (Usuarios Activos Diarios): 907.99\n",
      "Promedio de WAU (Usuarios Activos Semanales): 5825.29\n",
      "Promedio de MAU (Usuarios Activos Mensuales): 23228.42\n"
     ]
    }
   ],
   "source": [
    "# Asegurarnos de que start_ts esté en formato datetime\n",
    "visits['start_ts'] = pd.to_datetime(visits['start_ts'])\n",
    "\n",
    "# Extraemos el día, semana y mes\n",
    "visits['day'] = visits['start_ts'].dt.date\n",
    "visits['week'] = visits['start_ts'].dt.isocalendar().week\n",
    "visits['month'] = visits['start_ts'].dt.month\n",
    "\n",
    "# Número de usuarios únicos por día, semana y mes\n",
    "usuarios_por_dia = visits.groupby('day')['uid'].nunique()\n",
    "usuarios_por_semana = visits.groupby('week')['uid'].nunique()\n",
    "usuarios_por_mes = visits.groupby('month')['uid'].nunique()\n",
    "\n",
    "# Cálculo del promedio de usuarios activos\n",
    "dau_promedio = usuarios_por_dia.mean()  # Promedio diario\n",
    "wau_promedio = usuarios_por_semana.mean()  # Promedio semanal\n",
    "mau_promedio = usuarios_por_mes.mean()  # Promedio mensual\n",
    "\n",
    "# Resultados finales\n",
    "print(f\"Promedio de DAU (Usuarios Activos Diarios): {dau_promedio:.2f}\")\n",
    "print(f\"Promedio de WAU (Usuarios Activos Semanales): {wau_promedio:.2f}\")\n",
    "print(f\"Promedio de MAU (Usuarios Activos Mensuales): {mau_promedio:.2f}\")\n",
    "\n"
   ]
  },
  {
   "cell_type": "markdown",
   "metadata": {},
   "source": [
    "<div class=\"alert alert-block alert-danger\">\n",
    "<b>Comentario del revisor (1ra Iteracion)</b> <a class=“tocSkip”></a>\n",
    "\n",
    "Está bien calcular estas métricas por cada mes, día o semana pero para presentar las métrias de DAU, MAE, WAU debes mostrar un sólo valor, es decir de los resultados que ya tienes saca el promedio para mostrar los usuarios.\n",
    "</div>"
   ]
  },
  {
   "cell_type": "markdown",
   "metadata": {},
   "source": [
    "<div class=\"alert alert-block alert-success\">\n",
    "<b>Comentario del revisor (2da Iteracion)</b> <a class=“tocSkip”></a>\n",
    "\n",
    "Muy bien, si bien es bueno revisar a detalle cada métrica al momento de comunicar hay que presentarlo de manera general y sólo si se necesita revisar algo puntual hacerlo más a detalle\n",
    "</div>"
   ]
  },
  {
   "cell_type": "markdown",
   "metadata": {},
   "source": [
    "#### 1.2. ¿Cuántas sesiones hay por día? (Un usuario puede tener más de una sesión)."
   ]
  },
  {
   "cell_type": "code",
   "execution_count": 32,
   "metadata": {},
   "outputs": [
    {
     "name": "stdout",
     "output_type": "stream",
     "text": [
      "Promedio de sesiones por día: 987.36\n"
     ]
    }
   ],
   "source": [
    "# Contar sesiones por día\n",
    "sesiones_por_dia = visits.groupby('day')['uid'].count()  # Usamos 'uid' para contar las sesiones\n",
    "\n",
    "sesiones_por_dia_df = sesiones_por_dia.reset_index()\n",
    "sesiones_por_dia_df.columns = ['Día', 'Sesiones']  # Renombrar columnas# Calcular el promedio de sesiones por día\n",
    "promedio_sesiones = sesiones_por_dia.mean()\n",
    "\n",
    "#print(sesiones_por_dia_df)\n",
    "print(f\"Promedio de sesiones por día: {promedio_sesiones:.2f}\")"
   ]
  },
  {
   "cell_type": "markdown",
   "metadata": {},
   "source": [
    "#### 1.3.¿Cuál es la duración de cada sesión?\n"
   ]
  },
  {
   "cell_type": "code",
   "execution_count": 33,
   "metadata": {},
   "outputs": [
    {
     "name": "stdout",
     "output_type": "stream",
     "text": [
      "Duración promedio de las sesiones (en minutos):\n",
      "Por día: 10.36 minutos\n",
      "Por semana: 10.50 minutos\n",
      "Por mes: 10.53 minutos\n"
     ]
    }
   ],
   "source": [
    "# Asegurarnos de que visit_duration_minutes esté en minutos\n",
    "visits['visit_duration_minutes'] = (visits['end_ts'] - visits['start_ts']).dt.total_seconds() / 60\n",
    "\n",
    "# Promedio diario\n",
    "promedio_diario = visits.groupby(visits['start_ts'].dt.date)['visit_duration_minutes'].mean().mean()\n",
    "\n",
    "# Promedio semanal\n",
    "visits['week'] = visits['start_ts'].dt.to_period('W').dt.start_time  # Agregar columna de semana\n",
    "promedio_semanal = visits.groupby('week')['visit_duration_minutes'].mean().mean()\n",
    "\n",
    "# Promedio mensual\n",
    "visits['month'] = visits['start_ts'].dt.to_period('M').dt.start_time  # Agregar columna de mes\n",
    "promedio_mensual = visits.groupby('month')['visit_duration_minutes'].mean().mean()\n",
    "\n",
    "# Resultados\n",
    "print(f\"Duración promedio de las sesiones (en minutos):\")\n",
    "print(f\"Por día: {promedio_diario:.2f} minutos\")\n",
    "print(f\"Por semana: {promedio_semanal:.2f} minutos\")\n",
    "print(f\"Por mes: {promedio_mensual:.2f} minutos\")"
   ]
  },
  {
   "cell_type": "markdown",
   "metadata": {},
   "source": [
    "#### 1.4 ¿Con que frecuencia los usuarios regresan ?"
   ]
  },
  {
   "cell_type": "code",
   "execution_count": 34,
   "metadata": {},
   "outputs": [
    {
     "name": "stdout",
     "output_type": "stream",
     "text": [
      "Promedio de visitas dentro de 365 días: 2.52\n"
     ]
    }
   ],
   "source": [
    "# Asegúrate de que las fechas estén en el formato correcto\n",
    "visits['start_ts'] = pd.to_datetime(visits['start_ts'])\n",
    "\n",
    "# Ordenamos por usuario y fecha de visita\n",
    "visits.sort_values(by=['uid', 'start_ts'], inplace=True)\n",
    "\n",
    "# Calculamos la fecha de la visita anterior para cada usuario\n",
    "visits['previous_visit'] = visits.groupby('uid')['start_ts'].shift(1)\n",
    "\n",
    "# Calculamos la diferencia en días entre visitas\n",
    "visits['time_between_visits'] = (visits['start_ts'] - visits['previous_visit']).dt.days\n",
    "\n",
    "# Establecemos el período de análisis, por ejemplo, 365 días\n",
    "periodo_dias = 365\n",
    "\n",
    "# Filtramos las visitas que ocurrieron dentro del período definido\n",
    "frecuencia_regreso = visits[visits['time_between_visits'] <= periodo_dias]\n",
    "\n",
    "# Agrupamos por usuario para contar cuántas visitas tiene cada uno dentro del período\n",
    "frecuencia_regreso_por_usuario = frecuencia_regreso.groupby('uid').size()\n",
    "\n",
    "# Calculamos el promedio de visitas dentro del período\n",
    "promedio_visitas = frecuencia_regreso_por_usuario.mean()\n",
    "\n",
    "# Imprimimos los resultados\n",
    "print(f\"Promedio de visitas dentro de {periodo_dias} días: {promedio_visitas:.2f}\")"
   ]
  },
  {
   "cell_type": "code",
   "execution_count": 35,
   "metadata": {},
   "outputs": [
    {
     "data": {
      "image/png": "[encoded data removed]",
      "text/plain": [
       "<Figure size 1000x600 with 1 Axes>"
      ]
     },
     "metadata": {},
     "output_type": "display_data"
    }
   ],
   "source": [
    "import matplotlib.pyplot as plt\n",
    "\n",
    "# Calculamos la frecuencia de visitas dentro de un año (365 días)\n",
    "visitas_por_usuario = frecuencia_regreso_por_usuario\n",
    "\n",
    "\n",
    "bins = range(0, 12, 1)  # Intervalos de 1 en 1, de 0 a 10 visitas\n",
    "\n",
    "# Graficamos el histograma con los nuevos bins\n",
    "plt.figure(figsize=(10, 6))  # Tamaño de la figura\n",
    "plt.hist(visitas_por_usuario, bins=bins, edgecolor='black', alpha=0.7)\n",
    "plt.title('Frecuencia de Visitas de los Usuarios en un Año (365 días)', fontsize=14)\n",
    "plt.xlabel('Número de Visitas', fontsize=12)\n",
    "plt.ylabel('Número de Usuarios', fontsize=12)\n",
    "plt.grid(True)\n",
    "\n",
    "# Mostramos el gráfico\n",
    "plt.show()"
   ]
  },
  {
   "cell_type": "markdown",
   "metadata": {},
   "source": [
    "Interpretación:  Cada usuario regresa 1 o 3 veces al año en promedio. Esto se pudiera considerar bajo, pero si los eventos son de precio elevado quizá sea normal  asistir a eventos 1 o 3 veces al año. "
   ]
  },
  {
   "cell_type": "markdown",
   "metadata": {},
   "source": [
    "<div class=\"alert alert-block alert-danger\">\n",
    "<b>Comentario del revisor (1ra Iteracion)</b> <a class=“tocSkip”></a>\n",
    "\n",
    "Tienes el cálculo por cada usuario de manera correcta, pero para presentar los resultados no es correcto presentar los resultados de forma tan granurar por cada usuario. Podrías usar histogramas para ver cómo está la distribución de las visitas o de cuantas veces regresan los usuarios\n",
    "</div>"
   ]
  },
  {
   "cell_type": "markdown",
   "metadata": {},
   "source": [
    "## 2. Ventas"
   ]
  },
  {
   "cell_type": "markdown",
   "metadata": {},
   "source": [
    "#### 2.1 ¿Cuando empiezan a comprar los usuarios?\n",
    "#### Calcular el tiempo transcurrido entre el registro de un usuario y su primera compra."
   ]
  },
  {
   "cell_type": "code",
   "execution_count": 36,
   "metadata": {},
   "outputs": [
    {
     "name": "stdout",
     "output_type": "stream",
     "text": [
      "Distribución de usuarios por cohorte de conversión:\n",
      "  Conversion Cohort  User Count\n",
      "0     Conversion 0d       32904\n",
      "2   Conversion 2-7d       13905\n",
      "4   Conversion >30d        7076\n",
      "3  Conversion 8-30d        4482\n",
      "1     Conversion 1d        2434\n"
     ]
    }
   ],
   "source": [
    "# Combinar las tablas visits y orders\n",
    "data = visits[['uid', 'start_ts']].drop_duplicates().merge(\n",
    "    orders[['uid', 'buy_ts']], on='uid', how='inner'\n",
    ")\n",
    "\n",
    "# Calcular el tiempo entre registro y la primera compra\n",
    "data['conversion_days'] = (data['buy_ts'] - data['start_ts']).dt.days\n",
    "\n",
    "#conversion_days: Representa cuántos días después del registro ocurrió la primera compra.\n",
    "\n",
    "#Categorizar en cohortes de conversión\n",
    "\n",
    "def categorize_conversion(days):\n",
    "    if days == 0:\n",
    "        return 'Conversion 0d'\n",
    "    elif days == 1:\n",
    "        return 'Conversion 1d'\n",
    "    elif days <= 7:\n",
    "        return 'Conversion 2-7d'\n",
    "    elif days <= 30:\n",
    "        return 'Conversion 8-30d'\n",
    "    else:\n",
    "        return 'Conversion >30d'\n",
    "\n",
    "data['conversion_cohort'] = data['conversion_days'].apply(categorize_conversion)\n",
    "\n",
    "\n",
    "# Contar usuarios por cohorte\n",
    "conversion_analysis = data.groupby('conversion_cohort')['uid'].nunique().reset_index()\n",
    "conversion_analysis.columns = ['Conversion Cohort', 'User Count']\n",
    "\n",
    "# Ordenar para visualización\n",
    "conversion_analysis.sort_values(by='User Count', ascending=False, inplace=True)\n",
    "\n",
    "print(\"Distribución de usuarios por cohorte de conversión:\")\n",
    "print(conversion_analysis)\n",
    "\n"
   ]
  },
  {
   "cell_type": "code",
   "execution_count": 37,
   "metadata": {},
   "outputs": [
    {
     "data": {
      "image/png": "[encoded data removed]",
      "text/plain": [
       "<Figure size 1000x600 with 1 Axes>"
      ]
     },
     "metadata": {},
     "output_type": "display_data"
    }
   ],
   "source": [
    "import matplotlib.pyplot as plt\n",
    "\n",
    "# Crear la gráfica de barras\n",
    "plt.figure(figsize=(10, 6))  # Tamaño de la figura\n",
    "plt.bar(conversion_analysis['Conversion Cohort'], conversion_analysis['User Count'], color='skyblue')\n",
    "\n",
    "# Añadir título y etiquetas\n",
    "plt.title('Distribución de Usuarios por Cohorte de Conversión', fontsize=14)\n",
    "plt.xlabel('Cohorte de Conversión', fontsize=12)\n",
    "plt.ylabel('Número de Usuarios', fontsize=12)\n",
    "\n",
    "# Mejorar la visualización (rotación de etiquetas si es necesario)\n",
    "plt.xticks(rotation=45)\n",
    "\n",
    "# Mostrar la gráfica\n",
    "plt.tight_layout()  # Asegura que las etiquetas no se corten\n",
    "plt.show()"
   ]
  },
  {
   "cell_type": "markdown",
   "metadata": {},
   "source": [
    "Este análisis puede ser útil para comprender los ciclos de decisión de los usuarios y tomar decisiones sobre cuándo y cómo optimizar las estrategias de marketing y retención para incentivar las conversiones más rápidas o mejorar la retención de los usuarios que tardan más tiempo en convertir. 0d y 1d son usuarios que se registraron y les tomó de 0 a 1 días para realizar la compra, son usuarios donde se logra una conversión rápida."
   ]
  },
  {
   "cell_type": "markdown",
   "metadata": {},
   "source": [
    "<div class=\"alert alert-block alert-warning\">\n",
    "<b>Comentario del revisor (1ra Iteracion)</b> <a class=“tocSkip”></a>\n",
    "\n",
    "Muy bien! Aquí podrías complementar con una gráfica de barras también\n",
    "</div>"
   ]
  },
  {
   "cell_type": "markdown",
   "metadata": {},
   "source": [
    "#### 2.2 ¿Cuántos pedidos hacen durante un periodo de tiempo?"
   ]
  },
  {
   "cell_type": "code",
   "execution_count": 38,
   "metadata": {},
   "outputs": [
    {
     "name": "stdout",
     "output_type": "stream",
     "text": [
      "Número de pedidos entre 2018-01-01 y 2018-12-31: 22948\n"
     ]
    }
   ],
   "source": [
    "# Definir el período de tiempo\n",
    "start_date = '2018-01-01'\n",
    "end_date = '2018-12-31'\n",
    "\n",
    "# Filtrar pedidos en el rango de tiempo\n",
    "pedidos_periodo = orders[(orders['buy_ts'] >= start_date) & (orders['buy_ts'] <= end_date)]\n",
    "\n",
    "# Contar la cantidad de pedidos en el período\n",
    "cantidad_pedidos = pedidos_periodo.shape[0]\n",
    "\n",
    "print(f\"Número de pedidos entre {start_date} y {end_date}: {cantidad_pedidos}\")"
   ]
  },
  {
   "cell_type": "markdown",
   "metadata": {},
   "source": [
    "#### 2.3 ¿Cuál es el tamaño promedio de compra?"
   ]
  },
  {
   "cell_type": "code",
   "execution_count": 39,
   "metadata": {},
   "outputs": [
    {
     "name": "stdout",
     "output_type": "stream",
     "text": [
      "El tamaño promedio de compra es: $5.00\n"
     ]
    }
   ],
   "source": [
    "# Calcular el tamaño promedio de compra\n",
    "tamano_promedio_compra = orders['revenue'].mean()\n",
    "\n",
    "print(f\"El tamaño promedio de compra es: ${tamano_promedio_compra:.2f}\")"
   ]
  },
  {
   "cell_type": "markdown",
   "metadata": {},
   "source": [
    "#### 2.4 ¿Cuánto dinero traen? (LTV - Lifetime Value)\n",
    "#### El LTV (Valor del Tiempo de Vida) mide cuánto dinero aporta un cliente durante su tiempo como usuario."
   ]
  },
  {
   "cell_type": "code",
   "execution_count": 40,
   "metadata": {
    "scrolled": false
   },
   "outputs": [
    {
     "data": {
      "image/png": "[encoded data removed]",
      "text/plain": [
       "<Figure size 1200x800 with 2 Axes>"
      ]
     },
     "metadata": {},
     "output_type": "display_data"
    }
   ],
   "source": [
    "import pandas as pd\n",
    "import seaborn as sns\n",
    "import matplotlib.pyplot as plt\n",
    "\n",
    "# Asegurarse de que las columnas 'buy_ts' y 'start_ts' sean de tipo datetime\n",
    "orders['buy_ts'] = pd.to_datetime(orders['buy_ts'])\n",
    "visits['start_ts'] = pd.to_datetime(visits['start_ts'])\n",
    "\n",
    "# Crear la cohorte de conversión basada en el primer registro de cada usuario\n",
    "visits['conversion_cohort'] = visits.groupby('uid')['start_ts'].transform('min').dt.to_period('M')\n",
    "\n",
    "# Crear un periodo relativo de pedidos desde la cohorte de conversión\n",
    "orders = orders.merge(\n",
    "    visits[['uid', 'conversion_cohort']], \n",
    "    on='uid', \n",
    "    how='left'\n",
    ")\n",
    "orders['order_period'] = ((orders['buy_ts'].dt.to_period('M') - orders['conversion_cohort']).apply(lambda x: x.n) + 1)\n",
    "\n",
    "# Calcular el ingreso total por usuario y periodo relativo\n",
    "ltv_por_usuario_periodo = orders.groupby(['conversion_cohort', 'order_period'])['revenue'].sum().reset_index()\n",
    "\n",
    "# Crear una tabla dinámica para calcular el LTV por cohorte y periodo relativo\n",
    "pivot_table = ltv_por_usuario_periodo.pivot_table(\n",
    "    index='conversion_cohort', \n",
    "    columns='order_period', \n",
    "    values='revenue', \n",
    "    aggfunc='sum', \n",
    "    fill_value=0  # Rellenar valores nulos con 0\n",
    ")\n",
    "#print(pivot_table)\n",
    "\n",
    "# Convertir el índice de la tabla pivote a cadenas para evitar errores\n",
    "pivot_table.index = pivot_table.index.astype(str)\n",
    "\n",
    "# Crear el mapa de calor\n",
    "plt.figure(figsize=(12, 8))\n",
    "sns.heatmap(\n",
    "    pivot_table,\n",
    "    cmap=\"YlGnBu\",       # Escala de color\n",
    "    annot=True,          # Mostrar valores en las celdas\n",
    "    fmt=\".0f\",           # Formato sin decimales\n",
    "    cbar_kws={'label': 'Ingresos ($)'},  # Etiqueta de la barra de color\n",
    ")\n",
    "\n",
    "# Configurar el gráfico\n",
    "plt.title(\"Mapa de calor de LTV por cohorte de conversión y periodo relativo\", fontsize=16)\n",
    "plt.xlabel(\"Periodo relativo (meses desde la conversión)\", fontsize=12)\n",
    "plt.ylabel(\"Cohorte de conversión\", fontsize=12)\n",
    "plt.xticks(rotation=45, ha=\"right\")  # Rotar etiquetas en el eje X\n",
    "plt.tight_layout()\n",
    "\n",
    "# Mostrar el gráfico\n",
    "plt.show()"
   ]
  },
  {
   "cell_type": "markdown",
   "metadata": {},
   "source": [
    "#### Interpretación\n",
    "La cohorte 2017-06 tiene el mayor LTV acumulado y contribuye de manera significativa en todos los períodos. Esto refleja una estrategia efectiva de adquisición y retención de clientes durante ese período.\n",
    "El crecimiento sostenido en los períodos posteriores sugiere una base de clientes con mayor fidelidad y hábitos de compra recurrentes.\n",
    "\n",
    "Rendimiento Decreciente en Cohortes Posteriores:\n",
    "A partir de 2017-07, las cohortes presentan una disminución en el LTV inicial y una caída más rápida en los períodos posteriores. Esto podría deberse a:\n",
    "Menor efectividad en las campañas de adquisición.\n",
    "Clientes con menor poder adquisitivo o menor compromiso a largo plazo.\n",
    "\n",
    "Picos Específicos y Retención Baja:\n",
    "La cohorte 2017-09 muestra un pico excepcional en el período 4 (782,662.32), seguido de una caída abrupta. Esto sugiere una promoción puntual o evento que atrajo clientes, pero sin estrategias suficientes para mantenerlos activos a largo plazo.\n",
    "\n",
    "Cohortes de 2018 con LTV Bajo:\n",
    "Las cohortes de 2018-01 en adelante presentan un LTV inicial más bajo y caídas rápidas en los períodos siguientes.\n"
   ]
  },
  {
   "cell_type": "markdown",
   "metadata": {},
   "source": [
    "<div class=\"alert alert-block alert-danger\">\n",
    "<b>Comentario del revisor (1ra Iteracion)</b> <a class=“tocSkip”></a>\n",
    "\n",
    "Nuevamente la situación de presentar los resultados de manera tan granular por cada usuario, aquí podrías calcular el LTV por cada cohort apoyándote de pivot_table y el resultado de esto lo graficas en una gráfica tipo mapa de calor\n",
    "</div>"
   ]
  },
  {
   "cell_type": "markdown",
   "metadata": {},
   "source": [
    "<div class=\"alert alert-block alert-danger\">\n",
    "<b>Comentario del revisor (2da Iteracion)</b> <a class=“tocSkip”></a>\n",
    "\n",
    "Debes calcularlo por cada cohort, es decir, por cada mes cómo lo haces más adelante con la métrica de gastos\n",
    "</div>"
   ]
  },
  {
   "cell_type": "markdown",
   "metadata": {},
   "source": [
    "<div class=\"alert alert-block alert-success\">\n",
    "<b>Comentario del revisor (3ra Iteracion)</b> <a class=“tocSkip”></a>\n",
    "\n",
    "Muy bien, así tiene más detalle la métrica para cada cohort\n",
    "</div>"
   ]
  },
  {
   "cell_type": "markdown",
   "metadata": {},
   "source": [
    "## 3. Marketing"
   ]
  },
  {
   "cell_type": "markdown",
   "metadata": {},
   "source": [
    "1¿Cuánto dinero se gastó? (Total/por fuente de adquisición/a lo largo del tiempo) 2. ¿Cuál fue el costo de adquisición de clientes de cada una de las fuentes? 3. ¿Cuán rentables eran las inversiones? (ROMI)"
   ]
  },
  {
   "cell_type": "markdown",
   "metadata": {},
   "source": [
    "#### 3.1 ¿Cuánto dinero se gastó?"
   ]
  },
  {
   "cell_type": "code",
   "execution_count": 41,
   "metadata": {},
   "outputs": [
    {
     "name": "stdout",
     "output_type": "stream",
     "text": [
      "source_id       1        2         3        4        5       9       10\n",
      "month                                                                  \n",
      "2017-06    1125.61  2427.38   7731.65  3514.80  2616.12  285.22  314.22\n",
      "2017-07    1072.88  2333.11   7674.37  3529.73  2998.14  302.54  329.82\n",
      "2017-08     951.81  1811.05   6143.54  3217.36  2185.28  248.93  232.57\n",
      "2017-09    1502.01  2985.66   9963.55  5192.26  3849.14  415.62  460.67\n",
      "2017-10    2315.75  4845.00  15737.24  6420.84  5767.40  609.41  627.24\n",
      "2017-11    2445.16  5247.68  17025.34  5388.82  6325.34  683.18  792.36\n",
      "2017-12    2341.20  4897.80  16219.52  7680.47  5872.52  657.98  645.86\n",
      "2018-01    2186.18  4157.74  14808.78  5832.79  5371.52  547.16  614.35\n",
      "2018-02    2204.48  4474.34  14228.56  5711.96  5071.31  551.50  480.88\n",
      "2018-03    1893.09  3943.14  13080.85  5961.87  4529.62  480.29  526.41\n",
      "2018-04    1327.49  2993.70   9296.81  4408.49  3501.15  373.49  388.25\n",
      "2018-05    1467.61  2689.44   9411.42  4214.21  3669.56  362.17  409.86\n"
     ]
    },
    {
     "data": {
      "image/png": "[encoded data removed]",
      "text/plain": [
       "<Figure size 1200x800 with 2 Axes>"
      ]
     },
     "metadata": {},
     "output_type": "display_data"
    }
   ],
   "source": [
    "import seaborn as sns\n",
    "import matplotlib.pyplot as plt\n",
    "\n",
    "# Asegurarse de que la columna 'dt' esté en formato datetime\n",
    "costs['dt'] = pd.to_datetime(costs['dt'])\n",
    "\n",
    "# Crear una columna para el mes\n",
    "costs['month'] = costs['dt'].dt.to_period('M')\n",
    "\n",
    "# Crear la pivot table para sumar los costos por fuente y mes\n",
    "pivot_table = costs.pivot_table(\n",
    "    index='month',       # Índice será el mes\n",
    "    columns='source_id', # Columnas serán las fuentes de adquisición\n",
    "    values='costs',      # Valores a sumar serán los costos\n",
    "    aggfunc='sum',       # Agregación será la suma\n",
    "    fill_value=0         # Rellenar valores nulos con 0\n",
    ")\n",
    "print(pivot_table)\n",
    "\n",
    "# Convertir el índice de la tabla pivote a cadenas para evitar errores\n",
    "pivot_table.index = pivot_table.index.astype(str)\n",
    "\n",
    "# Crear el mapa de calor\n",
    "plt.figure(figsize=(12, 8))\n",
    "sns.heatmap(\n",
    "    pivot_table,\n",
    "    cmap=\"YlGnBu\",       # Escala de color\n",
    "    annot=True,          # Mostrar valores en las celdas\n",
    "    fmt=\".0f\",           # Formato sin decimales\n",
    "    cbar_kws={'label': 'Gastos ($)'},  # Etiqueta de la barra de color\n",
    ")\n",
    "\n",
    "# Configurar el gráfico\n",
    "plt.title(\"Mapa de calor de gastos por fuente de adquisición y mes\", fontsize=16)\n",
    "plt.xlabel(\"Fuente de adquisición\", fontsize=12)\n",
    "plt.ylabel(\"Mes\", fontsize=12)\n",
    "plt.xticks(rotation=45, ha=\"right\")  # Rotar etiquetas en el eje X\n",
    "plt.tight_layout()\n",
    "\n",
    "# Mostrar el gráfico\n",
    "plt.show()"
   ]
  },
  {
   "cell_type": "markdown",
   "metadata": {},
   "source": [
    "\n",
    "Distribución de los costos por fuente:\n",
    "\n",
    "Las fuentes con los IDs 3 y 4 presentan consistentemente los gastos más altos en todos los meses, lo que sugiere que son fuentes principales de adquisición.\n",
    "Las fuentes con los IDs 9 y 10 tienen gastos significativamente más bajos, indicando que podrían ser canales secundarios o que reciben menor inversión."
   ]
  },
  {
   "cell_type": "markdown",
   "metadata": {},
   "source": [
    "<div class=\"alert alert-block alert-warning\">\n",
    "<b>Comentario del revisor (1ra Iteracion)</b> <a class=“tocSkip”></a>\n",
    "\n",
    "Muy bien calculado los gastos por cada cohort y fuente! Complementa esta parte con una gráfica tipo mapa de calor\n",
    "</div>"
   ]
  },
  {
   "cell_type": "markdown",
   "metadata": {},
   "source": [
    "#### 3.2. ¿Cuál fue el costo de adquisición de clientes (CAC) de cada una de las fuentes?"
   ]
  },
  {
   "cell_type": "code",
   "execution_count": 42,
   "metadata": {},
   "outputs": [
    {
     "ename": "NameError",
     "evalue": "name 'gastos_por_fuente' is not defined",
     "output_type": "error",
     "traceback": [
      "\u001b[0;31m---------------------------------------------------------------------------\u001b[0m",
      "\u001b[0;31mNameError\u001b[0m                                 Traceback (most recent call last)",
      "Cell \u001b[0;32mIn[42], line 7\u001b[0m\n\u001b[1;32m      4\u001b[0m clientes_por_fuente\u001b[38;5;241m.\u001b[39mcolumns \u001b[38;5;241m=\u001b[39m [\u001b[38;5;124m'\u001b[39m\u001b[38;5;124msource_id\u001b[39m\u001b[38;5;124m'\u001b[39m, \u001b[38;5;124m'\u001b[39m\u001b[38;5;124mclientes\u001b[39m\u001b[38;5;124m'\u001b[39m]\n\u001b[1;32m      6\u001b[0m \u001b[38;5;66;03m# Combinar con los gastos\u001b[39;00m\n\u001b[0;32m----> 7\u001b[0m cac \u001b[38;5;241m=\u001b[39m \u001b[43mgastos_por_fuente\u001b[49m\u001b[38;5;241m.\u001b[39mmerge(clientes_por_fuente, on\u001b[38;5;241m=\u001b[39m\u001b[38;5;124m'\u001b[39m\u001b[38;5;124msource_id\u001b[39m\u001b[38;5;124m'\u001b[39m)\n\u001b[1;32m      8\u001b[0m cac[\u001b[38;5;124m'\u001b[39m\u001b[38;5;124mcac\u001b[39m\u001b[38;5;124m'\u001b[39m] \u001b[38;5;241m=\u001b[39m cac[\u001b[38;5;124m'\u001b[39m\u001b[38;5;124mcosts\u001b[39m\u001b[38;5;124m'\u001b[39m] \u001b[38;5;241m/\u001b[39m cac[\u001b[38;5;124m'\u001b[39m\u001b[38;5;124mclientes\u001b[39m\u001b[38;5;124m'\u001b[39m]\n\u001b[1;32m     10\u001b[0m \u001b[38;5;28mprint\u001b[39m(cac)\n",
      "\u001b[0;31mNameError\u001b[0m: name 'gastos_por_fuente' is not defined"
     ]
    }
   ],
   "source": [
    "#El CAC se calcula dividiendo el total gastado por el número de clientes adquiridos (uid\n",
    "# Número de clientes únicos por fuente\n",
    "clientes_por_fuente = visits.groupby('source_id')['uid'].nunique().reset_index()\n",
    "clientes_por_fuente.columns = ['source_id', 'clientes']\n",
    "\n",
    "# Combinar con los gastos\n",
    "cac = gastos_por_fuente.merge(clientes_por_fuente, on='source_id')\n",
    "cac['cac'] = cac['costs'] / cac['clientes']\n",
    "\n",
    "print(cac)\n"
   ]
  },
  {
   "cell_type": "code",
   "execution_count": null,
   "metadata": {
    "scrolled": true
   },
   "outputs": [],
   "source": [
    "import pandas as pd\n",
    "import seaborn as sns\n",
    "import matplotlib.pyplot as plt\n",
    "\n",
    "# 1. Asegurarse de que las fechas estén en formato datetime\n",
    "visits['start_ts'] = pd.to_datetime(visits['start_ts'])\n",
    "visits['month'] = visits['start_ts'].dt.to_period('M')\n",
    "\n",
    "costs['dt'] = pd.to_datetime(costs['dt'])\n",
    "costs['month'] = costs['dt'].dt.to_period('M')\n",
    "\n",
    "# 2. Número de clientes únicos por fuente y mes\n",
    "clientes_por_cohort = visits.groupby(['month', 'source_id'])['uid'].nunique().reset_index()\n",
    "clientes_por_cohort.columns = ['month', 'source_id', 'clientes']\n",
    "\n",
    "# 3. Gastos totales por fuente y mes\n",
    "gastos_por_cohort = costs.groupby(['month', 'source_id'])['costs'].sum().reset_index()\n",
    "\n",
    "# 4. Combinar datos de clientes y gastos\n",
    "cac_cohort = gastos_por_cohort.merge(clientes_por_cohort, on=['month', 'source_id'], how='left')\n",
    "cac_cohort['cac'] = cac_cohort['costs'] / cac_cohort['clientes']\n",
    "\n",
    "# 5. Crear una tabla pivote para el mapa de calor\n",
    "pivot_cac = cac_cohort.pivot_table(\n",
    "    index='month', \n",
    "    columns='source_id', \n",
    "    values='cac', \n",
    "    aggfunc='mean', \n",
    "    fill_value=0\n",
    ")\n",
    "\n",
    "# 6. Generar el mapa de calor\n",
    "plt.figure(figsize=(12, 8))\n",
    "sns.heatmap(\n",
    "    pivot_cac, \n",
    "    cmap=\"YlGnBu\", \n",
    "    annot=True, \n",
    "    fmt=\".2f\", \n",
    "    cbar_kws={'label': 'Costo de Adquisición (CAC)'}\n",
    ")\n",
    "plt.title(\"Mapa de calor del Costo de Adquisición por Fuente y Mes\", fontsize=16)\n",
    "plt.xlabel(\"Fuente de adquisición\")\n",
    "plt.ylabel(\"Mes\")\n",
    "plt.show()"
   ]
  },
  {
   "cell_type": "markdown",
   "metadata": {},
   "source": [
    "Comparación de CAC por Fuente\n",
    "El CAC más alto se encuentra en la fuente 3, con 1.89. Esto significa que adquirir un cliente a través de esta fuente cuesta $1.89 en promedio, lo cual podría indicar que es una fuente costosa o menos eficiente.\n",
    "\n",
    "El CAC más bajo es de la fuente 9, con 0.59. Esto implica que esta fuente es más económica para adquirir clientes, con un costo promedio de $0.59 por cliente.\n",
    "\n",
    "Relación entre \"costs\" y \"clientes\"\n",
    "\n",
    "Las fuentes 3 y 4 tienen grandes diferencias en eficiencia:\n",
    "\n",
    " Fuente 3: Aunque tiene el gasto más alto (141,321.63), su CAC es el mayor (1.89), lo que sugiere que no genera tantos clientes en relación con la inversión.\n",
    " Fuente 4: A pesar de gastar menos (61,073.60), tiene un CAC mucho más bajo (0.73), lo que indica que es más efectiva en atraer clientes.\n",
    " Evaluación de la Eficiencia\n",
    " Fuentes con CAC bajo (como 4, 5, 9, y 10) pueden ser consideradas más eficientes, ya que logran atraer clientes a menor costo.\n",
    " Fuentes con CAC alto (como 3 y 2) deberían ser analizadas para entender si los clientes obtenidos son de mayor calidad o si existen problemas en su estrategia de adquisición.\n"
   ]
  },
  {
   "cell_type": "markdown",
   "metadata": {},
   "source": [
    "<div class=\"alert alert-block alert-danger\">\n",
    "<b>Comentario del revisor (1ra Iteracion)</b> <a class=“tocSkip”></a>\n",
    "\n",
    "El CAC también podrías calcularlo por cada cohort y fuente y mostrarlo en una gráfica tipo mapa de calor\n",
    "</div>"
   ]
  },
  {
   "cell_type": "markdown",
   "metadata": {},
   "source": [
    "<div class=\"alert alert-block alert-success\">\n",
    "<b>Comentario del revisor (2da Iteracion)</b> <a class=“tocSkip”></a>\n",
    "\n",
    "Perfecto, así es mucho más claro revisar que cohort tuvo mayor o menor costo de adquisición\n",
    "</div>"
   ]
  },
  {
   "cell_type": "markdown",
   "metadata": {},
   "source": [
    "#### 3.3 ¿Cuán rentables eran las inversiones? (ROMI)"
   ]
  },
  {
   "cell_type": "markdown",
   "metadata": {},
   "source": [
    "El ROMI (Return on Marketing Investment) se calcula como:\n",
    "\n",
    "𝑅𝑂𝑀𝐼=\n",
    "(Ingresos generados−Costos de marketing)/Costos de Marketing\n"
   ]
  },
  {
   "cell_type": "markdown",
   "metadata": {},
   "source": [
    "# ¿Cuán rentables eran las inversiones? (ROMI)"
   ]
  },
  {
   "cell_type": "code",
   "execution_count": null,
   "metadata": {},
   "outputs": [],
   "source": [
    "# Asegurarnos de que las fechas están en formato datetime\n",
    "orders['buy_ts'] = pd.to_datetime(orders['buy_ts'])\n",
    "costs['dt'] = pd.to_datetime(costs['dt'])\n",
    "\n",
    "# Sumar ingresos (revenue) por cada fuente de adquisición\n",
    "revenue_per_source = visits.merge(orders, on='uid', how='inner') \\\n",
    "                           .groupby('source_id')['revenue'].sum()\n",
    "\n",
    "# Sumar costos de marketing por cada fuente\n",
    "costs_per_source = costs.groupby('source_id')['costs'].sum()\n",
    "\n",
    "# Calcular el ROMI por fuente\n",
    "romi_data = pd.DataFrame({\n",
    "    'total_revenue': revenue_per_source,\n",
    "    'total_costs': costs_per_source\n",
    "})\n",
    "\n",
    "romi_data['romi'] = (romi_data['total_revenue'] / romi_data['total_costs']) - 1\n",
    "\n",
    "# Crear la pivot table (tabla dinámica) con ROMI por fuente\n",
    "pivot_table_romi = romi_data.reset_index()\n",
    "\n",
    "# Mostrar la tabla\n",
    "print(pivot_table_romi)\n",
    "\n",
    "# Graficar ROMI por fuente de adquisición\n",
    "plt.figure(figsize=(10, 6))\n",
    "plt.bar(pivot_table_romi['source_id'], pivot_table_romi['romi'], color='skyblue')\n",
    "plt.title('ROMI por Fuente de Adquisición')\n",
    "plt.xlabel('Fuente de Adquisición (source_id)')\n",
    "plt.ylabel('ROMI')\n",
    "plt.xticks(pivot_table_romi['source_id'], rotation=45)\n",
    "plt.tight_layout()\n",
    "plt.show()"
   ]
  },
  {
   "cell_type": "markdown",
   "metadata": {},
   "source": [
    "# Interpretación de los resultados: \n",
    "    \n",
    "Fuentes altamente rentables: Las fuentes 1, 2, 5, y 4 tienen altos ROMI, siendo las mejores opciones para priorizar inversiones.\n",
    "Fuentes de bajo rendimiento: La fuente 3 tiene un ROMI apenas positivo, por lo que se debe evaluar si es necesario optimizar su estrategia.\n",
    "Fuentes sin datos completos: La fuente 7 tiene datos incompletos; es necesario verificar si realmente hubo costos asociados.\n",
    "Este análisis ayuda a tomar decisiones estratégicas sobre dónde enfocar los recursos de marketing para maximizar la rentabilidad."
   ]
  },
  {
   "cell_type": "markdown",
   "metadata": {},
   "source": [
    "<div class=\"alert alert-block alert-warning\">\n",
    "<b>Comentario del revisor (1ra Iteracion)</b> <a class=“tocSkip”></a>\n",
    "\n",
    "Ten cuidado con el tipo de celdas que declares, esta debería ser tipo Markdown para evitar el error de sintaxis\n",
    "</div>"
   ]
  },
  {
   "cell_type": "markdown",
   "metadata": {},
   "source": [
    "# Escribe una conclusión: aconseja a los expertos de marketing cuánto dinero invertir y dónde"
   ]
  },
  {
   "cell_type": "markdown",
   "metadata": {},
   "source": [
    "# Recomendaciones de inversión:\n",
    "1. Optimizar la inversión en fuentes de alta rentabilidad (ROMI alto):\n",
    "Fuente 1 y Fuente 5:\n",
    "Estas fuentes muestran un ROMI alto (109.31 y 21.82 respectivamente). Aumentar la inversión aquí podría maximizar los ingresos, especialmente en el caso de Fuente 1, que tiene el ROMI más alto.\n",
    "\n",
    "2. Reducir o reevaluar fuentes con bajo ROMI:\n",
    "Fuente 3 y Fuente 10:\n",
    "Estas fuentes tienen ROMIs bajos (1.10 y 1.51 respectivamente), lo que indica que el retorno no compensa los costos. Considera reducir la inversión o analizar estrategias específicas para mejorar su rendimiento.\n",
    "\n",
    "3. Incentivar la retención a largo plazo (LTV alto):\n",
    "Los usuarios que convierten después de 30 días (Conversion >30d) tienen el LTV más alto ($925.74). Implementa estrategias de remarketing y engagement para retener usuarios a largo plazo y aumentar su valor.\n",
    "\n",
    "4. CAC más bajo no siempre significa mejor fuente:\n",
    "Aunque Fuente 9 y Fuente 10 tienen el CAC más bajo ($0.60 y $0.72 respectivamente), su ROMI es bajo (5.59 y 1.51). Asegúrate de evaluar el impacto real de estas fuentes en los ingresos.\n",
    "\n",
    "5. Distribución de presupuesto por mes:\n",
    "Picos de gasto: Octubre, noviembre y diciembre de 2017.\n",
    "Estos meses presentan altos costos y deben correlacionarse con los ingresos generados en ese periodo para justificar las inversiones.\n",
    "Meses de bajo gasto: Enero a mayo de 2018.\n",
    "Analiza si estas inversiones limitadas afectaron la adquisición o conversión de usuarios.\n",
    "\n",
    "\n",
    "Distribuir más presupuesto a Fuente 1 y Fuente 5, dado su alto ROMI y potencial de generación de ingresos.\n",
    "Reducir gastos en Fuente 3 y Fuente 10 o implementar estrategias específicas para aumentar su rentabilidad.\n",
    "Aumentar el enfoque en retención y remarketing para usuarios con potencial de conversión tardía (Conversion >30d), ya que estos usuarios generan el mayor LTV.\n",
    "Evaluar estacionalidad: Realiza un análisis estacional para identificar los meses más rentables y ajustar el presupuesto de marketing de acuerdo con las tendencias de comportamiento del usuario.\n",
    "\n"
   ]
  },
  {
   "cell_type": "markdown",
   "metadata": {},
   "source": [
    "<div class=\"alert alert-block alert-danger\">\n",
    "<b>Comentario general (1ra Iteracion)</b> <a class=“tocSkip”></a>\n",
    "\n",
    "Buen avance de tu proyecto Alejandra! Sin embargo tienes varios puntos de mejora en los que te he dejado comentarios para esto, tambiénte pediría que seas más detallada en la conclusión final y las recomendaciones ya que aquí debes hacer tipo un resúmen de todos los hallazgos desde el inicio del notebook pero enfocándote en los puntos principales.\n",
    "    \n",
    "También te pediría redactar tus interpretaciones de los cálculos o visualizaciones que presentes ya que hay varias secciones que solo presentas números sin ninguna explicación y es importante comunicar de manera clara lo que se está presentando.\n",
    "</div>"
   ]
  },
  {
   "cell_type": "markdown",
   "metadata": {},
   "source": [
    "<div class=\"alert alert-block alert-success\">\n",
    "<b>Comentario del revisor (4ta Iteracion)</b> <a class=“tocSkip”></a>\n",
    "\n",
    "Buen t\n",
    "</div>"
   ]
  }
 ],
 "metadata": {
  "ExecuteTimeLog": [
   {
    "duration": 789,
    "start_time": "2025-01-07T02:56:32.504Z"
   },
   {
    "duration": 386,
    "start_time": "2025-01-07T02:57:30.297Z"
   },
   {
    "duration": 120,
    "start_time": "2025-01-07T03:04:34.388Z"
   },
   {
    "duration": 19,
    "start_time": "2025-01-07T03:06:37.431Z"
   },
   {
    "duration": 23,
    "start_time": "2025-01-07T03:08:08.335Z"
   },
   {
    "duration": 11,
    "start_time": "2025-01-07T03:09:01.397Z"
   },
   {
    "duration": 15,
    "start_time": "2025-01-07T03:09:50.479Z"
   },
   {
    "duration": 671,
    "start_time": "2025-01-07T03:19:26.658Z"
   },
   {
    "duration": 412,
    "start_time": "2025-01-07T04:35:48.490Z"
   },
   {
    "duration": 45,
    "start_time": "2025-01-07T04:43:25.546Z"
   },
   {
    "duration": 363,
    "start_time": "2025-01-07T04:43:38.484Z"
   },
   {
    "duration": 44,
    "start_time": "2025-01-07T04:43:52.242Z"
   },
   {
    "duration": 41,
    "start_time": "2025-01-07T04:45:03.359Z"
   },
   {
    "duration": 392,
    "start_time": "2025-01-07T04:46:10.045Z"
   },
   {
    "duration": 11,
    "start_time": "2025-01-07T04:47:23.945Z"
   },
   {
    "duration": 49,
    "start_time": "2025-01-07T04:48:39.022Z"
   },
   {
    "duration": 17,
    "start_time": "2025-01-07T04:58:31.795Z"
   },
   {
    "duration": 73,
    "start_time": "2025-01-07T04:59:18.013Z"
   },
   {
    "duration": 26,
    "start_time": "2025-01-07T04:59:58.570Z"
   },
   {
    "duration": 130,
    "start_time": "2025-01-07T05:00:50.705Z"
   },
   {
    "duration": 10,
    "start_time": "2025-01-07T05:00:56.014Z"
   },
   {
    "duration": 23,
    "start_time": "2025-01-07T05:01:00.638Z"
   },
   {
    "duration": 19,
    "start_time": "2025-01-07T05:01:02.887Z"
   },
   {
    "duration": 88,
    "start_time": "2025-01-07T05:01:10.733Z"
   },
   {
    "duration": 36,
    "start_time": "2025-01-07T05:03:56.830Z"
   },
   {
    "duration": 10,
    "start_time": "2025-01-07T05:04:54.589Z"
   },
   {
    "duration": 20,
    "start_time": "2025-01-07T05:05:59.019Z"
   },
   {
    "duration": 9,
    "start_time": "2025-01-07T05:17:34.401Z"
   },
   {
    "duration": 9,
    "start_time": "2025-01-07T05:23:27.681Z"
   },
   {
    "duration": 158,
    "start_time": "2025-01-07T17:17:30.313Z"
   },
   {
    "duration": 13,
    "start_time": "2025-01-07T17:17:39.003Z"
   },
   {
    "duration": 714,
    "start_time": "2025-01-07T17:18:02.602Z"
   },
   {
    "duration": 130,
    "start_time": "2025-01-07T17:18:03.319Z"
   },
   {
    "duration": 12,
    "start_time": "2025-01-07T17:18:03.450Z"
   },
   {
    "duration": 24,
    "start_time": "2025-01-07T17:18:03.463Z"
   },
   {
    "duration": 34,
    "start_time": "2025-01-07T17:18:03.489Z"
   },
   {
    "duration": 22,
    "start_time": "2025-01-07T17:18:03.524Z"
   },
   {
    "duration": 8,
    "start_time": "2025-01-07T17:18:03.547Z"
   },
   {
    "duration": 9,
    "start_time": "2025-01-07T17:18:03.556Z"
   },
   {
    "duration": 290,
    "start_time": "2025-01-07T17:18:03.567Z"
   },
   {
    "duration": 259,
    "start_time": "2025-01-07T17:18:23.317Z"
   },
   {
    "duration": 21,
    "start_time": "2025-01-07T17:22:51.261Z"
   },
   {
    "duration": 239,
    "start_time": "2025-01-07T17:54:38.097Z"
   },
   {
    "duration": 22,
    "start_time": "2025-01-07T20:52:54.363Z"
   },
   {
    "duration": 24,
    "start_time": "2025-01-07T20:52:57.908Z"
   },
   {
    "duration": 45,
    "start_time": "2025-01-07T20:55:29.694Z"
   },
   {
    "duration": 255,
    "start_time": "2025-01-07T21:08:53.787Z"
   },
   {
    "duration": 266,
    "start_time": "2025-01-07T21:22:39.895Z"
   },
   {
    "duration": 248,
    "start_time": "2025-01-07T21:23:49.240Z"
   },
   {
    "duration": 6,
    "start_time": "2025-01-07T21:53:15.774Z"
   },
   {
    "duration": 4,
    "start_time": "2025-01-07T22:01:38.669Z"
   },
   {
    "duration": 12,
    "start_time": "2025-01-07T22:05:20.661Z"
   },
   {
    "duration": 5,
    "start_time": "2025-01-07T22:06:15.184Z"
   },
   {
    "duration": 14,
    "start_time": "2025-01-07T22:06:23.437Z"
   },
   {
    "duration": 13,
    "start_time": "2025-01-07T22:07:30.395Z"
   },
   {
    "duration": 12,
    "start_time": "2025-01-07T22:07:41.686Z"
   },
   {
    "duration": 6,
    "start_time": "2025-01-07T22:36:16.729Z"
   },
   {
    "duration": 9,
    "start_time": "2025-01-07T22:36:57.490Z"
   },
   {
    "duration": 39,
    "start_time": "2025-01-07T22:40:01.925Z"
   },
   {
    "duration": 10,
    "start_time": "2025-01-07T22:40:29.298Z"
   },
   {
    "duration": 33,
    "start_time": "2025-01-07T22:51:31.337Z"
   },
   {
    "duration": 121,
    "start_time": "2025-01-08T00:17:46.121Z"
   },
   {
    "duration": 24,
    "start_time": "2025-01-08T01:18:28.270Z"
   },
   {
    "duration": 22,
    "start_time": "2025-01-08T01:19:43.160Z"
   },
   {
    "duration": 2139,
    "start_time": "2025-01-08T01:27:00.134Z"
   },
   {
    "duration": 425,
    "start_time": "2025-01-08T01:27:59.259Z"
   },
   {
    "duration": 506,
    "start_time": "2025-01-08T01:45:38.812Z"
   },
   {
    "duration": 1623,
    "start_time": "2025-01-08T01:52:26.946Z"
   },
   {
    "duration": 117,
    "start_time": "2025-01-08T02:07:02.602Z"
   },
   {
    "duration": 153,
    "start_time": "2025-01-08T02:08:11.211Z"
   },
   {
    "duration": 210,
    "start_time": "2025-01-08T02:09:42.161Z"
   },
   {
    "duration": 196,
    "start_time": "2025-01-08T02:12:12.470Z"
   },
   {
    "duration": 353,
    "start_time": "2025-01-08T03:03:43.323Z"
   },
   {
    "duration": 117,
    "start_time": "2025-01-08T03:03:43.677Z"
   },
   {
    "duration": 17,
    "start_time": "2025-01-08T03:03:43.796Z"
   },
   {
    "duration": 24,
    "start_time": "2025-01-08T03:03:43.815Z"
   },
   {
    "duration": 14,
    "start_time": "2025-01-08T03:03:43.841Z"
   },
   {
    "duration": 23,
    "start_time": "2025-01-08T03:03:43.857Z"
   },
   {
    "duration": 33,
    "start_time": "2025-01-08T03:03:43.882Z"
   },
   {
    "duration": 9,
    "start_time": "2025-01-08T03:03:43.917Z"
   },
   {
    "duration": 272,
    "start_time": "2025-01-08T03:03:43.927Z"
   },
   {
    "duration": 244,
    "start_time": "2025-01-08T03:03:44.200Z"
   },
   {
    "duration": 33,
    "start_time": "2025-01-08T03:03:44.446Z"
   },
   {
    "duration": 50,
    "start_time": "2025-01-08T03:03:44.481Z"
   },
   {
    "duration": 251,
    "start_time": "2025-01-08T03:03:44.534Z"
   },
   {
    "duration": 256,
    "start_time": "2025-01-08T03:03:44.788Z"
   },
   {
    "duration": 5,
    "start_time": "2025-01-08T03:03:45.046Z"
   },
   {
    "duration": 4,
    "start_time": "2025-01-08T03:03:45.053Z"
   },
   {
    "duration": 11,
    "start_time": "2025-01-08T03:03:45.059Z"
   },
   {
    "duration": 52,
    "start_time": "2025-01-08T03:03:45.072Z"
   },
   {
    "duration": 417,
    "start_time": "2025-01-08T03:03:45.127Z"
   },
   {
    "duration": 451,
    "start_time": "2025-01-08T03:03:45.545Z"
   },
   {
    "duration": 46,
    "start_time": "2025-01-08T03:03:45.998Z"
   },
   {
    "duration": 120,
    "start_time": "2025-01-08T03:03:46.046Z"
   },
   {
    "duration": 1498,
    "start_time": "2025-01-08T03:03:46.169Z"
   },
   {
    "duration": 126,
    "start_time": "2025-01-08T03:03:47.669Z"
   },
   {
    "duration": 158,
    "start_time": "2025-01-08T03:03:47.797Z"
   },
   {
    "duration": 221,
    "start_time": "2025-01-08T03:03:47.957Z"
   },
   {
    "duration": 208,
    "start_time": "2025-01-08T03:03:48.180Z"
   },
   {
    "duration": 268,
    "start_time": "2025-01-08T03:54:55.542Z"
   },
   {
    "duration": 71,
    "start_time": "2025-01-08T04:01:18.000Z"
   },
   {
    "duration": 226,
    "start_time": "2025-01-08T04:15:12.863Z"
   },
   {
    "duration": 377,
    "start_time": "2025-01-08T04:20:32.481Z"
   },
   {
    "duration": 150,
    "start_time": "2025-01-08T04:38:49.920Z"
   },
   {
    "duration": 1155,
    "start_time": "2025-01-08T04:45:26.058Z"
   },
   {
    "duration": 735,
    "start_time": "2025-01-09T02:45:23.024Z"
   },
   {
    "duration": 126,
    "start_time": "2025-01-09T02:45:23.761Z"
   },
   {
    "duration": 11,
    "start_time": "2025-01-09T02:45:23.888Z"
   },
   {
    "duration": 34,
    "start_time": "2025-01-09T02:45:23.901Z"
   },
   {
    "duration": 15,
    "start_time": "2025-01-09T02:45:23.937Z"
   },
   {
    "duration": 23,
    "start_time": "2025-01-09T02:45:23.954Z"
   },
   {
    "duration": 8,
    "start_time": "2025-01-09T02:45:23.979Z"
   },
   {
    "duration": 10,
    "start_time": "2025-01-09T02:45:23.989Z"
   },
   {
    "duration": 284,
    "start_time": "2025-01-09T02:45:24.032Z"
   },
   {
    "duration": 256,
    "start_time": "2025-01-09T02:45:24.320Z"
   },
   {
    "duration": 24,
    "start_time": "2025-01-09T02:45:24.578Z"
   },
   {
    "duration": 42,
    "start_time": "2025-01-09T02:45:24.604Z"
   },
   {
    "duration": 246,
    "start_time": "2025-01-09T02:45:24.648Z"
   },
   {
    "duration": 255,
    "start_time": "2025-01-09T02:45:24.896Z"
   },
   {
    "duration": 5,
    "start_time": "2025-01-09T02:45:25.153Z"
   },
   {
    "duration": 3,
    "start_time": "2025-01-09T02:45:25.160Z"
   },
   {
    "duration": 12,
    "start_time": "2025-01-09T02:45:25.164Z"
   },
   {
    "duration": 20,
    "start_time": "2025-01-09T02:45:25.178Z"
   },
   {
    "duration": 60,
    "start_time": "2025-01-09T02:45:25.199Z"
   },
   {
    "duration": 145,
    "start_time": "2025-01-09T02:45:25.260Z"
   },
   {
    "duration": 2003,
    "start_time": "2025-01-09T02:45:25.407Z"
   },
   {
    "duration": 195,
    "start_time": "2025-01-09T02:45:27.412Z"
   },
   {
    "duration": 143,
    "start_time": "2025-01-09T02:45:27.609Z"
   },
   {
    "duration": 238,
    "start_time": "2025-01-09T02:45:27.754Z"
   },
   {
    "duration": 1061,
    "start_time": "2025-01-09T02:45:27.993Z"
   },
   {
    "duration": 203,
    "start_time": "2025-01-09T02:45:29.056Z"
   },
   {
    "duration": 204,
    "start_time": "2025-01-09T02:45:29.261Z"
   },
   {
    "duration": 76,
    "start_time": "2025-01-09T02:45:29.470Z"
   },
   {
    "duration": 443,
    "start_time": "2025-01-09T02:45:29.548Z"
   },
   {
    "duration": 7,
    "start_time": "2025-01-09T02:45:29.993Z"
   },
   {
    "duration": 161,
    "start_time": "2025-01-10T01:51:31.253Z"
   },
   {
    "duration": 696,
    "start_time": "2025-01-10T01:52:01.997Z"
   },
   {
    "duration": 128,
    "start_time": "2025-01-10T01:52:02.696Z"
   },
   {
    "duration": 11,
    "start_time": "2025-01-10T01:52:02.826Z"
   },
   {
    "duration": 23,
    "start_time": "2025-01-10T01:52:02.839Z"
   },
   {
    "duration": 14,
    "start_time": "2025-01-10T01:52:02.864Z"
   },
   {
    "duration": 44,
    "start_time": "2025-01-10T01:52:02.880Z"
   },
   {
    "duration": 8,
    "start_time": "2025-01-10T01:52:02.925Z"
   },
   {
    "duration": 9,
    "start_time": "2025-01-10T01:52:02.935Z"
   },
   {
    "duration": 281,
    "start_time": "2025-01-10T01:52:02.946Z"
   },
   {
    "duration": 253,
    "start_time": "2025-01-10T01:52:03.231Z"
   },
   {
    "duration": 27,
    "start_time": "2025-01-10T01:52:03.486Z"
   },
   {
    "duration": 28,
    "start_time": "2025-01-10T01:52:03.515Z"
   },
   {
    "duration": 244,
    "start_time": "2025-01-10T01:52:03.545Z"
   },
   {
    "duration": 253,
    "start_time": "2025-01-10T01:52:03.791Z"
   },
   {
    "duration": 5,
    "start_time": "2025-01-10T01:52:04.046Z"
   },
   {
    "duration": 4,
    "start_time": "2025-01-10T01:52:04.052Z"
   },
   {
    "duration": 12,
    "start_time": "2025-01-10T01:52:04.057Z"
   },
   {
    "duration": 43,
    "start_time": "2025-01-10T01:52:04.070Z"
   },
   {
    "duration": 29,
    "start_time": "2025-01-10T01:52:04.115Z"
   },
   {
    "duration": 139,
    "start_time": "2025-01-10T01:52:04.146Z"
   },
   {
    "duration": 1951,
    "start_time": "2025-01-10T01:52:04.286Z"
   },
   {
    "duration": 211,
    "start_time": "2025-01-10T01:52:06.239Z"
   },
   {
    "duration": 137,
    "start_time": "2025-01-10T01:52:06.452Z"
   },
   {
    "duration": 293,
    "start_time": "2025-01-10T01:52:06.591Z"
   },
   {
    "duration": 1157,
    "start_time": "2025-01-10T01:52:06.886Z"
   },
   {
    "duration": 224,
    "start_time": "2025-01-10T01:52:08.045Z"
   },
   {
    "duration": 289,
    "start_time": "2025-01-10T01:52:08.272Z"
   },
   {
    "duration": 80,
    "start_time": "2025-01-10T01:52:08.566Z"
   },
   {
    "duration": 506,
    "start_time": "2025-01-10T01:52:08.649Z"
   },
   {
    "duration": 309,
    "start_time": "2025-01-10T02:40:57.304Z"
   },
   {
    "duration": 62,
    "start_time": "2025-01-10T02:43:29.190Z"
   },
   {
    "duration": 25,
    "start_time": "2025-01-10T03:33:48.281Z"
   },
   {
    "duration": 27,
    "start_time": "2025-01-10T03:34:06.073Z"
   },
   {
    "duration": 26,
    "start_time": "2025-01-10T03:35:09.221Z"
   },
   {
    "duration": 918,
    "start_time": "2025-01-10T03:40:19.888Z"
   },
   {
    "duration": 971,
    "start_time": "2025-01-10T03:42:39.156Z"
   },
   {
    "duration": 257,
    "start_time": "2025-01-10T03:43:18.223Z"
   },
   {
    "duration": 130,
    "start_time": "2025-01-10T03:47:03.303Z"
   },
   {
    "duration": 250,
    "start_time": "2025-01-10T03:51:02.508Z"
   },
   {
    "duration": 915,
    "start_time": "2025-01-10T04:08:25.958Z"
   },
   {
    "duration": 818,
    "start_time": "2025-01-10T16:54:19.892Z"
   },
   {
    "duration": 218,
    "start_time": "2025-01-10T16:54:20.714Z"
   },
   {
    "duration": 14,
    "start_time": "2025-01-10T16:54:20.934Z"
   },
   {
    "duration": 35,
    "start_time": "2025-01-10T16:54:20.950Z"
   },
   {
    "duration": 31,
    "start_time": "2025-01-10T16:54:20.987Z"
   },
   {
    "duration": 28,
    "start_time": "2025-01-10T16:54:21.020Z"
   },
   {
    "duration": 8,
    "start_time": "2025-01-10T16:54:21.050Z"
   },
   {
    "duration": 11,
    "start_time": "2025-01-10T16:54:21.059Z"
   },
   {
    "duration": 286,
    "start_time": "2025-01-10T16:54:21.071Z"
   },
   {
    "duration": 23,
    "start_time": "2025-01-10T16:54:21.360Z"
   },
   {
    "duration": 60,
    "start_time": "2025-01-10T16:54:21.384Z"
   },
   {
    "duration": 599,
    "start_time": "2025-01-10T16:54:21.446Z"
   },
   {
    "duration": 0,
    "start_time": "2025-01-10T16:54:22.047Z"
   },
   {
    "duration": 0,
    "start_time": "2025-01-10T16:54:22.048Z"
   },
   {
    "duration": 0,
    "start_time": "2025-01-10T16:54:22.049Z"
   },
   {
    "duration": 0,
    "start_time": "2025-01-10T16:54:22.049Z"
   },
   {
    "duration": 0,
    "start_time": "2025-01-10T16:54:22.051Z"
   },
   {
    "duration": 0,
    "start_time": "2025-01-10T16:54:22.052Z"
   },
   {
    "duration": 0,
    "start_time": "2025-01-10T16:54:22.052Z"
   },
   {
    "duration": 0,
    "start_time": "2025-01-10T16:54:22.053Z"
   },
   {
    "duration": 0,
    "start_time": "2025-01-10T16:54:22.054Z"
   },
   {
    "duration": 0,
    "start_time": "2025-01-10T16:54:22.055Z"
   },
   {
    "duration": 0,
    "start_time": "2025-01-10T16:54:22.056Z"
   },
   {
    "duration": 0,
    "start_time": "2025-01-10T16:54:22.057Z"
   },
   {
    "duration": 0,
    "start_time": "2025-01-10T16:54:22.058Z"
   },
   {
    "duration": 0,
    "start_time": "2025-01-10T16:54:22.059Z"
   },
   {
    "duration": 0,
    "start_time": "2025-01-10T16:54:22.060Z"
   },
   {
    "duration": 0,
    "start_time": "2025-01-10T16:54:22.061Z"
   },
   {
    "duration": 0,
    "start_time": "2025-01-10T16:54:22.062Z"
   },
   {
    "duration": 0,
    "start_time": "2025-01-10T16:54:22.063Z"
   },
   {
    "duration": 63,
    "start_time": "2025-01-10T16:55:29.700Z"
   },
   {
    "duration": 33,
    "start_time": "2025-01-10T16:55:39.104Z"
   },
   {
    "duration": 169,
    "start_time": "2025-01-10T16:59:56.885Z"
   },
   {
    "duration": 171,
    "start_time": "2025-01-10T17:08:04.970Z"
   },
   {
    "duration": 248,
    "start_time": "2025-01-10T17:09:06.099Z"
   },
   {
    "duration": 1988,
    "start_time": "2025-01-10T17:16:37.871Z"
   },
   {
    "duration": 251,
    "start_time": "2025-01-10T17:18:11.612Z"
   },
   {
    "duration": 259,
    "start_time": "2025-01-10T17:18:30.722Z"
   },
   {
    "duration": 441,
    "start_time": "2025-01-10T17:31:17.274Z"
   },
   {
    "duration": 159,
    "start_time": "2025-01-10T17:31:43.661Z"
   },
   {
    "duration": 44,
    "start_time": "2025-01-10T17:31:45.512Z"
   },
   {
    "duration": 47,
    "start_time": "2025-01-10T17:36:31.865Z"
   },
   {
    "duration": 44,
    "start_time": "2025-01-10T17:36:43.310Z"
   },
   {
    "duration": 22,
    "start_time": "2025-01-10T17:37:24.768Z"
   },
   {
    "duration": 46,
    "start_time": "2025-01-10T17:37:34.063Z"
   },
   {
    "duration": 850,
    "start_time": "2025-01-10T17:40:16.579Z"
   },
   {
    "duration": 842,
    "start_time": "2025-01-10T17:42:09.096Z"
   },
   {
    "duration": 797,
    "start_time": "2025-01-10T18:15:50.114Z"
   },
   {
    "duration": 32,
    "start_time": "2025-01-10T18:28:08.974Z"
   },
   {
    "duration": 133,
    "start_time": "2025-01-10T18:44:39.095Z"
   },
   {
    "duration": 121,
    "start_time": "2025-01-10T18:45:09.275Z"
   },
   {
    "duration": 135,
    "start_time": "2025-01-10T18:45:14.220Z"
   },
   {
    "duration": 150,
    "start_time": "2025-01-10T18:45:31.824Z"
   },
   {
    "duration": 497,
    "start_time": "2025-01-10T18:46:03.178Z"
   },
   {
    "duration": 6,
    "start_time": "2025-01-10T18:46:16.377Z"
   },
   {
    "duration": 4,
    "start_time": "2025-01-10T18:46:18.709Z"
   },
   {
    "duration": 4,
    "start_time": "2025-01-10T18:46:21.687Z"
   },
   {
    "duration": 118,
    "start_time": "2025-01-10T19:16:05.543Z"
   },
   {
    "duration": 149,
    "start_time": "2025-01-10T19:19:50.694Z"
   },
   {
    "duration": 80,
    "start_time": "2025-01-10T19:33:04.254Z"
   },
   {
    "duration": 1125,
    "start_time": "2025-01-10T19:34:51.723Z"
   },
   {
    "duration": 219,
    "start_time": "2025-01-10T19:35:21.567Z"
   },
   {
    "duration": 198,
    "start_time": "2025-01-10T19:36:16.448Z"
   },
   {
    "duration": 211,
    "start_time": "2025-01-10T19:36:26.897Z"
   },
   {
    "duration": 65,
    "start_time": "2025-01-10T19:36:38.754Z"
   },
   {
    "duration": 431,
    "start_time": "2025-01-10T19:36:45.838Z"
   },
   {
    "duration": 16,
    "start_time": "2025-01-10T19:42:37.876Z"
   },
   {
    "duration": 12,
    "start_time": "2025-01-10T19:45:49.683Z"
   },
   {
    "duration": 132,
    "start_time": "2025-01-10T19:46:03.023Z"
   },
   {
    "duration": 46,
    "start_time": "2025-01-10T19:46:13.484Z"
   },
   {
    "duration": 45,
    "start_time": "2025-01-10T19:46:15.517Z"
   },
   {
    "duration": 50,
    "start_time": "2025-01-10T19:46:28.006Z"
   },
   {
    "duration": 216,
    "start_time": "2025-01-10T19:46:37.523Z"
   },
   {
    "duration": 52,
    "start_time": "2025-01-10T19:46:43.834Z"
   },
   {
    "duration": 44,
    "start_time": "2025-01-10T19:48:47.320Z"
   },
   {
    "duration": 338,
    "start_time": "2025-01-10T19:48:58.604Z"
   },
   {
    "duration": 119,
    "start_time": "2025-01-10T19:48:58.944Z"
   },
   {
    "duration": 9,
    "start_time": "2025-01-10T19:48:59.065Z"
   },
   {
    "duration": 40,
    "start_time": "2025-01-10T19:48:59.077Z"
   },
   {
    "duration": 15,
    "start_time": "2025-01-10T19:48:59.119Z"
   },
   {
    "duration": 22,
    "start_time": "2025-01-10T19:48:59.135Z"
   },
   {
    "duration": 7,
    "start_time": "2025-01-10T19:48:59.159Z"
   },
   {
    "duration": 10,
    "start_time": "2025-01-10T19:48:59.167Z"
   },
   {
    "duration": 282,
    "start_time": "2025-01-10T19:48:59.212Z"
   },
   {
    "duration": 38,
    "start_time": "2025-01-10T19:48:59.498Z"
   },
   {
    "duration": 175,
    "start_time": "2025-01-10T19:48:59.538Z"
   },
   {
    "duration": 256,
    "start_time": "2025-01-10T19:48:59.716Z"
   },
   {
    "duration": 144,
    "start_time": "2025-01-10T19:48:59.974Z"
   },
   {
    "duration": 249,
    "start_time": "2025-01-10T19:49:00.119Z"
   },
   {
    "duration": 246,
    "start_time": "2025-01-10T19:49:00.370Z"
   },
   {
    "duration": 8,
    "start_time": "2025-01-10T19:49:00.618Z"
   },
   {
    "duration": 5,
    "start_time": "2025-01-10T19:49:00.627Z"
   },
   {
    "duration": 489,
    "start_time": "2025-01-10T19:49:00.634Z"
   },
   {
    "duration": 843,
    "start_time": "2025-01-10T19:49:01.124Z"
   },
   {
    "duration": 42,
    "start_time": "2025-01-10T19:49:01.969Z"
   },
   {
    "duration": 783,
    "start_time": "2025-01-10T19:49:02.014Z"
   },
   {
    "duration": 143,
    "start_time": "2025-01-10T19:49:02.801Z"
   },
   {
    "duration": 127,
    "start_time": "2025-01-10T19:49:02.947Z"
   },
   {
    "duration": 157,
    "start_time": "2025-01-10T19:49:03.076Z"
   },
   {
    "duration": 1196,
    "start_time": "2025-01-10T19:49:03.235Z"
   },
   {
    "duration": 231,
    "start_time": "2025-01-10T19:49:04.433Z"
   },
   {
    "duration": 234,
    "start_time": "2025-01-10T19:49:04.666Z"
   },
   {
    "duration": 210,
    "start_time": "2025-01-10T19:49:04.902Z"
   },
   {
    "duration": 68,
    "start_time": "2025-01-10T19:49:05.114Z"
   },
   {
    "duration": 380,
    "start_time": "2025-01-10T19:49:05.184Z"
   },
   {
    "duration": 46,
    "start_time": "2025-01-10T19:52:42.577Z"
   },
   {
    "duration": 47,
    "start_time": "2025-01-10T19:55:53.359Z"
   },
   {
    "duration": 43,
    "start_time": "2025-01-10T19:55:55.348Z"
   },
   {
    "duration": 46,
    "start_time": "2025-01-10T19:56:36.348Z"
   },
   {
    "duration": 1193,
    "start_time": "2025-01-10T19:58:50.505Z"
   },
   {
    "duration": 222,
    "start_time": "2025-01-10T19:58:57.077Z"
   },
   {
    "duration": 43,
    "start_time": "2025-01-10T19:59:05.322Z"
   },
   {
    "duration": 47,
    "start_time": "2025-01-10T19:59:57.698Z"
   },
   {
    "duration": 46,
    "start_time": "2025-01-10T20:02:35.890Z"
   },
   {
    "duration": 192,
    "start_time": "2025-01-10T20:37:26.493Z"
   },
   {
    "duration": 301,
    "start_time": "2025-01-10T21:14:06.658Z"
   },
   {
    "duration": 110,
    "start_time": "2025-01-10T21:18:22.492Z"
   },
   {
    "duration": 3,
    "start_time": "2025-01-10T21:19:52.802Z"
   },
   {
    "duration": 17,
    "start_time": "2025-01-11T03:13:32.403Z"
   },
   {
    "duration": 18,
    "start_time": "2025-01-11T03:13:40.688Z"
   },
   {
    "duration": 11,
    "start_time": "2025-01-11T03:13:45.865Z"
   },
   {
    "duration": 26,
    "start_time": "2025-01-11T03:13:48.682Z"
   },
   {
    "duration": 55,
    "start_time": "2025-01-11T03:13:55.941Z"
   },
   {
    "duration": 20,
    "start_time": "2025-01-11T03:14:00.513Z"
   },
   {
    "duration": 20,
    "start_time": "2025-01-11T03:14:03.071Z"
   },
   {
    "duration": 9,
    "start_time": "2025-01-11T03:14:12.924Z"
   },
   {
    "duration": 11,
    "start_time": "2025-01-11T03:14:16.997Z"
   },
   {
    "duration": 186,
    "start_time": "2025-01-11T03:17:17.754Z"
   },
   {
    "duration": 333,
    "start_time": "2025-01-11T03:17:30.217Z"
   },
   {
    "duration": 122,
    "start_time": "2025-01-11T03:17:30.552Z"
   },
   {
    "duration": 10,
    "start_time": "2025-01-11T03:17:30.676Z"
   },
   {
    "duration": 35,
    "start_time": "2025-01-11T03:17:30.688Z"
   },
   {
    "duration": 14,
    "start_time": "2025-01-11T03:17:30.724Z"
   },
   {
    "duration": 22,
    "start_time": "2025-01-11T03:17:30.739Z"
   },
   {
    "duration": 7,
    "start_time": "2025-01-11T03:17:30.762Z"
   },
   {
    "duration": 9,
    "start_time": "2025-01-11T03:17:30.771Z"
   },
   {
    "duration": 293,
    "start_time": "2025-01-11T03:17:30.782Z"
   },
   {
    "duration": 40,
    "start_time": "2025-01-11T03:17:31.077Z"
   },
   {
    "duration": 173,
    "start_time": "2025-01-11T03:17:31.119Z"
   },
   {
    "duration": 247,
    "start_time": "2025-01-11T03:17:31.295Z"
   },
   {
    "duration": 156,
    "start_time": "2025-01-11T03:17:31.543Z"
   },
   {
    "duration": 247,
    "start_time": "2025-01-11T03:17:31.701Z"
   },
   {
    "duration": 223,
    "start_time": "2025-01-11T03:17:31.950Z"
   },
   {
    "duration": 5,
    "start_time": "2025-01-11T03:17:32.175Z"
   },
   {
    "duration": 6,
    "start_time": "2025-01-11T03:17:32.181Z"
   },
   {
    "duration": 480,
    "start_time": "2025-01-11T03:17:32.210Z"
   },
   {
    "duration": 864,
    "start_time": "2025-01-11T03:17:32.692Z"
   },
   {
    "duration": 30,
    "start_time": "2025-01-11T03:17:33.559Z"
   },
   {
    "duration": 702,
    "start_time": "2025-01-11T03:17:33.591Z"
   },
   {
    "duration": 3,
    "start_time": "2025-01-11T03:17:34.296Z"
   },
   {
    "duration": 111,
    "start_time": "2025-01-11T03:17:34.311Z"
   },
   {
    "duration": 0,
    "start_time": "2025-01-11T03:17:34.424Z"
   },
   {
    "duration": 0,
    "start_time": "2025-01-11T03:17:34.426Z"
   },
   {
    "duration": 0,
    "start_time": "2025-01-11T03:17:34.427Z"
   },
   {
    "duration": 0,
    "start_time": "2025-01-11T03:17:34.429Z"
   },
   {
    "duration": 0,
    "start_time": "2025-01-11T03:17:34.430Z"
   },
   {
    "duration": 0,
    "start_time": "2025-01-11T03:17:34.431Z"
   },
   {
    "duration": 0,
    "start_time": "2025-01-11T03:17:34.433Z"
   },
   {
    "duration": 0,
    "start_time": "2025-01-11T03:17:34.435Z"
   },
   {
    "duration": 0,
    "start_time": "2025-01-11T03:17:34.436Z"
   },
   {
    "duration": 382,
    "start_time": "2025-01-11T03:19:23.095Z"
   },
   {
    "duration": 132,
    "start_time": "2025-01-11T03:33:36.394Z"
   },
   {
    "duration": 30,
    "start_time": "2025-01-11T03:33:39.270Z"
   },
   {
    "duration": 63,
    "start_time": "2025-01-11T03:34:19.117Z"
   },
   {
    "duration": 103,
    "start_time": "2025-01-11T03:35:02.379Z"
   },
   {
    "duration": 103,
    "start_time": "2025-01-11T03:44:35.795Z"
   },
   {
    "duration": 3,
    "start_time": "2025-01-11T03:48:36.451Z"
   },
   {
    "duration": 14,
    "start_time": "2025-01-11T03:49:20.674Z"
   },
   {
    "duration": 4,
    "start_time": "2025-01-11T03:49:43.301Z"
   },
   {
    "duration": 14,
    "start_time": "2025-01-11T03:49:54.007Z"
   },
   {
    "duration": 14,
    "start_time": "2025-01-11T03:50:06.674Z"
   },
   {
    "duration": 5,
    "start_time": "2025-01-11T03:50:23.468Z"
   },
   {
    "duration": 4,
    "start_time": "2025-01-11T03:50:39.870Z"
   },
   {
    "duration": 104,
    "start_time": "2025-01-11T03:58:00.351Z"
   },
   {
    "duration": 163,
    "start_time": "2025-01-11T03:59:22.812Z"
   },
   {
    "duration": 245,
    "start_time": "2025-01-11T03:59:40.842Z"
   },
   {
    "duration": 4,
    "start_time": "2025-01-11T04:03:01.476Z"
   },
   {
    "duration": 12,
    "start_time": "2025-01-11T04:03:27.069Z"
   },
   {
    "duration": 241,
    "start_time": "2025-01-11T04:04:54.825Z"
   },
   {
    "duration": 33,
    "start_time": "2025-01-11T04:04:59.727Z"
   },
   {
    "duration": 183,
    "start_time": "2025-01-11T04:05:15.104Z"
   },
   {
    "duration": 156,
    "start_time": "2025-01-11T04:05:20.904Z"
   },
   {
    "duration": 134,
    "start_time": "2025-01-11T04:05:27.262Z"
   },
   {
    "duration": 251,
    "start_time": "2025-01-11T04:05:44.690Z"
   },
   {
    "duration": 221,
    "start_time": "2025-01-11T04:05:51.541Z"
   },
   {
    "duration": 7,
    "start_time": "2025-01-11T04:06:08.811Z"
   },
   {
    "duration": 4,
    "start_time": "2025-01-11T04:06:13.200Z"
   },
   {
    "duration": 420,
    "start_time": "2025-01-11T04:06:18.166Z"
   },
   {
    "duration": 813,
    "start_time": "2025-01-11T04:06:25.727Z"
   },
   {
    "duration": 31,
    "start_time": "2025-01-11T04:06:40.156Z"
   },
   {
    "duration": 693,
    "start_time": "2025-01-11T04:06:46.607Z"
   },
   {
    "duration": 162,
    "start_time": "2025-01-11T04:07:05.200Z"
   },
   {
    "duration": 163,
    "start_time": "2025-01-11T04:08:54.508Z"
   },
   {
    "duration": 147,
    "start_time": "2025-01-11T04:11:01.946Z"
   },
   {
    "duration": 154,
    "start_time": "2025-01-11T04:24:26.374Z"
   },
   {
    "duration": 17,
    "start_time": "2025-01-11T04:24:43.177Z"
   },
   {
    "duration": 16,
    "start_time": "2025-01-11T04:24:45.981Z"
   },
   {
    "duration": 19,
    "start_time": "2025-01-11T04:25:10.756Z"
   },
   {
    "duration": 4,
    "start_time": "2025-01-11T04:26:52.289Z"
   },
   {
    "duration": 110,
    "start_time": "2025-01-11T04:27:47.344Z"
   },
   {
    "duration": 110,
    "start_time": "2025-01-11T04:28:46.167Z"
   },
   {
    "duration": 156,
    "start_time": "2025-01-11T04:30:37.213Z"
   },
   {
    "duration": 355,
    "start_time": "2025-01-11T04:31:45.510Z"
   },
   {
    "duration": 64,
    "start_time": "2025-01-11T04:32:04.033Z"
   },
   {
    "duration": 355,
    "start_time": "2025-01-11T04:34:34.559Z"
   },
   {
    "duration": 770,
    "start_time": "2025-01-12T19:42:24.658Z"
   },
   {
    "duration": 135,
    "start_time": "2025-01-12T19:42:25.431Z"
   },
   {
    "duration": 11,
    "start_time": "2025-01-12T19:42:25.567Z"
   },
   {
    "duration": 23,
    "start_time": "2025-01-12T19:42:25.581Z"
   },
   {
    "duration": 35,
    "start_time": "2025-01-12T19:42:25.605Z"
   },
   {
    "duration": 23,
    "start_time": "2025-01-12T19:42:25.642Z"
   },
   {
    "duration": 7,
    "start_time": "2025-01-12T19:42:25.667Z"
   },
   {
    "duration": 9,
    "start_time": "2025-01-12T19:42:25.676Z"
   },
   {
    "duration": 3,
    "start_time": "2025-01-12T19:42:25.686Z"
   },
   {
    "duration": 309,
    "start_time": "2025-01-12T19:42:25.693Z"
   },
   {
    "duration": 27,
    "start_time": "2025-01-12T19:42:26.004Z"
   },
   {
    "duration": 174,
    "start_time": "2025-01-12T19:42:26.033Z"
   },
   {
    "duration": 277,
    "start_time": "2025-01-12T19:42:26.209Z"
   },
   {
    "duration": 2017,
    "start_time": "2025-01-12T19:42:26.488Z"
   },
   {
    "duration": 270,
    "start_time": "2025-01-12T19:42:28.507Z"
   },
   {
    "duration": 227,
    "start_time": "2025-01-12T19:42:28.780Z"
   },
   {
    "duration": 6,
    "start_time": "2025-01-12T19:42:29.009Z"
   },
   {
    "duration": 17,
    "start_time": "2025-01-12T19:42:29.016Z"
   },
   {
    "duration": 1071,
    "start_time": "2025-01-12T19:42:29.034Z"
   },
   {
    "duration": 0,
    "start_time": "2025-01-12T19:42:30.106Z"
   },
   {
    "duration": 0,
    "start_time": "2025-01-12T19:42:30.108Z"
   },
   {
    "duration": 0,
    "start_time": "2025-01-12T19:42:30.109Z"
   },
   {
    "duration": 0,
    "start_time": "2025-01-12T19:42:30.110Z"
   },
   {
    "duration": 0,
    "start_time": "2025-01-12T19:42:30.111Z"
   },
   {
    "duration": 1436,
    "start_time": "2025-01-12T19:50:08.992Z"
   },
   {
    "duration": 37,
    "start_time": "2025-01-12T19:54:26.427Z"
   },
   {
    "duration": 351,
    "start_time": "2025-01-12T19:54:33.342Z"
   },
   {
    "duration": 117,
    "start_time": "2025-01-12T19:54:33.695Z"
   },
   {
    "duration": 22,
    "start_time": "2025-01-12T19:54:33.814Z"
   },
   {
    "duration": 23,
    "start_time": "2025-01-12T19:54:33.839Z"
   },
   {
    "duration": 15,
    "start_time": "2025-01-12T19:54:33.863Z"
   },
   {
    "duration": 22,
    "start_time": "2025-01-12T19:54:33.880Z"
   },
   {
    "duration": 33,
    "start_time": "2025-01-12T19:54:33.904Z"
   },
   {
    "duration": 9,
    "start_time": "2025-01-12T19:54:33.939Z"
   },
   {
    "duration": 3,
    "start_time": "2025-01-12T19:54:33.950Z"
   },
   {
    "duration": 302,
    "start_time": "2025-01-12T19:54:33.957Z"
   },
   {
    "duration": 31,
    "start_time": "2025-01-12T19:54:34.261Z"
   },
   {
    "duration": 177,
    "start_time": "2025-01-12T19:54:34.294Z"
   },
   {
    "duration": 259,
    "start_time": "2025-01-12T19:54:34.473Z"
   },
   {
    "duration": 140,
    "start_time": "2025-01-12T19:54:34.734Z"
   },
   {
    "duration": 259,
    "start_time": "2025-01-12T19:54:34.876Z"
   },
   {
    "duration": 251,
    "start_time": "2025-01-12T19:54:35.136Z"
   },
   {
    "duration": 5,
    "start_time": "2025-01-12T19:54:35.388Z"
   },
   {
    "duration": 3,
    "start_time": "2025-01-12T19:54:35.395Z"
   },
   {
    "duration": 1379,
    "start_time": "2025-01-12T19:54:35.400Z"
   },
   {
    "duration": 494,
    "start_time": "2025-01-12T19:54:36.783Z"
   },
   {
    "duration": 867,
    "start_time": "2025-01-12T19:54:37.278Z"
   },
   {
    "duration": 40,
    "start_time": "2025-01-12T19:54:38.147Z"
   },
   {
    "duration": 0,
    "start_time": "2025-01-12T19:54:38.189Z"
   },
   {
    "duration": 0,
    "start_time": "2025-01-12T19:54:38.190Z"
   },
   {
    "duration": 3709,
    "start_time": "2025-01-12T20:04:38.161Z"
   },
   {
    "duration": 785,
    "start_time": "2025-01-12T20:30:58.749Z"
   },
   {
    "duration": 134,
    "start_time": "2025-01-12T20:30:59.536Z"
   },
   {
    "duration": 12,
    "start_time": "2025-01-12T20:30:59.672Z"
   },
   {
    "duration": 27,
    "start_time": "2025-01-12T20:30:59.687Z"
   },
   {
    "duration": 15,
    "start_time": "2025-01-12T20:30:59.732Z"
   },
   {
    "duration": 25,
    "start_time": "2025-01-12T20:30:59.748Z"
   },
   {
    "duration": 11,
    "start_time": "2025-01-12T20:30:59.775Z"
   },
   {
    "duration": 12,
    "start_time": "2025-01-12T20:30:59.789Z"
   },
   {
    "duration": 4,
    "start_time": "2025-01-12T20:30:59.831Z"
   },
   {
    "duration": 283,
    "start_time": "2025-01-12T20:30:59.839Z"
   },
   {
    "duration": 24,
    "start_time": "2025-01-12T20:31:00.130Z"
   },
   {
    "duration": 175,
    "start_time": "2025-01-12T20:31:00.156Z"
   },
   {
    "duration": 279,
    "start_time": "2025-01-12T20:31:00.333Z"
   },
   {
    "duration": 330,
    "start_time": "2025-01-12T20:31:00.614Z"
   },
   {
    "duration": 251,
    "start_time": "2025-01-12T20:31:00.946Z"
   },
   {
    "duration": 250,
    "start_time": "2025-01-12T20:31:01.199Z"
   },
   {
    "duration": 5,
    "start_time": "2025-01-12T20:31:01.451Z"
   },
   {
    "duration": 4,
    "start_time": "2025-01-12T20:31:01.457Z"
   },
   {
    "duration": 2755,
    "start_time": "2025-01-12T20:31:01.463Z"
   },
   {
    "duration": 0,
    "start_time": "2025-01-12T20:31:04.220Z"
   },
   {
    "duration": 0,
    "start_time": "2025-01-12T20:31:04.221Z"
   },
   {
    "duration": 0,
    "start_time": "2025-01-12T20:31:04.223Z"
   },
   {
    "duration": 0,
    "start_time": "2025-01-12T20:31:04.231Z"
   },
   {
    "duration": 661,
    "start_time": "2025-01-12T20:31:22.882Z"
   },
   {
    "duration": 134,
    "start_time": "2025-01-12T20:31:23.546Z"
   },
   {
    "duration": 11,
    "start_time": "2025-01-12T20:31:23.681Z"
   },
   {
    "duration": 38,
    "start_time": "2025-01-12T20:31:23.695Z"
   },
   {
    "duration": 15,
    "start_time": "2025-01-12T20:31:23.734Z"
   },
   {
    "duration": 26,
    "start_time": "2025-01-12T20:31:23.751Z"
   },
   {
    "duration": 10,
    "start_time": "2025-01-12T20:31:23.779Z"
   },
   {
    "duration": 11,
    "start_time": "2025-01-12T20:31:23.791Z"
   },
   {
    "duration": 4,
    "start_time": "2025-01-12T20:31:23.831Z"
   },
   {
    "duration": 269,
    "start_time": "2025-01-12T20:31:23.837Z"
   },
   {
    "duration": 28,
    "start_time": "2025-01-12T20:31:24.108Z"
   },
   {
    "duration": 178,
    "start_time": "2025-01-12T20:31:24.138Z"
   },
   {
    "duration": 282,
    "start_time": "2025-01-12T20:31:24.317Z"
   },
   {
    "duration": 315,
    "start_time": "2025-01-12T20:31:24.601Z"
   },
   {
    "duration": 246,
    "start_time": "2025-01-12T20:31:24.918Z"
   },
   {
    "duration": 219,
    "start_time": "2025-01-12T20:31:25.167Z"
   },
   {
    "duration": 7,
    "start_time": "2025-01-12T20:31:25.388Z"
   },
   {
    "duration": 3,
    "start_time": "2025-01-12T20:31:25.397Z"
   },
   {
    "duration": 2815,
    "start_time": "2025-01-12T20:31:25.402Z"
   },
   {
    "duration": 0,
    "start_time": "2025-01-12T20:31:28.219Z"
   },
   {
    "duration": 0,
    "start_time": "2025-01-12T20:31:28.220Z"
   },
   {
    "duration": 0,
    "start_time": "2025-01-12T20:31:28.231Z"
   },
   {
    "duration": 0,
    "start_time": "2025-01-12T20:31:28.233Z"
   },
   {
    "duration": 764,
    "start_time": "2025-01-12T20:32:43.872Z"
   },
   {
    "duration": 127,
    "start_time": "2025-01-12T20:32:44.638Z"
   },
   {
    "duration": 14,
    "start_time": "2025-01-12T20:32:44.767Z"
   },
   {
    "duration": 25,
    "start_time": "2025-01-12T20:32:44.784Z"
   },
   {
    "duration": 32,
    "start_time": "2025-01-12T20:32:44.812Z"
   },
   {
    "duration": 23,
    "start_time": "2025-01-12T20:32:44.845Z"
   },
   {
    "duration": 7,
    "start_time": "2025-01-12T20:32:44.869Z"
   },
   {
    "duration": 9,
    "start_time": "2025-01-12T20:32:44.878Z"
   },
   {
    "duration": 3,
    "start_time": "2025-01-12T20:32:44.888Z"
   },
   {
    "duration": 286,
    "start_time": "2025-01-12T20:32:44.895Z"
   },
   {
    "duration": 23,
    "start_time": "2025-01-12T20:32:45.183Z"
   },
   {
    "duration": 184,
    "start_time": "2025-01-12T20:32:45.207Z"
   },
   {
    "duration": 271,
    "start_time": "2025-01-12T20:32:45.393Z"
   },
   {
    "duration": 311,
    "start_time": "2025-01-12T20:32:45.666Z"
   },
   {
    "duration": 259,
    "start_time": "2025-01-12T20:32:45.979Z"
   },
   {
    "duration": 239,
    "start_time": "2025-01-12T20:32:46.239Z"
   },
   {
    "duration": 6,
    "start_time": "2025-01-12T20:32:46.480Z"
   },
   {
    "duration": 3,
    "start_time": "2025-01-12T20:32:46.488Z"
   },
   {
    "duration": 3955,
    "start_time": "2025-01-12T20:32:46.493Z"
   },
   {
    "duration": 841,
    "start_time": "2025-01-12T20:32:50.449Z"
   },
   {
    "duration": 305,
    "start_time": "2025-01-12T20:32:51.293Z"
   },
   {
    "duration": 0,
    "start_time": "2025-01-12T20:32:51.600Z"
   },
   {
    "duration": 0,
    "start_time": "2025-01-12T20:32:51.601Z"
   },
   {
    "duration": 380,
    "start_time": "2025-01-12T20:33:18.413Z"
   },
   {
    "duration": 127,
    "start_time": "2025-01-12T20:33:18.795Z"
   },
   {
    "duration": 13,
    "start_time": "2025-01-12T20:33:18.925Z"
   },
   {
    "duration": 25,
    "start_time": "2025-01-12T20:33:18.941Z"
   },
   {
    "duration": 16,
    "start_time": "2025-01-12T20:33:18.967Z"
   },
   {
    "duration": 23,
    "start_time": "2025-01-12T20:33:18.984Z"
   },
   {
    "duration": 8,
    "start_time": "2025-01-12T20:33:19.032Z"
   },
   {
    "duration": 10,
    "start_time": "2025-01-12T20:33:19.042Z"
   },
   {
    "duration": 4,
    "start_time": "2025-01-12T20:33:19.054Z"
   },
   {
    "duration": 302,
    "start_time": "2025-01-12T20:33:19.061Z"
   },
   {
    "duration": 34,
    "start_time": "2025-01-12T20:33:19.365Z"
   },
   {
    "duration": 183,
    "start_time": "2025-01-12T20:33:19.400Z"
   },
   {
    "duration": 272,
    "start_time": "2025-01-12T20:33:19.585Z"
   },
   {
    "duration": 146,
    "start_time": "2025-01-12T20:33:19.858Z"
   },
   {
    "duration": 276,
    "start_time": "2025-01-12T20:33:20.006Z"
   },
   {
    "duration": 212,
    "start_time": "2025-01-12T20:33:20.284Z"
   },
   {
    "duration": 6,
    "start_time": "2025-01-12T20:33:20.498Z"
   },
   {
    "duration": 3,
    "start_time": "2025-01-12T20:33:20.505Z"
   },
   {
    "duration": 3603,
    "start_time": "2025-01-12T20:33:20.510Z"
   },
   {
    "duration": 876,
    "start_time": "2025-01-12T20:33:24.115Z"
   },
   {
    "duration": 62,
    "start_time": "2025-01-12T20:33:24.993Z"
   },
   {
    "duration": 0,
    "start_time": "2025-01-12T20:33:25.057Z"
   },
   {
    "duration": 0,
    "start_time": "2025-01-12T20:33:25.059Z"
   }
  ],
  "kernelspec": {
   "display_name": "Python 3 (ipykernel)",
   "language": "python",
   "name": "python3"
  },
  "language_info": {
   "codemirror_mode": {
    "name": "ipython",
    "version": 3
   },
   "file_extension": ".py",
   "mimetype": "text/x-python",
   "name": "python",
   "nbconvert_exporter": "python",
   "pygments_lexer": "ipython3",
   "version": "3.9.19"
  },
  "toc": {
   "base_numbering": 1,
   "nav_menu": {},
   "number_sections": true,
   "sideBar": true,
   "skip_h1_title": true,
   "title_cell": "Table of Contents",
   "title_sidebar": "Contents",
   "toc_cell": false,
   "toc_position": {},
   "toc_section_display": true,
   "toc_window_display": false
  }
 },
 "nbformat": 4,
 "nbformat_minor": 2
}
